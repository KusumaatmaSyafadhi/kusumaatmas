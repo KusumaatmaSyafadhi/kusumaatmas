{
  "nbformat": 4,
  "nbformat_minor": 0,
  "metadata": {
    "colab": {
      "name": "Py06_3CSV.ipynb",
      "provenance": [],
      "toc_visible": true,
      "include_colab_link": true
    },
    "kernelspec": {
      "display_name": "Python 3",
      "language": "python",
      "name": "python3"
    },
    "language_info": {
      "codemirror_mode": {
        "name": "ipython",
        "version": 3
      },
      "file_extension": ".py",
      "mimetype": "text/x-python",
      "name": "python",
      "nbconvert_exporter": "python",
      "pygments_lexer": "ipython3",
      "version": "3.7.6"
    }
  },
  "cells": [
    {
      "cell_type": "markdown",
      "metadata": {
        "id": "view-in-github",
        "colab_type": "text"
      },
      "source": [
        "<a href=\"https://colab.research.google.com/github/KusumaatmaSyafadhi/kusumaatmas/blob/main/Py06_3CSV.ipynb\" target=\"_parent\"><img src=\"https://colab.research.google.com/assets/colab-badge.svg\" alt=\"Open In Colab\"/></a>"
      ]
    },
    {
      "cell_type": "markdown",
      "metadata": {
        "id": "lGr-I3gy0eIj"
      },
      "source": [
        "# (3)-CSV File Input/Output\n"
      ]
    },
    {
      "cell_type": "code",
      "metadata": {
        "id": "18DYGHG70bxd",
        "outputId": "768d53d6-e37c-4ddf-d6b4-c5fa077de97a"
      },
      "source": [
        "#Read data from score.csv and print it \n",
        "import csv\n",
        "with open('score.csv', newline='') as fin:\n",
        "    for line in fin:\n",
        "        print(line.strip())"
      ],
      "execution_count": null,
      "outputs": [
        {
          "output_type": "stream",
          "text": [
            "85, 77\n",
            "15, 34\n",
            "80, 66\n",
            "80, 89\n",
            "77, 74\n",
            "76, 90\n",
            "47, 55\n",
            "48, 66\n",
            "50, 78\n",
            "53, 56\n",
            "88, 77\n",
            "90, 69\n",
            "75, 88\n",
            "67, 55\n",
            "79, 56\n",
            "76, 88\n",
            "92, 98\n",
            "90, 67\n",
            "93, 82\n"
          ],
          "name": "stdout"
        }
      ]
    },
    {
      "cell_type": "code",
      "metadata": {
        "colab": {
          "base_uri": "https://localhost:8080/"
        },
        "id": "lZ8GO3FK01kw",
        "outputId": "0f91bea3-2e19-4c5a-9fa6-ad1ed6ac042e"
      },
      "source": [
        "#Read data from score.csv and print it \n",
        "import csv\n",
        "with open('score.csv', newline='') as fin:\n",
        "    csvreader = csv.reader(fin)\n",
        "    for row in csvreader:\n",
        "        print(row)"
      ],
      "execution_count": 2,
      "outputs": [
        {
          "output_type": "stream",
          "text": [
            "['85', ' 77']\n",
            "['15', ' 34']\n",
            "['80', ' 66']\n",
            "['80', ' 89']\n",
            "['77', ' 74']\n",
            "['76', ' 90']\n",
            "['47', ' 55']\n",
            "['48', ' 66']\n",
            "['50', ' 78']\n",
            "['53', ' 56']\n",
            "['88', ' 77']\n",
            "['90', ' 69']\n",
            "['75', ' 88']\n",
            "['67', ' 55']\n",
            "['79', ' 56']\n",
            "['76', ' 88']\n",
            "['92', ' 98']\n",
            "['90', ' 67']\n",
            "['93', ' 82']\n"
          ],
          "name": "stdout"
        }
      ]
    },
    {
      "cell_type": "code",
      "metadata": {
        "colab": {
          "base_uri": "https://localhost:8080/"
        },
        "id": "74s6J3jx7q3h",
        "outputId": "c05fd727-eeb7-447c-f6dd-8fc07da53f12"
      },
      "source": [
        "#Read data from score.csv and Calculate the average score\n",
        "import csv\n",
        "with open('score.csv', newline='') as fin:\n",
        "    csvreader = csv.reader(fin)\n",
        "    for row in csvreader:\n",
        "        math, biology = map(int,row)\n",
        "        average = (math+biology)/2\n",
        "        print(f\"{math:>2} {biology:>2} {average:>4.1f}\")"
      ],
      "execution_count": 1,
      "outputs": [
        {
          "output_type": "stream",
          "text": [
            "85 77 81.0\n",
            "15 34 24.5\n",
            "80 66 73.0\n",
            "80 89 84.5\n",
            "77 74 75.5\n",
            "76 90 83.0\n",
            "47 55 51.0\n",
            "48 66 57.0\n",
            "50 78 64.0\n",
            "53 56 54.5\n",
            "88 77 82.5\n",
            "90 69 79.5\n",
            "75 88 81.5\n",
            "67 55 61.0\n",
            "79 56 67.5\n",
            "76 88 82.0\n",
            "92 98 95.0\n",
            "90 67 78.5\n",
            "93 82 87.5\n"
          ],
          "name": "stdout"
        }
      ]
    },
    {
      "cell_type": "markdown",
      "metadata": {
        "id": "6tLe2A9w7q3i"
      },
      "source": [
        "## Exercise: count the number of the passed in the score.csv file"
      ]
    },
    {
      "cell_type": "code",
      "metadata": {
        "colab": {
          "base_uri": "https://localhost:8080/"
        },
        "id": "C_0OInXq031l",
        "outputId": "45b07e92-aea8-4246-dc6f-8674417a1536"
      },
      "source": [
        "import csv\n",
        "\n",
        "count=0\n",
        "passed = 0\n",
        "\n",
        "\n",
        "with open('score.csv', newline='') as fin:\n",
        "    csvreader = csv.reader(fin)\n",
        "    for row in csvreader:\n",
        "        count+=1\n",
        "        math, biology = map(int,row)\n",
        "        average = (math+biology)/2\n",
        "        if average >= 50:\n",
        "          passed +=1\n",
        "        \n",
        "\n",
        "print(f\"The number of the passed is {passed} in {count} students\")"
      ],
      "execution_count": 5,
      "outputs": [
        {
          "output_type": "stream",
          "text": [
            "The number of the passed is 18 in 19 students\n"
          ],
          "name": "stdout"
        }
      ]
    }
  ]
}