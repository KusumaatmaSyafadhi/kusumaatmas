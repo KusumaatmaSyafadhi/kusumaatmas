{
  "nbformat": 4,
  "nbformat_minor": 0,
  "metadata": {
    "colab": {
      "name": "Leetcode Excercise Ver 1.ipynb",
      "provenance": [],
      "collapsed_sections": [],
      "authorship_tag": "ABX9TyNmfHAJJLWuLFWPvSs1PIj3",
      "include_colab_link": true
    },
    "kernelspec": {
      "name": "python3",
      "display_name": "Python 3"
    }
  },
  "cells": [
    {
      "cell_type": "markdown",
      "metadata": {
        "id": "view-in-github",
        "colab_type": "text"
      },
      "source": [
        "<a href=\"https://colab.research.google.com/github/KusumaatmaSyafadhi/kusumaatmas/blob/main/Leetcode_Excercise_Ver_1.ipynb\" target=\"_parent\"><img src=\"https://colab.research.google.com/assets/colab-badge.svg\" alt=\"Open In Colab\"/></a>"
      ]
    },
    {
      "cell_type": "markdown",
      "metadata": {
        "id": "U4U4U0WCk9me"
      },
      "source": [
        "IPO Model LEETCODE First Excercise Ver 1"
      ]
    },
    {
      "cell_type": "code",
      "metadata": {
        "id": "GqSeBc8DoJzY"
      },
      "source": [
        "nums = [4,5,11,15]\r\n",
        "target = 9\r\n",
        "#process\r\n",
        "for i1, num1 in enumerate(nums):\r\n",
        "  for i2, num2 in enumerate(nums):\r\n",
        "    if i1 + i2 == target:\r\n",
        "      print('{}+{}={}'.format(i1, i2, target))"
      ],
      "execution_count": 15,
      "outputs": []
    },
    {
      "cell_type": "code",
      "metadata": {
        "colab": {
          "base_uri": "https://localhost:8080/"
        },
        "id": "UekS6fCirrA3",
        "outputId": "24f2f1f3-75a1-49f9-86ee-705c84a2861c"
      },
      "source": [
        "nums = [4,5,11,15]\r\n",
        "target = 9\r\n",
        "#process\r\n",
        "for num1 in nums:\r\n",
        "  for num2 in nums:\r\n",
        "    if num1 + num2 == target:\r\n",
        "      print(num1 + num2)"
      ],
      "execution_count": 12,
      "outputs": [
        {
          "output_type": "stream",
          "text": [
            "9\n",
            "9\n"
          ],
          "name": "stdout"
        }
      ]
    },
    {
      "cell_type": "code",
      "metadata": {
        "id": "nJuLGEG9ubGo"
      },
      "source": [
        "nums = [4,5,11,15]\r\n",
        "target = 9\r\n",
        "dmap = dict()\r\n",
        "#process\r\n",
        "for i1, num1 in enumerate(nums):\r\n",
        "  dmap[num1]=i1\r\n",
        "  \r\n",
        "  for i1, num1 in enumerate(nums):\r\n",
        "    num2 = target - num1\r\n",
        "    if num2 in dmap:\r\n",
        "      i2-dmap[num2]\r\n",
        "      if i1 == i2:\r\n",
        "        continue\r\n",
        "      return [i1, i2] \r\n"
      ],
      "execution_count": null,
      "outputs": []
    },
    {
      "cell_type": "code",
      "metadata": {
        "id": "7sxZ8Tij1CPC"
      },
      "source": [
        "class Solution:\r\n",
        "    def twoSum(self, nums, target):\r\n",
        "        dmap = dict()\r\n",
        "        for i1, num1 in enumerate(nums):\r\n",
        "            dmap[num1] = i1\r\n",
        "            \r\n",
        "        for i1, num1 in enumerate(nums):\r\n",
        "            num2 = target-num1\r\n",
        "            if num2 in dmap:\r\n",
        "                i2=dmap[num2]\r\n",
        "                if i1 == i2:\r\n",
        "                    continue\r\n",
        "                return [i1, i2]\r\n",
        "  "
      ],
      "execution_count": null,
      "outputs": []
    }
  ]
}