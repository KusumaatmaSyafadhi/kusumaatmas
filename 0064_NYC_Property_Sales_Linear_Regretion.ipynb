{
  "nbformat": 4,
  "nbformat_minor": 0,
  "metadata": {
    "colab": {
      "name": "0064_NYC Property Sales Linear Regretion.ipynb",
      "provenance": [],
      "collapsed_sections": [],
      "authorship_tag": "ABX9TyPRPrwT3ymX5JzRQl34I4Kp",
      "include_colab_link": true
    },
    "kernelspec": {
      "name": "python3",
      "display_name": "Python 3"
    },
    "language_info": {
      "name": "python"
    }
  },
  "cells": [
    {
      "cell_type": "markdown",
      "metadata": {
        "id": "view-in-github",
        "colab_type": "text"
      },
      "source": [
        "<a href=\"https://colab.research.google.com/github/KusumaatmaSyafadhi/kusumaatmas/blob/main/0064_NYC_Property_Sales_Linear_Regretion.ipynb\" target=\"_parent\"><img src=\"https://colab.research.google.com/assets/colab-badge.svg\" alt=\"Open In Colab\"/></a>"
      ]
    },
    {
      "cell_type": "markdown",
      "metadata": {
        "id": "tOaLqDuduG5F"
      },
      "source": [
        "Datasets was downloaded from: [https://www.kaggle.com/new-york-city/nyc-property-sales](https://)"
      ]
    },
    {
      "cell_type": "code",
      "metadata": {
        "colab": {
          "base_uri": "https://localhost:8080/"
        },
        "id": "e8KMFWd6uC3v",
        "outputId": "2ed92dc0-5c27-4c08-f926-bd42818e6008"
      },
      "source": [
        "import numpy as np\n",
        "import pandas as pd\n",
        "import matplotlib.pyplot as plt\n",
        "import seaborn as sns\n",
        "from sklearn.preprocessing import StandardScaler  #Feature Scaling\n",
        "from sklearn.model_selection import train_test_split #Data Partition\n",
        " \n",
        "#MODELLING\n",
        "import statsmodels.api as sm\n",
        "from statsmodels.stats.outliers_influence import variance_inflation_factor\n",
        "from scipy import stats"
      ],
      "execution_count": 2,
      "outputs": [
        {
          "output_type": "stream",
          "text": [
            "/usr/local/lib/python3.7/dist-packages/statsmodels/tools/_testing.py:19: FutureWarning: pandas.util.testing is deprecated. Use the functions in the public API at pandas.testing instead.\n",
            "  import pandas.util.testing as tm\n"
          ],
          "name": "stderr"
        }
      ]
    },
    {
      "cell_type": "markdown",
      "metadata": {
        "id": "q-8YzDMQuhYz"
      },
      "source": [
        "DATA SETS LOADING"
      ]
    },
    {
      "cell_type": "code",
      "metadata": {
        "id": "P9egtrP1ud46"
      },
      "source": [
        "jualan  = pd.read_csv(\"nyc-rolling-sales.csv\")"
      ],
      "execution_count": 3,
      "outputs": []
    },
    {
      "cell_type": "markdown",
      "metadata": {
        "id": "fmZ3YqDbuqtd"
      },
      "source": [
        "DATA UNDERSTANDING"
      ]
    },
    {
      "cell_type": "code",
      "metadata": {
        "colab": {
          "base_uri": "https://localhost:8080/",
          "height": 1000
        },
        "id": "2_NIGfZGuspu",
        "outputId": "42e45d7a-61b7-495e-afb3-e5662b9a5c0b"
      },
      "source": [
        "jualan.head(30)"
      ],
      "execution_count": 4,
      "outputs": [
        {
          "output_type": "execute_result",
          "data": {
            "text/html": [
              "<div>\n",
              "<style scoped>\n",
              "    .dataframe tbody tr th:only-of-type {\n",
              "        vertical-align: middle;\n",
              "    }\n",
              "\n",
              "    .dataframe tbody tr th {\n",
              "        vertical-align: top;\n",
              "    }\n",
              "\n",
              "    .dataframe thead th {\n",
              "        text-align: right;\n",
              "    }\n",
              "</style>\n",
              "<table border=\"1\" class=\"dataframe\">\n",
              "  <thead>\n",
              "    <tr style=\"text-align: right;\">\n",
              "      <th></th>\n",
              "      <th>Unnamed: 0</th>\n",
              "      <th>BOROUGH</th>\n",
              "      <th>NEIGHBORHOOD</th>\n",
              "      <th>BUILDING CLASS CATEGORY</th>\n",
              "      <th>TAX CLASS AT PRESENT</th>\n",
              "      <th>BLOCK</th>\n",
              "      <th>LOT</th>\n",
              "      <th>EASE-MENT</th>\n",
              "      <th>BUILDING CLASS AT PRESENT</th>\n",
              "      <th>ADDRESS</th>\n",
              "      <th>APARTMENT NUMBER</th>\n",
              "      <th>ZIP CODE</th>\n",
              "      <th>RESIDENTIAL UNITS</th>\n",
              "      <th>COMMERCIAL UNITS</th>\n",
              "      <th>TOTAL UNITS</th>\n",
              "      <th>LAND SQUARE FEET</th>\n",
              "      <th>GROSS SQUARE FEET</th>\n",
              "      <th>YEAR BUILT</th>\n",
              "      <th>TAX CLASS AT TIME OF SALE</th>\n",
              "      <th>BUILDING CLASS AT TIME OF SALE</th>\n",
              "      <th>SALE PRICE</th>\n",
              "      <th>SALE DATE</th>\n",
              "    </tr>\n",
              "  </thead>\n",
              "  <tbody>\n",
              "    <tr>\n",
              "      <th>0</th>\n",
              "      <td>4</td>\n",
              "      <td>1</td>\n",
              "      <td>ALPHABET CITY</td>\n",
              "      <td>07 RENTALS - WALKUP APARTMENTS</td>\n",
              "      <td>2A</td>\n",
              "      <td>392</td>\n",
              "      <td>6</td>\n",
              "      <td></td>\n",
              "      <td>C2</td>\n",
              "      <td>153 AVENUE B</td>\n",
              "      <td></td>\n",
              "      <td>10009</td>\n",
              "      <td>5</td>\n",
              "      <td>0</td>\n",
              "      <td>5</td>\n",
              "      <td>1633</td>\n",
              "      <td>6440</td>\n",
              "      <td>1900</td>\n",
              "      <td>2</td>\n",
              "      <td>C2</td>\n",
              "      <td>6625000</td>\n",
              "      <td>2017-07-19 00:00:00</td>\n",
              "    </tr>\n",
              "    <tr>\n",
              "      <th>1</th>\n",
              "      <td>5</td>\n",
              "      <td>1</td>\n",
              "      <td>ALPHABET CITY</td>\n",
              "      <td>07 RENTALS - WALKUP APARTMENTS</td>\n",
              "      <td>2</td>\n",
              "      <td>399</td>\n",
              "      <td>26</td>\n",
              "      <td></td>\n",
              "      <td>C7</td>\n",
              "      <td>234 EAST 4TH   STREET</td>\n",
              "      <td></td>\n",
              "      <td>10009</td>\n",
              "      <td>28</td>\n",
              "      <td>3</td>\n",
              "      <td>31</td>\n",
              "      <td>4616</td>\n",
              "      <td>18690</td>\n",
              "      <td>1900</td>\n",
              "      <td>2</td>\n",
              "      <td>C7</td>\n",
              "      <td>-</td>\n",
              "      <td>2016-12-14 00:00:00</td>\n",
              "    </tr>\n",
              "    <tr>\n",
              "      <th>2</th>\n",
              "      <td>6</td>\n",
              "      <td>1</td>\n",
              "      <td>ALPHABET CITY</td>\n",
              "      <td>07 RENTALS - WALKUP APARTMENTS</td>\n",
              "      <td>2</td>\n",
              "      <td>399</td>\n",
              "      <td>39</td>\n",
              "      <td></td>\n",
              "      <td>C7</td>\n",
              "      <td>197 EAST 3RD   STREET</td>\n",
              "      <td></td>\n",
              "      <td>10009</td>\n",
              "      <td>16</td>\n",
              "      <td>1</td>\n",
              "      <td>17</td>\n",
              "      <td>2212</td>\n",
              "      <td>7803</td>\n",
              "      <td>1900</td>\n",
              "      <td>2</td>\n",
              "      <td>C7</td>\n",
              "      <td>-</td>\n",
              "      <td>2016-12-09 00:00:00</td>\n",
              "    </tr>\n",
              "    <tr>\n",
              "      <th>3</th>\n",
              "      <td>7</td>\n",
              "      <td>1</td>\n",
              "      <td>ALPHABET CITY</td>\n",
              "      <td>07 RENTALS - WALKUP APARTMENTS</td>\n",
              "      <td>2B</td>\n",
              "      <td>402</td>\n",
              "      <td>21</td>\n",
              "      <td></td>\n",
              "      <td>C4</td>\n",
              "      <td>154 EAST 7TH STREET</td>\n",
              "      <td></td>\n",
              "      <td>10009</td>\n",
              "      <td>10</td>\n",
              "      <td>0</td>\n",
              "      <td>10</td>\n",
              "      <td>2272</td>\n",
              "      <td>6794</td>\n",
              "      <td>1913</td>\n",
              "      <td>2</td>\n",
              "      <td>C4</td>\n",
              "      <td>3936272</td>\n",
              "      <td>2016-09-23 00:00:00</td>\n",
              "    </tr>\n",
              "    <tr>\n",
              "      <th>4</th>\n",
              "      <td>8</td>\n",
              "      <td>1</td>\n",
              "      <td>ALPHABET CITY</td>\n",
              "      <td>07 RENTALS - WALKUP APARTMENTS</td>\n",
              "      <td>2A</td>\n",
              "      <td>404</td>\n",
              "      <td>55</td>\n",
              "      <td></td>\n",
              "      <td>C2</td>\n",
              "      <td>301 EAST 10TH   STREET</td>\n",
              "      <td></td>\n",
              "      <td>10009</td>\n",
              "      <td>6</td>\n",
              "      <td>0</td>\n",
              "      <td>6</td>\n",
              "      <td>2369</td>\n",
              "      <td>4615</td>\n",
              "      <td>1900</td>\n",
              "      <td>2</td>\n",
              "      <td>C2</td>\n",
              "      <td>8000000</td>\n",
              "      <td>2016-11-17 00:00:00</td>\n",
              "    </tr>\n",
              "    <tr>\n",
              "      <th>5</th>\n",
              "      <td>9</td>\n",
              "      <td>1</td>\n",
              "      <td>ALPHABET CITY</td>\n",
              "      <td>07 RENTALS - WALKUP APARTMENTS</td>\n",
              "      <td>2</td>\n",
              "      <td>405</td>\n",
              "      <td>16</td>\n",
              "      <td></td>\n",
              "      <td>C4</td>\n",
              "      <td>516 EAST 12TH   STREET</td>\n",
              "      <td></td>\n",
              "      <td>10009</td>\n",
              "      <td>20</td>\n",
              "      <td>0</td>\n",
              "      <td>20</td>\n",
              "      <td>2581</td>\n",
              "      <td>9730</td>\n",
              "      <td>1900</td>\n",
              "      <td>2</td>\n",
              "      <td>C4</td>\n",
              "      <td>-</td>\n",
              "      <td>2017-07-20 00:00:00</td>\n",
              "    </tr>\n",
              "    <tr>\n",
              "      <th>6</th>\n",
              "      <td>10</td>\n",
              "      <td>1</td>\n",
              "      <td>ALPHABET CITY</td>\n",
              "      <td>07 RENTALS - WALKUP APARTMENTS</td>\n",
              "      <td>2B</td>\n",
              "      <td>406</td>\n",
              "      <td>32</td>\n",
              "      <td></td>\n",
              "      <td>C4</td>\n",
              "      <td>210 AVENUE B</td>\n",
              "      <td></td>\n",
              "      <td>10009</td>\n",
              "      <td>8</td>\n",
              "      <td>0</td>\n",
              "      <td>8</td>\n",
              "      <td>1750</td>\n",
              "      <td>4226</td>\n",
              "      <td>1920</td>\n",
              "      <td>2</td>\n",
              "      <td>C4</td>\n",
              "      <td>3192840</td>\n",
              "      <td>2016-09-23 00:00:00</td>\n",
              "    </tr>\n",
              "    <tr>\n",
              "      <th>7</th>\n",
              "      <td>11</td>\n",
              "      <td>1</td>\n",
              "      <td>ALPHABET CITY</td>\n",
              "      <td>07 RENTALS - WALKUP APARTMENTS</td>\n",
              "      <td>2</td>\n",
              "      <td>407</td>\n",
              "      <td>18</td>\n",
              "      <td></td>\n",
              "      <td>C7</td>\n",
              "      <td>520 EAST 14TH   STREET</td>\n",
              "      <td></td>\n",
              "      <td>10009</td>\n",
              "      <td>44</td>\n",
              "      <td>2</td>\n",
              "      <td>46</td>\n",
              "      <td>5163</td>\n",
              "      <td>21007</td>\n",
              "      <td>1900</td>\n",
              "      <td>2</td>\n",
              "      <td>C7</td>\n",
              "      <td>-</td>\n",
              "      <td>2017-07-20 00:00:00</td>\n",
              "    </tr>\n",
              "    <tr>\n",
              "      <th>8</th>\n",
              "      <td>12</td>\n",
              "      <td>1</td>\n",
              "      <td>ALPHABET CITY</td>\n",
              "      <td>08 RENTALS - ELEVATOR APARTMENTS</td>\n",
              "      <td>2</td>\n",
              "      <td>379</td>\n",
              "      <td>34</td>\n",
              "      <td></td>\n",
              "      <td>D5</td>\n",
              "      <td>141 AVENUE D</td>\n",
              "      <td></td>\n",
              "      <td>10009</td>\n",
              "      <td>15</td>\n",
              "      <td>0</td>\n",
              "      <td>15</td>\n",
              "      <td>1534</td>\n",
              "      <td>9198</td>\n",
              "      <td>1920</td>\n",
              "      <td>2</td>\n",
              "      <td>D5</td>\n",
              "      <td>-</td>\n",
              "      <td>2017-06-20 00:00:00</td>\n",
              "    </tr>\n",
              "    <tr>\n",
              "      <th>9</th>\n",
              "      <td>13</td>\n",
              "      <td>1</td>\n",
              "      <td>ALPHABET CITY</td>\n",
              "      <td>08 RENTALS - ELEVATOR APARTMENTS</td>\n",
              "      <td>2</td>\n",
              "      <td>387</td>\n",
              "      <td>153</td>\n",
              "      <td></td>\n",
              "      <td>D9</td>\n",
              "      <td>629 EAST 5TH STREET</td>\n",
              "      <td></td>\n",
              "      <td>10009</td>\n",
              "      <td>24</td>\n",
              "      <td>0</td>\n",
              "      <td>24</td>\n",
              "      <td>4489</td>\n",
              "      <td>18523</td>\n",
              "      <td>1920</td>\n",
              "      <td>2</td>\n",
              "      <td>D9</td>\n",
              "      <td>16232000</td>\n",
              "      <td>2016-11-07 00:00:00</td>\n",
              "    </tr>\n",
              "    <tr>\n",
              "      <th>10</th>\n",
              "      <td>14</td>\n",
              "      <td>1</td>\n",
              "      <td>ALPHABET CITY</td>\n",
              "      <td>08 RENTALS - ELEVATOR APARTMENTS</td>\n",
              "      <td>2</td>\n",
              "      <td>394</td>\n",
              "      <td>44</td>\n",
              "      <td></td>\n",
              "      <td>D7</td>\n",
              "      <td>181 AVENUE C</td>\n",
              "      <td></td>\n",
              "      <td>10009</td>\n",
              "      <td>30</td>\n",
              "      <td>4</td>\n",
              "      <td>34</td>\n",
              "      <td>4295</td>\n",
              "      <td>21328</td>\n",
              "      <td>1910</td>\n",
              "      <td>2</td>\n",
              "      <td>D7</td>\n",
              "      <td>-</td>\n",
              "      <td>2017-07-20 00:00:00</td>\n",
              "    </tr>\n",
              "    <tr>\n",
              "      <th>11</th>\n",
              "      <td>15</td>\n",
              "      <td>1</td>\n",
              "      <td>ALPHABET CITY</td>\n",
              "      <td>08 RENTALS - ELEVATOR APARTMENTS</td>\n",
              "      <td>2B</td>\n",
              "      <td>400</td>\n",
              "      <td>21</td>\n",
              "      <td></td>\n",
              "      <td>D1</td>\n",
              "      <td>530-532 EAST 5TH STREET</td>\n",
              "      <td></td>\n",
              "      <td>10009</td>\n",
              "      <td>10</td>\n",
              "      <td>0</td>\n",
              "      <td>10</td>\n",
              "      <td>3717</td>\n",
              "      <td>12350</td>\n",
              "      <td>2009</td>\n",
              "      <td>2</td>\n",
              "      <td>D1</td>\n",
              "      <td>10350000</td>\n",
              "      <td>2016-10-17 00:00:00</td>\n",
              "    </tr>\n",
              "    <tr>\n",
              "      <th>12</th>\n",
              "      <td>16</td>\n",
              "      <td>1</td>\n",
              "      <td>ALPHABET CITY</td>\n",
              "      <td>09 COOPS - WALKUP APARTMENTS</td>\n",
              "      <td>2</td>\n",
              "      <td>373</td>\n",
              "      <td>40</td>\n",
              "      <td></td>\n",
              "      <td>C6</td>\n",
              "      <td>327 EAST 3 STREET, 1C</td>\n",
              "      <td></td>\n",
              "      <td>10009</td>\n",
              "      <td>0</td>\n",
              "      <td>0</td>\n",
              "      <td>0</td>\n",
              "      <td>-</td>\n",
              "      <td>-</td>\n",
              "      <td>1920</td>\n",
              "      <td>2</td>\n",
              "      <td>C6</td>\n",
              "      <td>1</td>\n",
              "      <td>2016-09-06 00:00:00</td>\n",
              "    </tr>\n",
              "    <tr>\n",
              "      <th>13</th>\n",
              "      <td>17</td>\n",
              "      <td>1</td>\n",
              "      <td>ALPHABET CITY</td>\n",
              "      <td>09 COOPS - WALKUP APARTMENTS</td>\n",
              "      <td>2</td>\n",
              "      <td>373</td>\n",
              "      <td>40</td>\n",
              "      <td></td>\n",
              "      <td>C6</td>\n",
              "      <td>327 EAST 3 STREET, 1C</td>\n",
              "      <td></td>\n",
              "      <td>10009</td>\n",
              "      <td>0</td>\n",
              "      <td>0</td>\n",
              "      <td>0</td>\n",
              "      <td>-</td>\n",
              "      <td>-</td>\n",
              "      <td>1920</td>\n",
              "      <td>2</td>\n",
              "      <td>C6</td>\n",
              "      <td>499000</td>\n",
              "      <td>2017-03-10 00:00:00</td>\n",
              "    </tr>\n",
              "    <tr>\n",
              "      <th>14</th>\n",
              "      <td>18</td>\n",
              "      <td>1</td>\n",
              "      <td>ALPHABET CITY</td>\n",
              "      <td>09 COOPS - WALKUP APARTMENTS</td>\n",
              "      <td>2</td>\n",
              "      <td>373</td>\n",
              "      <td>40</td>\n",
              "      <td></td>\n",
              "      <td>C6</td>\n",
              "      <td>327 EAST 3 STREET, 3A</td>\n",
              "      <td></td>\n",
              "      <td>10009</td>\n",
              "      <td>0</td>\n",
              "      <td>0</td>\n",
              "      <td>0</td>\n",
              "      <td>-</td>\n",
              "      <td>-</td>\n",
              "      <td>1920</td>\n",
              "      <td>2</td>\n",
              "      <td>C6</td>\n",
              "      <td>10</td>\n",
              "      <td>2017-04-28 00:00:00</td>\n",
              "    </tr>\n",
              "    <tr>\n",
              "      <th>15</th>\n",
              "      <td>19</td>\n",
              "      <td>1</td>\n",
              "      <td>ALPHABET CITY</td>\n",
              "      <td>09 COOPS - WALKUP APARTMENTS</td>\n",
              "      <td>2</td>\n",
              "      <td>373</td>\n",
              "      <td>40</td>\n",
              "      <td></td>\n",
              "      <td>C6</td>\n",
              "      <td>327 EAST 3RD STREET, 5A</td>\n",
              "      <td></td>\n",
              "      <td>10009</td>\n",
              "      <td>0</td>\n",
              "      <td>0</td>\n",
              "      <td>0</td>\n",
              "      <td>-</td>\n",
              "      <td>-</td>\n",
              "      <td>1920</td>\n",
              "      <td>2</td>\n",
              "      <td>C6</td>\n",
              "      <td>529500</td>\n",
              "      <td>2017-06-09 00:00:00</td>\n",
              "    </tr>\n",
              "    <tr>\n",
              "      <th>16</th>\n",
              "      <td>20</td>\n",
              "      <td>1</td>\n",
              "      <td>ALPHABET CITY</td>\n",
              "      <td>09 COOPS - WALKUP APARTMENTS</td>\n",
              "      <td>2</td>\n",
              "      <td>373</td>\n",
              "      <td>40</td>\n",
              "      <td></td>\n",
              "      <td>C6</td>\n",
              "      <td>327 EAST 3 STREET, 2E</td>\n",
              "      <td></td>\n",
              "      <td>10009</td>\n",
              "      <td>0</td>\n",
              "      <td>0</td>\n",
              "      <td>0</td>\n",
              "      <td>-</td>\n",
              "      <td>-</td>\n",
              "      <td>1920</td>\n",
              "      <td>2</td>\n",
              "      <td>C6</td>\n",
              "      <td>423000</td>\n",
              "      <td>2017-07-14 00:00:00</td>\n",
              "    </tr>\n",
              "    <tr>\n",
              "      <th>17</th>\n",
              "      <td>21</td>\n",
              "      <td>1</td>\n",
              "      <td>ALPHABET CITY</td>\n",
              "      <td>09 COOPS - WALKUP APARTMENTS</td>\n",
              "      <td>2</td>\n",
              "      <td>373</td>\n",
              "      <td>46</td>\n",
              "      <td></td>\n",
              "      <td>C6</td>\n",
              "      <td>317 EAST 3RD STREET, 12</td>\n",
              "      <td></td>\n",
              "      <td>10009</td>\n",
              "      <td>0</td>\n",
              "      <td>0</td>\n",
              "      <td>0</td>\n",
              "      <td>-</td>\n",
              "      <td>-</td>\n",
              "      <td>1925</td>\n",
              "      <td>2</td>\n",
              "      <td>C6</td>\n",
              "      <td>501000</td>\n",
              "      <td>2017-03-16 00:00:00</td>\n",
              "    </tr>\n",
              "    <tr>\n",
              "      <th>18</th>\n",
              "      <td>22</td>\n",
              "      <td>1</td>\n",
              "      <td>ALPHABET CITY</td>\n",
              "      <td>09 COOPS - WALKUP APARTMENTS</td>\n",
              "      <td>2</td>\n",
              "      <td>373</td>\n",
              "      <td>49</td>\n",
              "      <td></td>\n",
              "      <td>C6</td>\n",
              "      <td>311 EAST 3RD STREET, 17</td>\n",
              "      <td></td>\n",
              "      <td>10009</td>\n",
              "      <td>0</td>\n",
              "      <td>0</td>\n",
              "      <td>0</td>\n",
              "      <td>-</td>\n",
              "      <td>-</td>\n",
              "      <td>1920</td>\n",
              "      <td>2</td>\n",
              "      <td>C6</td>\n",
              "      <td>450000</td>\n",
              "      <td>2016-09-01 00:00:00</td>\n",
              "    </tr>\n",
              "    <tr>\n",
              "      <th>19</th>\n",
              "      <td>23</td>\n",
              "      <td>1</td>\n",
              "      <td>ALPHABET CITY</td>\n",
              "      <td>09 COOPS - WALKUP APARTMENTS</td>\n",
              "      <td>2</td>\n",
              "      <td>373</td>\n",
              "      <td>49</td>\n",
              "      <td></td>\n",
              "      <td>C6</td>\n",
              "      <td>311 EAST 3RD, 22</td>\n",
              "      <td></td>\n",
              "      <td>10009</td>\n",
              "      <td>0</td>\n",
              "      <td>0</td>\n",
              "      <td>0</td>\n",
              "      <td>-</td>\n",
              "      <td>-</td>\n",
              "      <td>1920</td>\n",
              "      <td>2</td>\n",
              "      <td>C6</td>\n",
              "      <td>510000</td>\n",
              "      <td>2017-08-17 00:00:00</td>\n",
              "    </tr>\n",
              "    <tr>\n",
              "      <th>20</th>\n",
              "      <td>24</td>\n",
              "      <td>1</td>\n",
              "      <td>ALPHABET CITY</td>\n",
              "      <td>09 COOPS - WALKUP APARTMENTS</td>\n",
              "      <td>2C</td>\n",
              "      <td>374</td>\n",
              "      <td>8</td>\n",
              "      <td></td>\n",
              "      <td>C6</td>\n",
              "      <td>702 EAST 5TH STREET, 5E</td>\n",
              "      <td></td>\n",
              "      <td>10009</td>\n",
              "      <td>0</td>\n",
              "      <td>0</td>\n",
              "      <td>0</td>\n",
              "      <td>-</td>\n",
              "      <td>-</td>\n",
              "      <td>1900</td>\n",
              "      <td>2</td>\n",
              "      <td>C6</td>\n",
              "      <td>-</td>\n",
              "      <td>2016-09-07 00:00:00</td>\n",
              "    </tr>\n",
              "    <tr>\n",
              "      <th>21</th>\n",
              "      <td>25</td>\n",
              "      <td>1</td>\n",
              "      <td>ALPHABET CITY</td>\n",
              "      <td>09 COOPS - WALKUP APARTMENTS</td>\n",
              "      <td>2</td>\n",
              "      <td>375</td>\n",
              "      <td>30</td>\n",
              "      <td></td>\n",
              "      <td>C6</td>\n",
              "      <td>742 EAST 6TH STREET, 1</td>\n",
              "      <td></td>\n",
              "      <td>10009</td>\n",
              "      <td>0</td>\n",
              "      <td>0</td>\n",
              "      <td>0</td>\n",
              "      <td>-</td>\n",
              "      <td>-</td>\n",
              "      <td>1902</td>\n",
              "      <td>2</td>\n",
              "      <td>C6</td>\n",
              "      <td>350000</td>\n",
              "      <td>2017-08-30 00:00:00</td>\n",
              "    </tr>\n",
              "    <tr>\n",
              "      <th>22</th>\n",
              "      <td>26</td>\n",
              "      <td>1</td>\n",
              "      <td>ALPHABET CITY</td>\n",
              "      <td>09 COOPS - WALKUP APARTMENTS</td>\n",
              "      <td>2</td>\n",
              "      <td>376</td>\n",
              "      <td>14</td>\n",
              "      <td></td>\n",
              "      <td>C6</td>\n",
              "      <td>244 EAST 7TH STREET</td>\n",
              "      <td></td>\n",
              "      <td>10009</td>\n",
              "      <td>24</td>\n",
              "      <td>0</td>\n",
              "      <td>24</td>\n",
              "      <td>4131</td>\n",
              "      <td>16776</td>\n",
              "      <td>1928</td>\n",
              "      <td>2</td>\n",
              "      <td>C6</td>\n",
              "      <td>11900000</td>\n",
              "      <td>2017-06-21 00:00:00</td>\n",
              "    </tr>\n",
              "    <tr>\n",
              "      <th>23</th>\n",
              "      <td>27</td>\n",
              "      <td>1</td>\n",
              "      <td>ALPHABET CITY</td>\n",
              "      <td>09 COOPS - WALKUP APARTMENTS</td>\n",
              "      <td>2</td>\n",
              "      <td>376</td>\n",
              "      <td>14</td>\n",
              "      <td></td>\n",
              "      <td>C6</td>\n",
              "      <td>244 EAST 7TH STREET</td>\n",
              "      <td></td>\n",
              "      <td>10009</td>\n",
              "      <td>0</td>\n",
              "      <td>0</td>\n",
              "      <td>0</td>\n",
              "      <td>-</td>\n",
              "      <td>-</td>\n",
              "      <td>1928</td>\n",
              "      <td>2</td>\n",
              "      <td>C6</td>\n",
              "      <td>11900000</td>\n",
              "      <td>2017-06-21 00:00:00</td>\n",
              "    </tr>\n",
              "    <tr>\n",
              "      <th>24</th>\n",
              "      <td>28</td>\n",
              "      <td>1</td>\n",
              "      <td>ALPHABET CITY</td>\n",
              "      <td>09 COOPS - WALKUP APARTMENTS</td>\n",
              "      <td>2</td>\n",
              "      <td>376</td>\n",
              "      <td>16</td>\n",
              "      <td></td>\n",
              "      <td>C6</td>\n",
              "      <td>248 EAST 7TH STREET, 24</td>\n",
              "      <td></td>\n",
              "      <td>10009</td>\n",
              "      <td>0</td>\n",
              "      <td>0</td>\n",
              "      <td>0</td>\n",
              "      <td>-</td>\n",
              "      <td>-</td>\n",
              "      <td>1928</td>\n",
              "      <td>2</td>\n",
              "      <td>C6</td>\n",
              "      <td>350000</td>\n",
              "      <td>2017-01-30 00:00:00</td>\n",
              "    </tr>\n",
              "    <tr>\n",
              "      <th>25</th>\n",
              "      <td>29</td>\n",
              "      <td>1</td>\n",
              "      <td>ALPHABET CITY</td>\n",
              "      <td>09 COOPS - WALKUP APARTMENTS</td>\n",
              "      <td>2</td>\n",
              "      <td>376</td>\n",
              "      <td>16</td>\n",
              "      <td></td>\n",
              "      <td>C6</td>\n",
              "      <td>248 EAST 7TH STREET, 2</td>\n",
              "      <td></td>\n",
              "      <td>10009</td>\n",
              "      <td>0</td>\n",
              "      <td>0</td>\n",
              "      <td>0</td>\n",
              "      <td>-</td>\n",
              "      <td>-</td>\n",
              "      <td>1928</td>\n",
              "      <td>2</td>\n",
              "      <td>C6</td>\n",
              "      <td>404000</td>\n",
              "      <td>2017-07-07 00:00:00</td>\n",
              "    </tr>\n",
              "    <tr>\n",
              "      <th>26</th>\n",
              "      <td>30</td>\n",
              "      <td>1</td>\n",
              "      <td>ALPHABET CITY</td>\n",
              "      <td>09 COOPS - WALKUP APARTMENTS</td>\n",
              "      <td>2</td>\n",
              "      <td>376</td>\n",
              "      <td>19</td>\n",
              "      <td></td>\n",
              "      <td>C6</td>\n",
              "      <td>254 EAST  7TH STREET, 4</td>\n",
              "      <td></td>\n",
              "      <td>10009</td>\n",
              "      <td>0</td>\n",
              "      <td>0</td>\n",
              "      <td>0</td>\n",
              "      <td>-</td>\n",
              "      <td>-</td>\n",
              "      <td>1910</td>\n",
              "      <td>2</td>\n",
              "      <td>C6</td>\n",
              "      <td>535000</td>\n",
              "      <td>2017-06-21 00:00:00</td>\n",
              "    </tr>\n",
              "    <tr>\n",
              "      <th>27</th>\n",
              "      <td>31</td>\n",
              "      <td>1</td>\n",
              "      <td>ALPHABET CITY</td>\n",
              "      <td>09 COOPS - WALKUP APARTMENTS</td>\n",
              "      <td>2C</td>\n",
              "      <td>377</td>\n",
              "      <td>54</td>\n",
              "      <td></td>\n",
              "      <td>C6</td>\n",
              "      <td>267 EAST 7 ST, 4</td>\n",
              "      <td></td>\n",
              "      <td>10009</td>\n",
              "      <td>0</td>\n",
              "      <td>0</td>\n",
              "      <td>0</td>\n",
              "      <td>-</td>\n",
              "      <td>-</td>\n",
              "      <td>1920</td>\n",
              "      <td>2</td>\n",
              "      <td>C6</td>\n",
              "      <td>1400000</td>\n",
              "      <td>2017-08-04 00:00:00</td>\n",
              "    </tr>\n",
              "    <tr>\n",
              "      <th>28</th>\n",
              "      <td>32</td>\n",
              "      <td>1</td>\n",
              "      <td>ALPHABET CITY</td>\n",
              "      <td>09 COOPS - WALKUP APARTMENTS</td>\n",
              "      <td>2C</td>\n",
              "      <td>377</td>\n",
              "      <td>60</td>\n",
              "      <td></td>\n",
              "      <td>C6</td>\n",
              "      <td>255 EAST 7TH STREET, 3F</td>\n",
              "      <td></td>\n",
              "      <td>10009</td>\n",
              "      <td>0</td>\n",
              "      <td>0</td>\n",
              "      <td>0</td>\n",
              "      <td>-</td>\n",
              "      <td>-</td>\n",
              "      <td>1900</td>\n",
              "      <td>2</td>\n",
              "      <td>C6</td>\n",
              "      <td>866000</td>\n",
              "      <td>2017-01-09 00:00:00</td>\n",
              "    </tr>\n",
              "    <tr>\n",
              "      <th>29</th>\n",
              "      <td>33</td>\n",
              "      <td>1</td>\n",
              "      <td>ALPHABET CITY</td>\n",
              "      <td>09 COOPS - WALKUP APARTMENTS</td>\n",
              "      <td>2</td>\n",
              "      <td>379</td>\n",
              "      <td>15</td>\n",
              "      <td></td>\n",
              "      <td>C6</td>\n",
              "      <td>414 EAST 10TH   STREET, 4E</td>\n",
              "      <td></td>\n",
              "      <td>10009</td>\n",
              "      <td>0</td>\n",
              "      <td>0</td>\n",
              "      <td>0</td>\n",
              "      <td>-</td>\n",
              "      <td>-</td>\n",
              "      <td>1930</td>\n",
              "      <td>2</td>\n",
              "      <td>C6</td>\n",
              "      <td>355000</td>\n",
              "      <td>2017-04-18 00:00:00</td>\n",
              "    </tr>\n",
              "  </tbody>\n",
              "</table>\n",
              "</div>"
            ],
            "text/plain": [
              "    Unnamed: 0  BOROUGH  ... SALE PRICE            SALE DATE\n",
              "0            4        1  ...    6625000  2017-07-19 00:00:00\n",
              "1            5        1  ...        -    2016-12-14 00:00:00\n",
              "2            6        1  ...        -    2016-12-09 00:00:00\n",
              "3            7        1  ...    3936272  2016-09-23 00:00:00\n",
              "4            8        1  ...    8000000  2016-11-17 00:00:00\n",
              "5            9        1  ...        -    2017-07-20 00:00:00\n",
              "6           10        1  ...    3192840  2016-09-23 00:00:00\n",
              "7           11        1  ...        -    2017-07-20 00:00:00\n",
              "8           12        1  ...        -    2017-06-20 00:00:00\n",
              "9           13        1  ...   16232000  2016-11-07 00:00:00\n",
              "10          14        1  ...        -    2017-07-20 00:00:00\n",
              "11          15        1  ...   10350000  2016-10-17 00:00:00\n",
              "12          16        1  ...          1  2016-09-06 00:00:00\n",
              "13          17        1  ...     499000  2017-03-10 00:00:00\n",
              "14          18        1  ...         10  2017-04-28 00:00:00\n",
              "15          19        1  ...     529500  2017-06-09 00:00:00\n",
              "16          20        1  ...     423000  2017-07-14 00:00:00\n",
              "17          21        1  ...     501000  2017-03-16 00:00:00\n",
              "18          22        1  ...     450000  2016-09-01 00:00:00\n",
              "19          23        1  ...     510000  2017-08-17 00:00:00\n",
              "20          24        1  ...        -    2016-09-07 00:00:00\n",
              "21          25        1  ...     350000  2017-08-30 00:00:00\n",
              "22          26        1  ...   11900000  2017-06-21 00:00:00\n",
              "23          27        1  ...   11900000  2017-06-21 00:00:00\n",
              "24          28        1  ...     350000  2017-01-30 00:00:00\n",
              "25          29        1  ...     404000  2017-07-07 00:00:00\n",
              "26          30        1  ...     535000  2017-06-21 00:00:00\n",
              "27          31        1  ...    1400000  2017-08-04 00:00:00\n",
              "28          32        1  ...     866000  2017-01-09 00:00:00\n",
              "29          33        1  ...     355000  2017-04-18 00:00:00\n",
              "\n",
              "[30 rows x 22 columns]"
            ]
          },
          "metadata": {
            "tags": []
          },
          "execution_count": 4
        }
      ]
    },
    {
      "cell_type": "code",
      "metadata": {
        "colab": {
          "base_uri": "https://localhost:8080/"
        },
        "id": "VS3VMD7buwBc",
        "outputId": "d86a6156-91f7-4dba-b277-8f0e8e8a741f"
      },
      "source": [
        "jualan.shape"
      ],
      "execution_count": 5,
      "outputs": [
        {
          "output_type": "execute_result",
          "data": {
            "text/plain": [
              "(84548, 22)"
            ]
          },
          "metadata": {
            "tags": []
          },
          "execution_count": 5
        }
      ]
    },
    {
      "cell_type": "code",
      "metadata": {
        "colab": {
          "base_uri": "https://localhost:8080/"
        },
        "id": "mdHaXbRqu47D",
        "outputId": "403b3551-c5b9-48df-9ea6-819d0cc3d783"
      },
      "source": [
        "jualan.info()"
      ],
      "execution_count": 6,
      "outputs": [
        {
          "output_type": "stream",
          "text": [
            "<class 'pandas.core.frame.DataFrame'>\n",
            "RangeIndex: 84548 entries, 0 to 84547\n",
            "Data columns (total 22 columns):\n",
            " #   Column                          Non-Null Count  Dtype \n",
            "---  ------                          --------------  ----- \n",
            " 0   Unnamed: 0                      84548 non-null  int64 \n",
            " 1   BOROUGH                         84548 non-null  int64 \n",
            " 2   NEIGHBORHOOD                    84548 non-null  object\n",
            " 3   BUILDING CLASS CATEGORY         84548 non-null  object\n",
            " 4   TAX CLASS AT PRESENT            84548 non-null  object\n",
            " 5   BLOCK                           84548 non-null  int64 \n",
            " 6   LOT                             84548 non-null  int64 \n",
            " 7   EASE-MENT                       84548 non-null  object\n",
            " 8   BUILDING CLASS AT PRESENT       84548 non-null  object\n",
            " 9   ADDRESS                         84548 non-null  object\n",
            " 10  APARTMENT NUMBER                84548 non-null  object\n",
            " 11  ZIP CODE                        84548 non-null  int64 \n",
            " 12  RESIDENTIAL UNITS               84548 non-null  int64 \n",
            " 13  COMMERCIAL UNITS                84548 non-null  int64 \n",
            " 14  TOTAL UNITS                     84548 non-null  int64 \n",
            " 15  LAND SQUARE FEET                84548 non-null  object\n",
            " 16  GROSS SQUARE FEET               84548 non-null  object\n",
            " 17  YEAR BUILT                      84548 non-null  int64 \n",
            " 18  TAX CLASS AT TIME OF SALE       84548 non-null  int64 \n",
            " 19  BUILDING CLASS AT TIME OF SALE  84548 non-null  object\n",
            " 20  SALE PRICE                      84548 non-null  object\n",
            " 21  SALE DATE                       84548 non-null  object\n",
            "dtypes: int64(10), object(12)\n",
            "memory usage: 14.2+ MB\n"
          ],
          "name": "stdout"
        }
      ]
    },
    {
      "cell_type": "code",
      "metadata": {
        "colab": {
          "base_uri": "https://localhost:8080/",
          "height": 355
        },
        "id": "MbLNCf_Pu822",
        "outputId": "9599fa5f-0ec1-46ed-cdd9-c658f904edef"
      },
      "source": [
        "jualan.describe()"
      ],
      "execution_count": 7,
      "outputs": [
        {
          "output_type": "execute_result",
          "data": {
            "text/html": [
              "<div>\n",
              "<style scoped>\n",
              "    .dataframe tbody tr th:only-of-type {\n",
              "        vertical-align: middle;\n",
              "    }\n",
              "\n",
              "    .dataframe tbody tr th {\n",
              "        vertical-align: top;\n",
              "    }\n",
              "\n",
              "    .dataframe thead th {\n",
              "        text-align: right;\n",
              "    }\n",
              "</style>\n",
              "<table border=\"1\" class=\"dataframe\">\n",
              "  <thead>\n",
              "    <tr style=\"text-align: right;\">\n",
              "      <th></th>\n",
              "      <th>Unnamed: 0</th>\n",
              "      <th>BOROUGH</th>\n",
              "      <th>BLOCK</th>\n",
              "      <th>LOT</th>\n",
              "      <th>ZIP CODE</th>\n",
              "      <th>RESIDENTIAL UNITS</th>\n",
              "      <th>COMMERCIAL UNITS</th>\n",
              "      <th>TOTAL UNITS</th>\n",
              "      <th>YEAR BUILT</th>\n",
              "      <th>TAX CLASS AT TIME OF SALE</th>\n",
              "    </tr>\n",
              "  </thead>\n",
              "  <tbody>\n",
              "    <tr>\n",
              "      <th>count</th>\n",
              "      <td>84548.000000</td>\n",
              "      <td>84548.000000</td>\n",
              "      <td>84548.000000</td>\n",
              "      <td>84548.000000</td>\n",
              "      <td>84548.000000</td>\n",
              "      <td>84548.000000</td>\n",
              "      <td>84548.000000</td>\n",
              "      <td>84548.000000</td>\n",
              "      <td>84548.000000</td>\n",
              "      <td>84548.000000</td>\n",
              "    </tr>\n",
              "    <tr>\n",
              "      <th>mean</th>\n",
              "      <td>10344.359878</td>\n",
              "      <td>2.998758</td>\n",
              "      <td>4237.218976</td>\n",
              "      <td>376.224015</td>\n",
              "      <td>10731.991614</td>\n",
              "      <td>2.025264</td>\n",
              "      <td>0.193559</td>\n",
              "      <td>2.249184</td>\n",
              "      <td>1789.322976</td>\n",
              "      <td>1.657485</td>\n",
              "    </tr>\n",
              "    <tr>\n",
              "      <th>std</th>\n",
              "      <td>7151.779436</td>\n",
              "      <td>1.289790</td>\n",
              "      <td>3568.263407</td>\n",
              "      <td>658.136814</td>\n",
              "      <td>1290.879147</td>\n",
              "      <td>16.721037</td>\n",
              "      <td>8.713183</td>\n",
              "      <td>18.972584</td>\n",
              "      <td>537.344993</td>\n",
              "      <td>0.819341</td>\n",
              "    </tr>\n",
              "    <tr>\n",
              "      <th>min</th>\n",
              "      <td>4.000000</td>\n",
              "      <td>1.000000</td>\n",
              "      <td>1.000000</td>\n",
              "      <td>1.000000</td>\n",
              "      <td>0.000000</td>\n",
              "      <td>0.000000</td>\n",
              "      <td>0.000000</td>\n",
              "      <td>0.000000</td>\n",
              "      <td>0.000000</td>\n",
              "      <td>1.000000</td>\n",
              "    </tr>\n",
              "    <tr>\n",
              "      <th>25%</th>\n",
              "      <td>4231.000000</td>\n",
              "      <td>2.000000</td>\n",
              "      <td>1322.750000</td>\n",
              "      <td>22.000000</td>\n",
              "      <td>10305.000000</td>\n",
              "      <td>0.000000</td>\n",
              "      <td>0.000000</td>\n",
              "      <td>1.000000</td>\n",
              "      <td>1920.000000</td>\n",
              "      <td>1.000000</td>\n",
              "    </tr>\n",
              "    <tr>\n",
              "      <th>50%</th>\n",
              "      <td>8942.000000</td>\n",
              "      <td>3.000000</td>\n",
              "      <td>3311.000000</td>\n",
              "      <td>50.000000</td>\n",
              "      <td>11209.000000</td>\n",
              "      <td>1.000000</td>\n",
              "      <td>0.000000</td>\n",
              "      <td>1.000000</td>\n",
              "      <td>1940.000000</td>\n",
              "      <td>2.000000</td>\n",
              "    </tr>\n",
              "    <tr>\n",
              "      <th>75%</th>\n",
              "      <td>15987.250000</td>\n",
              "      <td>4.000000</td>\n",
              "      <td>6281.000000</td>\n",
              "      <td>1001.000000</td>\n",
              "      <td>11357.000000</td>\n",
              "      <td>2.000000</td>\n",
              "      <td>0.000000</td>\n",
              "      <td>2.000000</td>\n",
              "      <td>1965.000000</td>\n",
              "      <td>2.000000</td>\n",
              "    </tr>\n",
              "    <tr>\n",
              "      <th>max</th>\n",
              "      <td>26739.000000</td>\n",
              "      <td>5.000000</td>\n",
              "      <td>16322.000000</td>\n",
              "      <td>9106.000000</td>\n",
              "      <td>11694.000000</td>\n",
              "      <td>1844.000000</td>\n",
              "      <td>2261.000000</td>\n",
              "      <td>2261.000000</td>\n",
              "      <td>2017.000000</td>\n",
              "      <td>4.000000</td>\n",
              "    </tr>\n",
              "  </tbody>\n",
              "</table>\n",
              "</div>"
            ],
            "text/plain": [
              "         Unnamed: 0       BOROUGH  ...    YEAR BUILT  TAX CLASS AT TIME OF SALE\n",
              "count  84548.000000  84548.000000  ...  84548.000000               84548.000000\n",
              "mean   10344.359878      2.998758  ...   1789.322976                   1.657485\n",
              "std     7151.779436      1.289790  ...    537.344993                   0.819341\n",
              "min        4.000000      1.000000  ...      0.000000                   1.000000\n",
              "25%     4231.000000      2.000000  ...   1920.000000                   1.000000\n",
              "50%     8942.000000      3.000000  ...   1940.000000                   2.000000\n",
              "75%    15987.250000      4.000000  ...   1965.000000                   2.000000\n",
              "max    26739.000000      5.000000  ...   2017.000000                   4.000000\n",
              "\n",
              "[8 rows x 10 columns]"
            ]
          },
          "metadata": {
            "tags": []
          },
          "execution_count": 7
        }
      ]
    },
    {
      "cell_type": "code",
      "metadata": {
        "colab": {
          "base_uri": "https://localhost:8080/"
        },
        "id": "wO1qYgOQvKHF",
        "outputId": "877ce378-7289-4288-9fa9-e23ea304f56e"
      },
      "source": [
        "jualan.dtypes"
      ],
      "execution_count": 8,
      "outputs": [
        {
          "output_type": "execute_result",
          "data": {
            "text/plain": [
              "Unnamed: 0                         int64\n",
              "BOROUGH                            int64\n",
              "NEIGHBORHOOD                      object\n",
              "BUILDING CLASS CATEGORY           object\n",
              "TAX CLASS AT PRESENT              object\n",
              "BLOCK                              int64\n",
              "LOT                                int64\n",
              "EASE-MENT                         object\n",
              "BUILDING CLASS AT PRESENT         object\n",
              "ADDRESS                           object\n",
              "APARTMENT NUMBER                  object\n",
              "ZIP CODE                           int64\n",
              "RESIDENTIAL UNITS                  int64\n",
              "COMMERCIAL UNITS                   int64\n",
              "TOTAL UNITS                        int64\n",
              "LAND SQUARE FEET                  object\n",
              "GROSS SQUARE FEET                 object\n",
              "YEAR BUILT                         int64\n",
              "TAX CLASS AT TIME OF SALE          int64\n",
              "BUILDING CLASS AT TIME OF SALE    object\n",
              "SALE PRICE                        object\n",
              "SALE DATE                         object\n",
              "dtype: object"
            ]
          },
          "metadata": {
            "tags": []
          },
          "execution_count": 8
        }
      ]
    },
    {
      "cell_type": "markdown",
      "metadata": {
        "id": "DdOcTBdfSD9F"
      },
      "source": [
        "I DROP SOME USELESS DATA HERE"
      ]
    },
    {
      "cell_type": "code",
      "metadata": {
        "id": "ku4Q7sRvQVbR"
      },
      "source": [
        "jualan.drop([\"Unnamed: 0\",\"EASE-MENT\", \"ADDRESS\", \"APARTMENT NUMBER\"],axis = 1, inplace = True)"
      ],
      "execution_count": 9,
      "outputs": []
    },
    {
      "cell_type": "code",
      "metadata": {
        "colab": {
          "base_uri": "https://localhost:8080/"
        },
        "id": "rSGDRcGzRDgc",
        "outputId": "e536a710-5a92-4f19-9f4d-0f3350865a91"
      },
      "source": [
        "jualan.info()"
      ],
      "execution_count": 10,
      "outputs": [
        {
          "output_type": "stream",
          "text": [
            "<class 'pandas.core.frame.DataFrame'>\n",
            "RangeIndex: 84548 entries, 0 to 84547\n",
            "Data columns (total 18 columns):\n",
            " #   Column                          Non-Null Count  Dtype \n",
            "---  ------                          --------------  ----- \n",
            " 0   BOROUGH                         84548 non-null  int64 \n",
            " 1   NEIGHBORHOOD                    84548 non-null  object\n",
            " 2   BUILDING CLASS CATEGORY         84548 non-null  object\n",
            " 3   TAX CLASS AT PRESENT            84548 non-null  object\n",
            " 4   BLOCK                           84548 non-null  int64 \n",
            " 5   LOT                             84548 non-null  int64 \n",
            " 6   BUILDING CLASS AT PRESENT       84548 non-null  object\n",
            " 7   ZIP CODE                        84548 non-null  int64 \n",
            " 8   RESIDENTIAL UNITS               84548 non-null  int64 \n",
            " 9   COMMERCIAL UNITS                84548 non-null  int64 \n",
            " 10  TOTAL UNITS                     84548 non-null  int64 \n",
            " 11  LAND SQUARE FEET                84548 non-null  object\n",
            " 12  GROSS SQUARE FEET               84548 non-null  object\n",
            " 13  YEAR BUILT                      84548 non-null  int64 \n",
            " 14  TAX CLASS AT TIME OF SALE       84548 non-null  int64 \n",
            " 15  BUILDING CLASS AT TIME OF SALE  84548 non-null  object\n",
            " 16  SALE PRICE                      84548 non-null  object\n",
            " 17  SALE DATE                       84548 non-null  object\n",
            "dtypes: int64(9), object(9)\n",
            "memory usage: 11.6+ MB\n"
          ],
          "name": "stdout"
        }
      ]
    },
    {
      "cell_type": "code",
      "metadata": {
        "colab": {
          "base_uri": "https://localhost:8080/",
          "height": 1000
        },
        "id": "SFlK9vWdRI0X",
        "outputId": "456a60c8-6618-4e98-fd52-3ba1d2b09d6b"
      },
      "source": [
        "jualan.head(20)"
      ],
      "execution_count": 11,
      "outputs": [
        {
          "output_type": "execute_result",
          "data": {
            "text/html": [
              "<div>\n",
              "<style scoped>\n",
              "    .dataframe tbody tr th:only-of-type {\n",
              "        vertical-align: middle;\n",
              "    }\n",
              "\n",
              "    .dataframe tbody tr th {\n",
              "        vertical-align: top;\n",
              "    }\n",
              "\n",
              "    .dataframe thead th {\n",
              "        text-align: right;\n",
              "    }\n",
              "</style>\n",
              "<table border=\"1\" class=\"dataframe\">\n",
              "  <thead>\n",
              "    <tr style=\"text-align: right;\">\n",
              "      <th></th>\n",
              "      <th>BOROUGH</th>\n",
              "      <th>NEIGHBORHOOD</th>\n",
              "      <th>BUILDING CLASS CATEGORY</th>\n",
              "      <th>TAX CLASS AT PRESENT</th>\n",
              "      <th>BLOCK</th>\n",
              "      <th>LOT</th>\n",
              "      <th>BUILDING CLASS AT PRESENT</th>\n",
              "      <th>ZIP CODE</th>\n",
              "      <th>RESIDENTIAL UNITS</th>\n",
              "      <th>COMMERCIAL UNITS</th>\n",
              "      <th>TOTAL UNITS</th>\n",
              "      <th>LAND SQUARE FEET</th>\n",
              "      <th>GROSS SQUARE FEET</th>\n",
              "      <th>YEAR BUILT</th>\n",
              "      <th>TAX CLASS AT TIME OF SALE</th>\n",
              "      <th>BUILDING CLASS AT TIME OF SALE</th>\n",
              "      <th>SALE PRICE</th>\n",
              "      <th>SALE DATE</th>\n",
              "    </tr>\n",
              "  </thead>\n",
              "  <tbody>\n",
              "    <tr>\n",
              "      <th>0</th>\n",
              "      <td>1</td>\n",
              "      <td>ALPHABET CITY</td>\n",
              "      <td>07 RENTALS - WALKUP APARTMENTS</td>\n",
              "      <td>2A</td>\n",
              "      <td>392</td>\n",
              "      <td>6</td>\n",
              "      <td>C2</td>\n",
              "      <td>10009</td>\n",
              "      <td>5</td>\n",
              "      <td>0</td>\n",
              "      <td>5</td>\n",
              "      <td>1633</td>\n",
              "      <td>6440</td>\n",
              "      <td>1900</td>\n",
              "      <td>2</td>\n",
              "      <td>C2</td>\n",
              "      <td>6625000</td>\n",
              "      <td>2017-07-19 00:00:00</td>\n",
              "    </tr>\n",
              "    <tr>\n",
              "      <th>1</th>\n",
              "      <td>1</td>\n",
              "      <td>ALPHABET CITY</td>\n",
              "      <td>07 RENTALS - WALKUP APARTMENTS</td>\n",
              "      <td>2</td>\n",
              "      <td>399</td>\n",
              "      <td>26</td>\n",
              "      <td>C7</td>\n",
              "      <td>10009</td>\n",
              "      <td>28</td>\n",
              "      <td>3</td>\n",
              "      <td>31</td>\n",
              "      <td>4616</td>\n",
              "      <td>18690</td>\n",
              "      <td>1900</td>\n",
              "      <td>2</td>\n",
              "      <td>C7</td>\n",
              "      <td>-</td>\n",
              "      <td>2016-12-14 00:00:00</td>\n",
              "    </tr>\n",
              "    <tr>\n",
              "      <th>2</th>\n",
              "      <td>1</td>\n",
              "      <td>ALPHABET CITY</td>\n",
              "      <td>07 RENTALS - WALKUP APARTMENTS</td>\n",
              "      <td>2</td>\n",
              "      <td>399</td>\n",
              "      <td>39</td>\n",
              "      <td>C7</td>\n",
              "      <td>10009</td>\n",
              "      <td>16</td>\n",
              "      <td>1</td>\n",
              "      <td>17</td>\n",
              "      <td>2212</td>\n",
              "      <td>7803</td>\n",
              "      <td>1900</td>\n",
              "      <td>2</td>\n",
              "      <td>C7</td>\n",
              "      <td>-</td>\n",
              "      <td>2016-12-09 00:00:00</td>\n",
              "    </tr>\n",
              "    <tr>\n",
              "      <th>3</th>\n",
              "      <td>1</td>\n",
              "      <td>ALPHABET CITY</td>\n",
              "      <td>07 RENTALS - WALKUP APARTMENTS</td>\n",
              "      <td>2B</td>\n",
              "      <td>402</td>\n",
              "      <td>21</td>\n",
              "      <td>C4</td>\n",
              "      <td>10009</td>\n",
              "      <td>10</td>\n",
              "      <td>0</td>\n",
              "      <td>10</td>\n",
              "      <td>2272</td>\n",
              "      <td>6794</td>\n",
              "      <td>1913</td>\n",
              "      <td>2</td>\n",
              "      <td>C4</td>\n",
              "      <td>3936272</td>\n",
              "      <td>2016-09-23 00:00:00</td>\n",
              "    </tr>\n",
              "    <tr>\n",
              "      <th>4</th>\n",
              "      <td>1</td>\n",
              "      <td>ALPHABET CITY</td>\n",
              "      <td>07 RENTALS - WALKUP APARTMENTS</td>\n",
              "      <td>2A</td>\n",
              "      <td>404</td>\n",
              "      <td>55</td>\n",
              "      <td>C2</td>\n",
              "      <td>10009</td>\n",
              "      <td>6</td>\n",
              "      <td>0</td>\n",
              "      <td>6</td>\n",
              "      <td>2369</td>\n",
              "      <td>4615</td>\n",
              "      <td>1900</td>\n",
              "      <td>2</td>\n",
              "      <td>C2</td>\n",
              "      <td>8000000</td>\n",
              "      <td>2016-11-17 00:00:00</td>\n",
              "    </tr>\n",
              "    <tr>\n",
              "      <th>5</th>\n",
              "      <td>1</td>\n",
              "      <td>ALPHABET CITY</td>\n",
              "      <td>07 RENTALS - WALKUP APARTMENTS</td>\n",
              "      <td>2</td>\n",
              "      <td>405</td>\n",
              "      <td>16</td>\n",
              "      <td>C4</td>\n",
              "      <td>10009</td>\n",
              "      <td>20</td>\n",
              "      <td>0</td>\n",
              "      <td>20</td>\n",
              "      <td>2581</td>\n",
              "      <td>9730</td>\n",
              "      <td>1900</td>\n",
              "      <td>2</td>\n",
              "      <td>C4</td>\n",
              "      <td>-</td>\n",
              "      <td>2017-07-20 00:00:00</td>\n",
              "    </tr>\n",
              "    <tr>\n",
              "      <th>6</th>\n",
              "      <td>1</td>\n",
              "      <td>ALPHABET CITY</td>\n",
              "      <td>07 RENTALS - WALKUP APARTMENTS</td>\n",
              "      <td>2B</td>\n",
              "      <td>406</td>\n",
              "      <td>32</td>\n",
              "      <td>C4</td>\n",
              "      <td>10009</td>\n",
              "      <td>8</td>\n",
              "      <td>0</td>\n",
              "      <td>8</td>\n",
              "      <td>1750</td>\n",
              "      <td>4226</td>\n",
              "      <td>1920</td>\n",
              "      <td>2</td>\n",
              "      <td>C4</td>\n",
              "      <td>3192840</td>\n",
              "      <td>2016-09-23 00:00:00</td>\n",
              "    </tr>\n",
              "    <tr>\n",
              "      <th>7</th>\n",
              "      <td>1</td>\n",
              "      <td>ALPHABET CITY</td>\n",
              "      <td>07 RENTALS - WALKUP APARTMENTS</td>\n",
              "      <td>2</td>\n",
              "      <td>407</td>\n",
              "      <td>18</td>\n",
              "      <td>C7</td>\n",
              "      <td>10009</td>\n",
              "      <td>44</td>\n",
              "      <td>2</td>\n",
              "      <td>46</td>\n",
              "      <td>5163</td>\n",
              "      <td>21007</td>\n",
              "      <td>1900</td>\n",
              "      <td>2</td>\n",
              "      <td>C7</td>\n",
              "      <td>-</td>\n",
              "      <td>2017-07-20 00:00:00</td>\n",
              "    </tr>\n",
              "    <tr>\n",
              "      <th>8</th>\n",
              "      <td>1</td>\n",
              "      <td>ALPHABET CITY</td>\n",
              "      <td>08 RENTALS - ELEVATOR APARTMENTS</td>\n",
              "      <td>2</td>\n",
              "      <td>379</td>\n",
              "      <td>34</td>\n",
              "      <td>D5</td>\n",
              "      <td>10009</td>\n",
              "      <td>15</td>\n",
              "      <td>0</td>\n",
              "      <td>15</td>\n",
              "      <td>1534</td>\n",
              "      <td>9198</td>\n",
              "      <td>1920</td>\n",
              "      <td>2</td>\n",
              "      <td>D5</td>\n",
              "      <td>-</td>\n",
              "      <td>2017-06-20 00:00:00</td>\n",
              "    </tr>\n",
              "    <tr>\n",
              "      <th>9</th>\n",
              "      <td>1</td>\n",
              "      <td>ALPHABET CITY</td>\n",
              "      <td>08 RENTALS - ELEVATOR APARTMENTS</td>\n",
              "      <td>2</td>\n",
              "      <td>387</td>\n",
              "      <td>153</td>\n",
              "      <td>D9</td>\n",
              "      <td>10009</td>\n",
              "      <td>24</td>\n",
              "      <td>0</td>\n",
              "      <td>24</td>\n",
              "      <td>4489</td>\n",
              "      <td>18523</td>\n",
              "      <td>1920</td>\n",
              "      <td>2</td>\n",
              "      <td>D9</td>\n",
              "      <td>16232000</td>\n",
              "      <td>2016-11-07 00:00:00</td>\n",
              "    </tr>\n",
              "    <tr>\n",
              "      <th>10</th>\n",
              "      <td>1</td>\n",
              "      <td>ALPHABET CITY</td>\n",
              "      <td>08 RENTALS - ELEVATOR APARTMENTS</td>\n",
              "      <td>2</td>\n",
              "      <td>394</td>\n",
              "      <td>44</td>\n",
              "      <td>D7</td>\n",
              "      <td>10009</td>\n",
              "      <td>30</td>\n",
              "      <td>4</td>\n",
              "      <td>34</td>\n",
              "      <td>4295</td>\n",
              "      <td>21328</td>\n",
              "      <td>1910</td>\n",
              "      <td>2</td>\n",
              "      <td>D7</td>\n",
              "      <td>-</td>\n",
              "      <td>2017-07-20 00:00:00</td>\n",
              "    </tr>\n",
              "    <tr>\n",
              "      <th>11</th>\n",
              "      <td>1</td>\n",
              "      <td>ALPHABET CITY</td>\n",
              "      <td>08 RENTALS - ELEVATOR APARTMENTS</td>\n",
              "      <td>2B</td>\n",
              "      <td>400</td>\n",
              "      <td>21</td>\n",
              "      <td>D1</td>\n",
              "      <td>10009</td>\n",
              "      <td>10</td>\n",
              "      <td>0</td>\n",
              "      <td>10</td>\n",
              "      <td>3717</td>\n",
              "      <td>12350</td>\n",
              "      <td>2009</td>\n",
              "      <td>2</td>\n",
              "      <td>D1</td>\n",
              "      <td>10350000</td>\n",
              "      <td>2016-10-17 00:00:00</td>\n",
              "    </tr>\n",
              "    <tr>\n",
              "      <th>12</th>\n",
              "      <td>1</td>\n",
              "      <td>ALPHABET CITY</td>\n",
              "      <td>09 COOPS - WALKUP APARTMENTS</td>\n",
              "      <td>2</td>\n",
              "      <td>373</td>\n",
              "      <td>40</td>\n",
              "      <td>C6</td>\n",
              "      <td>10009</td>\n",
              "      <td>0</td>\n",
              "      <td>0</td>\n",
              "      <td>0</td>\n",
              "      <td>-</td>\n",
              "      <td>-</td>\n",
              "      <td>1920</td>\n",
              "      <td>2</td>\n",
              "      <td>C6</td>\n",
              "      <td>1</td>\n",
              "      <td>2016-09-06 00:00:00</td>\n",
              "    </tr>\n",
              "    <tr>\n",
              "      <th>13</th>\n",
              "      <td>1</td>\n",
              "      <td>ALPHABET CITY</td>\n",
              "      <td>09 COOPS - WALKUP APARTMENTS</td>\n",
              "      <td>2</td>\n",
              "      <td>373</td>\n",
              "      <td>40</td>\n",
              "      <td>C6</td>\n",
              "      <td>10009</td>\n",
              "      <td>0</td>\n",
              "      <td>0</td>\n",
              "      <td>0</td>\n",
              "      <td>-</td>\n",
              "      <td>-</td>\n",
              "      <td>1920</td>\n",
              "      <td>2</td>\n",
              "      <td>C6</td>\n",
              "      <td>499000</td>\n",
              "      <td>2017-03-10 00:00:00</td>\n",
              "    </tr>\n",
              "    <tr>\n",
              "      <th>14</th>\n",
              "      <td>1</td>\n",
              "      <td>ALPHABET CITY</td>\n",
              "      <td>09 COOPS - WALKUP APARTMENTS</td>\n",
              "      <td>2</td>\n",
              "      <td>373</td>\n",
              "      <td>40</td>\n",
              "      <td>C6</td>\n",
              "      <td>10009</td>\n",
              "      <td>0</td>\n",
              "      <td>0</td>\n",
              "      <td>0</td>\n",
              "      <td>-</td>\n",
              "      <td>-</td>\n",
              "      <td>1920</td>\n",
              "      <td>2</td>\n",
              "      <td>C6</td>\n",
              "      <td>10</td>\n",
              "      <td>2017-04-28 00:00:00</td>\n",
              "    </tr>\n",
              "    <tr>\n",
              "      <th>15</th>\n",
              "      <td>1</td>\n",
              "      <td>ALPHABET CITY</td>\n",
              "      <td>09 COOPS - WALKUP APARTMENTS</td>\n",
              "      <td>2</td>\n",
              "      <td>373</td>\n",
              "      <td>40</td>\n",
              "      <td>C6</td>\n",
              "      <td>10009</td>\n",
              "      <td>0</td>\n",
              "      <td>0</td>\n",
              "      <td>0</td>\n",
              "      <td>-</td>\n",
              "      <td>-</td>\n",
              "      <td>1920</td>\n",
              "      <td>2</td>\n",
              "      <td>C6</td>\n",
              "      <td>529500</td>\n",
              "      <td>2017-06-09 00:00:00</td>\n",
              "    </tr>\n",
              "    <tr>\n",
              "      <th>16</th>\n",
              "      <td>1</td>\n",
              "      <td>ALPHABET CITY</td>\n",
              "      <td>09 COOPS - WALKUP APARTMENTS</td>\n",
              "      <td>2</td>\n",
              "      <td>373</td>\n",
              "      <td>40</td>\n",
              "      <td>C6</td>\n",
              "      <td>10009</td>\n",
              "      <td>0</td>\n",
              "      <td>0</td>\n",
              "      <td>0</td>\n",
              "      <td>-</td>\n",
              "      <td>-</td>\n",
              "      <td>1920</td>\n",
              "      <td>2</td>\n",
              "      <td>C6</td>\n",
              "      <td>423000</td>\n",
              "      <td>2017-07-14 00:00:00</td>\n",
              "    </tr>\n",
              "    <tr>\n",
              "      <th>17</th>\n",
              "      <td>1</td>\n",
              "      <td>ALPHABET CITY</td>\n",
              "      <td>09 COOPS - WALKUP APARTMENTS</td>\n",
              "      <td>2</td>\n",
              "      <td>373</td>\n",
              "      <td>46</td>\n",
              "      <td>C6</td>\n",
              "      <td>10009</td>\n",
              "      <td>0</td>\n",
              "      <td>0</td>\n",
              "      <td>0</td>\n",
              "      <td>-</td>\n",
              "      <td>-</td>\n",
              "      <td>1925</td>\n",
              "      <td>2</td>\n",
              "      <td>C6</td>\n",
              "      <td>501000</td>\n",
              "      <td>2017-03-16 00:00:00</td>\n",
              "    </tr>\n",
              "    <tr>\n",
              "      <th>18</th>\n",
              "      <td>1</td>\n",
              "      <td>ALPHABET CITY</td>\n",
              "      <td>09 COOPS - WALKUP APARTMENTS</td>\n",
              "      <td>2</td>\n",
              "      <td>373</td>\n",
              "      <td>49</td>\n",
              "      <td>C6</td>\n",
              "      <td>10009</td>\n",
              "      <td>0</td>\n",
              "      <td>0</td>\n",
              "      <td>0</td>\n",
              "      <td>-</td>\n",
              "      <td>-</td>\n",
              "      <td>1920</td>\n",
              "      <td>2</td>\n",
              "      <td>C6</td>\n",
              "      <td>450000</td>\n",
              "      <td>2016-09-01 00:00:00</td>\n",
              "    </tr>\n",
              "    <tr>\n",
              "      <th>19</th>\n",
              "      <td>1</td>\n",
              "      <td>ALPHABET CITY</td>\n",
              "      <td>09 COOPS - WALKUP APARTMENTS</td>\n",
              "      <td>2</td>\n",
              "      <td>373</td>\n",
              "      <td>49</td>\n",
              "      <td>C6</td>\n",
              "      <td>10009</td>\n",
              "      <td>0</td>\n",
              "      <td>0</td>\n",
              "      <td>0</td>\n",
              "      <td>-</td>\n",
              "      <td>-</td>\n",
              "      <td>1920</td>\n",
              "      <td>2</td>\n",
              "      <td>C6</td>\n",
              "      <td>510000</td>\n",
              "      <td>2017-08-17 00:00:00</td>\n",
              "    </tr>\n",
              "  </tbody>\n",
              "</table>\n",
              "</div>"
            ],
            "text/plain": [
              "    BOROUGH   NEIGHBORHOOD  ... SALE PRICE            SALE DATE\n",
              "0         1  ALPHABET CITY  ...    6625000  2017-07-19 00:00:00\n",
              "1         1  ALPHABET CITY  ...        -    2016-12-14 00:00:00\n",
              "2         1  ALPHABET CITY  ...        -    2016-12-09 00:00:00\n",
              "3         1  ALPHABET CITY  ...    3936272  2016-09-23 00:00:00\n",
              "4         1  ALPHABET CITY  ...    8000000  2016-11-17 00:00:00\n",
              "5         1  ALPHABET CITY  ...        -    2017-07-20 00:00:00\n",
              "6         1  ALPHABET CITY  ...    3192840  2016-09-23 00:00:00\n",
              "7         1  ALPHABET CITY  ...        -    2017-07-20 00:00:00\n",
              "8         1  ALPHABET CITY  ...        -    2017-06-20 00:00:00\n",
              "9         1  ALPHABET CITY  ...   16232000  2016-11-07 00:00:00\n",
              "10        1  ALPHABET CITY  ...        -    2017-07-20 00:00:00\n",
              "11        1  ALPHABET CITY  ...   10350000  2016-10-17 00:00:00\n",
              "12        1  ALPHABET CITY  ...          1  2016-09-06 00:00:00\n",
              "13        1  ALPHABET CITY  ...     499000  2017-03-10 00:00:00\n",
              "14        1  ALPHABET CITY  ...         10  2017-04-28 00:00:00\n",
              "15        1  ALPHABET CITY  ...     529500  2017-06-09 00:00:00\n",
              "16        1  ALPHABET CITY  ...     423000  2017-07-14 00:00:00\n",
              "17        1  ALPHABET CITY  ...     501000  2017-03-16 00:00:00\n",
              "18        1  ALPHABET CITY  ...     450000  2016-09-01 00:00:00\n",
              "19        1  ALPHABET CITY  ...     510000  2017-08-17 00:00:00\n",
              "\n",
              "[20 rows x 18 columns]"
            ]
          },
          "metadata": {
            "tags": []
          },
          "execution_count": 11
        }
      ]
    },
    {
      "cell_type": "markdown",
      "metadata": {
        "id": "ceyUrUHzvWKH"
      },
      "source": [
        "Data Preprocessing"
      ]
    },
    {
      "cell_type": "code",
      "metadata": {
        "colab": {
          "base_uri": "https://localhost:8080/"
        },
        "id": "5yjDdyG2vNpq",
        "outputId": "76381512-7ca8-4eba-af8f-142b9ae4039e"
      },
      "source": [
        "jualan.drop_duplicates\n",
        "jualan.shape"
      ],
      "execution_count": 12,
      "outputs": [
        {
          "output_type": "execute_result",
          "data": {
            "text/plain": [
              "(84548, 18)"
            ]
          },
          "metadata": {
            "tags": []
          },
          "execution_count": 12
        }
      ]
    },
    {
      "cell_type": "code",
      "metadata": {
        "colab": {
          "base_uri": "https://localhost:8080/",
          "height": 357
        },
        "id": "c9EaXlZNvtDH",
        "outputId": "e16ee438-dd2a-4f9c-ce9f-bcc884d37902"
      },
      "source": [
        "sns.countplot(jualan['TOTAL UNITS'])"
      ],
      "execution_count": 13,
      "outputs": [
        {
          "output_type": "stream",
          "text": [
            "/usr/local/lib/python3.7/dist-packages/seaborn/_decorators.py:43: FutureWarning: Pass the following variable as a keyword arg: x. From version 0.12, the only valid positional argument will be `data`, and passing other arguments without an explicit keyword will result in an error or misinterpretation.\n",
            "  FutureWarning\n"
          ],
          "name": "stderr"
        },
        {
          "output_type": "execute_result",
          "data": {
            "text/plain": [
              "<matplotlib.axes._subplots.AxesSubplot at 0x7f3d078fd3d0>"
            ]
          },
          "metadata": {
            "tags": []
          },
          "execution_count": 13
        },
        {
          "output_type": "display_data",
          "data": {
            "image/png": "[encoded data removed]",
            "text/plain": [
              "<Figure size 432x288 with 1 Axes>"
            ]
          },
          "metadata": {
            "tags": [],
            "needs_background": "light"
          }
        }
      ]
    },
    {
      "cell_type": "markdown",
      "metadata": {
        "id": "Ekab0pezwPQ-"
      },
      "source": [
        "OUTLIERS DETECTION"
      ]
    },
    {
      "cell_type": "code",
      "metadata": {
        "id": "NUi-pJeRwRpj"
      },
      "source": [
        "def outlier(sample):\n",
        "  Q1=sample.quantile(0.25)\n",
        "  Q3=sample.quantile(0.75)\n",
        "\n",
        "  IQR=Q3-Q1\n",
        "  lower_range = Q1 - (1.5 * IQR)\n",
        "  upper_range = Q3 + (1.5 * IQR)\n",
        "  number_outlier=len(sample[sample>upper_range])+len(sample[sample<lower_range])\n",
        "  print(\"Number Of Outlier {}\".format(number_outlier))\n",
        "\n",
        "  if number_outlier>0:\n",
        "    print(\"Outlier observation row: \")\n",
        "  else:\n",
        "    pass\n",
        "  for i in range(len(sample)):\n",
        "    if sample[i]<lower_range:\n",
        "      print[i]\n",
        "    elif sample[i]>upper_range:\n",
        "      print(i)\n",
        "    else:\n",
        "      pass"
      ],
      "execution_count": 14,
      "outputs": []
    },
    {
      "cell_type": "code",
      "metadata": {
        "id": "mMWC5i89xRA9"
      },
      "source": [
        "outlier(jualan['TOTAL UNITS']) #There are So Many Outliers Here"
      ],
      "execution_count": null,
      "outputs": []
    },
    {
      "cell_type": "code",
      "metadata": {
        "colab": {
          "base_uri": "https://localhost:8080/"
        },
        "id": "LvM9L-ggx8wA",
        "outputId": "fd6bbb9f-7998-45ba-d0a0-0b405f24985b"
      },
      "source": [
        "jualan.loc[[18737,18738],\"TOTAL UNITS\"] #I Only check the outliers at those rows. Because it is way too many outliers here"
      ],
      "execution_count": 16,
      "outputs": [
        {
          "output_type": "execute_result",
          "data": {
            "text/plain": [
              "18737    3\n",
              "18738    3\n",
              "Name: TOTAL UNITS, dtype: int64"
            ]
          },
          "metadata": {
            "tags": []
          },
          "execution_count": 16
        }
      ]
    },
    {
      "cell_type": "code",
      "metadata": {
        "id": "JrfctjhqxHoJ"
      },
      "source": [
        "outlier(jualan['RESIDENTIAL UNITS']) #Too Many Outliers"
      ],
      "execution_count": null,
      "outputs": []
    },
    {
      "cell_type": "code",
      "metadata": {
        "colab": {
          "base_uri": "https://localhost:8080/"
        },
        "id": "rItXDHWtzZU_",
        "outputId": "fe4a5d18-b4c8-4be0-8684-6663302de5b0"
      },
      "source": [
        "jualan.loc[[18711,18712,18713,18714],\"RESIDENTIAL UNITS\"] #Same as above, I only check several rows that contain outliers."
      ],
      "execution_count": 18,
      "outputs": [
        {
          "output_type": "execute_result",
          "data": {
            "text/plain": [
              "18711    3\n",
              "18712    3\n",
              "18713    3\n",
              "18714    3\n",
              "Name: RESIDENTIAL UNITS, dtype: int64"
            ]
          },
          "metadata": {
            "tags": []
          },
          "execution_count": 18
        }
      ]
    },
    {
      "cell_type": "code",
      "metadata": {
        "id": "Ipl34Ay7xiME"
      },
      "source": [
        "outlier(jualan['COMMERCIAL UNITS'])#Same As Above, Too Many Outliers"
      ],
      "execution_count": null,
      "outputs": []
    },
    {
      "cell_type": "code",
      "metadata": {
        "colab": {
          "base_uri": "https://localhost:8080/"
        },
        "id": "ZJQRPqmqzoJr",
        "outputId": "93dc79b2-41dd-46fd-e5a7-b57a16ec1ca9"
      },
      "source": [
        "jualan.loc[[1,2,7,18360,18361,18362,18363],\"COMMERCIAL UNITS\"]"
      ],
      "execution_count": 20,
      "outputs": [
        {
          "output_type": "execute_result",
          "data": {
            "text/plain": [
              "1        3\n",
              "2        1\n",
              "7        2\n",
              "18360    1\n",
              "18361    1\n",
              "18362    1\n",
              "18363    2\n",
              "Name: COMMERCIAL UNITS, dtype: int64"
            ]
          },
          "metadata": {
            "tags": []
          },
          "execution_count": 20
        }
      ]
    },
    {
      "cell_type": "code",
      "metadata": {
        "id": "SFwt-ID5xuqY"
      },
      "source": [
        "outlier(jualan['LOT']) "
      ],
      "execution_count": null,
      "outputs": []
    },
    {
      "cell_type": "code",
      "metadata": {
        "colab": {
          "base_uri": "https://localhost:8080/"
        },
        "id": "Y7aNr1l0z7oL",
        "outputId": "1fbfbc6e-3eb2-46b9-e215-29e31f664ef0"
      },
      "source": [
        "jualan.loc[[7177,7178,7179],\"LOT\"]"
      ],
      "execution_count": 22,
      "outputs": [
        {
          "output_type": "execute_result",
          "data": {
            "text/plain": [
              "7177    4027\n",
              "7178    4069\n",
              "7179    4071\n",
              "Name: LOT, dtype: int64"
            ]
          },
          "metadata": {
            "tags": []
          },
          "execution_count": 22
        }
      ]
    },
    {
      "cell_type": "code",
      "metadata": {
        "colab": {
          "base_uri": "https://localhost:8080/",
          "height": 354
        },
        "id": "B8Ql6WJO3RNG",
        "outputId": "e0d05431-aab8-4460-abc7-afc0ec2a4b06"
      },
      "source": [
        "sns.boxplot(jualan['TAX CLASS AT TIME OF SALE'])"
      ],
      "execution_count": 23,
      "outputs": [
        {
          "output_type": "stream",
          "text": [
            "/usr/local/lib/python3.7/dist-packages/seaborn/_decorators.py:43: FutureWarning: Pass the following variable as a keyword arg: x. From version 0.12, the only valid positional argument will be `data`, and passing other arguments without an explicit keyword will result in an error or misinterpretation.\n",
            "  FutureWarning\n"
          ],
          "name": "stderr"
        },
        {
          "output_type": "execute_result",
          "data": {
            "text/plain": [
              "<matplotlib.axes._subplots.AxesSubplot at 0x7f3d06f5d2d0>"
            ]
          },
          "metadata": {
            "tags": []
          },
          "execution_count": 23
        },
        {
          "output_type": "display_data",
          "data": {
            "image/png": "[encoded data removed]",
            "text/plain": [
              "<Figure size 432x288 with 1 Axes>"
            ]
          },
          "metadata": {
            "tags": [],
            "needs_background": "light"
          }
        }
      ]
    },
    {
      "cell_type": "code",
      "metadata": {
        "colab": {
          "base_uri": "https://localhost:8080/",
          "height": 354
        },
        "id": "AHUdRrrC0EbT",
        "outputId": "d30061a7-9b46-4c1f-a425-208d427260b4"
      },
      "source": [
        "sns.boxplot(jualan['TOTAL UNITS'])"
      ],
      "execution_count": 24,
      "outputs": [
        {
          "output_type": "stream",
          "text": [
            "/usr/local/lib/python3.7/dist-packages/seaborn/_decorators.py:43: FutureWarning: Pass the following variable as a keyword arg: x. From version 0.12, the only valid positional argument will be `data`, and passing other arguments without an explicit keyword will result in an error or misinterpretation.\n",
            "  FutureWarning\n"
          ],
          "name": "stderr"
        },
        {
          "output_type": "execute_result",
          "data": {
            "text/plain": [
              "<matplotlib.axes._subplots.AxesSubplot at 0x7f3d05ca69d0>"
            ]
          },
          "metadata": {
            "tags": []
          },
          "execution_count": 24
        },
        {
          "output_type": "display_data",
          "data": {
            "image/png": "[encoded data removed]",
            "text/plain": [
              "<Figure size 432x288 with 1 Axes>"
            ]
          },
          "metadata": {
            "tags": [],
            "needs_background": "light"
          }
        }
      ]
    },
    {
      "cell_type": "code",
      "metadata": {
        "colab": {
          "base_uri": "https://localhost:8080/",
          "height": 354
        },
        "id": "bCpY6tlh0axP",
        "outputId": "81524e07-ea98-41c2-e131-63e2fa8da643"
      },
      "source": [
        "sns.boxplot(jualan['RESIDENTIAL UNITS'])"
      ],
      "execution_count": 25,
      "outputs": [
        {
          "output_type": "stream",
          "text": [
            "/usr/local/lib/python3.7/dist-packages/seaborn/_decorators.py:43: FutureWarning: Pass the following variable as a keyword arg: x. From version 0.12, the only valid positional argument will be `data`, and passing other arguments without an explicit keyword will result in an error or misinterpretation.\n",
            "  FutureWarning\n"
          ],
          "name": "stderr"
        },
        {
          "output_type": "execute_result",
          "data": {
            "text/plain": [
              "<matplotlib.axes._subplots.AxesSubplot at 0x7f3d05bfc210>"
            ]
          },
          "metadata": {
            "tags": []
          },
          "execution_count": 25
        },
        {
          "output_type": "display_data",
          "data": {
            "image/png": "[encoded data removed]",
            "text/plain": [
              "<Figure size 432x288 with 1 Axes>"
            ]
          },
          "metadata": {
            "tags": [],
            "needs_background": "light"
          }
        }
      ]
    },
    {
      "cell_type": "code",
      "metadata": {
        "colab": {
          "base_uri": "https://localhost:8080/",
          "height": 354
        },
        "id": "9zmDrJ992_Ld",
        "outputId": "972ce5fb-7fca-4ec8-d3c8-14814f5d0c3f"
      },
      "source": [
        "sns.boxplot(jualan['COMMERCIAL UNITS'])"
      ],
      "execution_count": 26,
      "outputs": [
        {
          "output_type": "stream",
          "text": [
            "/usr/local/lib/python3.7/dist-packages/seaborn/_decorators.py:43: FutureWarning: Pass the following variable as a keyword arg: x. From version 0.12, the only valid positional argument will be `data`, and passing other arguments without an explicit keyword will result in an error or misinterpretation.\n",
            "  FutureWarning\n"
          ],
          "name": "stderr"
        },
        {
          "output_type": "execute_result",
          "data": {
            "text/plain": [
              "<matplotlib.axes._subplots.AxesSubplot at 0x7f3d05bba2d0>"
            ]
          },
          "metadata": {
            "tags": []
          },
          "execution_count": 26
        },
        {
          "output_type": "display_data",
          "data": {
            "image/png": "[encoded data removed]",
            "text/plain": [
              "<Figure size 432x288 with 1 Axes>"
            ]
          },
          "metadata": {
            "tags": [],
            "needs_background": "light"
          }
        }
      ]
    },
    {
      "cell_type": "markdown",
      "metadata": {
        "id": "z5Ih3KlcLyOU"
      },
      "source": [
        "SOME MORE DATA PREPROCESSING"
      ]
    },
    {
      "cell_type": "code",
      "metadata": {
        "colab": {
          "base_uri": "https://localhost:8080/"
        },
        "id": "FG7ZZQuxMHiC",
        "outputId": "b83587f5-4802-4ea4-cb9d-cb7675568349"
      },
      "source": [
        "jualan.dtypes"
      ],
      "execution_count": 27,
      "outputs": [
        {
          "output_type": "execute_result",
          "data": {
            "text/plain": [
              "BOROUGH                            int64\n",
              "NEIGHBORHOOD                      object\n",
              "BUILDING CLASS CATEGORY           object\n",
              "TAX CLASS AT PRESENT              object\n",
              "BLOCK                              int64\n",
              "LOT                                int64\n",
              "BUILDING CLASS AT PRESENT         object\n",
              "ZIP CODE                           int64\n",
              "RESIDENTIAL UNITS                  int64\n",
              "COMMERCIAL UNITS                   int64\n",
              "TOTAL UNITS                        int64\n",
              "LAND SQUARE FEET                  object\n",
              "GROSS SQUARE FEET                 object\n",
              "YEAR BUILT                         int64\n",
              "TAX CLASS AT TIME OF SALE          int64\n",
              "BUILDING CLASS AT TIME OF SALE    object\n",
              "SALE PRICE                        object\n",
              "SALE DATE                         object\n",
              "dtype: object"
            ]
          },
          "metadata": {
            "tags": []
          },
          "execution_count": 27
        }
      ]
    },
    {
      "cell_type": "code",
      "metadata": {
        "colab": {
          "base_uri": "https://localhost:8080/"
        },
        "id": "NLESKg_A3e0k",
        "outputId": "8a9990d2-79b9-4124-85e5-7a8782802c7f"
      },
      "source": [
        "jualan.isnull().sum()"
      ],
      "execution_count": 28,
      "outputs": [
        {
          "output_type": "execute_result",
          "data": {
            "text/plain": [
              "BOROUGH                           0\n",
              "NEIGHBORHOOD                      0\n",
              "BUILDING CLASS CATEGORY           0\n",
              "TAX CLASS AT PRESENT              0\n",
              "BLOCK                             0\n",
              "LOT                               0\n",
              "BUILDING CLASS AT PRESENT         0\n",
              "ZIP CODE                          0\n",
              "RESIDENTIAL UNITS                 0\n",
              "COMMERCIAL UNITS                  0\n",
              "TOTAL UNITS                       0\n",
              "LAND SQUARE FEET                  0\n",
              "GROSS SQUARE FEET                 0\n",
              "YEAR BUILT                        0\n",
              "TAX CLASS AT TIME OF SALE         0\n",
              "BUILDING CLASS AT TIME OF SALE    0\n",
              "SALE PRICE                        0\n",
              "SALE DATE                         0\n",
              "dtype: int64"
            ]
          },
          "metadata": {
            "tags": []
          },
          "execution_count": 28
        }
      ]
    },
    {
      "cell_type": "code",
      "metadata": {
        "colab": {
          "base_uri": "https://localhost:8080/"
        },
        "id": "WWS4X17apkn4",
        "outputId": "ea6db824-5791-40af-8c22-ea94f3c1fd21"
      },
      "source": [
        "jualan.info()"
      ],
      "execution_count": 29,
      "outputs": [
        {
          "output_type": "stream",
          "text": [
            "<class 'pandas.core.frame.DataFrame'>\n",
            "RangeIndex: 84548 entries, 0 to 84547\n",
            "Data columns (total 18 columns):\n",
            " #   Column                          Non-Null Count  Dtype \n",
            "---  ------                          --------------  ----- \n",
            " 0   BOROUGH                         84548 non-null  int64 \n",
            " 1   NEIGHBORHOOD                    84548 non-null  object\n",
            " 2   BUILDING CLASS CATEGORY         84548 non-null  object\n",
            " 3   TAX CLASS AT PRESENT            84548 non-null  object\n",
            " 4   BLOCK                           84548 non-null  int64 \n",
            " 5   LOT                             84548 non-null  int64 \n",
            " 6   BUILDING CLASS AT PRESENT       84548 non-null  object\n",
            " 7   ZIP CODE                        84548 non-null  int64 \n",
            " 8   RESIDENTIAL UNITS               84548 non-null  int64 \n",
            " 9   COMMERCIAL UNITS                84548 non-null  int64 \n",
            " 10  TOTAL UNITS                     84548 non-null  int64 \n",
            " 11  LAND SQUARE FEET                84548 non-null  object\n",
            " 12  GROSS SQUARE FEET               84548 non-null  object\n",
            " 13  YEAR BUILT                      84548 non-null  int64 \n",
            " 14  TAX CLASS AT TIME OF SALE       84548 non-null  int64 \n",
            " 15  BUILDING CLASS AT TIME OF SALE  84548 non-null  object\n",
            " 16  SALE PRICE                      84548 non-null  object\n",
            " 17  SALE DATE                       84548 non-null  object\n",
            "dtypes: int64(9), object(9)\n",
            "memory usage: 11.6+ MB\n"
          ],
          "name": "stdout"
        }
      ]
    },
    {
      "cell_type": "code",
      "metadata": {
        "id": "fF8NgMiX4o1q"
      },
      "source": [
        "x=jualan.iloc[:, :1] #This belongs to BOROUGH\n",
        "y=jualan.iloc[:, 8] #NUM 1 STARTS FROM NEIGHBORHOOD\n",
        "\n"
      ],
      "execution_count": 30,
      "outputs": []
    },
    {
      "cell_type": "code",
      "metadata": {
        "id": "wFqiWCrsPMdf"
      },
      "source": [
        "x_train, x_test, y_train, y_test = train_test_split(x, y, test_size= 0.2, random_state=0)"
      ],
      "execution_count": 31,
      "outputs": []
    },
    {
      "cell_type": "code",
      "metadata": {
        "id": "Se1D8bkXtCgP"
      },
      "source": [
        "from sklearn.linear_model import LinearRegression\n",
        "regressor = LinearRegression()\n",
        "regressor.fit(x_train,y_train)\n",
        "\n",
        "y_pred = regressor.predict(x_test)"
      ],
      "execution_count": 32,
      "outputs": []
    },
    {
      "cell_type": "code",
      "metadata": {
        "id": "LZ4wUV95t8ty"
      },
      "source": [
        "x_train2 = sm.add_constant(x_train)\n",
        "est = sm.OLS(y_train, x_train2)\n",
        "est2 = est.fit()"
      ],
      "execution_count": 33,
      "outputs": []
    },
    {
      "cell_type": "code",
      "metadata": {
        "colab": {
          "base_uri": "https://localhost:8080/"
        },
        "id": "imu8ekK4uMet",
        "outputId": "0d38368f-7bd9-4549-818b-49499e5a8407"
      },
      "source": [
        "print(est2.summary())"
      ],
      "execution_count": 34,
      "outputs": [
        {
          "output_type": "stream",
          "text": [
            "                            OLS Regression Results                            \n",
            "==============================================================================\n",
            "Dep. Variable:      RESIDENTIAL UNITS   R-squared:                       0.001\n",
            "Model:                            OLS   Adj. R-squared:                  0.001\n",
            "Method:                 Least Squares   F-statistic:                     36.28\n",
            "Date:                Wed, 09 Jun 2021   Prob (F-statistic):           1.72e-09\n",
            "Time:                        17:12:26   Log-Likelihood:            -2.8719e+05\n",
            "No. Observations:               67638   AIC:                         5.744e+05\n",
            "Df Residuals:                   67636   BIC:                         5.744e+05\n",
            "Df Model:                           1                                         \n",
            "Covariance Type:            nonrobust                                         \n",
            "==============================================================================\n",
            "                 coef    std err          t      P>|t|      [0.025      0.975]\n",
            "------------------------------------------------------------------------------\n",
            "const          2.9696      0.164     18.092      0.000       2.648       3.291\n",
            "BOROUGH       -0.3031      0.050     -6.023      0.000      -0.402      -0.204\n",
            "==============================================================================\n",
            "Omnibus:                   224005.748   Durbin-Watson:                   2.003\n",
            "Prob(Omnibus):                  0.000   Jarque-Bera (JB):      69530885302.782\n",
            "Skew:                          57.836   Prob(JB):                         0.00\n",
            "Kurtosis:                    4968.710   Cond. No.                         8.90\n",
            "==============================================================================\n",
            "\n",
            "Warnings:\n",
            "[1] Standard Errors assume that the covariance matrix of the errors is correctly specified.\n"
          ],
          "name": "stdout"
        }
      ]
    },
    {
      "cell_type": "markdown",
      "metadata": {
        "id": "Yrcu7fzZvqMF"
      },
      "source": [
        "Model Evaluation"
      ]
    },
    {
      "cell_type": "code",
      "metadata": {
        "colab": {
          "base_uri": "https://localhost:8080/"
        },
        "id": "HVzttyXkvsHx",
        "outputId": "88c750f2-7220-4282-e07f-bbb849dc0e03"
      },
      "source": [
        "from sklearn.metrics import mean_squared_error\n",
        "y_pred = regressor.predict(x_test)\n",
        "mean_squared_error(y_test,y_pred)"
      ],
      "execution_count": 35,
      "outputs": [
        {
          "output_type": "execute_result",
          "data": {
            "text/plain": [
              "255.46045991307003"
            ]
          },
          "metadata": {
            "tags": []
          },
          "execution_count": 35
        }
      ]
    }
  ]
}