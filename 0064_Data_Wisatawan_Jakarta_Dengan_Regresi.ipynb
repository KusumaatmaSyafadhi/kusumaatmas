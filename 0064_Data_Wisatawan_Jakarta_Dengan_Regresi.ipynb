{
  "nbformat": 4,
  "nbformat_minor": 0,
  "metadata": {
    "colab": {
      "name": "0064_Data Wisatawan Jakarta Dengan Regresi.ipynb",
      "provenance": [],
      "collapsed_sections": [],
      "authorship_tag": "ABX9TyP0JaGJO6uTmtszO1XGPFgH",
      "include_colab_link": true
    },
    "kernelspec": {
      "name": "python3",
      "display_name": "Python 3"
    },
    "language_info": {
      "name": "python"
    }
  },
  "cells": [
    {
      "cell_type": "markdown",
      "metadata": {
        "id": "view-in-github",
        "colab_type": "text"
      },
      "source": [
        "<a href=\"https://colab.research.google.com/github/KusumaatmaSyafadhi/kusumaatmas/blob/main/0064_Data_Wisatawan_Jakarta_Dengan_Regresi.ipynb\" target=\"_parent\"><img src=\"https://colab.research.google.com/assets/colab-badge.svg\" alt=\"Open In Colab\"/></a>"
      ]
    },
    {
      "cell_type": "code",
      "metadata": {
        "id": "mcTgZo4v55BL"
      },
      "source": [
        "import numpy as np\n",
        "import pandas as pd\n",
        "import matplotlib.pyplot as plt\n",
        "import seaborn as sns\n",
        "from sklearn.preprocessing import StandardScaler  #Feature Scaling\n",
        "from sklearn.model_selection import train_test_split #Data Partition\n",
        "\n",
        "#MODELLING\n",
        "import statsmodels.api as sm\n",
        "from statsmodels.stats.outliers_influence import variance_inflation_factor\n",
        "from scipy import stats"
      ],
      "execution_count": 60,
      "outputs": []
    },
    {
      "cell_type": "code",
      "metadata": {
        "id": "IQ3eUujh7bPf"
      },
      "source": [
        "pengunjung = pd.read_csv(\"data-jumlah-kunjungan-wisatawan-mancanegara-ke-destinasi-wisata-di-provinsi-dki-jakarta-bulan-januari-tahun-2020.csv\")"
      ],
      "execution_count": 61,
      "outputs": []
    },
    {
      "cell_type": "code",
      "metadata": {
        "colab": {
          "base_uri": "https://localhost:8080/",
          "height": 206
        },
        "id": "5-M335x77mtp",
        "outputId": "15c72013-52f4-4592-87f4-255ee420ee75"
      },
      "source": [
        "pengunjung.head()"
      ],
      "execution_count": 62,
      "outputs": [
        {
          "output_type": "execute_result",
          "data": {
            "text/html": [
              "<div>\n",
              "<style scoped>\n",
              "    .dataframe tbody tr th:only-of-type {\n",
              "        vertical-align: middle;\n",
              "    }\n",
              "\n",
              "    .dataframe tbody tr th {\n",
              "        vertical-align: top;\n",
              "    }\n",
              "\n",
              "    .dataframe thead th {\n",
              "        text-align: right;\n",
              "    }\n",
              "</style>\n",
              "<table border=\"1\" class=\"dataframe\">\n",
              "  <thead>\n",
              "    <tr style=\"text-align: right;\">\n",
              "      <th></th>\n",
              "      <th>tahun</th>\n",
              "      <th>bulan</th>\n",
              "      <th>destinasi_wisata</th>\n",
              "      <th>jumlah</th>\n",
              "    </tr>\n",
              "  </thead>\n",
              "  <tbody>\n",
              "    <tr>\n",
              "      <th>0</th>\n",
              "      <td>2020</td>\n",
              "      <td>1</td>\n",
              "      <td>Taman Impian Jaya Ancol</td>\n",
              "      <td>516</td>\n",
              "    </tr>\n",
              "    <tr>\n",
              "      <th>1</th>\n",
              "      <td>2020</td>\n",
              "      <td>1</td>\n",
              "      <td>Taman Mini Indonesia Indah</td>\n",
              "      <td>0</td>\n",
              "    </tr>\n",
              "    <tr>\n",
              "      <th>2</th>\n",
              "      <td>2020</td>\n",
              "      <td>1</td>\n",
              "      <td>Taman Margasatwa Ragunan</td>\n",
              "      <td>449</td>\n",
              "    </tr>\n",
              "    <tr>\n",
              "      <th>3</th>\n",
              "      <td>2020</td>\n",
              "      <td>1</td>\n",
              "      <td>Monumen Nasional</td>\n",
              "      <td>2070</td>\n",
              "    </tr>\n",
              "    <tr>\n",
              "      <th>4</th>\n",
              "      <td>2020</td>\n",
              "      <td>1</td>\n",
              "      <td>Museum Nasional</td>\n",
              "      <td>2877</td>\n",
              "    </tr>\n",
              "  </tbody>\n",
              "</table>\n",
              "</div>"
            ],
            "text/plain": [
              "   tahun  bulan            destinasi_wisata  jumlah\n",
              "0   2020      1     Taman Impian Jaya Ancol     516\n",
              "1   2020      1  Taman Mini Indonesia Indah       0\n",
              "2   2020      1    Taman Margasatwa Ragunan     449\n",
              "3   2020      1            Monumen Nasional    2070\n",
              "4   2020      1             Museum Nasional    2877"
            ]
          },
          "metadata": {
            "tags": []
          },
          "execution_count": 62
        }
      ]
    },
    {
      "cell_type": "code",
      "metadata": {
        "colab": {
          "base_uri": "https://localhost:8080/"
        },
        "id": "9j1NXlID7t7n",
        "outputId": "93dcaa2f-89c7-45f0-ad9a-c30eef2c8316"
      },
      "source": [
        "pengunjung.info()"
      ],
      "execution_count": 63,
      "outputs": [
        {
          "output_type": "stream",
          "text": [
            "<class 'pandas.core.frame.DataFrame'>\n",
            "RangeIndex: 20 entries, 0 to 19\n",
            "Data columns (total 4 columns):\n",
            " #   Column            Non-Null Count  Dtype \n",
            "---  ------            --------------  ----- \n",
            " 0   tahun             20 non-null     int64 \n",
            " 1   bulan             20 non-null     int64 \n",
            " 2   destinasi_wisata  20 non-null     object\n",
            " 3   jumlah            20 non-null     int64 \n",
            "dtypes: int64(3), object(1)\n",
            "memory usage: 768.0+ bytes\n"
          ],
          "name": "stdout"
        }
      ]
    },
    {
      "cell_type": "markdown",
      "metadata": {
        "id": "4iQTOGVh7342"
      },
      "source": [
        "DATA PREPROCESSING"
      ]
    },
    {
      "cell_type": "code",
      "metadata": {
        "colab": {
          "base_uri": "https://localhost:8080/"
        },
        "id": "oUbG7woo70LY",
        "outputId": "07737ea8-6a4d-4946-b6d3-fc137b9f08d3"
      },
      "source": [
        "pengunjung.drop_duplicates\n",
        "pengunjung.shape"
      ],
      "execution_count": 64,
      "outputs": [
        {
          "output_type": "execute_result",
          "data": {
            "text/plain": [
              "(20, 4)"
            ]
          },
          "metadata": {
            "tags": []
          },
          "execution_count": 64
        }
      ]
    },
    {
      "cell_type": "code",
      "metadata": {
        "colab": {
          "base_uri": "https://localhost:8080/"
        },
        "id": "xrYHgZYM8D9P",
        "outputId": "e50b9840-3edc-41e1-a5f7-9a50f86a6f41"
      },
      "source": [
        "pengunjung.isnull().sum()"
      ],
      "execution_count": 35,
      "outputs": [
        {
          "output_type": "execute_result",
          "data": {
            "text/plain": [
              "tahun               0\n",
              "bulan               0\n",
              "destinasi_wisata    0\n",
              "jumlah              0\n",
              "dtype: int64"
            ]
          },
          "metadata": {
            "tags": []
          },
          "execution_count": 35
        }
      ]
    },
    {
      "cell_type": "markdown",
      "metadata": {
        "id": "DEic8bjP8NaL"
      },
      "source": [
        "CEK OUTLIERS"
      ]
    },
    {
      "cell_type": "code",
      "metadata": {
        "colab": {
          "base_uri": "https://localhost:8080/",
          "height": 354
        },
        "id": "89YEuDRV8O2i",
        "outputId": "b82747eb-cca1-4833-e489-8e5e56d1a7c3"
      },
      "source": [
        "sns.boxplot(pengunjung['jumlah'])"
      ],
      "execution_count": 65,
      "outputs": [
        {
          "output_type": "stream",
          "text": [
            "/usr/local/lib/python3.7/dist-packages/seaborn/_decorators.py:43: FutureWarning: Pass the following variable as a keyword arg: x. From version 0.12, the only valid positional argument will be `data`, and passing other arguments without an explicit keyword will result in an error or misinterpretation.\n",
            "  FutureWarning\n"
          ],
          "name": "stderr"
        },
        {
          "output_type": "execute_result",
          "data": {
            "text/plain": [
              "<matplotlib.axes._subplots.AxesSubplot at 0x7f881c0d5350>"
            ]
          },
          "metadata": {
            "tags": []
          },
          "execution_count": 65
        },
        {
          "output_type": "display_data",
          "data": {
            "image/png": "[encoded data removed]",
            "text/plain": [
              "<Figure size 432x288 with 1 Axes>"
            ]
          },
          "metadata": {
            "tags": [],
            "needs_background": "light"
          }
        }
      ]
    },
    {
      "cell_type": "code",
      "metadata": {
        "colab": {
          "base_uri": "https://localhost:8080/",
          "height": 354
        },
        "id": "tJYMqFB088JU",
        "outputId": "c65a7559-ded7-4db6-c46b-58e83c58dd21"
      },
      "source": [
        "sns.boxplot(pengunjung[\"tahun\"])"
      ],
      "execution_count": 66,
      "outputs": [
        {
          "output_type": "stream",
          "text": [
            "/usr/local/lib/python3.7/dist-packages/seaborn/_decorators.py:43: FutureWarning: Pass the following variable as a keyword arg: x. From version 0.12, the only valid positional argument will be `data`, and passing other arguments without an explicit keyword will result in an error or misinterpretation.\n",
            "  FutureWarning\n"
          ],
          "name": "stderr"
        },
        {
          "output_type": "execute_result",
          "data": {
            "text/plain": [
              "<matplotlib.axes._subplots.AxesSubplot at 0x7f880ca52b10>"
            ]
          },
          "metadata": {
            "tags": []
          },
          "execution_count": 66
        },
        {
          "output_type": "display_data",
          "data": {
            "image/png": "[encoded data removed]",
            "text/plain": [
              "<Figure size 432x288 with 1 Axes>"
            ]
          },
          "metadata": {
            "tags": [],
            "needs_background": "light"
          }
        }
      ]
    },
    {
      "cell_type": "code",
      "metadata": {
        "colab": {
          "base_uri": "https://localhost:8080/",
          "height": 354
        },
        "id": "BX3D9PbL9O95",
        "outputId": "72e76f87-6a9f-4a84-cd10-56abea8fe018"
      },
      "source": [
        "sns.boxplot(pengunjung[\"bulan\"])"
      ],
      "execution_count": 67,
      "outputs": [
        {
          "output_type": "stream",
          "text": [
            "/usr/local/lib/python3.7/dist-packages/seaborn/_decorators.py:43: FutureWarning: Pass the following variable as a keyword arg: x. From version 0.12, the only valid positional argument will be `data`, and passing other arguments without an explicit keyword will result in an error or misinterpretation.\n",
            "  FutureWarning\n"
          ],
          "name": "stderr"
        },
        {
          "output_type": "execute_result",
          "data": {
            "text/plain": [
              "<matplotlib.axes._subplots.AxesSubplot at 0x7f880ca45850>"
            ]
          },
          "metadata": {
            "tags": []
          },
          "execution_count": 67
        },
        {
          "output_type": "display_data",
          "data": {
            "image/png": "[encoded data removed]",
            "text/plain": [
              "<Figure size 432x288 with 1 Axes>"
            ]
          },
          "metadata": {
            "tags": [],
            "needs_background": "light"
          }
        }
      ]
    },
    {
      "cell_type": "markdown",
      "metadata": {
        "id": "5Lj-z9gv9n7e"
      },
      "source": [
        "Membuat Fungsi Outlier Detection"
      ]
    },
    {
      "cell_type": "code",
      "metadata": {
        "id": "QfU5WIYj9l4t"
      },
      "source": [
        "def outlier(sample):\n",
        "  Q1=sample.quantile(0.25)\n",
        "  Q3=sample.quantile(0.75)\n",
        "\n",
        "  IQR=Q3-Q1\n",
        "  lower_range = Q1 - (1.5 * IQR)\n",
        "  upper_range = Q3 + (1.5 * IQR)\n",
        "  number_outlier=len(sample[sample>upper_range])+len(sample[sample<lower_range])\n",
        "  print(\"Number Of Outlier {}\".format(number_outlier))\n",
        "\n",
        "  if number_outlier>0:\n",
        "    print(\"Outlier observation row: \")\n",
        "  else:\n",
        "    pass\n",
        "  for i in range(len(sample)):\n",
        "    if sample[i]<lower_range:\n",
        "      print[i]\n",
        "    elif sample[i]>upper_range:\n",
        "      print(i)\n",
        "    else:\n",
        "      pass        \n"
      ],
      "execution_count": 69,
      "outputs": []
    },
    {
      "cell_type": "code",
      "metadata": {
        "colab": {
          "base_uri": "https://localhost:8080/"
        },
        "id": "nS5x8IEA-67M",
        "outputId": "9e120914-8a0b-42cb-d097-d8dfb670b18d"
      },
      "source": [
        "outlier(pengunjung['jumlah'])"
      ],
      "execution_count": 70,
      "outputs": [
        {
          "output_type": "stream",
          "text": [
            "Number Of Outlier 2\n",
            "Outlier observation row: \n",
            "4\n",
            "19\n"
          ],
          "name": "stdout"
        }
      ]
    },
    {
      "cell_type": "code",
      "metadata": {
        "colab": {
          "base_uri": "https://localhost:8080/"
        },
        "id": "SUWMmfpSMUj7",
        "outputId": "427850b9-836e-4097-e755-5b7cb87989bb"
      },
      "source": [
        "pengunjung.loc[[4,19],\"jumlah\"]"
      ],
      "execution_count": 71,
      "outputs": [
        {
          "output_type": "execute_result",
          "data": {
            "text/plain": [
              "4     2877\n",
              "19    6009\n",
              "Name: jumlah, dtype: int64"
            ]
          },
          "metadata": {
            "tags": []
          },
          "execution_count": 71
        }
      ]
    },
    {
      "cell_type": "code",
      "metadata": {
        "colab": {
          "base_uri": "https://localhost:8080/"
        },
        "id": "a90uvQkV_Buv",
        "outputId": "9874c817-69a9-4dab-faa1-229d5ab252c8"
      },
      "source": [
        "outlier(pengunjung['tahun'])"
      ],
      "execution_count": 72,
      "outputs": [
        {
          "output_type": "stream",
          "text": [
            "Number Of Outlier 0\n"
          ],
          "name": "stdout"
        }
      ]
    },
    {
      "cell_type": "code",
      "metadata": {
        "colab": {
          "base_uri": "https://localhost:8080/"
        },
        "id": "UpCkxdlG_LR4",
        "outputId": "eccc0e01-0daf-4458-d69a-584d881f05a3"
      },
      "source": [
        "outlier(pengunjung['bulan'])"
      ],
      "execution_count": 73,
      "outputs": [
        {
          "output_type": "stream",
          "text": [
            "Number Of Outlier 0\n"
          ],
          "name": "stdout"
        }
      ]
    },
    {
      "cell_type": "markdown",
      "metadata": {
        "id": "DcSJ5wmn_cXl"
      },
      "source": [
        "Feature Scalling"
      ]
    },
    {
      "cell_type": "code",
      "metadata": {
        "id": "6vCUK61p_YCr"
      },
      "source": [
        "y=pengunjung['tahun']\n",
        "x=pengunjung.iloc[:,3:]\n",
        "\n",
        "scale=StandardScaler()\n",
        "x=scale.fit_transform(x)\n",
        "x=pd.DataFrame(data=x,columns=['jumlah'])"
      ],
      "execution_count": 74,
      "outputs": []
    },
    {
      "cell_type": "markdown",
      "metadata": {
        "id": "BqJlctEQSSMP"
      },
      "source": [
        "Data Partition"
      ]
    },
    {
      "cell_type": "code",
      "metadata": {
        "id": "HmYlZTyaR55_"
      },
      "source": [
        "x_train, x_test, y_train, y_test = train_test_split(x,y, test_size=0.2, random_state=42)"
      ],
      "execution_count": 76,
      "outputs": []
    },
    {
      "cell_type": "markdown",
      "metadata": {
        "id": "4kiwG6iVRd66"
      },
      "source": [
        "Linear Regretion"
      ]
    },
    {
      "cell_type": "code",
      "metadata": {
        "id": "x86WsHtUQhAZ"
      },
      "source": [
        "x_train2 = sm.add_constant(x_train)\n",
        "est = sm.OLS(y_train, x_train2)\n",
        "est2 = est.fit()"
      ],
      "execution_count": 77,
      "outputs": []
    },
    {
      "cell_type": "code",
      "metadata": {
        "colab": {
          "base_uri": "https://localhost:8080/"
        },
        "id": "yUuXhvxkSXpU",
        "outputId": "4810086b-520e-4f10-e681-83668f2897d4"
      },
      "source": [
        "print(est2.summary())"
      ],
      "execution_count": 78,
      "outputs": [
        {
          "output_type": "stream",
          "text": [
            "                            OLS Regression Results                            \n",
            "==============================================================================\n",
            "Dep. Variable:                  tahun   R-squared:                        -inf\n",
            "Model:                            OLS   Adj. R-squared:                   -inf\n",
            "Method:                 Least Squares   F-statistic:                    -14.00\n",
            "Date:                Thu, 03 Jun 2021   Prob (F-statistic):               1.00\n",
            "Time:                        14:31:59   Log-Likelihood:                 415.03\n",
            "No. Observations:                  16   AIC:                            -826.1\n",
            "Df Residuals:                      14   BIC:                            -824.5\n",
            "Df Model:                           1                                         \n",
            "Covariance Type:            nonrobust                                         \n",
            "==============================================================================\n",
            "                 coef    std err          t      P>|t|      [0.025      0.975]\n",
            "------------------------------------------------------------------------------\n",
            "const       2020.0000   3.53e-13   5.71e+15      0.000    2020.000    2020.000\n",
            "jumlah     -1.421e-13   3.25e-13     -0.437      0.669    -8.4e-13    5.56e-13\n",
            "==============================================================================\n",
            "Omnibus:                       20.453   Durbin-Watson:                   0.015\n",
            "Prob(Omnibus):                  0.000   Jarque-Bera (JB):               20.177\n",
            "Skew:                           2.147   Prob(JB):                     4.16e-05\n",
            "Kurtosis:                       6.440   Cond. No.                         1.15\n",
            "==============================================================================\n",
            "\n",
            "Warnings:\n",
            "[1] Standard Errors assume that the covariance matrix of the errors is correctly specified.\n"
          ],
          "name": "stdout"
        },
        {
          "output_type": "stream",
          "text": [
            "/usr/local/lib/python3.7/dist-packages/scipy/stats/stats.py:1535: UserWarning: kurtosistest only valid for n>=20 ... continuing anyway, n=16\n",
            "  \"anyway, n=%i\" % int(n))\n"
          ],
          "name": "stderr"
        }
      ]
    }
  ]
}