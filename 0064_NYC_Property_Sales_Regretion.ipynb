{
  "nbformat": 4,
  "nbformat_minor": 0,
  "metadata": {
    "colab": {
      "name": "0064_NYC Property Sales Regretion.ipynb",
      "provenance": [],
      "collapsed_sections": [],
      "authorship_tag": "ABX9TyOE/odU6qW8U9CSOXiGmjcA",
      "include_colab_link": true
    },
    "kernelspec": {
      "name": "python3",
      "display_name": "Python 3"
    },
    "language_info": {
      "name": "python"
    }
  },
  "cells": [
    {
      "cell_type": "markdown",
      "metadata": {
        "id": "view-in-github",
        "colab_type": "text"
      },
      "source": [
        "<a href=\"https://colab.research.google.com/github/KusumaatmaSyafadhi/kusumaatmas/blob/main/0064_NYC_Property_Sales_Regretion.ipynb\" target=\"_parent\"><img src=\"https://colab.research.google.com/assets/colab-badge.svg\" alt=\"Open In Colab\"/></a>"
      ]
    },
    {
      "cell_type": "markdown",
      "metadata": {
        "id": "tOaLqDuduG5F"
      },
      "source": [
        "Datasets was downloaded from: [https://www.kaggle.com/new-york-city/nyc-property-sales](https://)"
      ]
    },
    {
      "cell_type": "code",
      "metadata": {
        "colab": {
          "base_uri": "https://localhost:8080/"
        },
        "id": "e8KMFWd6uC3v",
        "outputId": "7a19e761-85d8-4cc4-8e48-10c5bb7b3d9e"
      },
      "source": [
        "import numpy as np\n",
        "import pandas as pd\n",
        "import matplotlib.pyplot as plt\n",
        "import seaborn as sns\n",
        "from sklearn.preprocessing import StandardScaler  #Feature Scaling\n",
        "from sklearn.model_selection import train_test_split #Data Partition\n",
        " \n",
        "#MODELLING\n",
        "import statsmodels.api as sm\n",
        "from statsmodels.stats.outliers_influence import variance_inflation_factor\n",
        "from scipy import stats"
      ],
      "execution_count": 2,
      "outputs": [
        {
          "output_type": "stream",
          "text": [
            "/usr/local/lib/python3.7/dist-packages/statsmodels/tools/_testing.py:19: FutureWarning: pandas.util.testing is deprecated. Use the functions in the public API at pandas.testing instead.\n",
            "  import pandas.util.testing as tm\n"
          ],
          "name": "stderr"
        }
      ]
    },
    {
      "cell_type": "markdown",
      "metadata": {
        "id": "q-8YzDMQuhYz"
      },
      "source": [
        "DATA SETS LOADING"
      ]
    },
    {
      "cell_type": "code",
      "metadata": {
        "id": "P9egtrP1ud46"
      },
      "source": [
        "jualan  = pd.read_csv(\"nyc-rolling-sales.csv\")"
      ],
      "execution_count": 3,
      "outputs": []
    },
    {
      "cell_type": "markdown",
      "metadata": {
        "id": "fmZ3YqDbuqtd"
      },
      "source": [
        "DATA UNDERSTANDING"
      ]
    },
    {
      "cell_type": "code",
      "metadata": {
        "colab": {
          "base_uri": "https://localhost:8080/",
          "height": 1000
        },
        "id": "2_NIGfZGuspu",
        "outputId": "6ec198c2-535c-4ee6-ea9c-c1f9cbf0dfe4"
      },
      "source": [
        "jualan.head(30)"
      ],
      "execution_count": 31,
      "outputs": [
        {
          "output_type": "execute_result",
          "data": {
            "text/html": [
              "<div>\n",
              "<style scoped>\n",
              "    .dataframe tbody tr th:only-of-type {\n",
              "        vertical-align: middle;\n",
              "    }\n",
              "\n",
              "    .dataframe tbody tr th {\n",
              "        vertical-align: top;\n",
              "    }\n",
              "\n",
              "    .dataframe thead th {\n",
              "        text-align: right;\n",
              "    }\n",
              "</style>\n",
              "<table border=\"1\" class=\"dataframe\">\n",
              "  <thead>\n",
              "    <tr style=\"text-align: right;\">\n",
              "      <th></th>\n",
              "      <th>Unnamed: 0</th>\n",
              "      <th>BOROUGH</th>\n",
              "      <th>NEIGHBORHOOD</th>\n",
              "      <th>BUILDING CLASS CATEGORY</th>\n",
              "      <th>TAX CLASS AT PRESENT</th>\n",
              "      <th>BLOCK</th>\n",
              "      <th>LOT</th>\n",
              "      <th>EASE-MENT</th>\n",
              "      <th>BUILDING CLASS AT PRESENT</th>\n",
              "      <th>ADDRESS</th>\n",
              "      <th>APARTMENT NUMBER</th>\n",
              "      <th>ZIP CODE</th>\n",
              "      <th>RESIDENTIAL UNITS</th>\n",
              "      <th>COMMERCIAL UNITS</th>\n",
              "      <th>TOTAL UNITS</th>\n",
              "      <th>LAND SQUARE FEET</th>\n",
              "      <th>GROSS SQUARE FEET</th>\n",
              "      <th>YEAR BUILT</th>\n",
              "      <th>TAX CLASS AT TIME OF SALE</th>\n",
              "      <th>BUILDING CLASS AT TIME OF SALE</th>\n",
              "      <th>SALE PRICE</th>\n",
              "      <th>SALE DATE</th>\n",
              "    </tr>\n",
              "  </thead>\n",
              "  <tbody>\n",
              "    <tr>\n",
              "      <th>0</th>\n",
              "      <td>4</td>\n",
              "      <td>1</td>\n",
              "      <td>ALPHABET CITY</td>\n",
              "      <td>07 RENTALS - WALKUP APARTMENTS</td>\n",
              "      <td>2A</td>\n",
              "      <td>392.0</td>\n",
              "      <td>6.0</td>\n",
              "      <td></td>\n",
              "      <td>C2</td>\n",
              "      <td>153 AVENUE B</td>\n",
              "      <td></td>\n",
              "      <td>10009.0</td>\n",
              "      <td>5.0</td>\n",
              "      <td>0.0</td>\n",
              "      <td>5.0</td>\n",
              "      <td>1633</td>\n",
              "      <td>6440</td>\n",
              "      <td>1900.0</td>\n",
              "      <td>2.0</td>\n",
              "      <td>C2</td>\n",
              "      <td>6625000</td>\n",
              "      <td>2017-07-19 00:00:00</td>\n",
              "    </tr>\n",
              "    <tr>\n",
              "      <th>1</th>\n",
              "      <td>5</td>\n",
              "      <td>1</td>\n",
              "      <td>ALPHABET CITY</td>\n",
              "      <td>07 RENTALS - WALKUP APARTMENTS</td>\n",
              "      <td>2</td>\n",
              "      <td>399.0</td>\n",
              "      <td>26.0</td>\n",
              "      <td></td>\n",
              "      <td>C7</td>\n",
              "      <td>234 EAST 4TH   STREET</td>\n",
              "      <td></td>\n",
              "      <td>10009.0</td>\n",
              "      <td>28.0</td>\n",
              "      <td>3.0</td>\n",
              "      <td>31.0</td>\n",
              "      <td>4616</td>\n",
              "      <td>18690</td>\n",
              "      <td>1900.0</td>\n",
              "      <td>2.0</td>\n",
              "      <td>C7</td>\n",
              "      <td>-</td>\n",
              "      <td>2016-12-14 00:00:00</td>\n",
              "    </tr>\n",
              "    <tr>\n",
              "      <th>2</th>\n",
              "      <td>6</td>\n",
              "      <td>1</td>\n",
              "      <td>ALPHABET CITY</td>\n",
              "      <td>07 RENTALS - WALKUP APARTMENTS</td>\n",
              "      <td>2</td>\n",
              "      <td>399.0</td>\n",
              "      <td>39.0</td>\n",
              "      <td></td>\n",
              "      <td>C7</td>\n",
              "      <td>197 EAST 3RD   STREET</td>\n",
              "      <td></td>\n",
              "      <td>10009.0</td>\n",
              "      <td>16.0</td>\n",
              "      <td>1.0</td>\n",
              "      <td>17.0</td>\n",
              "      <td>2212</td>\n",
              "      <td>7803</td>\n",
              "      <td>1900.0</td>\n",
              "      <td>2.0</td>\n",
              "      <td>C7</td>\n",
              "      <td>-</td>\n",
              "      <td>2016-12-09 00:00:00</td>\n",
              "    </tr>\n",
              "    <tr>\n",
              "      <th>3</th>\n",
              "      <td>7</td>\n",
              "      <td>1</td>\n",
              "      <td>ALPHABET CITY</td>\n",
              "      <td>07 RENTALS - WALKUP APARTMENTS</td>\n",
              "      <td>2B</td>\n",
              "      <td>402.0</td>\n",
              "      <td>21.0</td>\n",
              "      <td></td>\n",
              "      <td>C4</td>\n",
              "      <td>154 EAST 7TH STREET</td>\n",
              "      <td></td>\n",
              "      <td>10009.0</td>\n",
              "      <td>10.0</td>\n",
              "      <td>0.0</td>\n",
              "      <td>10.0</td>\n",
              "      <td>2272</td>\n",
              "      <td>6794</td>\n",
              "      <td>1913.0</td>\n",
              "      <td>2.0</td>\n",
              "      <td>C4</td>\n",
              "      <td>3936272</td>\n",
              "      <td>2016-09-23 00:00:00</td>\n",
              "    </tr>\n",
              "    <tr>\n",
              "      <th>4</th>\n",
              "      <td>8</td>\n",
              "      <td>1</td>\n",
              "      <td>ALPHABET CITY</td>\n",
              "      <td>07 RENTALS - WALKUP APARTMENTS</td>\n",
              "      <td>2A</td>\n",
              "      <td>404.0</td>\n",
              "      <td>55.0</td>\n",
              "      <td></td>\n",
              "      <td>C2</td>\n",
              "      <td>301 EAST 10TH   STREET</td>\n",
              "      <td></td>\n",
              "      <td>10009.0</td>\n",
              "      <td>6.0</td>\n",
              "      <td>0.0</td>\n",
              "      <td>6.0</td>\n",
              "      <td>2369</td>\n",
              "      <td>4615</td>\n",
              "      <td>1900.0</td>\n",
              "      <td>2.0</td>\n",
              "      <td>C2</td>\n",
              "      <td>8000000</td>\n",
              "      <td>2016-11-17 00:00:00</td>\n",
              "    </tr>\n",
              "    <tr>\n",
              "      <th>5</th>\n",
              "      <td>9</td>\n",
              "      <td>1</td>\n",
              "      <td>ALPHABET CITY</td>\n",
              "      <td>07 RENTALS - WALKUP APARTMENTS</td>\n",
              "      <td>2</td>\n",
              "      <td>405.0</td>\n",
              "      <td>16.0</td>\n",
              "      <td></td>\n",
              "      <td>C4</td>\n",
              "      <td>516 EAST 12TH   STREET</td>\n",
              "      <td></td>\n",
              "      <td>10009.0</td>\n",
              "      <td>20.0</td>\n",
              "      <td>0.0</td>\n",
              "      <td>20.0</td>\n",
              "      <td>2581</td>\n",
              "      <td>9730</td>\n",
              "      <td>1900.0</td>\n",
              "      <td>2.0</td>\n",
              "      <td>C4</td>\n",
              "      <td>-</td>\n",
              "      <td>2017-07-20 00:00:00</td>\n",
              "    </tr>\n",
              "    <tr>\n",
              "      <th>6</th>\n",
              "      <td>10</td>\n",
              "      <td>1</td>\n",
              "      <td>ALPHABET CITY</td>\n",
              "      <td>07 RENTALS - WALKUP APARTMENTS</td>\n",
              "      <td>2B</td>\n",
              "      <td>406.0</td>\n",
              "      <td>32.0</td>\n",
              "      <td></td>\n",
              "      <td>C4</td>\n",
              "      <td>210 AVENUE B</td>\n",
              "      <td></td>\n",
              "      <td>10009.0</td>\n",
              "      <td>8.0</td>\n",
              "      <td>0.0</td>\n",
              "      <td>8.0</td>\n",
              "      <td>1750</td>\n",
              "      <td>4226</td>\n",
              "      <td>1920.0</td>\n",
              "      <td>2.0</td>\n",
              "      <td>C4</td>\n",
              "      <td>3192840</td>\n",
              "      <td>2016-09-23 00:00:00</td>\n",
              "    </tr>\n",
              "    <tr>\n",
              "      <th>7</th>\n",
              "      <td>11</td>\n",
              "      <td>1</td>\n",
              "      <td>ALPHABET CITY</td>\n",
              "      <td>07 RENTALS - WALKUP APARTMENTS</td>\n",
              "      <td>2</td>\n",
              "      <td>407.0</td>\n",
              "      <td>18.0</td>\n",
              "      <td></td>\n",
              "      <td>C7</td>\n",
              "      <td>520 EAST 14TH   STREET</td>\n",
              "      <td></td>\n",
              "      <td>10009.0</td>\n",
              "      <td>44.0</td>\n",
              "      <td>2.0</td>\n",
              "      <td>46.0</td>\n",
              "      <td>5163</td>\n",
              "      <td>21007</td>\n",
              "      <td>1900.0</td>\n",
              "      <td>2.0</td>\n",
              "      <td>C7</td>\n",
              "      <td>-</td>\n",
              "      <td>2017-07-20 00:00:00</td>\n",
              "    </tr>\n",
              "    <tr>\n",
              "      <th>8</th>\n",
              "      <td>12</td>\n",
              "      <td>1</td>\n",
              "      <td>ALPHABET CITY</td>\n",
              "      <td>08 RENTALS - ELEVATOR APARTMENTS</td>\n",
              "      <td>2</td>\n",
              "      <td>379.0</td>\n",
              "      <td>34.0</td>\n",
              "      <td></td>\n",
              "      <td>D5</td>\n",
              "      <td>141 AVENUE D</td>\n",
              "      <td></td>\n",
              "      <td>10009.0</td>\n",
              "      <td>15.0</td>\n",
              "      <td>0.0</td>\n",
              "      <td>15.0</td>\n",
              "      <td>1534</td>\n",
              "      <td>9198</td>\n",
              "      <td>1920.0</td>\n",
              "      <td>2.0</td>\n",
              "      <td>D5</td>\n",
              "      <td>-</td>\n",
              "      <td>2017-06-20 00:00:00</td>\n",
              "    </tr>\n",
              "    <tr>\n",
              "      <th>9</th>\n",
              "      <td>13</td>\n",
              "      <td>1</td>\n",
              "      <td>ALPHABET CITY</td>\n",
              "      <td>08 RENTALS - ELEVATOR APARTMENTS</td>\n",
              "      <td>2</td>\n",
              "      <td>387.0</td>\n",
              "      <td>153.0</td>\n",
              "      <td></td>\n",
              "      <td>D9</td>\n",
              "      <td>629 EAST 5TH STREET</td>\n",
              "      <td></td>\n",
              "      <td>10009.0</td>\n",
              "      <td>24.0</td>\n",
              "      <td>0.0</td>\n",
              "      <td>24.0</td>\n",
              "      <td>4489</td>\n",
              "      <td>18523</td>\n",
              "      <td>1920.0</td>\n",
              "      <td>2.0</td>\n",
              "      <td>D9</td>\n",
              "      <td>16232000</td>\n",
              "      <td>2016-11-07 00:00:00</td>\n",
              "    </tr>\n",
              "    <tr>\n",
              "      <th>10</th>\n",
              "      <td>14</td>\n",
              "      <td>1</td>\n",
              "      <td>ALPHABET CITY</td>\n",
              "      <td>08 RENTALS - ELEVATOR APARTMENTS</td>\n",
              "      <td>2</td>\n",
              "      <td>394.0</td>\n",
              "      <td>44.0</td>\n",
              "      <td></td>\n",
              "      <td>D7</td>\n",
              "      <td>181 AVENUE C</td>\n",
              "      <td></td>\n",
              "      <td>10009.0</td>\n",
              "      <td>30.0</td>\n",
              "      <td>4.0</td>\n",
              "      <td>34.0</td>\n",
              "      <td>4295</td>\n",
              "      <td>21328</td>\n",
              "      <td>1910.0</td>\n",
              "      <td>2.0</td>\n",
              "      <td>D7</td>\n",
              "      <td>-</td>\n",
              "      <td>2017-07-20 00:00:00</td>\n",
              "    </tr>\n",
              "    <tr>\n",
              "      <th>11</th>\n",
              "      <td>15</td>\n",
              "      <td>1</td>\n",
              "      <td>ALPHABET CITY</td>\n",
              "      <td>08 RENTALS - ELEVATOR APARTMENTS</td>\n",
              "      <td>2B</td>\n",
              "      <td>400.0</td>\n",
              "      <td>21.0</td>\n",
              "      <td></td>\n",
              "      <td>D1</td>\n",
              "      <td>530-532 EAST 5TH STREET</td>\n",
              "      <td></td>\n",
              "      <td>10009.0</td>\n",
              "      <td>10.0</td>\n",
              "      <td>0.0</td>\n",
              "      <td>10.0</td>\n",
              "      <td>3717</td>\n",
              "      <td>12350</td>\n",
              "      <td>2009.0</td>\n",
              "      <td>2.0</td>\n",
              "      <td>D1</td>\n",
              "      <td>10350000</td>\n",
              "      <td>2016-10-17 00:00:00</td>\n",
              "    </tr>\n",
              "    <tr>\n",
              "      <th>12</th>\n",
              "      <td>16</td>\n",
              "      <td>1</td>\n",
              "      <td>ALPHABET CITY</td>\n",
              "      <td>09 COOPS - WALKUP APARTMENTS</td>\n",
              "      <td>2</td>\n",
              "      <td>373.0</td>\n",
              "      <td>40.0</td>\n",
              "      <td></td>\n",
              "      <td>C6</td>\n",
              "      <td>327 EAST 3 STREET, 1C</td>\n",
              "      <td></td>\n",
              "      <td>10009.0</td>\n",
              "      <td>0.0</td>\n",
              "      <td>0.0</td>\n",
              "      <td>0.0</td>\n",
              "      <td>-</td>\n",
              "      <td>-</td>\n",
              "      <td>1920.0</td>\n",
              "      <td>2.0</td>\n",
              "      <td>C6</td>\n",
              "      <td>1</td>\n",
              "      <td>2016-09-06 00:00:00</td>\n",
              "    </tr>\n",
              "    <tr>\n",
              "      <th>13</th>\n",
              "      <td>17</td>\n",
              "      <td>1</td>\n",
              "      <td>ALPHABET CITY</td>\n",
              "      <td>09 COOPS - WALKUP APARTMENTS</td>\n",
              "      <td>2</td>\n",
              "      <td>373.0</td>\n",
              "      <td>40.0</td>\n",
              "      <td></td>\n",
              "      <td>C6</td>\n",
              "      <td>327 EAST 3 STREET, 1C</td>\n",
              "      <td></td>\n",
              "      <td>10009.0</td>\n",
              "      <td>0.0</td>\n",
              "      <td>0.0</td>\n",
              "      <td>0.0</td>\n",
              "      <td>-</td>\n",
              "      <td>-</td>\n",
              "      <td>1920.0</td>\n",
              "      <td>2.0</td>\n",
              "      <td>C6</td>\n",
              "      <td>499000</td>\n",
              "      <td>2017-03-10 00:00:00</td>\n",
              "    </tr>\n",
              "    <tr>\n",
              "      <th>14</th>\n",
              "      <td>18</td>\n",
              "      <td>1</td>\n",
              "      <td>ALPHABET CITY</td>\n",
              "      <td>09 COOPS - WALKUP APARTMENTS</td>\n",
              "      <td>2</td>\n",
              "      <td>373.0</td>\n",
              "      <td>40.0</td>\n",
              "      <td></td>\n",
              "      <td>C6</td>\n",
              "      <td>327 EAST 3 STREET, 3A</td>\n",
              "      <td></td>\n",
              "      <td>10009.0</td>\n",
              "      <td>0.0</td>\n",
              "      <td>0.0</td>\n",
              "      <td>0.0</td>\n",
              "      <td>-</td>\n",
              "      <td>-</td>\n",
              "      <td>1920.0</td>\n",
              "      <td>2.0</td>\n",
              "      <td>C6</td>\n",
              "      <td>10</td>\n",
              "      <td>2017-04-28 00:00:00</td>\n",
              "    </tr>\n",
              "    <tr>\n",
              "      <th>15</th>\n",
              "      <td>19</td>\n",
              "      <td>1</td>\n",
              "      <td>ALPHABET CITY</td>\n",
              "      <td>09 COOPS - WALKUP APARTMENTS</td>\n",
              "      <td>2</td>\n",
              "      <td>373.0</td>\n",
              "      <td>40.0</td>\n",
              "      <td></td>\n",
              "      <td>C6</td>\n",
              "      <td>327 EAST 3RD STREET, 5A</td>\n",
              "      <td></td>\n",
              "      <td>10009.0</td>\n",
              "      <td>0.0</td>\n",
              "      <td>0.0</td>\n",
              "      <td>0.0</td>\n",
              "      <td>-</td>\n",
              "      <td>-</td>\n",
              "      <td>1920.0</td>\n",
              "      <td>2.0</td>\n",
              "      <td>C6</td>\n",
              "      <td>529500</td>\n",
              "      <td>2017-06-09 00:00:00</td>\n",
              "    </tr>\n",
              "    <tr>\n",
              "      <th>16</th>\n",
              "      <td>20</td>\n",
              "      <td>1</td>\n",
              "      <td>ALPHABET CITY</td>\n",
              "      <td>09 COOPS - WALKUP APARTMENTS</td>\n",
              "      <td>2</td>\n",
              "      <td>373.0</td>\n",
              "      <td>40.0</td>\n",
              "      <td></td>\n",
              "      <td>C6</td>\n",
              "      <td>327 EAST 3 STREET, 2E</td>\n",
              "      <td></td>\n",
              "      <td>10009.0</td>\n",
              "      <td>0.0</td>\n",
              "      <td>0.0</td>\n",
              "      <td>0.0</td>\n",
              "      <td>-</td>\n",
              "      <td>-</td>\n",
              "      <td>1920.0</td>\n",
              "      <td>2.0</td>\n",
              "      <td>C6</td>\n",
              "      <td>423000</td>\n",
              "      <td>2017-07-14 00:00:00</td>\n",
              "    </tr>\n",
              "    <tr>\n",
              "      <th>17</th>\n",
              "      <td>21</td>\n",
              "      <td>1</td>\n",
              "      <td>ALPHABET CITY</td>\n",
              "      <td>09 COOPS - WALKUP APARTMENTS</td>\n",
              "      <td>2</td>\n",
              "      <td>373.0</td>\n",
              "      <td>46.0</td>\n",
              "      <td></td>\n",
              "      <td>C6</td>\n",
              "      <td>317 EAST 3RD STREET, 12</td>\n",
              "      <td></td>\n",
              "      <td>10009.0</td>\n",
              "      <td>0.0</td>\n",
              "      <td>0.0</td>\n",
              "      <td>0.0</td>\n",
              "      <td>-</td>\n",
              "      <td>-</td>\n",
              "      <td>1925.0</td>\n",
              "      <td>2.0</td>\n",
              "      <td>C6</td>\n",
              "      <td>501000</td>\n",
              "      <td>2017-03-16 00:00:00</td>\n",
              "    </tr>\n",
              "    <tr>\n",
              "      <th>18</th>\n",
              "      <td>22</td>\n",
              "      <td>1</td>\n",
              "      <td>ALPHABET CITY</td>\n",
              "      <td>09 COOPS - WALKUP APARTMENTS</td>\n",
              "      <td>2</td>\n",
              "      <td>373.0</td>\n",
              "      <td>49.0</td>\n",
              "      <td></td>\n",
              "      <td>C6</td>\n",
              "      <td>311 EAST 3RD STREET, 17</td>\n",
              "      <td></td>\n",
              "      <td>10009.0</td>\n",
              "      <td>0.0</td>\n",
              "      <td>0.0</td>\n",
              "      <td>0.0</td>\n",
              "      <td>-</td>\n",
              "      <td>-</td>\n",
              "      <td>1920.0</td>\n",
              "      <td>2.0</td>\n",
              "      <td>C6</td>\n",
              "      <td>450000</td>\n",
              "      <td>2016-09-01 00:00:00</td>\n",
              "    </tr>\n",
              "    <tr>\n",
              "      <th>19</th>\n",
              "      <td>23</td>\n",
              "      <td>1</td>\n",
              "      <td>ALPHABET CITY</td>\n",
              "      <td>09 COOPS - WALKUP APARTMENTS</td>\n",
              "      <td>2</td>\n",
              "      <td>373.0</td>\n",
              "      <td>49.0</td>\n",
              "      <td></td>\n",
              "      <td>C6</td>\n",
              "      <td>311 EAST 3RD, 22</td>\n",
              "      <td></td>\n",
              "      <td>10009.0</td>\n",
              "      <td>0.0</td>\n",
              "      <td>0.0</td>\n",
              "      <td>0.0</td>\n",
              "      <td>-</td>\n",
              "      <td>-</td>\n",
              "      <td>1920.0</td>\n",
              "      <td>2.0</td>\n",
              "      <td>C6</td>\n",
              "      <td>510000</td>\n",
              "      <td>2017-08-17 00:00:00</td>\n",
              "    </tr>\n",
              "    <tr>\n",
              "      <th>20</th>\n",
              "      <td>24</td>\n",
              "      <td>1</td>\n",
              "      <td>ALPHABET CITY</td>\n",
              "      <td>09 COOPS - WALKUP APARTMENTS</td>\n",
              "      <td>2C</td>\n",
              "      <td>374.0</td>\n",
              "      <td>8.0</td>\n",
              "      <td></td>\n",
              "      <td>C6</td>\n",
              "      <td>702 EAST 5TH STREET, 5E</td>\n",
              "      <td></td>\n",
              "      <td>10009.0</td>\n",
              "      <td>0.0</td>\n",
              "      <td>0.0</td>\n",
              "      <td>0.0</td>\n",
              "      <td>-</td>\n",
              "      <td>-</td>\n",
              "      <td>1900.0</td>\n",
              "      <td>2.0</td>\n",
              "      <td>C6</td>\n",
              "      <td>-</td>\n",
              "      <td>2016-09-07 00:00:00</td>\n",
              "    </tr>\n",
              "    <tr>\n",
              "      <th>21</th>\n",
              "      <td>25</td>\n",
              "      <td>1</td>\n",
              "      <td>ALPHABET CITY</td>\n",
              "      <td>09 COOPS - WALKUP APARTMENTS</td>\n",
              "      <td>2</td>\n",
              "      <td>375.0</td>\n",
              "      <td>30.0</td>\n",
              "      <td></td>\n",
              "      <td>C6</td>\n",
              "      <td>742 EAST 6TH STREET, 1</td>\n",
              "      <td></td>\n",
              "      <td>10009.0</td>\n",
              "      <td>0.0</td>\n",
              "      <td>0.0</td>\n",
              "      <td>0.0</td>\n",
              "      <td>-</td>\n",
              "      <td>-</td>\n",
              "      <td>1902.0</td>\n",
              "      <td>2.0</td>\n",
              "      <td>C6</td>\n",
              "      <td>350000</td>\n",
              "      <td>2017-08-30 00:00:00</td>\n",
              "    </tr>\n",
              "    <tr>\n",
              "      <th>22</th>\n",
              "      <td>26</td>\n",
              "      <td>1</td>\n",
              "      <td>ALPHABET CITY</td>\n",
              "      <td>09 COOPS - WALKUP APARTMENTS</td>\n",
              "      <td>2</td>\n",
              "      <td>376.0</td>\n",
              "      <td>14.0</td>\n",
              "      <td></td>\n",
              "      <td>C6</td>\n",
              "      <td>244 EAST 7TH STREET</td>\n",
              "      <td></td>\n",
              "      <td>10009.0</td>\n",
              "      <td>24.0</td>\n",
              "      <td>0.0</td>\n",
              "      <td>24.0</td>\n",
              "      <td>4131</td>\n",
              "      <td>16776</td>\n",
              "      <td>1928.0</td>\n",
              "      <td>2.0</td>\n",
              "      <td>C6</td>\n",
              "      <td>11900000</td>\n",
              "      <td>2017-06-21 00:00:00</td>\n",
              "    </tr>\n",
              "    <tr>\n",
              "      <th>23</th>\n",
              "      <td>27</td>\n",
              "      <td>1</td>\n",
              "      <td>ALPHABET CITY</td>\n",
              "      <td>09 COOPS - WALKUP APARTMENTS</td>\n",
              "      <td>2</td>\n",
              "      <td>376.0</td>\n",
              "      <td>14.0</td>\n",
              "      <td></td>\n",
              "      <td>C6</td>\n",
              "      <td>244 EAST 7TH STREET</td>\n",
              "      <td></td>\n",
              "      <td>10009.0</td>\n",
              "      <td>0.0</td>\n",
              "      <td>0.0</td>\n",
              "      <td>0.0</td>\n",
              "      <td>-</td>\n",
              "      <td>-</td>\n",
              "      <td>1928.0</td>\n",
              "      <td>2.0</td>\n",
              "      <td>C6</td>\n",
              "      <td>11900000</td>\n",
              "      <td>2017-06-21 00:00:00</td>\n",
              "    </tr>\n",
              "    <tr>\n",
              "      <th>24</th>\n",
              "      <td>28</td>\n",
              "      <td>1</td>\n",
              "      <td>ALPHABET CITY</td>\n",
              "      <td>09 COOPS - WALKUP APARTMENTS</td>\n",
              "      <td>2</td>\n",
              "      <td>376.0</td>\n",
              "      <td>16.0</td>\n",
              "      <td></td>\n",
              "      <td>C6</td>\n",
              "      <td>248 EAST 7TH STREET, 24</td>\n",
              "      <td></td>\n",
              "      <td>10009.0</td>\n",
              "      <td>0.0</td>\n",
              "      <td>0.0</td>\n",
              "      <td>0.0</td>\n",
              "      <td>-</td>\n",
              "      <td>-</td>\n",
              "      <td>1928.0</td>\n",
              "      <td>2.0</td>\n",
              "      <td>C6</td>\n",
              "      <td>350000</td>\n",
              "      <td>2017-01-30 00:00:00</td>\n",
              "    </tr>\n",
              "    <tr>\n",
              "      <th>25</th>\n",
              "      <td>29</td>\n",
              "      <td>1</td>\n",
              "      <td>ALPHABET CITY</td>\n",
              "      <td>09 COOPS - WALKUP APARTMENTS</td>\n",
              "      <td>2</td>\n",
              "      <td>376.0</td>\n",
              "      <td>16.0</td>\n",
              "      <td></td>\n",
              "      <td>C6</td>\n",
              "      <td>248 EAST 7TH STREET, 2</td>\n",
              "      <td></td>\n",
              "      <td>10009.0</td>\n",
              "      <td>0.0</td>\n",
              "      <td>0.0</td>\n",
              "      <td>0.0</td>\n",
              "      <td>-</td>\n",
              "      <td>-</td>\n",
              "      <td>1928.0</td>\n",
              "      <td>2.0</td>\n",
              "      <td>C6</td>\n",
              "      <td>404000</td>\n",
              "      <td>2017-07-07 00:00:00</td>\n",
              "    </tr>\n",
              "    <tr>\n",
              "      <th>26</th>\n",
              "      <td>30</td>\n",
              "      <td>1</td>\n",
              "      <td>ALPHABET CITY</td>\n",
              "      <td>09 COOPS - WALKUP APARTMENTS</td>\n",
              "      <td>2</td>\n",
              "      <td>376.0</td>\n",
              "      <td>19.0</td>\n",
              "      <td></td>\n",
              "      <td>C6</td>\n",
              "      <td>254 EAST  7TH STREET, 4</td>\n",
              "      <td></td>\n",
              "      <td>10009.0</td>\n",
              "      <td>0.0</td>\n",
              "      <td>0.0</td>\n",
              "      <td>0.0</td>\n",
              "      <td>-</td>\n",
              "      <td>-</td>\n",
              "      <td>1910.0</td>\n",
              "      <td>2.0</td>\n",
              "      <td>C6</td>\n",
              "      <td>535000</td>\n",
              "      <td>2017-06-21 00:00:00</td>\n",
              "    </tr>\n",
              "    <tr>\n",
              "      <th>27</th>\n",
              "      <td>31</td>\n",
              "      <td>1</td>\n",
              "      <td>ALPHABET CITY</td>\n",
              "      <td>09 COOPS - WALKUP APARTMENTS</td>\n",
              "      <td>2C</td>\n",
              "      <td>377.0</td>\n",
              "      <td>54.0</td>\n",
              "      <td></td>\n",
              "      <td>C6</td>\n",
              "      <td>267 EAST 7 ST, 4</td>\n",
              "      <td></td>\n",
              "      <td>10009.0</td>\n",
              "      <td>0.0</td>\n",
              "      <td>0.0</td>\n",
              "      <td>0.0</td>\n",
              "      <td>-</td>\n",
              "      <td>-</td>\n",
              "      <td>1920.0</td>\n",
              "      <td>2.0</td>\n",
              "      <td>C6</td>\n",
              "      <td>1400000</td>\n",
              "      <td>2017-08-04 00:00:00</td>\n",
              "    </tr>\n",
              "    <tr>\n",
              "      <th>28</th>\n",
              "      <td>32</td>\n",
              "      <td>1</td>\n",
              "      <td>ALPHABET CITY</td>\n",
              "      <td>09 COOPS - WALKUP APARTMENTS</td>\n",
              "      <td>2C</td>\n",
              "      <td>377.0</td>\n",
              "      <td>60.0</td>\n",
              "      <td></td>\n",
              "      <td>C6</td>\n",
              "      <td>255 EAST 7TH STREET, 3F</td>\n",
              "      <td></td>\n",
              "      <td>10009.0</td>\n",
              "      <td>0.0</td>\n",
              "      <td>0.0</td>\n",
              "      <td>0.0</td>\n",
              "      <td>-</td>\n",
              "      <td>-</td>\n",
              "      <td>1900.0</td>\n",
              "      <td>2.0</td>\n",
              "      <td>C6</td>\n",
              "      <td>866000</td>\n",
              "      <td>2017-01-09 00:00:00</td>\n",
              "    </tr>\n",
              "    <tr>\n",
              "      <th>29</th>\n",
              "      <td>33</td>\n",
              "      <td>1</td>\n",
              "      <td>ALPHABET CITY</td>\n",
              "      <td>09 COOPS - WALKUP APARTMENTS</td>\n",
              "      <td>2</td>\n",
              "      <td>379.0</td>\n",
              "      <td>15.0</td>\n",
              "      <td></td>\n",
              "      <td>C6</td>\n",
              "      <td>414 EAST 10TH   STREET, 4E</td>\n",
              "      <td></td>\n",
              "      <td>10009.0</td>\n",
              "      <td>0.0</td>\n",
              "      <td>0.0</td>\n",
              "      <td>0.0</td>\n",
              "      <td>-</td>\n",
              "      <td>-</td>\n",
              "      <td>1930.0</td>\n",
              "      <td>2.0</td>\n",
              "      <td>C6</td>\n",
              "      <td>355000</td>\n",
              "      <td>2017-04-18 00:00:00</td>\n",
              "    </tr>\n",
              "  </tbody>\n",
              "</table>\n",
              "</div>"
            ],
            "text/plain": [
              "    Unnamed: 0  BOROUGH  ... SALE PRICE            SALE DATE\n",
              "0            4        1  ...    6625000  2017-07-19 00:00:00\n",
              "1            5        1  ...        -    2016-12-14 00:00:00\n",
              "2            6        1  ...        -    2016-12-09 00:00:00\n",
              "3            7        1  ...    3936272  2016-09-23 00:00:00\n",
              "4            8        1  ...    8000000  2016-11-17 00:00:00\n",
              "5            9        1  ...        -    2017-07-20 00:00:00\n",
              "6           10        1  ...    3192840  2016-09-23 00:00:00\n",
              "7           11        1  ...        -    2017-07-20 00:00:00\n",
              "8           12        1  ...        -    2017-06-20 00:00:00\n",
              "9           13        1  ...   16232000  2016-11-07 00:00:00\n",
              "10          14        1  ...        -    2017-07-20 00:00:00\n",
              "11          15        1  ...   10350000  2016-10-17 00:00:00\n",
              "12          16        1  ...          1  2016-09-06 00:00:00\n",
              "13          17        1  ...     499000  2017-03-10 00:00:00\n",
              "14          18        1  ...         10  2017-04-28 00:00:00\n",
              "15          19        1  ...     529500  2017-06-09 00:00:00\n",
              "16          20        1  ...     423000  2017-07-14 00:00:00\n",
              "17          21        1  ...     501000  2017-03-16 00:00:00\n",
              "18          22        1  ...     450000  2016-09-01 00:00:00\n",
              "19          23        1  ...     510000  2017-08-17 00:00:00\n",
              "20          24        1  ...        -    2016-09-07 00:00:00\n",
              "21          25        1  ...     350000  2017-08-30 00:00:00\n",
              "22          26        1  ...   11900000  2017-06-21 00:00:00\n",
              "23          27        1  ...   11900000  2017-06-21 00:00:00\n",
              "24          28        1  ...     350000  2017-01-30 00:00:00\n",
              "25          29        1  ...     404000  2017-07-07 00:00:00\n",
              "26          30        1  ...     535000  2017-06-21 00:00:00\n",
              "27          31        1  ...    1400000  2017-08-04 00:00:00\n",
              "28          32        1  ...     866000  2017-01-09 00:00:00\n",
              "29          33        1  ...     355000  2017-04-18 00:00:00\n",
              "\n",
              "[30 rows x 22 columns]"
            ]
          },
          "metadata": {
            "tags": []
          },
          "execution_count": 31
        }
      ]
    },
    {
      "cell_type": "code",
      "metadata": {
        "colab": {
          "base_uri": "https://localhost:8080/"
        },
        "id": "VS3VMD7buwBc",
        "outputId": "39acb44d-64f9-4a60-8c88-b56584e74611"
      },
      "source": [
        "jualan.shape"
      ],
      "execution_count": 5,
      "outputs": [
        {
          "output_type": "execute_result",
          "data": {
            "text/plain": [
              "(18762, 22)"
            ]
          },
          "metadata": {
            "tags": []
          },
          "execution_count": 5
        }
      ]
    },
    {
      "cell_type": "code",
      "metadata": {
        "colab": {
          "base_uri": "https://localhost:8080/"
        },
        "id": "mdHaXbRqu47D",
        "outputId": "4dde3a27-2b59-44b3-af3f-fe77d33f0d84"
      },
      "source": [
        "jualan.info()"
      ],
      "execution_count": 6,
      "outputs": [
        {
          "output_type": "stream",
          "text": [
            "<class 'pandas.core.frame.DataFrame'>\n",
            "RangeIndex: 18762 entries, 0 to 18761\n",
            "Data columns (total 22 columns):\n",
            " #   Column                          Non-Null Count  Dtype  \n",
            "---  ------                          --------------  -----  \n",
            " 0   Unnamed: 0                      18762 non-null  int64  \n",
            " 1   BOROUGH                         18762 non-null  int64  \n",
            " 2   NEIGHBORHOOD                    18762 non-null  object \n",
            " 3   BUILDING CLASS CATEGORY         18762 non-null  object \n",
            " 4   TAX CLASS AT PRESENT            18761 non-null  object \n",
            " 5   BLOCK                           18761 non-null  float64\n",
            " 6   LOT                             18761 non-null  float64\n",
            " 7   EASE-MENT                       18761 non-null  object \n",
            " 8   BUILDING CLASS AT PRESENT       18761 non-null  object \n",
            " 9   ADDRESS                         18761 non-null  object \n",
            " 10  APARTMENT NUMBER                18761 non-null  object \n",
            " 11  ZIP CODE                        18761 non-null  float64\n",
            " 12  RESIDENTIAL UNITS               18761 non-null  float64\n",
            " 13  COMMERCIAL UNITS                18761 non-null  float64\n",
            " 14  TOTAL UNITS                     18761 non-null  float64\n",
            " 15  LAND SQUARE FEET                18761 non-null  object \n",
            " 16  GROSS SQUARE FEET               18761 non-null  object \n",
            " 17  YEAR BUILT                      18761 non-null  float64\n",
            " 18  TAX CLASS AT TIME OF SALE       18761 non-null  float64\n",
            " 19  BUILDING CLASS AT TIME OF SALE  18761 non-null  object \n",
            " 20  SALE PRICE                      18761 non-null  object \n",
            " 21  SALE DATE                       18761 non-null  object \n",
            "dtypes: float64(8), int64(2), object(12)\n",
            "memory usage: 3.1+ MB\n"
          ],
          "name": "stdout"
        }
      ]
    },
    {
      "cell_type": "code",
      "metadata": {
        "colab": {
          "base_uri": "https://localhost:8080/",
          "height": 318
        },
        "id": "MbLNCf_Pu822",
        "outputId": "1f948248-295f-4eab-963c-ce66ce4f8567"
      },
      "source": [
        "jualan.describe()"
      ],
      "execution_count": 7,
      "outputs": [
        {
          "output_type": "execute_result",
          "data": {
            "text/html": [
              "<div>\n",
              "<style scoped>\n",
              "    .dataframe tbody tr th:only-of-type {\n",
              "        vertical-align: middle;\n",
              "    }\n",
              "\n",
              "    .dataframe tbody tr th {\n",
              "        vertical-align: top;\n",
              "    }\n",
              "\n",
              "    .dataframe thead th {\n",
              "        text-align: right;\n",
              "    }\n",
              "</style>\n",
              "<table border=\"1\" class=\"dataframe\">\n",
              "  <thead>\n",
              "    <tr style=\"text-align: right;\">\n",
              "      <th></th>\n",
              "      <th>Unnamed: 0</th>\n",
              "      <th>BOROUGH</th>\n",
              "      <th>BLOCK</th>\n",
              "      <th>LOT</th>\n",
              "      <th>ZIP CODE</th>\n",
              "      <th>RESIDENTIAL UNITS</th>\n",
              "      <th>COMMERCIAL UNITS</th>\n",
              "      <th>TOTAL UNITS</th>\n",
              "      <th>YEAR BUILT</th>\n",
              "      <th>TAX CLASS AT TIME OF SALE</th>\n",
              "    </tr>\n",
              "  </thead>\n",
              "  <tbody>\n",
              "    <tr>\n",
              "      <th>count</th>\n",
              "      <td>18762.000000</td>\n",
              "      <td>18762.000000</td>\n",
              "      <td>18761.000000</td>\n",
              "      <td>18761.000000</td>\n",
              "      <td>18761.000000</td>\n",
              "      <td>18761.000000</td>\n",
              "      <td>18761.000000</td>\n",
              "      <td>18761.000000</td>\n",
              "      <td>18761.000000</td>\n",
              "      <td>18761.000000</td>\n",
              "    </tr>\n",
              "    <tr>\n",
              "      <th>mean</th>\n",
              "      <td>8939.582827</td>\n",
              "      <td>1.024304</td>\n",
              "      <td>1192.618037</td>\n",
              "      <td>732.696018</td>\n",
              "      <td>9926.700283</td>\n",
              "      <td>2.295880</td>\n",
              "      <td>0.293961</td>\n",
              "      <td>2.631256</td>\n",
              "      <td>1711.908267</td>\n",
              "      <td>2.106018</td>\n",
              "    </tr>\n",
              "    <tr>\n",
              "      <th>std</th>\n",
              "      <td>5397.961528</td>\n",
              "      <td>0.153997</td>\n",
              "      <td>760.615251</td>\n",
              "      <td>876.751081</td>\n",
              "      <td>1066.535475</td>\n",
              "      <td>21.969111</td>\n",
              "      <td>6.455786</td>\n",
              "      <td>23.025828</td>\n",
              "      <td>642.596054</td>\n",
              "      <td>0.570888</td>\n",
              "    </tr>\n",
              "    <tr>\n",
              "      <th>min</th>\n",
              "      <td>4.000000</td>\n",
              "      <td>1.000000</td>\n",
              "      <td>7.000000</td>\n",
              "      <td>1.000000</td>\n",
              "      <td>0.000000</td>\n",
              "      <td>0.000000</td>\n",
              "      <td>0.000000</td>\n",
              "      <td>0.000000</td>\n",
              "      <td>0.000000</td>\n",
              "      <td>1.000000</td>\n",
              "    </tr>\n",
              "    <tr>\n",
              "      <th>25%</th>\n",
              "      <td>4238.250000</td>\n",
              "      <td>1.000000</td>\n",
              "      <td>790.000000</td>\n",
              "      <td>29.000000</td>\n",
              "      <td>10013.000000</td>\n",
              "      <td>0.000000</td>\n",
              "      <td>0.000000</td>\n",
              "      <td>0.000000</td>\n",
              "      <td>1910.000000</td>\n",
              "      <td>2.000000</td>\n",
              "    </tr>\n",
              "    <tr>\n",
              "      <th>50%</th>\n",
              "      <td>8928.500000</td>\n",
              "      <td>1.000000</td>\n",
              "      <td>1179.000000</td>\n",
              "      <td>1002.000000</td>\n",
              "      <td>10022.000000</td>\n",
              "      <td>1.000000</td>\n",
              "      <td>0.000000</td>\n",
              "      <td>1.000000</td>\n",
              "      <td>1939.000000</td>\n",
              "      <td>2.000000</td>\n",
              "    </tr>\n",
              "    <tr>\n",
              "      <th>75%</th>\n",
              "      <td>13618.750000</td>\n",
              "      <td>1.000000</td>\n",
              "      <td>1491.000000</td>\n",
              "      <td>1203.000000</td>\n",
              "      <td>10029.000000</td>\n",
              "      <td>1.000000</td>\n",
              "      <td>0.000000</td>\n",
              "      <td>1.000000</td>\n",
              "      <td>1974.000000</td>\n",
              "      <td>2.000000</td>\n",
              "    </tr>\n",
              "    <tr>\n",
              "      <th>max</th>\n",
              "      <td>18309.000000</td>\n",
              "      <td>2.000000</td>\n",
              "      <td>5654.000000</td>\n",
              "      <td>9106.000000</td>\n",
              "      <td>10475.000000</td>\n",
              "      <td>1641.000000</td>\n",
              "      <td>422.000000</td>\n",
              "      <td>1653.000000</td>\n",
              "      <td>2017.000000</td>\n",
              "      <td>4.000000</td>\n",
              "    </tr>\n",
              "  </tbody>\n",
              "</table>\n",
              "</div>"
            ],
            "text/plain": [
              "         Unnamed: 0       BOROUGH  ...    YEAR BUILT  TAX CLASS AT TIME OF SALE\n",
              "count  18762.000000  18762.000000  ...  18761.000000               18761.000000\n",
              "mean    8939.582827      1.024304  ...   1711.908267                   2.106018\n",
              "std     5397.961528      0.153997  ...    642.596054                   0.570888\n",
              "min        4.000000      1.000000  ...      0.000000                   1.000000\n",
              "25%     4238.250000      1.000000  ...   1910.000000                   2.000000\n",
              "50%     8928.500000      1.000000  ...   1939.000000                   2.000000\n",
              "75%    13618.750000      1.000000  ...   1974.000000                   2.000000\n",
              "max    18309.000000      2.000000  ...   2017.000000                   4.000000\n",
              "\n",
              "[8 rows x 10 columns]"
            ]
          },
          "metadata": {
            "tags": []
          },
          "execution_count": 7
        }
      ]
    },
    {
      "cell_type": "code",
      "metadata": {
        "colab": {
          "base_uri": "https://localhost:8080/"
        },
        "id": "wO1qYgOQvKHF",
        "outputId": "3cd7d0f3-d90a-4588-c2f5-42a1546ec6ab"
      },
      "source": [
        "jualan.dtypes"
      ],
      "execution_count": 8,
      "outputs": [
        {
          "output_type": "execute_result",
          "data": {
            "text/plain": [
              "Unnamed: 0                          int64\n",
              "BOROUGH                             int64\n",
              "NEIGHBORHOOD                       object\n",
              "BUILDING CLASS CATEGORY            object\n",
              "TAX CLASS AT PRESENT               object\n",
              "BLOCK                             float64\n",
              "LOT                               float64\n",
              "EASE-MENT                          object\n",
              "BUILDING CLASS AT PRESENT          object\n",
              "ADDRESS                            object\n",
              "APARTMENT NUMBER                   object\n",
              "ZIP CODE                          float64\n",
              "RESIDENTIAL UNITS                 float64\n",
              "COMMERCIAL UNITS                  float64\n",
              "TOTAL UNITS                       float64\n",
              "LAND SQUARE FEET                   object\n",
              "GROSS SQUARE FEET                  object\n",
              "YEAR BUILT                        float64\n",
              "TAX CLASS AT TIME OF SALE         float64\n",
              "BUILDING CLASS AT TIME OF SALE     object\n",
              "SALE PRICE                         object\n",
              "SALE DATE                          object\n",
              "dtype: object"
            ]
          },
          "metadata": {
            "tags": []
          },
          "execution_count": 8
        }
      ]
    },
    {
      "cell_type": "markdown",
      "metadata": {
        "id": "DdOcTBdfSD9F"
      },
      "source": [
        "I DROP SOME USELESS DATA HERE"
      ]
    },
    {
      "cell_type": "code",
      "metadata": {
        "id": "ku4Q7sRvQVbR"
      },
      "source": [
        "jualan.drop([\"Unnamed: 0\",\"EASE-MENT\", \"ADDRESS\", \"APARTMENT NUMBER\"],axis = 1, inplace = True)"
      ],
      "execution_count": 211,
      "outputs": []
    },
    {
      "cell_type": "code",
      "metadata": {
        "colab": {
          "base_uri": "https://localhost:8080/"
        },
        "id": "rSGDRcGzRDgc",
        "outputId": "1e22cee9-7c2a-4bd7-fa12-fc012eb52e34"
      },
      "source": [
        "jualan.info()"
      ],
      "execution_count": 212,
      "outputs": [
        {
          "output_type": "stream",
          "text": [
            "<class 'pandas.core.frame.DataFrame'>\n",
            "RangeIndex: 18762 entries, 0 to 18761\n",
            "Data columns (total 18 columns):\n",
            " #   Column                          Non-Null Count  Dtype  \n",
            "---  ------                          --------------  -----  \n",
            " 0   BOROUGH                         18762 non-null  int64  \n",
            " 1   NEIGHBORHOOD                    18762 non-null  object \n",
            " 2   BUILDING CLASS CATEGORY         18762 non-null  object \n",
            " 3   TAX CLASS AT PRESENT            18761 non-null  object \n",
            " 4   BLOCK                           18761 non-null  float64\n",
            " 5   LOT                             18761 non-null  float64\n",
            " 6   BUILDING CLASS AT PRESENT       18761 non-null  object \n",
            " 7   ZIP CODE                        18761 non-null  float64\n",
            " 8   RESIDENTIAL UNITS               18761 non-null  float64\n",
            " 9   COMMERCIAL UNITS                18761 non-null  float64\n",
            " 10  TOTAL UNITS                     18761 non-null  float64\n",
            " 11  LAND SQUARE FEET                18761 non-null  object \n",
            " 12  GROSS SQUARE FEET               18761 non-null  object \n",
            " 13  YEAR BUILT                      18761 non-null  float64\n",
            " 14  TAX CLASS AT TIME OF SALE       18761 non-null  float64\n",
            " 15  BUILDING CLASS AT TIME OF SALE  18761 non-null  object \n",
            " 16  SALE PRICE                      18761 non-null  object \n",
            " 17  SALE DATE                       18761 non-null  object \n",
            "dtypes: float64(8), int64(1), object(9)\n",
            "memory usage: 2.6+ MB\n"
          ],
          "name": "stdout"
        }
      ]
    },
    {
      "cell_type": "code",
      "metadata": {
        "colab": {
          "base_uri": "https://localhost:8080/",
          "height": 1000
        },
        "id": "SFlK9vWdRI0X",
        "outputId": "d78ba476-3f1f-4153-d8ca-c546f03d2b78"
      },
      "source": [
        "jualan.head(20)"
      ],
      "execution_count": 214,
      "outputs": [
        {
          "output_type": "execute_result",
          "data": {
            "text/html": [
              "<div>\n",
              "<style scoped>\n",
              "    .dataframe tbody tr th:only-of-type {\n",
              "        vertical-align: middle;\n",
              "    }\n",
              "\n",
              "    .dataframe tbody tr th {\n",
              "        vertical-align: top;\n",
              "    }\n",
              "\n",
              "    .dataframe thead th {\n",
              "        text-align: right;\n",
              "    }\n",
              "</style>\n",
              "<table border=\"1\" class=\"dataframe\">\n",
              "  <thead>\n",
              "    <tr style=\"text-align: right;\">\n",
              "      <th></th>\n",
              "      <th>BOROUGH</th>\n",
              "      <th>NEIGHBORHOOD</th>\n",
              "      <th>BUILDING CLASS CATEGORY</th>\n",
              "      <th>TAX CLASS AT PRESENT</th>\n",
              "      <th>BLOCK</th>\n",
              "      <th>LOT</th>\n",
              "      <th>BUILDING CLASS AT PRESENT</th>\n",
              "      <th>ZIP CODE</th>\n",
              "      <th>RESIDENTIAL UNITS</th>\n",
              "      <th>COMMERCIAL UNITS</th>\n",
              "      <th>TOTAL UNITS</th>\n",
              "      <th>LAND SQUARE FEET</th>\n",
              "      <th>GROSS SQUARE FEET</th>\n",
              "      <th>YEAR BUILT</th>\n",
              "      <th>TAX CLASS AT TIME OF SALE</th>\n",
              "      <th>BUILDING CLASS AT TIME OF SALE</th>\n",
              "      <th>SALE PRICE</th>\n",
              "      <th>SALE DATE</th>\n",
              "    </tr>\n",
              "  </thead>\n",
              "  <tbody>\n",
              "    <tr>\n",
              "      <th>0</th>\n",
              "      <td>1</td>\n",
              "      <td>ALPHABET CITY</td>\n",
              "      <td>07 RENTALS - WALKUP APARTMENTS</td>\n",
              "      <td>2A</td>\n",
              "      <td>392.0</td>\n",
              "      <td>6.0</td>\n",
              "      <td>C2</td>\n",
              "      <td>10009.0</td>\n",
              "      <td>5.0</td>\n",
              "      <td>0.0</td>\n",
              "      <td>5.0</td>\n",
              "      <td>1633</td>\n",
              "      <td>6440</td>\n",
              "      <td>1900.0</td>\n",
              "      <td>2.0</td>\n",
              "      <td>C2</td>\n",
              "      <td>6625000</td>\n",
              "      <td>2017-07-19 00:00:00</td>\n",
              "    </tr>\n",
              "    <tr>\n",
              "      <th>1</th>\n",
              "      <td>1</td>\n",
              "      <td>ALPHABET CITY</td>\n",
              "      <td>07 RENTALS - WALKUP APARTMENTS</td>\n",
              "      <td>2</td>\n",
              "      <td>399.0</td>\n",
              "      <td>26.0</td>\n",
              "      <td>C7</td>\n",
              "      <td>10009.0</td>\n",
              "      <td>28.0</td>\n",
              "      <td>3.0</td>\n",
              "      <td>31.0</td>\n",
              "      <td>4616</td>\n",
              "      <td>18690</td>\n",
              "      <td>1900.0</td>\n",
              "      <td>2.0</td>\n",
              "      <td>C7</td>\n",
              "      <td>-</td>\n",
              "      <td>2016-12-14 00:00:00</td>\n",
              "    </tr>\n",
              "    <tr>\n",
              "      <th>2</th>\n",
              "      <td>1</td>\n",
              "      <td>ALPHABET CITY</td>\n",
              "      <td>07 RENTALS - WALKUP APARTMENTS</td>\n",
              "      <td>2</td>\n",
              "      <td>399.0</td>\n",
              "      <td>39.0</td>\n",
              "      <td>C7</td>\n",
              "      <td>10009.0</td>\n",
              "      <td>16.0</td>\n",
              "      <td>1.0</td>\n",
              "      <td>17.0</td>\n",
              "      <td>2212</td>\n",
              "      <td>7803</td>\n",
              "      <td>1900.0</td>\n",
              "      <td>2.0</td>\n",
              "      <td>C7</td>\n",
              "      <td>-</td>\n",
              "      <td>2016-12-09 00:00:00</td>\n",
              "    </tr>\n",
              "    <tr>\n",
              "      <th>3</th>\n",
              "      <td>1</td>\n",
              "      <td>ALPHABET CITY</td>\n",
              "      <td>07 RENTALS - WALKUP APARTMENTS</td>\n",
              "      <td>2B</td>\n",
              "      <td>402.0</td>\n",
              "      <td>21.0</td>\n",
              "      <td>C4</td>\n",
              "      <td>10009.0</td>\n",
              "      <td>10.0</td>\n",
              "      <td>0.0</td>\n",
              "      <td>10.0</td>\n",
              "      <td>2272</td>\n",
              "      <td>6794</td>\n",
              "      <td>1913.0</td>\n",
              "      <td>2.0</td>\n",
              "      <td>C4</td>\n",
              "      <td>3936272</td>\n",
              "      <td>2016-09-23 00:00:00</td>\n",
              "    </tr>\n",
              "    <tr>\n",
              "      <th>4</th>\n",
              "      <td>1</td>\n",
              "      <td>ALPHABET CITY</td>\n",
              "      <td>07 RENTALS - WALKUP APARTMENTS</td>\n",
              "      <td>2A</td>\n",
              "      <td>404.0</td>\n",
              "      <td>55.0</td>\n",
              "      <td>C2</td>\n",
              "      <td>10009.0</td>\n",
              "      <td>6.0</td>\n",
              "      <td>0.0</td>\n",
              "      <td>6.0</td>\n",
              "      <td>2369</td>\n",
              "      <td>4615</td>\n",
              "      <td>1900.0</td>\n",
              "      <td>2.0</td>\n",
              "      <td>C2</td>\n",
              "      <td>8000000</td>\n",
              "      <td>2016-11-17 00:00:00</td>\n",
              "    </tr>\n",
              "    <tr>\n",
              "      <th>5</th>\n",
              "      <td>1</td>\n",
              "      <td>ALPHABET CITY</td>\n",
              "      <td>07 RENTALS - WALKUP APARTMENTS</td>\n",
              "      <td>2</td>\n",
              "      <td>405.0</td>\n",
              "      <td>16.0</td>\n",
              "      <td>C4</td>\n",
              "      <td>10009.0</td>\n",
              "      <td>20.0</td>\n",
              "      <td>0.0</td>\n",
              "      <td>20.0</td>\n",
              "      <td>2581</td>\n",
              "      <td>9730</td>\n",
              "      <td>1900.0</td>\n",
              "      <td>2.0</td>\n",
              "      <td>C4</td>\n",
              "      <td>-</td>\n",
              "      <td>2017-07-20 00:00:00</td>\n",
              "    </tr>\n",
              "    <tr>\n",
              "      <th>6</th>\n",
              "      <td>1</td>\n",
              "      <td>ALPHABET CITY</td>\n",
              "      <td>07 RENTALS - WALKUP APARTMENTS</td>\n",
              "      <td>2B</td>\n",
              "      <td>406.0</td>\n",
              "      <td>32.0</td>\n",
              "      <td>C4</td>\n",
              "      <td>10009.0</td>\n",
              "      <td>8.0</td>\n",
              "      <td>0.0</td>\n",
              "      <td>8.0</td>\n",
              "      <td>1750</td>\n",
              "      <td>4226</td>\n",
              "      <td>1920.0</td>\n",
              "      <td>2.0</td>\n",
              "      <td>C4</td>\n",
              "      <td>3192840</td>\n",
              "      <td>2016-09-23 00:00:00</td>\n",
              "    </tr>\n",
              "    <tr>\n",
              "      <th>7</th>\n",
              "      <td>1</td>\n",
              "      <td>ALPHABET CITY</td>\n",
              "      <td>07 RENTALS - WALKUP APARTMENTS</td>\n",
              "      <td>2</td>\n",
              "      <td>407.0</td>\n",
              "      <td>18.0</td>\n",
              "      <td>C7</td>\n",
              "      <td>10009.0</td>\n",
              "      <td>44.0</td>\n",
              "      <td>2.0</td>\n",
              "      <td>46.0</td>\n",
              "      <td>5163</td>\n",
              "      <td>21007</td>\n",
              "      <td>1900.0</td>\n",
              "      <td>2.0</td>\n",
              "      <td>C7</td>\n",
              "      <td>-</td>\n",
              "      <td>2017-07-20 00:00:00</td>\n",
              "    </tr>\n",
              "    <tr>\n",
              "      <th>8</th>\n",
              "      <td>1</td>\n",
              "      <td>ALPHABET CITY</td>\n",
              "      <td>08 RENTALS - ELEVATOR APARTMENTS</td>\n",
              "      <td>2</td>\n",
              "      <td>379.0</td>\n",
              "      <td>34.0</td>\n",
              "      <td>D5</td>\n",
              "      <td>10009.0</td>\n",
              "      <td>15.0</td>\n",
              "      <td>0.0</td>\n",
              "      <td>15.0</td>\n",
              "      <td>1534</td>\n",
              "      <td>9198</td>\n",
              "      <td>1920.0</td>\n",
              "      <td>2.0</td>\n",
              "      <td>D5</td>\n",
              "      <td>-</td>\n",
              "      <td>2017-06-20 00:00:00</td>\n",
              "    </tr>\n",
              "    <tr>\n",
              "      <th>9</th>\n",
              "      <td>1</td>\n",
              "      <td>ALPHABET CITY</td>\n",
              "      <td>08 RENTALS - ELEVATOR APARTMENTS</td>\n",
              "      <td>2</td>\n",
              "      <td>387.0</td>\n",
              "      <td>153.0</td>\n",
              "      <td>D9</td>\n",
              "      <td>10009.0</td>\n",
              "      <td>24.0</td>\n",
              "      <td>0.0</td>\n",
              "      <td>24.0</td>\n",
              "      <td>4489</td>\n",
              "      <td>18523</td>\n",
              "      <td>1920.0</td>\n",
              "      <td>2.0</td>\n",
              "      <td>D9</td>\n",
              "      <td>16232000</td>\n",
              "      <td>2016-11-07 00:00:00</td>\n",
              "    </tr>\n",
              "    <tr>\n",
              "      <th>10</th>\n",
              "      <td>1</td>\n",
              "      <td>ALPHABET CITY</td>\n",
              "      <td>08 RENTALS - ELEVATOR APARTMENTS</td>\n",
              "      <td>2</td>\n",
              "      <td>394.0</td>\n",
              "      <td>44.0</td>\n",
              "      <td>D7</td>\n",
              "      <td>10009.0</td>\n",
              "      <td>30.0</td>\n",
              "      <td>4.0</td>\n",
              "      <td>34.0</td>\n",
              "      <td>4295</td>\n",
              "      <td>21328</td>\n",
              "      <td>1910.0</td>\n",
              "      <td>2.0</td>\n",
              "      <td>D7</td>\n",
              "      <td>-</td>\n",
              "      <td>2017-07-20 00:00:00</td>\n",
              "    </tr>\n",
              "    <tr>\n",
              "      <th>11</th>\n",
              "      <td>1</td>\n",
              "      <td>ALPHABET CITY</td>\n",
              "      <td>08 RENTALS - ELEVATOR APARTMENTS</td>\n",
              "      <td>2B</td>\n",
              "      <td>400.0</td>\n",
              "      <td>21.0</td>\n",
              "      <td>D1</td>\n",
              "      <td>10009.0</td>\n",
              "      <td>10.0</td>\n",
              "      <td>0.0</td>\n",
              "      <td>10.0</td>\n",
              "      <td>3717</td>\n",
              "      <td>12350</td>\n",
              "      <td>2009.0</td>\n",
              "      <td>2.0</td>\n",
              "      <td>D1</td>\n",
              "      <td>10350000</td>\n",
              "      <td>2016-10-17 00:00:00</td>\n",
              "    </tr>\n",
              "    <tr>\n",
              "      <th>12</th>\n",
              "      <td>1</td>\n",
              "      <td>ALPHABET CITY</td>\n",
              "      <td>09 COOPS - WALKUP APARTMENTS</td>\n",
              "      <td>2</td>\n",
              "      <td>373.0</td>\n",
              "      <td>40.0</td>\n",
              "      <td>C6</td>\n",
              "      <td>10009.0</td>\n",
              "      <td>0.0</td>\n",
              "      <td>0.0</td>\n",
              "      <td>0.0</td>\n",
              "      <td>-</td>\n",
              "      <td>-</td>\n",
              "      <td>1920.0</td>\n",
              "      <td>2.0</td>\n",
              "      <td>C6</td>\n",
              "      <td>1</td>\n",
              "      <td>2016-09-06 00:00:00</td>\n",
              "    </tr>\n",
              "    <tr>\n",
              "      <th>13</th>\n",
              "      <td>1</td>\n",
              "      <td>ALPHABET CITY</td>\n",
              "      <td>09 COOPS - WALKUP APARTMENTS</td>\n",
              "      <td>2</td>\n",
              "      <td>373.0</td>\n",
              "      <td>40.0</td>\n",
              "      <td>C6</td>\n",
              "      <td>10009.0</td>\n",
              "      <td>0.0</td>\n",
              "      <td>0.0</td>\n",
              "      <td>0.0</td>\n",
              "      <td>-</td>\n",
              "      <td>-</td>\n",
              "      <td>1920.0</td>\n",
              "      <td>2.0</td>\n",
              "      <td>C6</td>\n",
              "      <td>499000</td>\n",
              "      <td>2017-03-10 00:00:00</td>\n",
              "    </tr>\n",
              "    <tr>\n",
              "      <th>14</th>\n",
              "      <td>1</td>\n",
              "      <td>ALPHABET CITY</td>\n",
              "      <td>09 COOPS - WALKUP APARTMENTS</td>\n",
              "      <td>2</td>\n",
              "      <td>373.0</td>\n",
              "      <td>40.0</td>\n",
              "      <td>C6</td>\n",
              "      <td>10009.0</td>\n",
              "      <td>0.0</td>\n",
              "      <td>0.0</td>\n",
              "      <td>0.0</td>\n",
              "      <td>-</td>\n",
              "      <td>-</td>\n",
              "      <td>1920.0</td>\n",
              "      <td>2.0</td>\n",
              "      <td>C6</td>\n",
              "      <td>10</td>\n",
              "      <td>2017-04-28 00:00:00</td>\n",
              "    </tr>\n",
              "    <tr>\n",
              "      <th>15</th>\n",
              "      <td>1</td>\n",
              "      <td>ALPHABET CITY</td>\n",
              "      <td>09 COOPS - WALKUP APARTMENTS</td>\n",
              "      <td>2</td>\n",
              "      <td>373.0</td>\n",
              "      <td>40.0</td>\n",
              "      <td>C6</td>\n",
              "      <td>10009.0</td>\n",
              "      <td>0.0</td>\n",
              "      <td>0.0</td>\n",
              "      <td>0.0</td>\n",
              "      <td>-</td>\n",
              "      <td>-</td>\n",
              "      <td>1920.0</td>\n",
              "      <td>2.0</td>\n",
              "      <td>C6</td>\n",
              "      <td>529500</td>\n",
              "      <td>2017-06-09 00:00:00</td>\n",
              "    </tr>\n",
              "    <tr>\n",
              "      <th>16</th>\n",
              "      <td>1</td>\n",
              "      <td>ALPHABET CITY</td>\n",
              "      <td>09 COOPS - WALKUP APARTMENTS</td>\n",
              "      <td>2</td>\n",
              "      <td>373.0</td>\n",
              "      <td>40.0</td>\n",
              "      <td>C6</td>\n",
              "      <td>10009.0</td>\n",
              "      <td>0.0</td>\n",
              "      <td>0.0</td>\n",
              "      <td>0.0</td>\n",
              "      <td>-</td>\n",
              "      <td>-</td>\n",
              "      <td>1920.0</td>\n",
              "      <td>2.0</td>\n",
              "      <td>C6</td>\n",
              "      <td>423000</td>\n",
              "      <td>2017-07-14 00:00:00</td>\n",
              "    </tr>\n",
              "    <tr>\n",
              "      <th>17</th>\n",
              "      <td>1</td>\n",
              "      <td>ALPHABET CITY</td>\n",
              "      <td>09 COOPS - WALKUP APARTMENTS</td>\n",
              "      <td>2</td>\n",
              "      <td>373.0</td>\n",
              "      <td>46.0</td>\n",
              "      <td>C6</td>\n",
              "      <td>10009.0</td>\n",
              "      <td>0.0</td>\n",
              "      <td>0.0</td>\n",
              "      <td>0.0</td>\n",
              "      <td>-</td>\n",
              "      <td>-</td>\n",
              "      <td>1925.0</td>\n",
              "      <td>2.0</td>\n",
              "      <td>C6</td>\n",
              "      <td>501000</td>\n",
              "      <td>2017-03-16 00:00:00</td>\n",
              "    </tr>\n",
              "    <tr>\n",
              "      <th>18</th>\n",
              "      <td>1</td>\n",
              "      <td>ALPHABET CITY</td>\n",
              "      <td>09 COOPS - WALKUP APARTMENTS</td>\n",
              "      <td>2</td>\n",
              "      <td>373.0</td>\n",
              "      <td>49.0</td>\n",
              "      <td>C6</td>\n",
              "      <td>10009.0</td>\n",
              "      <td>0.0</td>\n",
              "      <td>0.0</td>\n",
              "      <td>0.0</td>\n",
              "      <td>-</td>\n",
              "      <td>-</td>\n",
              "      <td>1920.0</td>\n",
              "      <td>2.0</td>\n",
              "      <td>C6</td>\n",
              "      <td>450000</td>\n",
              "      <td>2016-09-01 00:00:00</td>\n",
              "    </tr>\n",
              "    <tr>\n",
              "      <th>19</th>\n",
              "      <td>1</td>\n",
              "      <td>ALPHABET CITY</td>\n",
              "      <td>09 COOPS - WALKUP APARTMENTS</td>\n",
              "      <td>2</td>\n",
              "      <td>373.0</td>\n",
              "      <td>49.0</td>\n",
              "      <td>C6</td>\n",
              "      <td>10009.0</td>\n",
              "      <td>0.0</td>\n",
              "      <td>0.0</td>\n",
              "      <td>0.0</td>\n",
              "      <td>-</td>\n",
              "      <td>-</td>\n",
              "      <td>1920.0</td>\n",
              "      <td>2.0</td>\n",
              "      <td>C6</td>\n",
              "      <td>510000</td>\n",
              "      <td>2017-08-17 00:00:00</td>\n",
              "    </tr>\n",
              "  </tbody>\n",
              "</table>\n",
              "</div>"
            ],
            "text/plain": [
              "    BOROUGH   NEIGHBORHOOD  ... SALE PRICE            SALE DATE\n",
              "0         1  ALPHABET CITY  ...    6625000  2017-07-19 00:00:00\n",
              "1         1  ALPHABET CITY  ...        -    2016-12-14 00:00:00\n",
              "2         1  ALPHABET CITY  ...        -    2016-12-09 00:00:00\n",
              "3         1  ALPHABET CITY  ...    3936272  2016-09-23 00:00:00\n",
              "4         1  ALPHABET CITY  ...    8000000  2016-11-17 00:00:00\n",
              "5         1  ALPHABET CITY  ...        -    2017-07-20 00:00:00\n",
              "6         1  ALPHABET CITY  ...    3192840  2016-09-23 00:00:00\n",
              "7         1  ALPHABET CITY  ...        -    2017-07-20 00:00:00\n",
              "8         1  ALPHABET CITY  ...        -    2017-06-20 00:00:00\n",
              "9         1  ALPHABET CITY  ...   16232000  2016-11-07 00:00:00\n",
              "10        1  ALPHABET CITY  ...        -    2017-07-20 00:00:00\n",
              "11        1  ALPHABET CITY  ...   10350000  2016-10-17 00:00:00\n",
              "12        1  ALPHABET CITY  ...          1  2016-09-06 00:00:00\n",
              "13        1  ALPHABET CITY  ...     499000  2017-03-10 00:00:00\n",
              "14        1  ALPHABET CITY  ...         10  2017-04-28 00:00:00\n",
              "15        1  ALPHABET CITY  ...     529500  2017-06-09 00:00:00\n",
              "16        1  ALPHABET CITY  ...     423000  2017-07-14 00:00:00\n",
              "17        1  ALPHABET CITY  ...     501000  2017-03-16 00:00:00\n",
              "18        1  ALPHABET CITY  ...     450000  2016-09-01 00:00:00\n",
              "19        1  ALPHABET CITY  ...     510000  2017-08-17 00:00:00\n",
              "\n",
              "[20 rows x 18 columns]"
            ]
          },
          "metadata": {
            "tags": []
          },
          "execution_count": 214
        }
      ]
    },
    {
      "cell_type": "markdown",
      "metadata": {
        "id": "ceyUrUHzvWKH"
      },
      "source": [
        "Data Preprocessing"
      ]
    },
    {
      "cell_type": "code",
      "metadata": {
        "colab": {
          "base_uri": "https://localhost:8080/"
        },
        "id": "5yjDdyG2vNpq",
        "outputId": "d18f54e1-21e7-4ed7-bba8-599f5f0f4534"
      },
      "source": [
        "jualan.drop_duplicates\n",
        "jualan.shape"
      ],
      "execution_count": 215,
      "outputs": [
        {
          "output_type": "execute_result",
          "data": {
            "text/plain": [
              "(18762, 18)"
            ]
          },
          "metadata": {
            "tags": []
          },
          "execution_count": 215
        }
      ]
    },
    {
      "cell_type": "code",
      "metadata": {
        "colab": {
          "base_uri": "https://localhost:8080/",
          "height": 354
        },
        "id": "c9EaXlZNvtDH",
        "outputId": "0ef817c9-5c48-4e16-83f5-66f52b12fd66"
      },
      "source": [
        "sns.countplot(jualan['TAX CLASS AT TIME OF SALE'])"
      ],
      "execution_count": 216,
      "outputs": [
        {
          "output_type": "stream",
          "text": [
            "/usr/local/lib/python3.7/dist-packages/seaborn/_decorators.py:43: FutureWarning: Pass the following variable as a keyword arg: x. From version 0.12, the only valid positional argument will be `data`, and passing other arguments without an explicit keyword will result in an error or misinterpretation.\n",
            "  FutureWarning\n"
          ],
          "name": "stderr"
        },
        {
          "output_type": "execute_result",
          "data": {
            "text/plain": [
              "<matplotlib.axes._subplots.AxesSubplot at 0x7f505037ef90>"
            ]
          },
          "metadata": {
            "tags": []
          },
          "execution_count": 216
        },
        {
          "output_type": "display_data",
          "data": {
            "image/png": "[encoded data removed]",
            "text/plain": [
              "<Figure size 432x288 with 1 Axes>"
            ]
          },
          "metadata": {
            "tags": [],
            "needs_background": "light"
          }
        }
      ]
    },
    {
      "cell_type": "markdown",
      "metadata": {
        "id": "Ekab0pezwPQ-"
      },
      "source": [
        "OUTLIERS DETECTION"
      ]
    },
    {
      "cell_type": "code",
      "metadata": {
        "id": "NUi-pJeRwRpj"
      },
      "source": [
        "def outlier(sample):\n",
        "  Q1=sample.quantile(0.25)\n",
        "  Q3=sample.quantile(0.75)\n",
        "\n",
        "  IQR=Q3-Q1\n",
        "  lower_range = Q1 - (1.5 * IQR)\n",
        "  upper_range = Q3 + (1.5 * IQR)\n",
        "  number_outlier=len(sample[sample>upper_range])+len(sample[sample<lower_range])\n",
        "  print(\"Number Of Outlier {}\".format(number_outlier))\n",
        "\n",
        "  if number_outlier>0:\n",
        "    print(\"Outlier observation row: \")\n",
        "  else:\n",
        "    pass\n",
        "  for i in range(len(sample)):\n",
        "    if sample[i]<lower_range:\n",
        "      print[i]\n",
        "    elif sample[i]>upper_range:\n",
        "      print(i)\n",
        "    else:\n",
        "      pass"
      ],
      "execution_count": 217,
      "outputs": []
    },
    {
      "cell_type": "code",
      "metadata": {
        "id": "mMWC5i89xRA9"
      },
      "source": [
        "outlier(jualan['TOTAL UNITS']) #There are 1361 Outliers Here"
      ],
      "execution_count": null,
      "outputs": []
    },
    {
      "cell_type": "code",
      "metadata": {
        "colab": {
          "base_uri": "https://localhost:8080/"
        },
        "id": "LvM9L-ggx8wA",
        "outputId": "5f3c2b8b-12ef-4471-c6cd-ee8dc6deea58"
      },
      "source": [
        "jualan.loc[[18737,18738],\"TOTAL UNITS\"] #I Only check the outliers at those rows. Because it is way too many outliers here"
      ],
      "execution_count": 220,
      "outputs": [
        {
          "output_type": "execute_result",
          "data": {
            "text/plain": [
              "18737    3.0\n",
              "18738    3.0\n",
              "Name: TOTAL UNITS, dtype: float64"
            ]
          },
          "metadata": {
            "tags": []
          },
          "execution_count": 220
        }
      ]
    },
    {
      "cell_type": "code",
      "metadata": {
        "id": "JrfctjhqxHoJ"
      },
      "source": [
        "outlier(jualan['RESIDENTIAL UNITS']) #There are 1162 Outliers Here"
      ],
      "execution_count": null,
      "outputs": []
    },
    {
      "cell_type": "code",
      "metadata": {
        "colab": {
          "base_uri": "https://localhost:8080/"
        },
        "id": "rItXDHWtzZU_",
        "outputId": "2f3b541b-5a00-4b65-dc6e-b652601c47f6"
      },
      "source": [
        "jualan.loc[[18711,18712,18713,18714],\"RESIDENTIAL UNITS\"] #Same as above, I only check several rows that contain outliers."
      ],
      "execution_count": 222,
      "outputs": [
        {
          "output_type": "execute_result",
          "data": {
            "text/plain": [
              "18711    3.0\n",
              "18712    3.0\n",
              "18713    3.0\n",
              "18714    3.0\n",
              "Name: RESIDENTIAL UNITS, dtype: float64"
            ]
          },
          "metadata": {
            "tags": []
          },
          "execution_count": 222
        }
      ]
    },
    {
      "cell_type": "code",
      "metadata": {
        "id": "Ipl34Ay7xiME"
      },
      "source": [
        "outlier(jualan['COMMERCIAL UNITS'])#There are 908 Outliers"
      ],
      "execution_count": null,
      "outputs": []
    },
    {
      "cell_type": "code",
      "metadata": {
        "colab": {
          "base_uri": "https://localhost:8080/"
        },
        "id": "ZJQRPqmqzoJr",
        "outputId": "ed54e4fc-8197-470b-bfe2-1913861f7622"
      },
      "source": [
        "jualan.loc[[1,2,7,18360,18361,18362,18363],\"COMMERCIAL UNITS\"]"
      ],
      "execution_count": 224,
      "outputs": [
        {
          "output_type": "execute_result",
          "data": {
            "text/plain": [
              "1        3.0\n",
              "2        1.0\n",
              "7        2.0\n",
              "18360    1.0\n",
              "18361    1.0\n",
              "18362    1.0\n",
              "18363    2.0\n",
              "Name: COMMERCIAL UNITS, dtype: float64"
            ]
          },
          "metadata": {
            "tags": []
          },
          "execution_count": 224
        }
      ]
    },
    {
      "cell_type": "code",
      "metadata": {
        "id": "SFwt-ID5xuqY"
      },
      "source": [
        "outlier(jualan['LOT']) #There are 374 Outliers Here"
      ],
      "execution_count": null,
      "outputs": []
    },
    {
      "cell_type": "code",
      "metadata": {
        "colab": {
          "base_uri": "https://localhost:8080/"
        },
        "id": "Y7aNr1l0z7oL",
        "outputId": "549cd25a-30b4-4b4c-e55e-45e3c9442be7"
      },
      "source": [
        "jualan.loc[[7177,7178,7179],\"LOT\"]"
      ],
      "execution_count": 226,
      "outputs": [
        {
          "output_type": "execute_result",
          "data": {
            "text/plain": [
              "7177    4027.0\n",
              "7178    4069.0\n",
              "7179    4071.0\n",
              "Name: LOT, dtype: float64"
            ]
          },
          "metadata": {
            "tags": []
          },
          "execution_count": 226
        }
      ]
    },
    {
      "cell_type": "code",
      "metadata": {
        "colab": {
          "base_uri": "https://localhost:8080/",
          "height": 354
        },
        "id": "B8Ql6WJO3RNG",
        "outputId": "8610ab63-f4ad-4a8a-9861-324ffafd9a63"
      },
      "source": [
        "sns.boxplot(jualan['TAX CLASS AT TIME OF SALE'])"
      ],
      "execution_count": 232,
      "outputs": [
        {
          "output_type": "stream",
          "text": [
            "/usr/local/lib/python3.7/dist-packages/seaborn/_decorators.py:43: FutureWarning: Pass the following variable as a keyword arg: x. From version 0.12, the only valid positional argument will be `data`, and passing other arguments without an explicit keyword will result in an error or misinterpretation.\n",
            "  FutureWarning\n"
          ],
          "name": "stderr"
        },
        {
          "output_type": "execute_result",
          "data": {
            "text/plain": [
              "<matplotlib.axes._subplots.AxesSubplot at 0x7f504f88c810>"
            ]
          },
          "metadata": {
            "tags": []
          },
          "execution_count": 232
        },
        {
          "output_type": "display_data",
          "data": {
            "image/png": "[encoded data removed]",
            "text/plain": [
              "<Figure size 432x288 with 1 Axes>"
            ]
          },
          "metadata": {
            "tags": [],
            "needs_background": "light"
          }
        }
      ]
    },
    {
      "cell_type": "code",
      "metadata": {
        "colab": {
          "base_uri": "https://localhost:8080/",
          "height": 354
        },
        "id": "AHUdRrrC0EbT",
        "outputId": "9e3ec63d-7803-44eb-fcdc-6859e65e9851"
      },
      "source": [
        "sns.boxplot(jualan['TOTAL UNITS'])"
      ],
      "execution_count": 233,
      "outputs": [
        {
          "output_type": "stream",
          "text": [
            "/usr/local/lib/python3.7/dist-packages/seaborn/_decorators.py:43: FutureWarning: Pass the following variable as a keyword arg: x. From version 0.12, the only valid positional argument will be `data`, and passing other arguments without an explicit keyword will result in an error or misinterpretation.\n",
            "  FutureWarning\n"
          ],
          "name": "stderr"
        },
        {
          "output_type": "execute_result",
          "data": {
            "text/plain": [
              "<matplotlib.axes._subplots.AxesSubplot at 0x7f504dc2f690>"
            ]
          },
          "metadata": {
            "tags": []
          },
          "execution_count": 233
        },
        {
          "output_type": "display_data",
          "data": {
            "image/png": "[encoded data removed]",
            "text/plain": [
              "<Figure size 432x288 with 1 Axes>"
            ]
          },
          "metadata": {
            "tags": [],
            "needs_background": "light"
          }
        }
      ]
    },
    {
      "cell_type": "code",
      "metadata": {
        "colab": {
          "base_uri": "https://localhost:8080/",
          "height": 354
        },
        "id": "bCpY6tlh0axP",
        "outputId": "7b3e5119-fa9b-4e64-edce-057db2344e4a"
      },
      "source": [
        "sns.boxplot(jualan['RESIDENTIAL UNITS'])"
      ],
      "execution_count": 234,
      "outputs": [
        {
          "output_type": "stream",
          "text": [
            "/usr/local/lib/python3.7/dist-packages/seaborn/_decorators.py:43: FutureWarning: Pass the following variable as a keyword arg: x. From version 0.12, the only valid positional argument will be `data`, and passing other arguments without an explicit keyword will result in an error or misinterpretation.\n",
            "  FutureWarning\n"
          ],
          "name": "stderr"
        },
        {
          "output_type": "execute_result",
          "data": {
            "text/plain": [
              "<matplotlib.axes._subplots.AxesSubplot at 0x7f504f469e10>"
            ]
          },
          "metadata": {
            "tags": []
          },
          "execution_count": 234
        },
        {
          "output_type": "display_data",
          "data": {
            "image/png": "[encoded data removed]",
            "text/plain": [
              "<Figure size 432x288 with 1 Axes>"
            ]
          },
          "metadata": {
            "tags": [],
            "needs_background": "light"
          }
        }
      ]
    },
    {
      "cell_type": "code",
      "metadata": {
        "colab": {
          "base_uri": "https://localhost:8080/",
          "height": 354
        },
        "id": "9zmDrJ992_Ld",
        "outputId": "f6efe7e1-7830-474f-e7d3-3cad245f7a93"
      },
      "source": [
        "sns.boxplot(jualan['COMMERCIAL UNITS'])"
      ],
      "execution_count": 235,
      "outputs": [
        {
          "output_type": "stream",
          "text": [
            "/usr/local/lib/python3.7/dist-packages/seaborn/_decorators.py:43: FutureWarning: Pass the following variable as a keyword arg: x. From version 0.12, the only valid positional argument will be `data`, and passing other arguments without an explicit keyword will result in an error or misinterpretation.\n",
            "  FutureWarning\n"
          ],
          "name": "stderr"
        },
        {
          "output_type": "execute_result",
          "data": {
            "text/plain": [
              "<matplotlib.axes._subplots.AxesSubplot at 0x7f504fd9b690>"
            ]
          },
          "metadata": {
            "tags": []
          },
          "execution_count": 235
        },
        {
          "output_type": "display_data",
          "data": {
            "image/png": "[encoded data removed]",
            "text/plain": [
              "<Figure size 432x288 with 1 Axes>"
            ]
          },
          "metadata": {
            "tags": [],
            "needs_background": "light"
          }
        }
      ]
    },
    {
      "cell_type": "markdown",
      "metadata": {
        "id": "z5Ih3KlcLyOU"
      },
      "source": [
        "SOME MORE DATA PREPROCESSING"
      ]
    },
    {
      "cell_type": "code",
      "metadata": {
        "colab": {
          "base_uri": "https://localhost:8080/"
        },
        "id": "FG7ZZQuxMHiC",
        "outputId": "6a598f73-6b2a-4812-e061-8d09377d2f48"
      },
      "source": [
        "jualan.dtypes"
      ],
      "execution_count": 236,
      "outputs": [
        {
          "output_type": "execute_result",
          "data": {
            "text/plain": [
              "BOROUGH                             int64\n",
              "NEIGHBORHOOD                       object\n",
              "BUILDING CLASS CATEGORY            object\n",
              "TAX CLASS AT PRESENT               object\n",
              "BLOCK                             float64\n",
              "LOT                               float64\n",
              "BUILDING CLASS AT PRESENT          object\n",
              "ZIP CODE                          float64\n",
              "RESIDENTIAL UNITS                 float64\n",
              "COMMERCIAL UNITS                  float64\n",
              "TOTAL UNITS                       float64\n",
              "LAND SQUARE FEET                   object\n",
              "GROSS SQUARE FEET                  object\n",
              "YEAR BUILT                        float64\n",
              "TAX CLASS AT TIME OF SALE         float64\n",
              "BUILDING CLASS AT TIME OF SALE     object\n",
              "SALE PRICE                         object\n",
              "SALE DATE                          object\n",
              "dtype: object"
            ]
          },
          "metadata": {
            "tags": []
          },
          "execution_count": 236
        }
      ]
    },
    {
      "cell_type": "code",
      "metadata": {
        "colab": {
          "base_uri": "https://localhost:8080/"
        },
        "id": "NLESKg_A3e0k",
        "outputId": "608e3f5b-5727-4193-b9f7-3c4b496f4136"
      },
      "source": [
        "jualan.isnull().sum()"
      ],
      "execution_count": 237,
      "outputs": [
        {
          "output_type": "execute_result",
          "data": {
            "text/plain": [
              "BOROUGH                           0\n",
              "NEIGHBORHOOD                      0\n",
              "BUILDING CLASS CATEGORY           0\n",
              "TAX CLASS AT PRESENT              1\n",
              "BLOCK                             1\n",
              "LOT                               1\n",
              "BUILDING CLASS AT PRESENT         1\n",
              "ZIP CODE                          1\n",
              "RESIDENTIAL UNITS                 1\n",
              "COMMERCIAL UNITS                  1\n",
              "TOTAL UNITS                       1\n",
              "LAND SQUARE FEET                  1\n",
              "GROSS SQUARE FEET                 1\n",
              "YEAR BUILT                        1\n",
              "TAX CLASS AT TIME OF SALE         1\n",
              "BUILDING CLASS AT TIME OF SALE    1\n",
              "SALE PRICE                        1\n",
              "SALE DATE                         1\n",
              "dtype: int64"
            ]
          },
          "metadata": {
            "tags": []
          },
          "execution_count": 237
        }
      ]
    },
    {
      "cell_type": "code",
      "metadata": {
        "colab": {
          "base_uri": "https://localhost:8080/",
          "height": 380
        },
        "id": "fF8NgMiX4o1q",
        "outputId": "6e91a87c-5d3b-4130-f741-1f5c0385c8b2"
      },
      "source": [
        "x=jualan.iloc[:,7:] #SELF NOTE: DATA TERAKHIR DI BARIS 18761. INI FUNGSINYA UNTUK MEMBACA DATA KE SEKIAN SECARA VERTIKAL. INI DILAKUKAN KETIKA ARRAY SESUAI URUTAN DAN BUKAN SLICING\n",
        "y=jualan['TOTAL UNITS']\n",
        "\n",
        "scale=StandardScaler()\n",
        "x=scale.fit_transform(x)\n",
        "x=pd.DataFrame(data=x,columns=['RESIDENTIAL UNITS'])"
      ],
      "execution_count": 244,
      "outputs": [
        {
          "output_type": "error",
          "ename": "ValueError",
          "evalue": "ignored",
          "traceback": [
            "\u001b[0;31m---------------------------------------------------------------------------\u001b[0m",
            "\u001b[0;31mValueError\u001b[0m                                Traceback (most recent call last)",
            "\u001b[0;32m<ipython-input-244-471cc03e0133>\u001b[0m in \u001b[0;36m<module>\u001b[0;34m()\u001b[0m\n\u001b[1;32m      3\u001b[0m \u001b[0;34m\u001b[0m\u001b[0m\n\u001b[1;32m      4\u001b[0m \u001b[0mscale\u001b[0m\u001b[0;34m=\u001b[0m\u001b[0mStandardScaler\u001b[0m\u001b[0;34m(\u001b[0m\u001b[0;34m)\u001b[0m\u001b[0;34m\u001b[0m\u001b[0;34m\u001b[0m\u001b[0m\n\u001b[0;32m----> 5\u001b[0;31m \u001b[0mx\u001b[0m\u001b[0;34m=\u001b[0m\u001b[0mscale\u001b[0m\u001b[0;34m.\u001b[0m\u001b[0mfit_transform\u001b[0m\u001b[0;34m(\u001b[0m\u001b[0mx\u001b[0m\u001b[0;34m)\u001b[0m\u001b[0;34m\u001b[0m\u001b[0;34m\u001b[0m\u001b[0m\n\u001b[0m\u001b[1;32m      6\u001b[0m \u001b[0mx\u001b[0m\u001b[0;34m=\u001b[0m\u001b[0mpd\u001b[0m\u001b[0;34m.\u001b[0m\u001b[0mDataFrame\u001b[0m\u001b[0;34m(\u001b[0m\u001b[0mdata\u001b[0m\u001b[0;34m=\u001b[0m\u001b[0mx\u001b[0m\u001b[0;34m,\u001b[0m\u001b[0mcolumns\u001b[0m\u001b[0;34m=\u001b[0m\u001b[0;34m[\u001b[0m\u001b[0;34m'RESIDENTIAL UNITS'\u001b[0m\u001b[0;34m]\u001b[0m\u001b[0;34m)\u001b[0m\u001b[0;34m\u001b[0m\u001b[0;34m\u001b[0m\u001b[0m\n",
            "\u001b[0;32m/usr/local/lib/python3.7/dist-packages/sklearn/base.py\u001b[0m in \u001b[0;36mfit_transform\u001b[0;34m(self, X, y, **fit_params)\u001b[0m\n\u001b[1;32m    569\u001b[0m         \u001b[0;32mif\u001b[0m \u001b[0my\u001b[0m \u001b[0;32mis\u001b[0m \u001b[0;32mNone\u001b[0m\u001b[0;34m:\u001b[0m\u001b[0;34m\u001b[0m\u001b[0;34m\u001b[0m\u001b[0m\n\u001b[1;32m    570\u001b[0m             \u001b[0;31m# fit method of arity 1 (unsupervised transformation)\u001b[0m\u001b[0;34m\u001b[0m\u001b[0;34m\u001b[0m\u001b[0;34m\u001b[0m\u001b[0m\n\u001b[0;32m--> 571\u001b[0;31m             \u001b[0;32mreturn\u001b[0m \u001b[0mself\u001b[0m\u001b[0;34m.\u001b[0m\u001b[0mfit\u001b[0m\u001b[0;34m(\u001b[0m\u001b[0mX\u001b[0m\u001b[0;34m,\u001b[0m \u001b[0;34m**\u001b[0m\u001b[0mfit_params\u001b[0m\u001b[0;34m)\u001b[0m\u001b[0;34m.\u001b[0m\u001b[0mtransform\u001b[0m\u001b[0;34m(\u001b[0m\u001b[0mX\u001b[0m\u001b[0;34m)\u001b[0m\u001b[0;34m\u001b[0m\u001b[0;34m\u001b[0m\u001b[0m\n\u001b[0m\u001b[1;32m    572\u001b[0m         \u001b[0;32melse\u001b[0m\u001b[0;34m:\u001b[0m\u001b[0;34m\u001b[0m\u001b[0;34m\u001b[0m\u001b[0m\n\u001b[1;32m    573\u001b[0m             \u001b[0;31m# fit method of arity 2 (supervised transformation)\u001b[0m\u001b[0;34m\u001b[0m\u001b[0;34m\u001b[0m\u001b[0;34m\u001b[0m\u001b[0m\n",
            "\u001b[0;32m/usr/local/lib/python3.7/dist-packages/sklearn/preprocessing/_data.py\u001b[0m in \u001b[0;36mfit\u001b[0;34m(self, X, y)\u001b[0m\n\u001b[1;32m    667\u001b[0m         \u001b[0;31m# Reset internal state before fitting\u001b[0m\u001b[0;34m\u001b[0m\u001b[0;34m\u001b[0m\u001b[0;34m\u001b[0m\u001b[0m\n\u001b[1;32m    668\u001b[0m         \u001b[0mself\u001b[0m\u001b[0;34m.\u001b[0m\u001b[0m_reset\u001b[0m\u001b[0;34m(\u001b[0m\u001b[0;34m)\u001b[0m\u001b[0;34m\u001b[0m\u001b[0;34m\u001b[0m\u001b[0m\n\u001b[0;32m--> 669\u001b[0;31m         \u001b[0;32mreturn\u001b[0m \u001b[0mself\u001b[0m\u001b[0;34m.\u001b[0m\u001b[0mpartial_fit\u001b[0m\u001b[0;34m(\u001b[0m\u001b[0mX\u001b[0m\u001b[0;34m,\u001b[0m \u001b[0my\u001b[0m\u001b[0;34m)\u001b[0m\u001b[0;34m\u001b[0m\u001b[0;34m\u001b[0m\u001b[0m\n\u001b[0m\u001b[1;32m    670\u001b[0m \u001b[0;34m\u001b[0m\u001b[0m\n\u001b[1;32m    671\u001b[0m     \u001b[0;32mdef\u001b[0m \u001b[0mpartial_fit\u001b[0m\u001b[0;34m(\u001b[0m\u001b[0mself\u001b[0m\u001b[0;34m,\u001b[0m \u001b[0mX\u001b[0m\u001b[0;34m,\u001b[0m \u001b[0my\u001b[0m\u001b[0;34m=\u001b[0m\u001b[0;32mNone\u001b[0m\u001b[0;34m)\u001b[0m\u001b[0;34m:\u001b[0m\u001b[0;34m\u001b[0m\u001b[0;34m\u001b[0m\u001b[0m\n",
            "\u001b[0;32m/usr/local/lib/python3.7/dist-packages/sklearn/preprocessing/_data.py\u001b[0m in \u001b[0;36mpartial_fit\u001b[0;34m(self, X, y)\u001b[0m\n\u001b[1;32m    698\u001b[0m         X = check_array(X, accept_sparse=('csr', 'csc'),\n\u001b[1;32m    699\u001b[0m                         \u001b[0mestimator\u001b[0m\u001b[0;34m=\u001b[0m\u001b[0mself\u001b[0m\u001b[0;34m,\u001b[0m \u001b[0mdtype\u001b[0m\u001b[0;34m=\u001b[0m\u001b[0mFLOAT_DTYPES\u001b[0m\u001b[0;34m,\u001b[0m\u001b[0;34m\u001b[0m\u001b[0;34m\u001b[0m\u001b[0m\n\u001b[0;32m--> 700\u001b[0;31m                         force_all_finite='allow-nan')\n\u001b[0m\u001b[1;32m    701\u001b[0m \u001b[0;34m\u001b[0m\u001b[0m\n\u001b[1;32m    702\u001b[0m         \u001b[0;31m# Even in the case of `with_mean=False`, we update the mean anyway\u001b[0m\u001b[0;34m\u001b[0m\u001b[0;34m\u001b[0m\u001b[0;34m\u001b[0m\u001b[0m\n",
            "\u001b[0;32m/usr/local/lib/python3.7/dist-packages/sklearn/utils/validation.py\u001b[0m in \u001b[0;36mcheck_array\u001b[0;34m(array, accept_sparse, accept_large_sparse, dtype, order, copy, force_all_finite, ensure_2d, allow_nd, ensure_min_samples, ensure_min_features, warn_on_dtype, estimator)\u001b[0m\n\u001b[1;32m    529\u001b[0m                     \u001b[0marray\u001b[0m \u001b[0;34m=\u001b[0m \u001b[0marray\u001b[0m\u001b[0;34m.\u001b[0m\u001b[0mastype\u001b[0m\u001b[0;34m(\u001b[0m\u001b[0mdtype\u001b[0m\u001b[0;34m,\u001b[0m \u001b[0mcasting\u001b[0m\u001b[0;34m=\u001b[0m\u001b[0;34m\"unsafe\"\u001b[0m\u001b[0;34m,\u001b[0m \u001b[0mcopy\u001b[0m\u001b[0;34m=\u001b[0m\u001b[0;32mFalse\u001b[0m\u001b[0;34m)\u001b[0m\u001b[0;34m\u001b[0m\u001b[0;34m\u001b[0m\u001b[0m\n\u001b[1;32m    530\u001b[0m                 \u001b[0;32melse\u001b[0m\u001b[0;34m:\u001b[0m\u001b[0;34m\u001b[0m\u001b[0;34m\u001b[0m\u001b[0m\n\u001b[0;32m--> 531\u001b[0;31m                     \u001b[0marray\u001b[0m \u001b[0;34m=\u001b[0m \u001b[0mnp\u001b[0m\u001b[0;34m.\u001b[0m\u001b[0masarray\u001b[0m\u001b[0;34m(\u001b[0m\u001b[0marray\u001b[0m\u001b[0;34m,\u001b[0m \u001b[0morder\u001b[0m\u001b[0;34m=\u001b[0m\u001b[0morder\u001b[0m\u001b[0;34m,\u001b[0m \u001b[0mdtype\u001b[0m\u001b[0;34m=\u001b[0m\u001b[0mdtype\u001b[0m\u001b[0;34m)\u001b[0m\u001b[0;34m\u001b[0m\u001b[0;34m\u001b[0m\u001b[0m\n\u001b[0m\u001b[1;32m    532\u001b[0m             \u001b[0;32mexcept\u001b[0m \u001b[0mComplexWarning\u001b[0m\u001b[0;34m:\u001b[0m\u001b[0;34m\u001b[0m\u001b[0;34m\u001b[0m\u001b[0m\n\u001b[1;32m    533\u001b[0m                 raise ValueError(\"Complex data not supported\\n\"\n",
            "\u001b[0;32m/usr/local/lib/python3.7/dist-packages/numpy/core/_asarray.py\u001b[0m in \u001b[0;36masarray\u001b[0;34m(a, dtype, order)\u001b[0m\n\u001b[1;32m     81\u001b[0m \u001b[0;34m\u001b[0m\u001b[0m\n\u001b[1;32m     82\u001b[0m     \"\"\"\n\u001b[0;32m---> 83\u001b[0;31m     \u001b[0;32mreturn\u001b[0m \u001b[0marray\u001b[0m\u001b[0;34m(\u001b[0m\u001b[0ma\u001b[0m\u001b[0;34m,\u001b[0m \u001b[0mdtype\u001b[0m\u001b[0;34m,\u001b[0m \u001b[0mcopy\u001b[0m\u001b[0;34m=\u001b[0m\u001b[0;32mFalse\u001b[0m\u001b[0;34m,\u001b[0m \u001b[0morder\u001b[0m\u001b[0;34m=\u001b[0m\u001b[0morder\u001b[0m\u001b[0;34m)\u001b[0m\u001b[0;34m\u001b[0m\u001b[0;34m\u001b[0m\u001b[0m\n\u001b[0m\u001b[1;32m     84\u001b[0m \u001b[0;34m\u001b[0m\u001b[0m\n\u001b[1;32m     85\u001b[0m \u001b[0;34m\u001b[0m\u001b[0m\n",
            "\u001b[0;32m/usr/local/lib/python3.7/dist-packages/pandas/core/generic.py\u001b[0m in \u001b[0;36m__array__\u001b[0;34m(self, dtype)\u001b[0m\n\u001b[1;32m   1779\u001b[0m \u001b[0;34m\u001b[0m\u001b[0m\n\u001b[1;32m   1780\u001b[0m     \u001b[0;32mdef\u001b[0m \u001b[0m__array__\u001b[0m\u001b[0;34m(\u001b[0m\u001b[0mself\u001b[0m\u001b[0;34m,\u001b[0m \u001b[0mdtype\u001b[0m\u001b[0;34m=\u001b[0m\u001b[0;32mNone\u001b[0m\u001b[0;34m)\u001b[0m \u001b[0;34m->\u001b[0m \u001b[0mnp\u001b[0m\u001b[0;34m.\u001b[0m\u001b[0mndarray\u001b[0m\u001b[0;34m:\u001b[0m\u001b[0;34m\u001b[0m\u001b[0;34m\u001b[0m\u001b[0m\n\u001b[0;32m-> 1781\u001b[0;31m         \u001b[0;32mreturn\u001b[0m \u001b[0mnp\u001b[0m\u001b[0;34m.\u001b[0m\u001b[0masarray\u001b[0m\u001b[0;34m(\u001b[0m\u001b[0mself\u001b[0m\u001b[0;34m.\u001b[0m\u001b[0m_values\u001b[0m\u001b[0;34m,\u001b[0m \u001b[0mdtype\u001b[0m\u001b[0;34m=\u001b[0m\u001b[0mdtype\u001b[0m\u001b[0;34m)\u001b[0m\u001b[0;34m\u001b[0m\u001b[0;34m\u001b[0m\u001b[0m\n\u001b[0m\u001b[1;32m   1782\u001b[0m \u001b[0;34m\u001b[0m\u001b[0m\n\u001b[1;32m   1783\u001b[0m     \u001b[0;32mdef\u001b[0m \u001b[0m__array_wrap__\u001b[0m\u001b[0;34m(\u001b[0m\u001b[0mself\u001b[0m\u001b[0;34m,\u001b[0m \u001b[0mresult\u001b[0m\u001b[0;34m,\u001b[0m \u001b[0mcontext\u001b[0m\u001b[0;34m=\u001b[0m\u001b[0;32mNone\u001b[0m\u001b[0;34m)\u001b[0m\u001b[0;34m:\u001b[0m\u001b[0;34m\u001b[0m\u001b[0;34m\u001b[0m\u001b[0m\n",
            "\u001b[0;32m/usr/local/lib/python3.7/dist-packages/numpy/core/_asarray.py\u001b[0m in \u001b[0;36masarray\u001b[0;34m(a, dtype, order)\u001b[0m\n\u001b[1;32m     81\u001b[0m \u001b[0;34m\u001b[0m\u001b[0m\n\u001b[1;32m     82\u001b[0m     \"\"\"\n\u001b[0;32m---> 83\u001b[0;31m     \u001b[0;32mreturn\u001b[0m \u001b[0marray\u001b[0m\u001b[0;34m(\u001b[0m\u001b[0ma\u001b[0m\u001b[0;34m,\u001b[0m \u001b[0mdtype\u001b[0m\u001b[0;34m,\u001b[0m \u001b[0mcopy\u001b[0m\u001b[0;34m=\u001b[0m\u001b[0;32mFalse\u001b[0m\u001b[0;34m,\u001b[0m \u001b[0morder\u001b[0m\u001b[0;34m=\u001b[0m\u001b[0morder\u001b[0m\u001b[0;34m)\u001b[0m\u001b[0;34m\u001b[0m\u001b[0;34m\u001b[0m\u001b[0m\n\u001b[0m\u001b[1;32m     84\u001b[0m \u001b[0;34m\u001b[0m\u001b[0m\n\u001b[1;32m     85\u001b[0m \u001b[0;34m\u001b[0m\u001b[0m\n",
            "\u001b[0;31mValueError\u001b[0m: could not convert string to float: ' -  '"
          ]
        }
      ]
    },
    {
      "cell_type": "code",
      "metadata": {
        "id": "wFqiWCrsPMdf"
      },
      "source": [
        "x_train, x_test, y_train, y_test = train_test_split(x,y, test_size=0.2, random_state=42)"
      ],
      "execution_count": 206,
      "outputs": []
    }
  ]
}