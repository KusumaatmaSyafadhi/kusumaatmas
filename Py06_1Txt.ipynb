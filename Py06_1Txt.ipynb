{
  "nbformat": 4,
  "nbformat_minor": 0,
  "metadata": {
    "colab": {
      "name": "Py06_1Txt.ipynb",
      "provenance": [],
      "include_colab_link": true
    },
    "kernelspec": {
      "display_name": "Python 3",
      "language": "python",
      "name": "python3"
    },
    "language_info": {
      "codemirror_mode": {
        "name": "ipython",
        "version": 3
      },
      "file_extension": ".py",
      "mimetype": "text/x-python",
      "name": "python",
      "nbconvert_exporter": "python",
      "pygments_lexer": "ipython3",
      "version": "3.7.6"
    }
  },
  "cells": [
    {
      "cell_type": "markdown",
      "metadata": {
        "id": "view-in-github",
        "colab_type": "text"
      },
      "source": [
        "<a href=\"https://colab.research.google.com/github/KusumaatmaSyafadhi/kusumaatmas/blob/main/Py06_1Txt.ipynb\" target=\"_parent\"><img src=\"https://colab.research.google.com/assets/colab-badge.svg\" alt=\"Open In Colab\"/></a>"
      ]
    },
    {
      "cell_type": "markdown",
      "metadata": {
        "id": "lGr-I3gy0eIj"
      },
      "source": [
        "# (1)-Basic File Input/Output\n"
      ]
    },
    {
      "cell_type": "code",
      "metadata": {
        "colab": {
          "base_uri": "https://localhost:8080/"
        },
        "id": "18DYGHG70bxd",
        "outputId": "35b8c86a-5e5e-40f1-e217-406d3d00ee04"
      },
      "source": [
        "#Read data from score.txt and print it \n",
        "fin=open('score.txt')\n",
        "for line in fin:\n",
        "  print(line.strip())\n",
        "fin.close()"
      ],
      "execution_count": null,
      "outputs": [
        {
          "output_type": "stream",
          "text": [
            "85, 77\n",
            "\n",
            "15, 34\n",
            "\n",
            "80, 66\n",
            "\n",
            "80, 89\n",
            "\n",
            "77, 74\n",
            "\n",
            "76, 90\n",
            "\n",
            "47, 55\n",
            "\n",
            "48, 66\n",
            "\n",
            "50, 78\n",
            "\n",
            "53, 56\n",
            "\n",
            "88, 77\n",
            "\n",
            "90, 69\n",
            "\n",
            "75, 88\n",
            "\n",
            "67, 55\n",
            "\n",
            "79, 56\n",
            "\n",
            "76, 88\n",
            "\n",
            "92, 98\n",
            "\n",
            "90, 67\n",
            "\n",
            "93, 82\n"
          ],
          "name": "stdout"
        }
      ]
    },
    {
      "cell_type": "code",
      "metadata": {
        "colab": {
          "base_uri": "https://localhost:8080/"
        },
        "id": "lZ8GO3FK01kw",
        "outputId": "f4a77c0c-4135-4289-9c9d-f74169e0892e"
      },
      "source": [
        "#Read data from score.txt and count the number of students \n",
        "count=0\n",
        "fin=open('score.txt')\n",
        "for line in fin:\n",
        "  count +=1\n",
        "fin.close()\n",
        "print(\"The number is\",count)"
      ],
      "execution_count": null,
      "outputs": [
        {
          "output_type": "stream",
          "text": [
            "The number is 37\n"
          ],
          "name": "stdout"
        }
      ]
    },
    {
      "cell_type": "code",
      "metadata": {
        "colab": {
          "base_uri": "https://localhost:8080/",
          "height": 246
        },
        "id": "pWOptHhIv_e0",
        "outputId": "10c3bbd6-58da-40fa-fa58-a9b200667945"
      },
      "source": [
        "#Read data from score.txt and Calculate the average score\n",
        "count=0\n",
        "fin=open('score.txt')\n",
        "for line in fin:\n",
        "  count +=1\n",
        "  columns = line.split(',')\n",
        "  math = int\n",
        "  biology = columns\n",
        "  average = (math+biology)/2\n",
        "  print(f\"{math:>2} {biology:>2} {average:>4.1f}\")\n",
        "fin.close()"
      ],
      "execution_count": null,
      "outputs": [
        {
          "output_type": "error",
          "ename": "TypeError",
          "evalue": "ignored",
          "traceback": [
            "\u001b[0;31m---------------------------------------------------------------------------\u001b[0m",
            "\u001b[0;31mTypeError\u001b[0m                                 Traceback (most recent call last)",
            "\u001b[0;32m<ipython-input-10-c5f8ff6768e1>\u001b[0m in \u001b[0;36m<module>\u001b[0;34m()\u001b[0m\n\u001b[1;32m      7\u001b[0m   \u001b[0mmath\u001b[0m \u001b[0;34m=\u001b[0m \u001b[0mint\u001b[0m\u001b[0;34m\u001b[0m\u001b[0;34m\u001b[0m\u001b[0m\n\u001b[1;32m      8\u001b[0m   \u001b[0mbiology\u001b[0m \u001b[0;34m=\u001b[0m \u001b[0mcolumns\u001b[0m\u001b[0;34m\u001b[0m\u001b[0;34m\u001b[0m\u001b[0m\n\u001b[0;32m----> 9\u001b[0;31m   \u001b[0maverage\u001b[0m \u001b[0;34m=\u001b[0m \u001b[0;34m(\u001b[0m\u001b[0mmath\u001b[0m\u001b[0;34m+\u001b[0m\u001b[0mbiology\u001b[0m\u001b[0;34m)\u001b[0m\u001b[0;34m/\u001b[0m\u001b[0;36m2\u001b[0m\u001b[0;34m\u001b[0m\u001b[0;34m\u001b[0m\u001b[0m\n\u001b[0m\u001b[1;32m     10\u001b[0m   \u001b[0mprint\u001b[0m\u001b[0;34m(\u001b[0m\u001b[0;34mf\"{math:>2} {biology:>2} {average:>4.1f}\"\u001b[0m\u001b[0;34m)\u001b[0m\u001b[0;34m\u001b[0m\u001b[0;34m\u001b[0m\u001b[0m\n\u001b[1;32m     11\u001b[0m \u001b[0mfin\u001b[0m\u001b[0;34m.\u001b[0m\u001b[0mclose\u001b[0m\u001b[0;34m(\u001b[0m\u001b[0;34m)\u001b[0m\u001b[0;34m\u001b[0m\u001b[0;34m\u001b[0m\u001b[0m\n",
            "\u001b[0;31mTypeError\u001b[0m: unsupported operand type(s) for +: 'type' and 'list'"
          ]
        }
      ]
    },
    {
      "cell_type": "code",
      "metadata": {
        "colab": {
          "base_uri": "https://localhost:8080/",
          "height": 246
        },
        "id": "C_0OInXq031l",
        "outputId": "bfec3f18-53c3-4fd9-a9e4-1049a3d1ba13"
      },
      "source": [
        "#Calculate the average number of passers in the score.txt file\n",
        "count=0\n",
        "passed = 0\n",
        "fin=open('score.txt')\n",
        "for line in fin:\n",
        "  count +=1\n",
        "  columns = line.split(',')\n",
        "  math, biology = map(int,columns)\n",
        "  average = (math+biology)/2\n",
        "  if average >= 60:\n",
        "    passed +=1\n",
        "#fin.close()\n",
        "print(f\"The number of the passed is {passed} in {count} students\")"
      ],
      "execution_count": null,
      "outputs": [
        {
          "output_type": "error",
          "ename": "ValueError",
          "evalue": "ignored",
          "traceback": [
            "\u001b[0;31m---------------------------------------------------------------------------\u001b[0m",
            "\u001b[0;31mValueError\u001b[0m                                Traceback (most recent call last)",
            "\u001b[0;32m<ipython-input-6-9ff8506f0329>\u001b[0m in \u001b[0;36m<module>\u001b[0;34m()\u001b[0m\n\u001b[1;32m      6\u001b[0m   \u001b[0mcount\u001b[0m \u001b[0;34m+=\u001b[0m\u001b[0;36m1\u001b[0m\u001b[0;34m\u001b[0m\u001b[0;34m\u001b[0m\u001b[0m\n\u001b[1;32m      7\u001b[0m   \u001b[0mcolumns\u001b[0m \u001b[0;34m=\u001b[0m \u001b[0mline\u001b[0m\u001b[0;34m.\u001b[0m\u001b[0msplit\u001b[0m\u001b[0;34m(\u001b[0m\u001b[0;34m','\u001b[0m\u001b[0;34m)\u001b[0m\u001b[0;34m\u001b[0m\u001b[0;34m\u001b[0m\u001b[0m\n\u001b[0;32m----> 8\u001b[0;31m   \u001b[0mmath\u001b[0m\u001b[0;34m,\u001b[0m \u001b[0mbiology\u001b[0m \u001b[0;34m=\u001b[0m \u001b[0mmap\u001b[0m\u001b[0;34m(\u001b[0m\u001b[0mint\u001b[0m\u001b[0;34m,\u001b[0m\u001b[0mcolumns\u001b[0m\u001b[0;34m)\u001b[0m\u001b[0;34m\u001b[0m\u001b[0;34m\u001b[0m\u001b[0m\n\u001b[0m\u001b[1;32m      9\u001b[0m   \u001b[0maverage\u001b[0m \u001b[0;34m=\u001b[0m \u001b[0;34m(\u001b[0m\u001b[0mmath\u001b[0m\u001b[0;34m+\u001b[0m\u001b[0mbiology\u001b[0m\u001b[0;34m)\u001b[0m\u001b[0;34m/\u001b[0m\u001b[0;36m2\u001b[0m\u001b[0;34m\u001b[0m\u001b[0;34m\u001b[0m\u001b[0m\n\u001b[1;32m     10\u001b[0m   \u001b[0;32mif\u001b[0m \u001b[0maverage\u001b[0m \u001b[0;34m>=\u001b[0m \u001b[0;36m60\u001b[0m\u001b[0;34m:\u001b[0m\u001b[0;34m\u001b[0m\u001b[0;34m\u001b[0m\u001b[0m\n",
            "\u001b[0;31mValueError\u001b[0m: invalid literal for int() with base 10: '\\n'"
          ]
        }
      ]
    },
    {
      "cell_type": "code",
      "metadata": {
        "colab": {
          "base_uri": "https://localhost:8080/"
        },
        "id": "NMvctSXIv_e2",
        "outputId": "bd2504f5-40df-4933-a973-0d5aa277855e"
      },
      "source": [
        "#Using with\n",
        "count=0\n",
        "passed = 0\n",
        "#fin=open('score.txt')\n",
        "with open('score.txt') as fin:\n",
        "    for line in fin:\n",
        "      count +=1\n",
        "      columns = line.split(',')\n",
        "      math, biology = map(int,columns)\n",
        "      average = (math+biology)/2\n",
        "      if average >= 60:\n",
        "        passed +=1\n",
        "#fin.close()\n",
        "print(f\"The number of the passed is {passed} in {count} students\")"
      ],
      "execution_count": 11,
      "outputs": [
        {
          "output_type": "stream",
          "text": [
            "The number of the passed is 15 in 19 students\n"
          ],
          "name": "stdout"
        }
      ]
    },
    {
      "cell_type": "markdown",
      "metadata": {
        "id": "9jRSEDWcv_e4"
      },
      "source": [
        "## Exercise: Calculate the number of students whose average score is 0-40, 41-59, 60-80, 80-100"
      ]
    },
    {
      "cell_type": "code",
      "metadata": {
        "colab": {
          "base_uri": "https://localhost:8080/",
          "height": 246
        },
        "id": "8fkSwwmkv_e5",
        "outputId": "8a955f5b-0d84-484d-d1a0-5d5e4375fdfc"
      },
      "source": [
        "stats = [0, 1 ,2 , 3]\n",
        "with open('score.txt') as fin:\n",
        "    for line in fin:\n",
        "        score = int(line)\n",
        "        #from\n",
        "        count +=1\n",
        "        columns = line.split(',')\n",
        "        math, biology = map(int,columns)\n",
        "        \n",
        "        if score <=40:\n",
        "          print(stats[0])\n",
        "        \n",
        "        passed +=1\n",
        "\n",
        "        \n",
        "        \n",
        "        \n",
        "        #to\n",
        "print(f\"0-40={stats[0]}, 41-59={stats[1]}, 60-80={stats[2]}, 80-100={stats[3]}\")    "
      ],
      "execution_count": null,
      "outputs": [
        {
          "output_type": "error",
          "ename": "ValueError",
          "evalue": "ignored",
          "traceback": [
            "\u001b[0;31m---------------------------------------------------------------------------\u001b[0m",
            "\u001b[0;31mValueError\u001b[0m                                Traceback (most recent call last)",
            "\u001b[0;32m<ipython-input-7-ab7cbcc7d813>\u001b[0m in \u001b[0;36m<module>\u001b[0;34m()\u001b[0m\n\u001b[1;32m      2\u001b[0m \u001b[0;32mwith\u001b[0m \u001b[0mopen\u001b[0m\u001b[0;34m(\u001b[0m\u001b[0;34m'score.txt'\u001b[0m\u001b[0;34m)\u001b[0m \u001b[0;32mas\u001b[0m \u001b[0mfin\u001b[0m\u001b[0;34m:\u001b[0m\u001b[0;34m\u001b[0m\u001b[0;34m\u001b[0m\u001b[0m\n\u001b[1;32m      3\u001b[0m     \u001b[0;32mfor\u001b[0m \u001b[0mline\u001b[0m \u001b[0;32min\u001b[0m \u001b[0mfin\u001b[0m\u001b[0;34m:\u001b[0m\u001b[0;34m\u001b[0m\u001b[0;34m\u001b[0m\u001b[0m\n\u001b[0;32m----> 4\u001b[0;31m         \u001b[0mscore\u001b[0m \u001b[0;34m=\u001b[0m \u001b[0mint\u001b[0m\u001b[0;34m(\u001b[0m\u001b[0mline\u001b[0m\u001b[0;34m)\u001b[0m\u001b[0;34m\u001b[0m\u001b[0;34m\u001b[0m\u001b[0m\n\u001b[0m\u001b[1;32m      5\u001b[0m         \u001b[0;31m#from\u001b[0m\u001b[0;34m\u001b[0m\u001b[0;34m\u001b[0m\u001b[0;34m\u001b[0m\u001b[0m\n\u001b[1;32m      6\u001b[0m         \u001b[0mcount\u001b[0m \u001b[0;34m+=\u001b[0m\u001b[0;36m1\u001b[0m\u001b[0;34m\u001b[0m\u001b[0;34m\u001b[0m\u001b[0m\n",
            "\u001b[0;31mValueError\u001b[0m: invalid literal for int() with base 10: '85, 77\\n'"
          ]
        }
      ]
    }
  ]
}