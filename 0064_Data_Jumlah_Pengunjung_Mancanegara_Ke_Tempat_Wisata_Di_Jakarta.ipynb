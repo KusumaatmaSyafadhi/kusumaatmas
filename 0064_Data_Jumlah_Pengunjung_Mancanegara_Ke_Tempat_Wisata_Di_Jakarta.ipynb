{
  "nbformat": 4,
  "nbformat_minor": 0,
  "metadata": {
    "colab": {
      "name": "0064_Data Jumlah Pengunjung Mancanegara Ke Tempat Wisata Di Jakarta.ipynb",
      "provenance": [],
      "collapsed_sections": [],
      "authorship_tag": "ABX9TyPpCFe8CtWNxlPf65dY3GOy",
      "include_colab_link": true
    },
    "kernelspec": {
      "name": "python3",
      "display_name": "Python 3"
    },
    "language_info": {
      "name": "python"
    }
  },
  "cells": [
    {
      "cell_type": "markdown",
      "metadata": {
        "id": "view-in-github",
        "colab_type": "text"
      },
      "source": [
        "<a href=\"https://colab.research.google.com/github/KusumaatmaSyafadhi/kusumaatmas/blob/main/0064_Data_Jumlah_Pengunjung_Mancanegara_Ke_Tempat_Wisata_Di_Jakarta.ipynb\" target=\"_parent\"><img src=\"https://colab.research.google.com/assets/colab-badge.svg\" alt=\"Open In Colab\"/></a>"
      ]
    },
    {
      "cell_type": "markdown",
      "metadata": {
        "id": "Q-Jo5bjqmOAV"
      },
      "source": [
        "**Loading Datasets**"
      ]
    },
    {
      "cell_type": "code",
      "metadata": {
        "id": "Djzghyb9k898",
        "colab": {
          "base_uri": "https://localhost:8080/"
        },
        "outputId": "2558719f-cde7-49c9-b7a0-00cfef688c4f"
      },
      "source": [
        "import numpy as np\n",
        "import pandas as pd\n",
        "import matplotlib.pyplot as plt\n",
        "import seaborn as sns\n",
        "from sklearn.preprocessing import StandardScaler  #Feature Scaling\n",
        "from sklearn.model_selection import train_test_split #Data Partition\n",
        "\n",
        "#MODELLING\n",
        "import statsmodels.api as sm\n",
        "from statsmodels.stats.outliers_influence import variance_inflation_factor\n",
        "from scipy import stats"
      ],
      "execution_count": 2,
      "outputs": [
        {
          "output_type": "stream",
          "text": [
            "/usr/local/lib/python3.7/dist-packages/statsmodels/tools/_testing.py:19: FutureWarning: pandas.util.testing is deprecated. Use the functions in the public API at pandas.testing instead.\n",
            "  import pandas.util.testing as tm\n"
          ],
          "name": "stderr"
        }
      ]
    },
    {
      "cell_type": "code",
      "metadata": {
        "id": "XmVJ0laElnW4"
      },
      "source": [
        "pengunjung=pd.read_csv(\"data-jumlah-kunjungan-wisatawan-mancanegara-ke-destinasi-wisata-di-provinsi-dki-jakarta-bulan-januari-tahun-2020.csv\")"
      ],
      "execution_count": 3,
      "outputs": []
    },
    {
      "cell_type": "markdown",
      "metadata": {
        "id": "bfTPYbIOmVHy"
      },
      "source": [
        "**Data Preprocessing**"
      ]
    },
    {
      "cell_type": "code",
      "metadata": {
        "colab": {
          "base_uri": "https://localhost:8080/"
        },
        "id": "MZsk0IunmlGN",
        "outputId": "02ff5c21-2256-4a78-ebc0-6f2f59583258"
      },
      "source": [
        "pengunjung.shape"
      ],
      "execution_count": 4,
      "outputs": [
        {
          "output_type": "execute_result",
          "data": {
            "text/plain": [
              "(20, 4)"
            ]
          },
          "metadata": {
            "tags": []
          },
          "execution_count": 4
        }
      ]
    },
    {
      "cell_type": "code",
      "metadata": {
        "colab": {
          "base_uri": "https://localhost:8080/",
          "height": 363
        },
        "id": "5OV1GiGTl2Gg",
        "outputId": "fbdc8f09-73a6-4aa4-8363-7dfe723b9f48"
      },
      "source": [
        "pengunjung.head(10)"
      ],
      "execution_count": 5,
      "outputs": [
        {
          "output_type": "execute_result",
          "data": {
            "text/html": [
              "<div>\n",
              "<style scoped>\n",
              "    .dataframe tbody tr th:only-of-type {\n",
              "        vertical-align: middle;\n",
              "    }\n",
              "\n",
              "    .dataframe tbody tr th {\n",
              "        vertical-align: top;\n",
              "    }\n",
              "\n",
              "    .dataframe thead th {\n",
              "        text-align: right;\n",
              "    }\n",
              "</style>\n",
              "<table border=\"1\" class=\"dataframe\">\n",
              "  <thead>\n",
              "    <tr style=\"text-align: right;\">\n",
              "      <th></th>\n",
              "      <th>tahun</th>\n",
              "      <th>bulan</th>\n",
              "      <th>destinasi_wisata</th>\n",
              "      <th>jumlah</th>\n",
              "    </tr>\n",
              "  </thead>\n",
              "  <tbody>\n",
              "    <tr>\n",
              "      <th>0</th>\n",
              "      <td>2020</td>\n",
              "      <td>1</td>\n",
              "      <td>Taman Impian Jaya Ancol</td>\n",
              "      <td>516</td>\n",
              "    </tr>\n",
              "    <tr>\n",
              "      <th>1</th>\n",
              "      <td>2020</td>\n",
              "      <td>1</td>\n",
              "      <td>Taman Mini Indonesia Indah</td>\n",
              "      <td>0</td>\n",
              "    </tr>\n",
              "    <tr>\n",
              "      <th>2</th>\n",
              "      <td>2020</td>\n",
              "      <td>1</td>\n",
              "      <td>Taman Margasatwa Ragunan</td>\n",
              "      <td>449</td>\n",
              "    </tr>\n",
              "    <tr>\n",
              "      <th>3</th>\n",
              "      <td>2020</td>\n",
              "      <td>1</td>\n",
              "      <td>Monumen Nasional</td>\n",
              "      <td>2070</td>\n",
              "    </tr>\n",
              "    <tr>\n",
              "      <th>4</th>\n",
              "      <td>2020</td>\n",
              "      <td>1</td>\n",
              "      <td>Museum Nasional</td>\n",
              "      <td>2877</td>\n",
              "    </tr>\n",
              "    <tr>\n",
              "      <th>5</th>\n",
              "      <td>2020</td>\n",
              "      <td>1</td>\n",
              "      <td>Museum Satria Mandala</td>\n",
              "      <td>0</td>\n",
              "    </tr>\n",
              "    <tr>\n",
              "      <th>6</th>\n",
              "      <td>2020</td>\n",
              "      <td>1</td>\n",
              "      <td>Museum Sejarah Jakarta</td>\n",
              "      <td>1831</td>\n",
              "    </tr>\n",
              "    <tr>\n",
              "      <th>7</th>\n",
              "      <td>2020</td>\n",
              "      <td>1</td>\n",
              "      <td>Museum Tekstil</td>\n",
              "      <td>312</td>\n",
              "    </tr>\n",
              "    <tr>\n",
              "      <th>8</th>\n",
              "      <td>2020</td>\n",
              "      <td>1</td>\n",
              "      <td>Museum Bahari</td>\n",
              "      <td>274</td>\n",
              "    </tr>\n",
              "    <tr>\n",
              "      <th>9</th>\n",
              "      <td>2020</td>\n",
              "      <td>1</td>\n",
              "      <td>Museum Seni Rupa dan Keramik</td>\n",
              "      <td>300</td>\n",
              "    </tr>\n",
              "  </tbody>\n",
              "</table>\n",
              "</div>"
            ],
            "text/plain": [
              "   tahun  bulan              destinasi_wisata  jumlah\n",
              "0   2020      1       Taman Impian Jaya Ancol     516\n",
              "1   2020      1    Taman Mini Indonesia Indah       0\n",
              "2   2020      1      Taman Margasatwa Ragunan     449\n",
              "3   2020      1              Monumen Nasional    2070\n",
              "4   2020      1               Museum Nasional    2877\n",
              "5   2020      1         Museum Satria Mandala       0\n",
              "6   2020      1        Museum Sejarah Jakarta    1831\n",
              "7   2020      1                Museum Tekstil     312\n",
              "8   2020      1                 Museum Bahari     274\n",
              "9   2020      1  Museum Seni Rupa dan Keramik     300"
            ]
          },
          "metadata": {
            "tags": []
          },
          "execution_count": 5
        }
      ]
    },
    {
      "cell_type": "code",
      "metadata": {
        "colab": {
          "base_uri": "https://localhost:8080/"
        },
        "id": "u7OvsyQQmAxc",
        "outputId": "280a17b9-f717-475e-b97b-5ab2353b7518"
      },
      "source": [
        "pengunjung.info()"
      ],
      "execution_count": 6,
      "outputs": [
        {
          "output_type": "stream",
          "text": [
            "<class 'pandas.core.frame.DataFrame'>\n",
            "RangeIndex: 20 entries, 0 to 19\n",
            "Data columns (total 4 columns):\n",
            " #   Column            Non-Null Count  Dtype \n",
            "---  ------            --------------  ----- \n",
            " 0   tahun             20 non-null     int64 \n",
            " 1   bulan             20 non-null     int64 \n",
            " 2   destinasi_wisata  20 non-null     object\n",
            " 3   jumlah            20 non-null     int64 \n",
            "dtypes: int64(3), object(1)\n",
            "memory usage: 768.0+ bytes\n"
          ],
          "name": "stdout"
        }
      ]
    },
    {
      "cell_type": "code",
      "metadata": {
        "colab": {
          "base_uri": "https://localhost:8080/",
          "height": 300
        },
        "id": "XAaN_3YvmGN9",
        "outputId": "9c72bae0-3150-4587-fa13-aaf4ee3b204b"
      },
      "source": [
        "pengunjung.describe()"
      ],
      "execution_count": 7,
      "outputs": [
        {
          "output_type": "execute_result",
          "data": {
            "text/html": [
              "<div>\n",
              "<style scoped>\n",
              "    .dataframe tbody tr th:only-of-type {\n",
              "        vertical-align: middle;\n",
              "    }\n",
              "\n",
              "    .dataframe tbody tr th {\n",
              "        vertical-align: top;\n",
              "    }\n",
              "\n",
              "    .dataframe thead th {\n",
              "        text-align: right;\n",
              "    }\n",
              "</style>\n",
              "<table border=\"1\" class=\"dataframe\">\n",
              "  <thead>\n",
              "    <tr style=\"text-align: right;\">\n",
              "      <th></th>\n",
              "      <th>tahun</th>\n",
              "      <th>bulan</th>\n",
              "      <th>jumlah</th>\n",
              "    </tr>\n",
              "  </thead>\n",
              "  <tbody>\n",
              "    <tr>\n",
              "      <th>count</th>\n",
              "      <td>20.0</td>\n",
              "      <td>20.0</td>\n",
              "      <td>20.000000</td>\n",
              "    </tr>\n",
              "    <tr>\n",
              "      <th>mean</th>\n",
              "      <td>2020.0</td>\n",
              "      <td>1.0</td>\n",
              "      <td>851.150000</td>\n",
              "    </tr>\n",
              "    <tr>\n",
              "      <th>std</th>\n",
              "      <td>0.0</td>\n",
              "      <td>0.0</td>\n",
              "      <td>1466.389776</td>\n",
              "    </tr>\n",
              "    <tr>\n",
              "      <th>min</th>\n",
              "      <td>2020.0</td>\n",
              "      <td>1.0</td>\n",
              "      <td>0.000000</td>\n",
              "    </tr>\n",
              "    <tr>\n",
              "      <th>25%</th>\n",
              "      <td>2020.0</td>\n",
              "      <td>1.0</td>\n",
              "      <td>0.750000</td>\n",
              "    </tr>\n",
              "    <tr>\n",
              "      <th>50%</th>\n",
              "      <td>2020.0</td>\n",
              "      <td>1.0</td>\n",
              "      <td>287.000000</td>\n",
              "    </tr>\n",
              "    <tr>\n",
              "      <th>75%</th>\n",
              "      <td>2020.0</td>\n",
              "      <td>1.0</td>\n",
              "      <td>986.750000</td>\n",
              "    </tr>\n",
              "    <tr>\n",
              "      <th>max</th>\n",
              "      <td>2020.0</td>\n",
              "      <td>1.0</td>\n",
              "      <td>6009.000000</td>\n",
              "    </tr>\n",
              "  </tbody>\n",
              "</table>\n",
              "</div>"
            ],
            "text/plain": [
              "        tahun  bulan       jumlah\n",
              "count    20.0   20.0    20.000000\n",
              "mean   2020.0    1.0   851.150000\n",
              "std       0.0    0.0  1466.389776\n",
              "min    2020.0    1.0     0.000000\n",
              "25%    2020.0    1.0     0.750000\n",
              "50%    2020.0    1.0   287.000000\n",
              "75%    2020.0    1.0   986.750000\n",
              "max    2020.0    1.0  6009.000000"
            ]
          },
          "metadata": {
            "tags": []
          },
          "execution_count": 7
        }
      ]
    },
    {
      "cell_type": "code",
      "metadata": {
        "id": "THZ_Z_FAmNHt"
      },
      "source": [
        "pengunjung=pengunjung.drop_duplicates()"
      ],
      "execution_count": 8,
      "outputs": []
    },
    {
      "cell_type": "code",
      "metadata": {
        "colab": {
          "base_uri": "https://localhost:8080/"
        },
        "id": "xDVlCiM9mjXu",
        "outputId": "72752810-5eca-4829-aa05-64d9021f8e13"
      },
      "source": [
        "pengunjung.shape"
      ],
      "execution_count": 9,
      "outputs": [
        {
          "output_type": "execute_result",
          "data": {
            "text/plain": [
              "(20, 4)"
            ]
          },
          "metadata": {
            "tags": []
          },
          "execution_count": 9
        }
      ]
    },
    {
      "cell_type": "code",
      "metadata": {
        "colab": {
          "base_uri": "https://localhost:8080/"
        },
        "id": "DbdhPhGXmx3g",
        "outputId": "a8be29d0-e18a-4f0f-f5f3-fe9252f7d389"
      },
      "source": [
        "pengunjung.dtypes"
      ],
      "execution_count": 10,
      "outputs": [
        {
          "output_type": "execute_result",
          "data": {
            "text/plain": [
              "tahun                int64\n",
              "bulan                int64\n",
              "destinasi_wisata    object\n",
              "jumlah               int64\n",
              "dtype: object"
            ]
          },
          "metadata": {
            "tags": []
          },
          "execution_count": 10
        }
      ]
    },
    {
      "cell_type": "code",
      "metadata": {
        "id": "Kdd3bidcqrBu"
      },
      "source": [
        "pengunjung['jumlah']=pengunjung['jumlah'].replace(\" \",np.nan)"
      ],
      "execution_count": 11,
      "outputs": []
    },
    {
      "cell_type": "code",
      "metadata": {
        "id": "WhAOfpR-m5jM"
      },
      "source": [
        "pengunjung['jumlah']=pengunjung['jumlah'].astype(\"float64\")"
      ],
      "execution_count": 12,
      "outputs": []
    },
    {
      "cell_type": "code",
      "metadata": {
        "colab": {
          "base_uri": "https://localhost:8080/"
        },
        "id": "IJPDl52QpGAA",
        "outputId": "1500a2ce-7597-422c-90c9-adba926ca993"
      },
      "source": [
        "pengunjung.dtypes"
      ],
      "execution_count": 13,
      "outputs": [
        {
          "output_type": "execute_result",
          "data": {
            "text/plain": [
              "tahun                 int64\n",
              "bulan                 int64\n",
              "destinasi_wisata     object\n",
              "jumlah              float64\n",
              "dtype: object"
            ]
          },
          "metadata": {
            "tags": []
          },
          "execution_count": 13
        }
      ]
    },
    {
      "cell_type": "code",
      "metadata": {
        "colab": {
          "base_uri": "https://localhost:8080/"
        },
        "id": "NHOb2u6dpLr3",
        "outputId": "0b7575cb-ea02-4fc5-a564-1846aa89942a"
      },
      "source": [
        "pengunjung.isnull().sum()"
      ],
      "execution_count": 14,
      "outputs": [
        {
          "output_type": "execute_result",
          "data": {
            "text/plain": [
              "tahun               0\n",
              "bulan               0\n",
              "destinasi_wisata    0\n",
              "jumlah              0\n",
              "dtype: int64"
            ]
          },
          "metadata": {
            "tags": []
          },
          "execution_count": 14
        }
      ]
    },
    {
      "cell_type": "code",
      "metadata": {
        "colab": {
          "base_uri": "https://localhost:8080/",
          "height": 406
        },
        "id": "DwJr0ckxpRrU",
        "outputId": "2c156326-1256-4895-ef17-758d6a969a86"
      },
      "source": [
        "plt.figure(figsize=(10,5))\n",
        "sns.displot(pengunjung[\"jumlah\"])\n",
        "plt.show"
      ],
      "execution_count": 15,
      "outputs": [
        {
          "output_type": "execute_result",
          "data": {
            "text/plain": [
              "<function matplotlib.pyplot.show>"
            ]
          },
          "metadata": {
            "tags": []
          },
          "execution_count": 15
        },
        {
          "output_type": "display_data",
          "data": {
            "text/plain": [
              "<Figure size 720x360 with 0 Axes>"
            ]
          },
          "metadata": {
            "tags": []
          }
        },
        {
          "output_type": "display_data",
          "data": {
            "image/png": "[encoded data removed]",
            "text/plain": [
              "<Figure size 360x360 with 1 Axes>"
            ]
          },
          "metadata": {
            "tags": [],
            "needs_background": "light"
          }
        }
      ]
    },
    {
      "cell_type": "code",
      "metadata": {
        "colab": {
          "base_uri": "https://localhost:8080/",
          "height": 409
        },
        "id": "1uDOZIZjp63M",
        "outputId": "97260331-c1cd-42c0-9252-a6b1bcfeead2"
      },
      "source": [
        "plt.figure(figsize=(10,5))\n",
        "sns.boxplot(pengunjung[\"jumlah\"])\n",
        "plt.show"
      ],
      "execution_count": 16,
      "outputs": [
        {
          "output_type": "stream",
          "text": [
            "/usr/local/lib/python3.7/dist-packages/seaborn/_decorators.py:43: FutureWarning: Pass the following variable as a keyword arg: x. From version 0.12, the only valid positional argument will be `data`, and passing other arguments without an explicit keyword will result in an error or misinterpretation.\n",
            "  FutureWarning\n"
          ],
          "name": "stderr"
        },
        {
          "output_type": "execute_result",
          "data": {
            "text/plain": [
              "<function matplotlib.pyplot.show>"
            ]
          },
          "metadata": {
            "tags": []
          },
          "execution_count": 16
        },
        {
          "output_type": "display_data",
          "data": {
            "image/png": "[encoded data removed]",
            "text/plain": [
              "<Figure size 720x360 with 1 Axes>"
            ]
          },
          "metadata": {
            "tags": [],
            "needs_background": "light"
          }
        }
      ]
    },
    {
      "cell_type": "code",
      "metadata": {
        "id": "3j_511cFp-p1"
      },
      "source": [
        "fill=pengunjung['jumlah'].mean\n",
        "pengunjung['jumlah']=pengunjung['jumlah'].fillna(fill)  #MENGISI NILAI KOSONG DENGAN MEAN. SAYA MASIH BELUM PAHAM DENGAN TAHAPAN INI"
      ],
      "execution_count": 17,
      "outputs": []
    },
    {
      "cell_type": "code",
      "metadata": {
        "colab": {
          "base_uri": "https://localhost:8080/"
        },
        "id": "vOdkoKoiq_lw",
        "outputId": "986474c6-ab60-400a-f80d-6e69db9fe631"
      },
      "source": [
        "pengunjung.isnull().sum()"
      ],
      "execution_count": 18,
      "outputs": [
        {
          "output_type": "execute_result",
          "data": {
            "text/plain": [
              "tahun               0\n",
              "bulan               0\n",
              "destinasi_wisata    0\n",
              "jumlah              0\n",
              "dtype: int64"
            ]
          },
          "metadata": {
            "tags": []
          },
          "execution_count": 18
        }
      ]
    },
    {
      "cell_type": "code",
      "metadata": {
        "colab": {
          "base_uri": "https://localhost:8080/",
          "height": 409
        },
        "id": "GTGxAiXosgbl",
        "outputId": "cc031de0-ee39-458a-b0c5-9a673a13094d"
      },
      "source": [
        "plt.figure(figsize=(10,5))\n",
        "sns.boxplot(pengunjung[\"jumlah\"])\n",
        "plt.show  #DAN EFEKNYA KESINI"
      ],
      "execution_count": 19,
      "outputs": [
        {
          "output_type": "stream",
          "text": [
            "/usr/local/lib/python3.7/dist-packages/seaborn/_decorators.py:43: FutureWarning: Pass the following variable as a keyword arg: x. From version 0.12, the only valid positional argument will be `data`, and passing other arguments without an explicit keyword will result in an error or misinterpretation.\n",
            "  FutureWarning\n"
          ],
          "name": "stderr"
        },
        {
          "output_type": "execute_result",
          "data": {
            "text/plain": [
              "<function matplotlib.pyplot.show>"
            ]
          },
          "metadata": {
            "tags": []
          },
          "execution_count": 19
        },
        {
          "output_type": "display_data",
          "data": {
            "image/png": "[encoded data removed]",
            "text/plain": [
              "<Figure size 720x360 with 1 Axes>"
            ]
          },
          "metadata": {
            "tags": [],
            "needs_background": "light"
          }
        }
      ]
    },
    {
      "cell_type": "code",
      "metadata": {
        "colab": {
          "base_uri": "https://localhost:8080/",
          "height": 409
        },
        "id": "J9AG_1rZqhIx",
        "outputId": "51f3e6b4-ca10-4d59-fd2b-fddc383a9e4c"
      },
      "source": [
        "plt.figure(figsize=(10,5))\n",
        "sns.boxplot(pengunjung[\"tahun\"])\n",
        "plt.show"
      ],
      "execution_count": 20,
      "outputs": [
        {
          "output_type": "stream",
          "text": [
            "/usr/local/lib/python3.7/dist-packages/seaborn/_decorators.py:43: FutureWarning: Pass the following variable as a keyword arg: x. From version 0.12, the only valid positional argument will be `data`, and passing other arguments without an explicit keyword will result in an error or misinterpretation.\n",
            "  FutureWarning\n"
          ],
          "name": "stderr"
        },
        {
          "output_type": "execute_result",
          "data": {
            "text/plain": [
              "<function matplotlib.pyplot.show>"
            ]
          },
          "metadata": {
            "tags": []
          },
          "execution_count": 20
        },
        {
          "output_type": "display_data",
          "data": {
            "image/png": "[encoded data removed]",
            "text/plain": [
              "<Figure size 720x360 with 1 Axes>"
            ]
          },
          "metadata": {
            "tags": [],
            "needs_background": "light"
          }
        }
      ]
    },
    {
      "cell_type": "code",
      "metadata": {
        "colab": {
          "base_uri": "https://localhost:8080/",
          "height": 409
        },
        "id": "6NsT75IhrVd8",
        "outputId": "469ef71c-d8dd-43a1-ab8e-6e1c34500fea"
      },
      "source": [
        "plt.figure(figsize=(10,5))\n",
        "sns.boxplot(pengunjung[\"bulan\"])\n",
        "plt.show"
      ],
      "execution_count": 21,
      "outputs": [
        {
          "output_type": "stream",
          "text": [
            "/usr/local/lib/python3.7/dist-packages/seaborn/_decorators.py:43: FutureWarning: Pass the following variable as a keyword arg: x. From version 0.12, the only valid positional argument will be `data`, and passing other arguments without an explicit keyword will result in an error or misinterpretation.\n",
            "  FutureWarning\n"
          ],
          "name": "stderr"
        },
        {
          "output_type": "execute_result",
          "data": {
            "text/plain": [
              "<function matplotlib.pyplot.show>"
            ]
          },
          "metadata": {
            "tags": []
          },
          "execution_count": 21
        },
        {
          "output_type": "display_data",
          "data": {
            "image/png": "[encoded data removed]",
            "text/plain": [
              "<Figure size 720x360 with 1 Axes>"
            ]
          },
          "metadata": {
            "tags": [],
            "needs_background": "light"
          }
        }
      ]
    },
    {
      "cell_type": "markdown",
      "metadata": {
        "id": "FhSLJD7nXM65"
      },
      "source": [
        "Membuat Fungsi Outlier Detection"
      ]
    },
    {
      "cell_type": "code",
      "metadata": {
        "id": "vwFtfJJ_XOzQ"
      },
      "source": [
        "def outlier(sample):\n",
        "  Q1=sample.quantile(0.25)\n",
        "  Q3=sample.quantile(0.75)\n",
        "\n",
        "  IQR=Q3-Q1\n",
        "  lower_range = Q1 - (1.5 * IQR)\n",
        "  upper_range = Q3 + (1.5 * IQR)\n",
        "  number_outlier=len(sample[sample>upper_range])+len(sample[sample<lower_range])\n",
        "  print(\"Number Of Outlier {}\".format(number_outlier))\n",
        "\n",
        "  if number_outlier>0:\n",
        "    print(\"Outlier observation row: \")\n",
        "  else:\n",
        "    pass\n",
        "  for i in range(len(sample)):\n",
        "    if sample[i]<lower_range:\n",
        "      print[i]\n",
        "    elif sample[i]>upper_range:\n",
        "      print(i)\n",
        "    else:\n",
        "      pass        \n"
      ],
      "execution_count": 22,
      "outputs": []
    },
    {
      "cell_type": "code",
      "metadata": {
        "colab": {
          "base_uri": "https://localhost:8080/"
        },
        "id": "fVxzg5f3ZZlr",
        "outputId": "ff7fdb2b-5f89-4691-d491-2fb36e5aebbc"
      },
      "source": [
        "outlier(pengunjung['jumlah'])"
      ],
      "execution_count": 23,
      "outputs": [
        {
          "output_type": "stream",
          "text": [
            "Number Of Outlier 2\n",
            "Outlier observation row: \n",
            "4\n",
            "19\n"
          ],
          "name": "stdout"
        }
      ]
    },
    {
      "cell_type": "code",
      "metadata": {
        "colab": {
          "base_uri": "https://localhost:8080/"
        },
        "id": "u2fjGInOZkp5",
        "outputId": "065ba497-5aca-4a3b-f6e2-0eb6bb3b2152"
      },
      "source": [
        "pengunjung.loc[[4,19],\"jumlah\"]"
      ],
      "execution_count": 24,
      "outputs": [
        {
          "output_type": "execute_result",
          "data": {
            "text/plain": [
              "4     2877.0\n",
              "19    6009.0\n",
              "Name: jumlah, dtype: float64"
            ]
          },
          "metadata": {
            "tags": []
          },
          "execution_count": 24
        }
      ]
    },
    {
      "cell_type": "code",
      "metadata": {
        "colab": {
          "base_uri": "https://localhost:8080/"
        },
        "id": "FiXII8UwZpyi",
        "outputId": "7aca6af7-29e0-469b-ad93-f08c84701f08"
      },
      "source": [
        "outlier(pengunjung['tahun'])"
      ],
      "execution_count": 25,
      "outputs": [
        {
          "output_type": "stream",
          "text": [
            "Number Of Outlier 0\n"
          ],
          "name": "stdout"
        }
      ]
    },
    {
      "cell_type": "code",
      "metadata": {
        "colab": {
          "base_uri": "https://localhost:8080/"
        },
        "id": "VOmF9h8CZrZb",
        "outputId": "69913af8-d061-4863-8d5d-6f58f44ad193"
      },
      "source": [
        "outlier(pengunjung['bulan'])"
      ],
      "execution_count": 26,
      "outputs": [
        {
          "output_type": "stream",
          "text": [
            "Number Of Outlier 0\n"
          ],
          "name": "stdout"
        }
      ]
    },
    {
      "cell_type": "markdown",
      "metadata": {
        "id": "L1n8ikgudpMe"
      },
      "source": [
        "DATA PARTITION"
      ]
    },
    {
      "cell_type": "code",
      "metadata": {
        "id": "49_UljuBfrT6"
      },
      "source": [
        "pengunjung=pengunjung.drop(labels=\"bulan\",axis=1)"
      ],
      "execution_count": 29,
      "outputs": []
    },
    {
      "cell_type": "code",
      "metadata": {
        "id": "zV1OgePydoBW"
      },
      "source": [
        "train,test = train_test_split(pengunjung,test_size = 0.20 , random_state = 111)\n",
        "\n",
        "train_X = train.drop(labels='destinasi_wisata',axis=1)\n",
        "train_Y = train['destinasi_wisata']\n",
        "test_X = test.drop(labels='destinasi_wisata',axis = 1)\n",
        "test_Y = test['destinasi_wisata']\n"
      ],
      "execution_count": 43,
      "outputs": []
    },
    {
      "cell_type": "markdown",
      "metadata": {
        "id": "bwGpywjxgTVB"
      },
      "source": [
        "SMOTE"
      ]
    },
    {
      "cell_type": "code",
      "metadata": {
        "id": "FuaKkUsigRpv"
      },
      "source": [
        "from imblearn.over_sampling import SMOTE\n",
        "\n",
        "os = SMOTE(sampling_strategy='minority',random_state= 123, k_neighbors =5)\n",
        "train_smote_X, train_smote_Y = os.fit_resample(train_X,train_Y)\n",
        "train_smote_X = pd.DataFrame(data = train_smote_X,columns=train_X.columns)\n",
        "train_smote_Y = pd.DataFrame(data = train_smote_Y)"
      ],
      "execution_count": 44,
      "outputs": []
    },
    {
      "cell_type": "code",
      "metadata": {
        "colab": {
          "base_uri": "https://localhost:8080/"
        },
        "id": "wI-z4AA1i7m4",
        "outputId": "27e749c0-67b7-40e0-8e51-2c3394bb5fa1"
      },
      "source": [
        "train_Y.value_counts()"
      ],
      "execution_count": 45,
      "outputs": [
        {
          "output_type": "execute_result",
          "data": {
            "text/plain": [
              "Museum Sejarah Jakarta          1\n",
              "Taman Margasatwa Ragunan        1\n",
              "Taman Impian Jaya Ancol         1\n",
              "Taman Mini Indonesia Indah      1\n",
              "Rumah si Pitung                 1\n",
              "Museum Nasional                 1\n",
              "PBB Setu babakan                1\n",
              "Museum Prasasti                 1\n",
              "Museum Bahari                   1\n",
              "Kawasan Kota Tua                1\n",
              "Museum Seni Rupa dan Keramik    1\n",
              "Taman Arkeologi Onrust          1\n",
              "Kepulauan Seribu                1\n",
              "Planetarium                     1\n",
              "Museum Tekstil                  1\n",
              "Museum Wayang                   1\n",
              "Name: destinasi_wisata, dtype: int64"
            ]
          },
          "metadata": {
            "tags": []
          },
          "execution_count": 45
        }
      ]
    },
    {
      "cell_type": "markdown",
      "metadata": {
        "id": "5uLieYUVaevx"
      },
      "source": [
        "KNN\n",
        "\n"
      ]
    },
    {
      "cell_type": "code",
      "metadata": {
        "colab": {
          "base_uri": "https://localhost:8080/",
          "height": 209
        },
        "id": "tJBEj2FxjjyH",
        "outputId": "e8750a57-5188-4fe5-db08-845cf58f7087"
      },
      "source": [
        "ss=StandardScaler()\n",
        "train_smote_X[num_cols]=ss.fit_transform(train_smote_X[num_cols])\n",
        "test_X[num_cols]=ss.transform(test_X[num_cols])"
      ],
      "execution_count": 46,
      "outputs": [
        {
          "output_type": "error",
          "ename": "NameError",
          "evalue": "ignored",
          "traceback": [
            "\u001b[0;31m---------------------------------------------------------------------------\u001b[0m",
            "\u001b[0;31mNameError\u001b[0m                                 Traceback (most recent call last)",
            "\u001b[0;32m<ipython-input-46-5d3cebdf6be4>\u001b[0m in \u001b[0;36m<module>\u001b[0;34m()\u001b[0m\n\u001b[1;32m      1\u001b[0m \u001b[0mss\u001b[0m\u001b[0;34m=\u001b[0m\u001b[0mStandardScaler\u001b[0m\u001b[0;34m(\u001b[0m\u001b[0;34m)\u001b[0m\u001b[0;34m\u001b[0m\u001b[0;34m\u001b[0m\u001b[0m\n\u001b[0;32m----> 2\u001b[0;31m \u001b[0mtrain_smote_X\u001b[0m\u001b[0;34m[\u001b[0m\u001b[0mnum_cols\u001b[0m\u001b[0;34m]\u001b[0m\u001b[0;34m=\u001b[0m\u001b[0mss\u001b[0m\u001b[0;34m.\u001b[0m\u001b[0mfit_transform\u001b[0m\u001b[0;34m(\u001b[0m\u001b[0mtrain_smote_X\u001b[0m\u001b[0;34m[\u001b[0m\u001b[0mnum_cols\u001b[0m\u001b[0;34m]\u001b[0m\u001b[0;34m)\u001b[0m\u001b[0;34m\u001b[0m\u001b[0;34m\u001b[0m\u001b[0m\n\u001b[0m\u001b[1;32m      3\u001b[0m \u001b[0mtest_X\u001b[0m\u001b[0;34m[\u001b[0m\u001b[0mnum_cols\u001b[0m\u001b[0;34m]\u001b[0m\u001b[0;34m=\u001b[0m\u001b[0mss\u001b[0m\u001b[0;34m.\u001b[0m\u001b[0mtransform\u001b[0m\u001b[0;34m(\u001b[0m\u001b[0mtest_X\u001b[0m\u001b[0;34m[\u001b[0m\u001b[0mnum_cols\u001b[0m\u001b[0;34m]\u001b[0m\u001b[0;34m)\u001b[0m\u001b[0;34m\u001b[0m\u001b[0;34m\u001b[0m\u001b[0m\n",
            "\u001b[0;31mNameError\u001b[0m: name 'num_cols' is not defined"
          ]
        }
      ]
    },
    {
      "cell_type": "code",
      "metadata": {
        "id": "3jFTJQYZahuR"
      },
      "source": [
        "from sklearn.neighbors import KNeighborsClassifier\n",
        "from sklearn.metrics import accuracy_score\n",
        "\n",
        "knnc=KNeighborsClassifier()\n",
        "param_grid = {\n",
        "    'n_neighbors' : [2,3,4,5,6],\n",
        "    'metric' : ['euclidean','manhattan']\n",
        "}"
      ],
      "execution_count": 27,
      "outputs": []
    },
    {
      "cell_type": "code",
      "metadata": {
        "id": "FsMoWifec4eC"
      },
      "source": [
        "from sklearn.model_selection import GridSearchCV\n",
        "CV_kncc = GridSearchCV(estimator=kncc)"
      ],
      "execution_count": null,
      "outputs": []
    }
  ]
}