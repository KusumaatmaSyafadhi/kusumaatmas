{
  "nbformat": 4,
  "nbformat_minor": 0,
  "metadata": {
    "colab": {
      "name": "Py07_1urllib.ipynb",
      "provenance": [],
      "include_colab_link": true
    },
    "kernelspec": {
      "display_name": "Python 3",
      "language": "python",
      "name": "python3"
    },
    "language_info": {
      "codemirror_mode": {
        "name": "ipython",
        "version": 3
      },
      "file_extension": ".py",
      "mimetype": "text/x-python",
      "name": "python",
      "nbconvert_exporter": "python",
      "pygments_lexer": "ipython3",
      "version": "3.7.6"
    }
  },
  "cells": [
    {
      "cell_type": "markdown",
      "metadata": {
        "id": "view-in-github",
        "colab_type": "text"
      },
      "source": [
        "<a href=\"https://colab.research.google.com/github/KusumaatmaSyafadhi/kusumaatmas/blob/main/Py07_1urllib.ipynb\" target=\"_parent\"><img src=\"https://colab.research.google.com/assets/colab-badge.svg\" alt=\"Open In Colab\"/></a>"
      ]
    },
    {
      "cell_type": "code",
      "metadata": {
        "id": "oy0G6a9R1CUX"
      },
      "source": [
        "#Collect school news\n",
        "#https://www.asia.edu.tw/EN/news1.php?y=2020\n",
        "\n",
        "from urllib import request\n",
        "with request.urlopen('https://www.asia.edu.tw/EN/news1.php?y=2021') as response:\n",
        "    html = response.read().decode('utf-8')\n",
        "    print(html)\n"
      ],
      "execution_count": null,
      "outputs": []
    },
    {
      "cell_type": "code",
      "metadata": {
        "colab": {
          "base_uri": "https://localhost:8080/"
        },
        "id": "jlLOQ-vo89JJ",
        "outputId": "8aee05b6-b49b-45b0-a642-45b69ec84209"
      },
      "source": [
        "import re\n",
        "count= 0\n",
        "pattern = '<font color=\"#446666\" face=\"Arial\" size=\"2\">\\['\n",
        "\n",
        "pattern2 = '<font color=\"#446666\" face=\"Arial\" size=\"2\"><b>'\n",
        "\n",
        "for pos in re.finditer(pattern, html):\n",
        "    pos2 = html.find('] </font>', pos.end())\n",
        "    datestr = html[pos.end()+1:pos2]\n",
        "    pos3 = html.find(pattern2, pos2+4)+len(pattern2)\n",
        "    pos4 = html.find('</b>', pos3)\n",
        "    titlestr = html[pos3:pos4]\n",
        "\n",
        "    print(f\"Date: {datestr}->Title: {titlestr}\")\n",
        "    count = count + 1"
      ],
      "execution_count": 3,
      "outputs": [
        {
          "output_type": "stream",
          "text": [
            "Date: 021-03-30->Title: Asia University Celebrates Her 20th Anniversary, Receiving International Gifts of High World Rankings!\n",
            "Date: 021-03-21->Title: President Jeffrey J. P. Tsai (蔡進發) and Asia University’s Aspiration\n",
            "Date: 021-03-19->Title: Students of Asia University Win the Awards of the 2020 AI CUP Hosted by the Ministry of Education for Two Executive Years\n",
            "Date: 021-03-17->Title: Asia University Added World Renowned Scientist Ruth Arnon to its International Advisory Board\n",
            "Date: 021-03-13->Title: Asia University Establishes a First International Advisory Board\n",
            "Date: 021-02-23->Title: Entering Asia University and Going to a Well-Known Foreign Sister University to Get an Undergraduate Degree and a Master's Degree in Five Years ---\n",
            "Date: 021-02-02->Title: Students of the Department of Nursing at AU Win a Gold Medal of “2020 Cochrane Empirical Medicine Microfilm Competition”\n",
            "Date: 021-01-26->Title: Students of AU Win a 2020 InnoServe Award by a Masterpiece.\n",
            "Date: 021-01-12->Title: AU Teaches Parents and Children to Say Goodbye to Overuse of 3C Products\n"
          ],
          "name": "stdout"
        }
      ]
    },
    {
      "cell_type": "code",
      "metadata": {
        "colab": {
          "base_uri": "https://localhost:8080/"
        },
        "id": "ZHAFpbant4NO",
        "outputId": "9613ab9f-e7b8-4c8d-d11a-98da921a7286"
      },
      "source": [
        "import re\n",
        "from urllib import request\n",
        "count = 0\n",
        "sss = [\"2008\", \"2009\",\"2010\", \"2011\", \"2012\",\"2013\",\"2014\",\"2015\",\"2016\",\"2017\",\"2018\"]\n",
        "pattern = '<font color=\"#446666\" face=\"Arial\" size=\"2\">\\['\n",
        "pattern2 = '<font color=\"#446666\" face=\"Arial\" size=\"2\"><b>'\n",
        "\n",
        "\n",
        "for year in sss:\n",
        "    with request.urlopen('http://www.asia.edu.tw/EN/news1.php?y='+year) as response:\n",
        "        html = response.read().decode('utf-8')\n",
        "        #print(html)\n",
        "        pattern = ''\n",
        "        for pos in re.finditer(pattern, html):\n",
        "            pos2 = html.find('</font>', pos.end())\n",
        "            pos3 = html.find(pattern2, pos2+4)+len(pattern2)\n",
        "            pos4 = html.find('</b>',pos3)\n",
        "            sub = html[pos.end():pos2]\n",
        "            titles.append(sub)\n",
        "            count = count + 1\n",
        "print (count)"
      ],
      "execution_count": 9,
      "outputs": [
        {
          "output_type": "stream",
          "text": [
            "1022934\n"
          ],
          "name": "stdout"
        }
      ]
    },
    {
      "cell_type": "code",
      "metadata": {
        "id": "tyyzYF7H3mWv"
      },
      "source": [
        ""
      ],
      "execution_count": null,
      "outputs": []
    },
    {
      "cell_type": "code",
      "metadata": {
        "id": "eTwpxXFW5_tc"
      },
      "source": [
        " "
      ],
      "execution_count": null,
      "outputs": []
    }
  ]
}