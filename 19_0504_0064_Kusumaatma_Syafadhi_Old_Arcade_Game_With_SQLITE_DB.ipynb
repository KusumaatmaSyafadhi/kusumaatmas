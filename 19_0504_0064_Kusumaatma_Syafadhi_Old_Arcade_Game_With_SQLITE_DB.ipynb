{
  "nbformat": 4,
  "nbformat_minor": 0,
  "metadata": {
    "colab": {
      "name": "19.0504.0064_Kusumaatma Syafadhi_Old Arcade Game With SQLITE DB.ipynb",
      "provenance": [],
      "authorship_tag": "ABX9TyNRQHNiGXjIPhl4aiocHV/A",
      "include_colab_link": true
    },
    "kernelspec": {
      "name": "python3",
      "display_name": "Python 3"
    },
    "language_info": {
      "name": "python"
    }
  },
  "cells": [
    {
      "cell_type": "markdown",
      "metadata": {
        "id": "view-in-github",
        "colab_type": "text"
      },
      "source": [
        "<a href=\"https://colab.research.google.com/github/KusumaatmaSyafadhi/kusumaatmas/blob/main/19_0504_0064_Kusumaatma_Syafadhi_Old_Arcade_Game_With_SQLITE_DB.ipynb\" target=\"_parent\"><img src=\"https://colab.research.google.com/assets/colab-badge.svg\" alt=\"Open In Colab\"/></a>"
      ]
    },
    {
      "cell_type": "markdown",
      "source": [
        "# Calling the dependencies"
      ],
      "metadata": {
        "id": "5xOBmwaT39hW"
      }
    },
    {
      "cell_type": "code",
      "execution_count": 1,
      "metadata": {
        "id": "Bq5Cd8NMdGfm"
      },
      "outputs": [],
      "source": [
        "import sqlite3\n",
        "from sklearn import preprocessing\n",
        "import os.path\n",
        "import sys\n",
        "from sqlalchemy import create_engine\n",
        "import numpy as np\n",
        "\n"
      ]
    },
    {
      "cell_type": "markdown",
      "source": [
        "# DB Connection and Cursor"
      ],
      "metadata": {
        "id": "kDu_Dqju4A8w"
      }
    },
    {
      "cell_type": "code",
      "source": [
        "#Connection\n",
        "ichconn= create_engine('sqlite:////content/old_arcade.db')\n",
        "con = ichconn.raw_connection()"
      ],
      "metadata": {
        "id": "t1JhFVgrvUf7"
      },
      "execution_count": 2,
      "outputs": []
    },
    {
      "cell_type": "code",
      "source": [
        "cur = con.cursor()"
      ],
      "metadata": {
        "id": "_g5mmGDfwdhK"
      },
      "execution_count": 3,
      "outputs": []
    },
    {
      "cell_type": "markdown",
      "source": [
        "# Fetch all moves data using my own function"
      ],
      "metadata": {
        "id": "1vvHDoVIzhkM"
      }
    },
    {
      "cell_type": "markdown",
      "source": [
        "In this section, I made functions so that I can fetch all data from my database. In the meantime, there are only 4 of them. But perhaps, I'll add some more for the mathematics calculations."
      ],
      "metadata": {
        "id": "j-ks5cL1zsYs"
      }
    },
    {
      "cell_type": "code",
      "source": [
        "def act1():\n",
        "  pilih1 = cur.execute(\"Select act_1 from actions\")\n",
        "  act_1 = pilih1.fetchall()\n",
        "  return act_1\n",
        "\n"
      ],
      "metadata": {
        "id": "FzOUupZ7kY8q"
      },
      "execution_count": 4,
      "outputs": []
    },
    {
      "cell_type": "code",
      "source": [
        "def act2():\n",
        "  pilih2 = cur.execute(\"Select act_2 from actions\")\n",
        "  act_2 = pilih2.fetchall()\n",
        "  return act_2"
      ],
      "metadata": {
        "id": "qLFGZ-u9tkN9"
      },
      "execution_count": 5,
      "outputs": []
    },
    {
      "cell_type": "code",
      "source": [
        "def act3():\n",
        "  pilih3 = cur.execute(\"Select act_3 from actions\")\n",
        "  act_3 = pilih3.fetchall()\n",
        "  return act_3"
      ],
      "metadata": {
        "id": "GB90ac23wbyR"
      },
      "execution_count": 6,
      "outputs": []
    },
    {
      "cell_type": "code",
      "source": [
        "def act4():\n",
        "  pilih4 = cur.execute(\"Select act_4 from actions\")\n",
        "  act_4 = pilih4.fetchall()\n",
        "  return act_4"
      ],
      "metadata": {
        "id": "yPqiKuVfwiet"
      },
      "execution_count": 7,
      "outputs": []
    },
    {
      "cell_type": "code",
      "source": [
        "act1()"
      ],
      "metadata": {
        "colab": {
          "base_uri": "https://localhost:8080/"
        },
        "id": "jTojlQl7t-XI",
        "outputId": "529ec1bb-9644-4f4c-da2a-6de327b204aa"
      },
      "execution_count": 8,
      "outputs": [
        {
          "output_type": "execute_result",
          "data": {
            "text/plain": [
              "[('Punch',),\n",
              " ('Punch',),\n",
              " ('Kick',),\n",
              " ('Punch',),\n",
              " ('Special',),\n",
              " ('Punch',),\n",
              " ('Kick',),\n",
              " ('Special',),\n",
              " ('Kick',),\n",
              " ('Kick',),\n",
              " ('Special',),\n",
              " ('Special',)]"
            ]
          },
          "metadata": {},
          "execution_count": 8
        }
      ]
    },
    {
      "cell_type": "code",
      "source": [
        "act2()"
      ],
      "metadata": {
        "colab": {
          "base_uri": "https://localhost:8080/"
        },
        "id": "OE_8-iSst7EN",
        "outputId": "d19d1b0f-2e31-4a46-8734-0c92f137ea8f"
      },
      "execution_count": 9,
      "outputs": [
        {
          "output_type": "execute_result",
          "data": {
            "text/plain": [
              "[('Punch',),\n",
              " ('Kick',),\n",
              " ('Punch',),\n",
              " ('Special',),\n",
              " ('Punch',),\n",
              " ('Kick',),\n",
              " ('Special',),\n",
              " ('Punch',),\n",
              " ('Kick',),\n",
              " ('Kick',),\n",
              " ('Punch',),\n",
              " ('Kick',)]"
            ]
          },
          "metadata": {},
          "execution_count": 9
        }
      ]
    },
    {
      "cell_type": "code",
      "source": [
        "act3()"
      ],
      "metadata": {
        "colab": {
          "base_uri": "https://localhost:8080/"
        },
        "id": "hXWVke0Aw5hQ",
        "outputId": "5bb1d6ca-4a26-41de-96ad-faa0d90515d1"
      },
      "execution_count": 10,
      "outputs": [
        {
          "output_type": "execute_result",
          "data": {
            "text/plain": [
              "[('Kick',),\n",
              " ('Punch',),\n",
              " ('Special',),\n",
              " ('Punch',),\n",
              " ('Kick',),\n",
              " ('Special',),\n",
              " ('Punch',),\n",
              " ('Kick',),\n",
              " ('Kick',),\n",
              " ('Punch',),\n",
              " ('Punch',),\n",
              " ('Special',)]"
            ]
          },
          "metadata": {},
          "execution_count": 10
        }
      ]
    },
    {
      "cell_type": "code",
      "source": [
        "act4()"
      ],
      "metadata": {
        "colab": {
          "base_uri": "https://localhost:8080/"
        },
        "id": "YfIyF7cmw9EZ",
        "outputId": "e8151d24-4272-4f37-fd05-ab2f66573210"
      },
      "execution_count": 11,
      "outputs": [
        {
          "output_type": "execute_result",
          "data": {
            "text/plain": [
              "[('Punch',),\n",
              " ('Special',),\n",
              " ('Punch',),\n",
              " ('Kick',),\n",
              " ('Special',),\n",
              " ('Punch',),\n",
              " ('Kick',),\n",
              " ('Kick',),\n",
              " ('Punch',),\n",
              " ('Special',),\n",
              " ('Punch',),\n",
              " ('Kick',)]"
            ]
          },
          "metadata": {},
          "execution_count": 11
        }
      ]
    },
    {
      "cell_type": "code",
      "source": [
        "#Buat Wadah Kosong Mang\n",
        "aksipertama = []\n",
        "aksikedua = []\n",
        "aksiketiga = []\n",
        "aksikeempat = []\n",
        "\n",
        "#Masukin isi dari def ke wadah kosong tadi hehe\n",
        "aksipertama = act1()\n",
        "aksikedua = act2()\n",
        "aksiketiga = act3()\n",
        "aksikeempat = act4()"
      ],
      "metadata": {
        "id": "3wAW18rzrTXs"
      },
      "execution_count": 12,
      "outputs": []
    },
    {
      "cell_type": "code",
      "source": [
        "aksipertama"
      ],
      "metadata": {
        "colab": {
          "base_uri": "https://localhost:8080/"
        },
        "id": "i_hQ6jB2sBqQ",
        "outputId": "2a4f7b17-936c-4da0-b675-5087c4740dbe"
      },
      "execution_count": 13,
      "outputs": [
        {
          "output_type": "execute_result",
          "data": {
            "text/plain": [
              "[('Punch',),\n",
              " ('Punch',),\n",
              " ('Kick',),\n",
              " ('Punch',),\n",
              " ('Special',),\n",
              " ('Punch',),\n",
              " ('Kick',),\n",
              " ('Special',),\n",
              " ('Kick',),\n",
              " ('Kick',),\n",
              " ('Special',),\n",
              " ('Special',)]"
            ]
          },
          "metadata": {},
          "execution_count": 13
        }
      ]
    },
    {
      "cell_type": "code",
      "source": [
        "aksikedua"
      ],
      "metadata": {
        "colab": {
          "base_uri": "https://localhost:8080/"
        },
        "id": "nEIR7BRuwUxz",
        "outputId": "bf373d28-2006-4367-bcaa-9409814f804b"
      },
      "execution_count": 14,
      "outputs": [
        {
          "output_type": "execute_result",
          "data": {
            "text/plain": [
              "[('Punch',),\n",
              " ('Kick',),\n",
              " ('Punch',),\n",
              " ('Special',),\n",
              " ('Punch',),\n",
              " ('Kick',),\n",
              " ('Special',),\n",
              " ('Punch',),\n",
              " ('Kick',),\n",
              " ('Kick',),\n",
              " ('Punch',),\n",
              " ('Kick',)]"
            ]
          },
          "metadata": {},
          "execution_count": 14
        }
      ]
    },
    {
      "cell_type": "code",
      "source": [
        "aksiketiga"
      ],
      "metadata": {
        "colab": {
          "base_uri": "https://localhost:8080/"
        },
        "id": "I3BDBk5wxZN2",
        "outputId": "eb0121c1-bfb9-442b-c8e8-f16f409d9969"
      },
      "execution_count": 15,
      "outputs": [
        {
          "output_type": "execute_result",
          "data": {
            "text/plain": [
              "[('Kick',),\n",
              " ('Punch',),\n",
              " ('Special',),\n",
              " ('Punch',),\n",
              " ('Kick',),\n",
              " ('Special',),\n",
              " ('Punch',),\n",
              " ('Kick',),\n",
              " ('Kick',),\n",
              " ('Punch',),\n",
              " ('Punch',),\n",
              " ('Special',)]"
            ]
          },
          "metadata": {},
          "execution_count": 15
        }
      ]
    },
    {
      "cell_type": "code",
      "source": [
        "aksikeempat"
      ],
      "metadata": {
        "colab": {
          "base_uri": "https://localhost:8080/"
        },
        "id": "rROsR6n2xbWO",
        "outputId": "16b1a53d-338b-46d8-e480-6a7ddfeff4b7"
      },
      "execution_count": 16,
      "outputs": [
        {
          "output_type": "execute_result",
          "data": {
            "text/plain": [
              "[('Punch',),\n",
              " ('Special',),\n",
              " ('Punch',),\n",
              " ('Kick',),\n",
              " ('Special',),\n",
              " ('Punch',),\n",
              " ('Kick',),\n",
              " ('Kick',),\n",
              " ('Punch',),\n",
              " ('Special',),\n",
              " ('Punch',),\n",
              " ('Kick',)]"
            ]
          },
          "metadata": {},
          "execution_count": 16
        }
      ]
    },
    {
      "cell_type": "markdown",
      "source": [
        "# Fetch all count values with my own function"
      ],
      "metadata": {
        "id": "1SKxoWatSm8F"
      }
    },
    {
      "cell_type": "code",
      "source": [
        "def cobahitung():\n",
        "  perhitungan1 = cur.execute('Select SUM(act1 + act2 + act3) from hitungan')\n",
        "  ambil1 = perhitungan1.fetchall()\n",
        "  return ambil1"
      ],
      "metadata": {
        "id": "n5CIWOxbSr6v"
      },
      "execution_count": 29,
      "outputs": []
    },
    {
      "cell_type": "code",
      "source": [
        "cobahitung()"
      ],
      "metadata": {
        "colab": {
          "base_uri": "https://localhost:8080/"
        },
        "id": "EY103atSUuHJ",
        "outputId": "f5ba2aa9-e091-47d1-d1f3-69cc72e29bdb"
      },
      "execution_count": 30,
      "outputs": [
        {
          "output_type": "execute_result",
          "data": {
            "text/plain": [
              "[(1.3267999999999998,)]"
            ]
          },
          "metadata": {},
          "execution_count": 30
        }
      ]
    },
    {
      "cell_type": "code",
      "source": [
        "perhitungan = []\n",
        "\n",
        "perhitungan = cobahitung()"
      ],
      "metadata": {
        "id": "Ve6l1GdhXsv0"
      },
      "execution_count": 31,
      "outputs": []
    },
    {
      "cell_type": "code",
      "source": [
        "perhitungan"
      ],
      "metadata": {
        "colab": {
          "base_uri": "https://localhost:8080/"
        },
        "id": "IAEp8JbDYCHX",
        "outputId": "0a3ea2c2-833a-4d61-cc68-b709a6356aba"
      },
      "execution_count": 32,
      "outputs": [
        {
          "output_type": "execute_result",
          "data": {
            "text/plain": [
              "[(1.3267999999999998,)]"
            ]
          },
          "metadata": {},
          "execution_count": 32
        }
      ]
    },
    {
      "cell_type": "markdown",
      "source": [
        "# Working With Inputs"
      ],
      "metadata": {
        "id": "yWbh-uIfKjBI"
      }
    },
    {
      "cell_type": "code",
      "source": [
        "# Test\n",
        "\n",
        "print('\\n\\t\\t WELCOME TO MY SIMPLE APP')\n",
        "print('\\n\\t\\t By Kusumaatma Syafadhi 1905040064')\n",
        "print('\\n\\t\\t Please Input here (i.e. Punch, Special, or Kick):\\n')\n",
        "\n",
        "action1 = input('\\t\\tAction 1: ')\n",
        "action2 = input('\\t\\tAction 2: ')\n",
        "action3 = input('\\t\\tAction 3: ')"
      ],
      "metadata": {
        "colab": {
          "base_uri": "https://localhost:8080/"
        },
        "id": "jRiQ8VmsKeWV",
        "outputId": "71d35f6f-43c2-4c72-97d6-15926821db83"
      },
      "execution_count": 33,
      "outputs": [
        {
          "name": "stdout",
          "output_type": "stream",
          "text": [
            "\n",
            "\t\t WELCOME TO MY SIMPLE APP\n",
            "\n",
            "\t\t By Kusumaatma Syafadhi 1905040064\n",
            "\n",
            "\t\t Please Input here (i.e. Punch, Special, or Kick):\n",
            "\n",
            "\t\tAction 1: Punch\n",
            "\t\tAction 2: Kick\n",
            "\t\tAction 3: Special\n"
          ]
        }
      ]
    },
    {
      "cell_type": "code",
      "source": [
        "masukan_saya = []\n",
        "\n",
        "masukan_saya.append(action1)\n",
        "masukan_saya.append(action2)\n",
        "masukan_saya.append(action3)\n",
        "#tampilkan_act = list(masukan_saya)\n",
        "print('List Aksi : ',masukan_saya)\n"
      ],
      "metadata": {
        "id": "azL9id1FM0hc",
        "colab": {
          "base_uri": "https://localhost:8080/"
        },
        "outputId": "86aa72d9-86a4-4051-d548-467ef9809d5e"
      },
      "execution_count": 34,
      "outputs": [
        {
          "output_type": "stream",
          "name": "stdout",
          "text": [
            "List Aksi :  ['Punch', 'Kick', 'Special']\n"
          ]
        }
      ]
    },
    {
      "cell_type": "markdown",
      "source": [
        "# Encode User Inputs"
      ],
      "metadata": {
        "id": "gLZXBCr3l7qD"
      }
    },
    {
      "cell_type": "code",
      "source": [
        "le = preprocessing.LabelEncoder()\n",
        "act_1_encoded = le.fit_transform(aksipertama)\n",
        "\n",
        "print(act_1_encoded)"
      ],
      "metadata": {
        "colab": {
          "base_uri": "https://localhost:8080/"
        },
        "id": "p51uWkRp-FCI",
        "outputId": "fce3b48f-f8c0-4fb6-8849-8c074a3add16"
      },
      "execution_count": 35,
      "outputs": [
        {
          "output_type": "stream",
          "name": "stdout",
          "text": [
            "[1 1 0 1 2 1 0 2 0 0 2 2]\n"
          ]
        },
        {
          "output_type": "stream",
          "name": "stderr",
          "text": [
            "/usr/local/lib/python3.7/dist-packages/sklearn/preprocessing/_label.py:115: DataConversionWarning: A column-vector y was passed when a 1d array was expected. Please change the shape of y to (n_samples, ), for example using ravel().\n",
            "  y = column_or_1d(y, warn=True)\n"
          ]
        }
      ]
    },
    {
      "cell_type": "code",
      "source": [
        "act_2_encoded = le.fit_transform(aksikedua)\n",
        "act_3_encoded = le.fit_transform(aksiketiga)\n",
        "\n",
        "print('Action 2: ', act_2_encoded)\n",
        "print('Action 3: ', act_3_encoded)"
      ],
      "metadata": {
        "colab": {
          "base_uri": "https://localhost:8080/"
        },
        "id": "VxCle4Sr9828",
        "outputId": "9a2da0f5-96b9-4961-db19-962f25886726"
      },
      "execution_count": 36,
      "outputs": [
        {
          "output_type": "stream",
          "name": "stdout",
          "text": [
            "Action 2:  [1 0 1 2 1 0 2 1 0 0 1 0]\n",
            "Action 3:  [0 1 2 1 0 2 1 0 0 1 1 2]\n"
          ]
        },
        {
          "output_type": "stream",
          "name": "stderr",
          "text": [
            "/usr/local/lib/python3.7/dist-packages/sklearn/preprocessing/_label.py:115: DataConversionWarning: A column-vector y was passed when a 1d array was expected. Please change the shape of y to (n_samples, ), for example using ravel().\n",
            "  y = column_or_1d(y, warn=True)\n"
          ]
        }
      ]
    },
    {
      "cell_type": "code",
      "source": [
        "kelas = le.fit_transform(aksikeempat)\n",
        "print('Action 4: ', kelas)"
      ],
      "metadata": {
        "colab": {
          "base_uri": "https://localhost:8080/"
        },
        "id": "jTKQj0A9-W8I",
        "outputId": "68aa0055-4dae-4192-fce1-7575c4974fba"
      },
      "execution_count": 37,
      "outputs": [
        {
          "output_type": "stream",
          "name": "stdout",
          "text": [
            "Action 4:  [1 2 1 0 2 1 0 0 1 2 1 0]\n"
          ]
        },
        {
          "output_type": "stream",
          "name": "stderr",
          "text": [
            "/usr/local/lib/python3.7/dist-packages/sklearn/preprocessing/_label.py:115: DataConversionWarning: A column-vector y was passed when a 1d array was expected. Please change the shape of y to (n_samples, ), for example using ravel().\n",
            "  y = column_or_1d(y, warn=True)\n"
          ]
        }
      ]
    },
    {
      "cell_type": "code",
      "source": [
        "featured = zip(act_1_encoded, act_2_encoded, act_3_encoded)\n",
        "hasil_list = list(featured)\n",
        "print(hasil_list)"
      ],
      "metadata": {
        "colab": {
          "base_uri": "https://localhost:8080/"
        },
        "id": "OlboN5-0-cBZ",
        "outputId": "2d4afb3f-da4b-43f7-ef62-bf88ab55e04b"
      },
      "execution_count": 38,
      "outputs": [
        {
          "output_type": "stream",
          "name": "stdout",
          "text": [
            "[(1, 1, 0), (1, 0, 1), (0, 1, 2), (1, 2, 1), (2, 1, 0), (1, 0, 2), (0, 2, 1), (2, 1, 0), (0, 0, 0), (0, 0, 1), (2, 1, 1), (2, 0, 2)]\n"
          ]
        }
      ]
    },
    {
      "cell_type": "markdown",
      "source": [
        "# BOT Reaction With Gaussian Naive Bayes"
      ],
      "metadata": {
        "id": "ngYVTWkrOEA9"
      }
    },
    {
      "cell_type": "code",
      "source": [
        "from sklearn.naive_bayes import GaussianNB\n",
        "\n",
        "modelkita = GaussianNB()\n",
        "modelkita.fit(hasil_list,kelas)"
      ],
      "metadata": {
        "colab": {
          "base_uri": "https://localhost:8080/"
        },
        "id": "XBSRngei-kZc",
        "outputId": "bebe5406-e281-40f3-b6ae-b0ad55420dcd"
      },
      "execution_count": 39,
      "outputs": [
        {
          "output_type": "execute_result",
          "data": {
            "text/plain": [
              "GaussianNB()"
            ]
          },
          "metadata": {},
          "execution_count": 39
        }
      ]
    },
    {
      "cell_type": "code",
      "source": [
        "# Disini, masukin user input terus diencode buat bikin prediksinya ntar\n",
        "acts_encoded = le.fit_transform(masukan_saya)\n",
        "teslist = list(acts_encoded)\n",
        "print('Dikasih Prediksi: ', teslist)"
      ],
      "metadata": {
        "colab": {
          "base_uri": "https://localhost:8080/"
        },
        "id": "o5EHUiarhtr2",
        "outputId": "df4d7565-5c6f-4f60-aee7-e7d27c3553ab"
      },
      "execution_count": 40,
      "outputs": [
        {
          "output_type": "stream",
          "name": "stdout",
          "text": [
            "Dikasih Prediksi:  [1, 0, 2]\n"
          ]
        }
      ]
    },
    {
      "cell_type": "code",
      "source": [
        "# Disini, data yang udah diencode tadi, saya rubah jadi array 1D biar bisa diproses di tahap terakhir\n",
        "cobaprediksi = np.array(teslist, dtype=object)\n",
        "cobaprediksi = cobaprediksi.reshape(1,-1)\n",
        "cobaprediksi"
      ],
      "metadata": {
        "id": "HJos7ppo_2Hw",
        "colab": {
          "base_uri": "https://localhost:8080/"
        },
        "outputId": "df06094c-30e6-49a1-bb72-aec6154b9460"
      },
      "execution_count": 41,
      "outputs": [
        {
          "output_type": "execute_result",
          "data": {
            "text/plain": [
              "array([[1, 0, 2]], dtype=object)"
            ]
          },
          "metadata": {},
          "execution_count": 41
        }
      ]
    },
    {
      "cell_type": "code",
      "source": [
        "prediksi = modelkita.predict(cobaprediksi)\n",
        "print('0 = Kick |','1 = Punch |', '2 = Special')\n",
        "print('Next Move Will Be: ', prediksi)"
      ],
      "metadata": {
        "colab": {
          "base_uri": "https://localhost:8080/"
        },
        "id": "1OD3OxOS-r_d",
        "outputId": "b684cd61-0be5-4ca0-d373-f58e3f9d5feb"
      },
      "execution_count": 44,
      "outputs": [
        {
          "output_type": "stream",
          "name": "stdout",
          "text": [
            "0 = Kick | 1 = Punch | 2 = Special\n",
            "Next Move Will Be:  [1]\n"
          ]
        }
      ]
    }
  ]
}