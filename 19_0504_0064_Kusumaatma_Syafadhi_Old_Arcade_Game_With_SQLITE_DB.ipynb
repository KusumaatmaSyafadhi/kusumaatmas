{
  "nbformat": 4,
  "nbformat_minor": 0,
  "metadata": {
    "colab": {
      "name": "19.0504.0064_Kusumaatma Syafadhi_Old Arcade Game With SQLITE DB.ipynb",
      "provenance": [],
      "authorship_tag": "ABX9TyP2PSyE9g5gCtPAFrE+ngPW",
      "include_colab_link": true
    },
    "kernelspec": {
      "name": "python3",
      "display_name": "Python 3"
    },
    "language_info": {
      "name": "python"
    }
  },
  "cells": [
    {
      "cell_type": "markdown",
      "metadata": {
        "id": "view-in-github",
        "colab_type": "text"
      },
      "source": [
        "<a href=\"https://colab.research.google.com/github/KusumaatmaSyafadhi/kusumaatmas/blob/main/19_0504_0064_Kusumaatma_Syafadhi_Old_Arcade_Game_With_SQLITE_DB.ipynb\" target=\"_parent\"><img src=\"https://colab.research.google.com/assets/colab-badge.svg\" alt=\"Open In Colab\"/></a>"
      ]
    },
    {
      "cell_type": "markdown",
      "source": [
        "# Calling the dependencies"
      ],
      "metadata": {
        "id": "5xOBmwaT39hW"
      }
    },
    {
      "cell_type": "code",
      "execution_count": 1,
      "metadata": {
        "id": "Bq5Cd8NMdGfm"
      },
      "outputs": [],
      "source": [
        "import sqlite3\n",
        "from sklearn import preprocessing\n",
        "import os.path\n",
        "import sys\n",
        "from sqlalchemy import create_engine\n",
        "import numpy as np\n",
        "import pandas as pd\n"
      ]
    },
    {
      "cell_type": "markdown",
      "source": [
        "# DB Connection and Cursor"
      ],
      "metadata": {
        "id": "kDu_Dqju4A8w"
      }
    },
    {
      "cell_type": "code",
      "source": [
        "#Connection\n",
        "ichconn= create_engine('sqlite:////content/old_arcade.db')\n",
        "con = ichconn.raw_connection()"
      ],
      "metadata": {
        "id": "t1JhFVgrvUf7"
      },
      "execution_count": 2,
      "outputs": []
    },
    {
      "cell_type": "code",
      "source": [
        "cur = con.cursor()"
      ],
      "metadata": {
        "id": "_g5mmGDfwdhK"
      },
      "execution_count": 3,
      "outputs": []
    },
    {
      "cell_type": "markdown",
      "source": [
        "# Fetch all data using my own function"
      ],
      "metadata": {
        "id": "1vvHDoVIzhkM"
      }
    },
    {
      "cell_type": "markdown",
      "source": [
        "In this section, I made functions so that I can fetch all data from my database. In the meantime, there are only 4 of them. But perhaps, I'll add some more for the mathematics calculations."
      ],
      "metadata": {
        "id": "j-ks5cL1zsYs"
      }
    },
    {
      "cell_type": "code",
      "source": [
        "def act1():\n",
        "  pilih1 = cur.execute(\"Select act_1 from actions\")\n",
        "  act_1 = pilih1.fetchall()\n",
        "  return act_1\n",
        "\n"
      ],
      "metadata": {
        "id": "FzOUupZ7kY8q"
      },
      "execution_count": 4,
      "outputs": []
    },
    {
      "cell_type": "code",
      "source": [
        "def act2():\n",
        "  pilih2 = cur.execute(\"Select act_2 from actions\")\n",
        "  act_2 = pilih2.fetchall()\n",
        "  return act_2"
      ],
      "metadata": {
        "id": "qLFGZ-u9tkN9"
      },
      "execution_count": 5,
      "outputs": []
    },
    {
      "cell_type": "code",
      "source": [
        "def act3():\n",
        "  pilih3 = cur.execute(\"Select act_3 from actions\")\n",
        "  act_3 = pilih3.fetchall()\n",
        "  return act_3"
      ],
      "metadata": {
        "id": "GB90ac23wbyR"
      },
      "execution_count": 6,
      "outputs": []
    },
    {
      "cell_type": "code",
      "source": [
        "def act4():\n",
        "  pilih4 = cur.execute(\"Select act_4 from actions\")\n",
        "  act_4 = pilih4.fetchall()\n",
        "  return act_4"
      ],
      "metadata": {
        "id": "yPqiKuVfwiet"
      },
      "execution_count": 7,
      "outputs": []
    },
    {
      "cell_type": "code",
      "source": [
        "act1()"
      ],
      "metadata": {
        "colab": {
          "base_uri": "https://localhost:8080/"
        },
        "id": "jTojlQl7t-XI",
        "outputId": "b88646c6-34e4-4330-8b52-1a94c72d0351"
      },
      "execution_count": 8,
      "outputs": [
        {
          "output_type": "execute_result",
          "data": {
            "text/plain": [
              "[('Punch',),\n",
              " ('Punch',),\n",
              " ('Kick',),\n",
              " ('Punch',),\n",
              " ('Special',),\n",
              " ('Punch',),\n",
              " ('Kick',),\n",
              " ('Special',),\n",
              " ('Kick',),\n",
              " ('Kick',),\n",
              " ('Special',),\n",
              " ('Special',)]"
            ]
          },
          "metadata": {},
          "execution_count": 8
        }
      ]
    },
    {
      "cell_type": "code",
      "source": [
        "act2()"
      ],
      "metadata": {
        "colab": {
          "base_uri": "https://localhost:8080/"
        },
        "id": "OE_8-iSst7EN",
        "outputId": "7f757f30-d0b4-4550-e7d2-347a5243f082"
      },
      "execution_count": 9,
      "outputs": [
        {
          "output_type": "execute_result",
          "data": {
            "text/plain": [
              "[('Punch',),\n",
              " ('Kick',),\n",
              " ('Punch',),\n",
              " ('Special',),\n",
              " ('Punch',),\n",
              " ('Kick',),\n",
              " ('Special',),\n",
              " ('Punch',),\n",
              " ('Kick',),\n",
              " ('Kick',),\n",
              " ('Punch',),\n",
              " ('Kick',)]"
            ]
          },
          "metadata": {},
          "execution_count": 9
        }
      ]
    },
    {
      "cell_type": "code",
      "source": [
        "act3()"
      ],
      "metadata": {
        "colab": {
          "base_uri": "https://localhost:8080/"
        },
        "id": "hXWVke0Aw5hQ",
        "outputId": "b38231f0-517d-4e64-bebf-6aa6d7282e1b"
      },
      "execution_count": 10,
      "outputs": [
        {
          "output_type": "execute_result",
          "data": {
            "text/plain": [
              "[('Kick',),\n",
              " ('Punch',),\n",
              " ('Special',),\n",
              " ('Punch',),\n",
              " ('Kick',),\n",
              " ('Special',),\n",
              " ('Punch',),\n",
              " ('Kick',),\n",
              " ('Kick',),\n",
              " ('Punch',),\n",
              " ('Punch',),\n",
              " ('Special',)]"
            ]
          },
          "metadata": {},
          "execution_count": 10
        }
      ]
    },
    {
      "cell_type": "code",
      "source": [
        "act4()"
      ],
      "metadata": {
        "colab": {
          "base_uri": "https://localhost:8080/"
        },
        "id": "YfIyF7cmw9EZ",
        "outputId": "36ed0726-d3c9-4a01-a0f1-46608c435f8e"
      },
      "execution_count": 11,
      "outputs": [
        {
          "output_type": "execute_result",
          "data": {
            "text/plain": [
              "[('Punch',),\n",
              " ('Special',),\n",
              " ('Punch',),\n",
              " ('Kick',),\n",
              " ('Special',),\n",
              " ('Punch',),\n",
              " ('Kick',),\n",
              " ('Kick',),\n",
              " ('Punch',),\n",
              " ('Special',),\n",
              " ('Punch',),\n",
              " ('Kick',)]"
            ]
          },
          "metadata": {},
          "execution_count": 11
        }
      ]
    },
    {
      "cell_type": "code",
      "source": [
        "#Buat Wadah Kosong Mang\n",
        "aksipertama = []\n",
        "aksikedua = []\n",
        "aksiketiga = []\n",
        "aksikeempat = []\n",
        "\n",
        "#Masukin isi dari def ke wadah kosong tadi hehe\n",
        "aksipertama = act1()\n",
        "aksikedua = act2()\n",
        "aksiketiga = act3()\n",
        "aksikeempat = act4()"
      ],
      "metadata": {
        "id": "3wAW18rzrTXs"
      },
      "execution_count": 12,
      "outputs": []
    },
    {
      "cell_type": "code",
      "source": [
        "aksipertama"
      ],
      "metadata": {
        "colab": {
          "base_uri": "https://localhost:8080/"
        },
        "id": "i_hQ6jB2sBqQ",
        "outputId": "56c1bfcb-0a40-4448-81dc-52213b900659"
      },
      "execution_count": 13,
      "outputs": [
        {
          "output_type": "execute_result",
          "data": {
            "text/plain": [
              "[('Punch',),\n",
              " ('Punch',),\n",
              " ('Kick',),\n",
              " ('Punch',),\n",
              " ('Special',),\n",
              " ('Punch',),\n",
              " ('Kick',),\n",
              " ('Special',),\n",
              " ('Kick',),\n",
              " ('Kick',),\n",
              " ('Special',),\n",
              " ('Special',)]"
            ]
          },
          "metadata": {},
          "execution_count": 13
        }
      ]
    },
    {
      "cell_type": "code",
      "source": [
        "aksikedua"
      ],
      "metadata": {
        "colab": {
          "base_uri": "https://localhost:8080/"
        },
        "id": "nEIR7BRuwUxz",
        "outputId": "2d43220e-c7f5-435e-b455-9a6933e411d5"
      },
      "execution_count": 14,
      "outputs": [
        {
          "output_type": "execute_result",
          "data": {
            "text/plain": [
              "[('Punch',),\n",
              " ('Kick',),\n",
              " ('Punch',),\n",
              " ('Special',),\n",
              " ('Punch',),\n",
              " ('Kick',),\n",
              " ('Special',),\n",
              " ('Punch',),\n",
              " ('Kick',),\n",
              " ('Kick',),\n",
              " ('Punch',),\n",
              " ('Kick',)]"
            ]
          },
          "metadata": {},
          "execution_count": 14
        }
      ]
    },
    {
      "cell_type": "code",
      "source": [
        "aksiketiga"
      ],
      "metadata": {
        "colab": {
          "base_uri": "https://localhost:8080/"
        },
        "id": "I3BDBk5wxZN2",
        "outputId": "1d62d745-fcc9-4a6a-d6ba-b6df366614cd"
      },
      "execution_count": 15,
      "outputs": [
        {
          "output_type": "execute_result",
          "data": {
            "text/plain": [
              "[('Kick',),\n",
              " ('Punch',),\n",
              " ('Special',),\n",
              " ('Punch',),\n",
              " ('Kick',),\n",
              " ('Special',),\n",
              " ('Punch',),\n",
              " ('Kick',),\n",
              " ('Kick',),\n",
              " ('Punch',),\n",
              " ('Punch',),\n",
              " ('Special',)]"
            ]
          },
          "metadata": {},
          "execution_count": 15
        }
      ]
    },
    {
      "cell_type": "code",
      "source": [
        "aksikeempat"
      ],
      "metadata": {
        "colab": {
          "base_uri": "https://localhost:8080/"
        },
        "id": "rROsR6n2xbWO",
        "outputId": "4a9d5cb7-a2f6-4912-e8bb-ca4aa6983170"
      },
      "execution_count": 16,
      "outputs": [
        {
          "output_type": "execute_result",
          "data": {
            "text/plain": [
              "[('Punch',),\n",
              " ('Special',),\n",
              " ('Punch',),\n",
              " ('Kick',),\n",
              " ('Special',),\n",
              " ('Punch',),\n",
              " ('Kick',),\n",
              " ('Kick',),\n",
              " ('Punch',),\n",
              " ('Special',),\n",
              " ('Punch',),\n",
              " ('Kick',)]"
            ]
          },
          "metadata": {},
          "execution_count": 16
        }
      ]
    },
    {
      "cell_type": "markdown",
      "source": [
        "# Working With Inputs"
      ],
      "metadata": {
        "id": "yWbh-uIfKjBI"
      }
    },
    {
      "cell_type": "code",
      "source": [
        "# Test\n",
        "\n",
        "print('\\n\\t\\t WELCOME TO MY SIMPLE APP')\n",
        "print('\\n\\t\\t By Kusumaatma Syafadhi 1905040064')\n",
        "print('\\n\\t\\t Please Input here (i.e. Punch, Special, or Kick):\\n')\n",
        "\n",
        "action1 = input('\\t\\tAction 1: ')\n",
        "action2 = input('\\t\\tAction 2: ')\n",
        "action3 = input('\\t\\tAction 3: ')"
      ],
      "metadata": {
        "colab": {
          "base_uri": "https://localhost:8080/"
        },
        "id": "jRiQ8VmsKeWV",
        "outputId": "45f3cd7f-1ed5-4afa-e797-e166952d6d3e"
      },
      "execution_count": 17,
      "outputs": [
        {
          "name": "stdout",
          "output_type": "stream",
          "text": [
            "\n",
            "\t\t WELCOME TO MY SIMPLE APP\n",
            "\n",
            "\t\t By Kusumaatma Syafadhi 1905040064\n",
            "\n",
            "\t\t Please Input here (i.e. Punch, Special, or Kick):\n",
            "\n",
            "\t\tAction 1: Punch\n",
            "\t\tAction 2: Kick\n",
            "\t\tAction 3: Kick\n"
          ]
        }
      ]
    },
    {
      "cell_type": "code",
      "source": [
        "masukan_saya = []\n",
        "masukan_saya.append(action1)\n",
        "masukan_saya.append(action2)\n",
        "masukan_saya.append(action3)\n",
        "#tampilkan_act = list(masukan_saya)\n",
        "print('List Aksi : ',masukan_saya)\n"
      ],
      "metadata": {
        "id": "azL9id1FM0hc",
        "colab": {
          "base_uri": "https://localhost:8080/"
        },
        "outputId": "8cdceb2e-03ff-4157-fc9f-2455937d2a32"
      },
      "execution_count": 18,
      "outputs": [
        {
          "output_type": "stream",
          "name": "stdout",
          "text": [
            "List Aksi :  ['Punch', 'Kick', 'Kick']\n"
          ]
        }
      ]
    },
    {
      "cell_type": "markdown",
      "source": [
        "# Encode User Inputs"
      ],
      "metadata": {
        "id": "gLZXBCr3l7qD"
      }
    },
    {
      "cell_type": "code",
      "source": [
        "le = preprocessing.LabelEncoder()\n",
        "act_1_encoded = le.fit_transform(aksipertama)\n",
        "\n",
        "print(act_1_encoded)"
      ],
      "metadata": {
        "colab": {
          "base_uri": "https://localhost:8080/"
        },
        "id": "p51uWkRp-FCI",
        "outputId": "866046c1-7939-4862-c1b0-3465c3786c83"
      },
      "execution_count": 19,
      "outputs": [
        {
          "output_type": "stream",
          "name": "stdout",
          "text": [
            "[1 1 0 1 2 1 0 2 0 0 2 2]\n"
          ]
        },
        {
          "output_type": "stream",
          "name": "stderr",
          "text": [
            "/usr/local/lib/python3.7/dist-packages/sklearn/preprocessing/_label.py:115: DataConversionWarning: A column-vector y was passed when a 1d array was expected. Please change the shape of y to (n_samples, ), for example using ravel().\n",
            "  y = column_or_1d(y, warn=True)\n"
          ]
        }
      ]
    },
    {
      "cell_type": "code",
      "source": [
        "act_2_encoded = le.fit_transform(aksikedua)\n",
        "act_3_encoded = le.fit_transform(aksiketiga)\n",
        "\n",
        "print('Action 2: ', act_2_encoded)\n",
        "print('Action 3: ', act_3_encoded)"
      ],
      "metadata": {
        "colab": {
          "base_uri": "https://localhost:8080/"
        },
        "id": "VxCle4Sr9828",
        "outputId": "84b62515-9f0b-4f9e-975c-93958f3c0f6e"
      },
      "execution_count": 20,
      "outputs": [
        {
          "output_type": "stream",
          "name": "stdout",
          "text": [
            "Action 2:  [1 0 1 2 1 0 2 1 0 0 1 0]\n",
            "Action 3:  [0 1 2 1 0 2 1 0 0 1 1 2]\n"
          ]
        },
        {
          "output_type": "stream",
          "name": "stderr",
          "text": [
            "/usr/local/lib/python3.7/dist-packages/sklearn/preprocessing/_label.py:115: DataConversionWarning: A column-vector y was passed when a 1d array was expected. Please change the shape of y to (n_samples, ), for example using ravel().\n",
            "  y = column_or_1d(y, warn=True)\n"
          ]
        }
      ]
    },
    {
      "cell_type": "code",
      "source": [
        "kelas = le.fit_transform(aksikeempat)\n",
        "print('Action 4: ', kelas)"
      ],
      "metadata": {
        "colab": {
          "base_uri": "https://localhost:8080/"
        },
        "id": "jTKQj0A9-W8I",
        "outputId": "0f8c029a-4158-4234-fb1f-9a09d4a736b9"
      },
      "execution_count": 21,
      "outputs": [
        {
          "output_type": "stream",
          "name": "stdout",
          "text": [
            "Action 4:  [1 2 1 0 2 1 0 0 1 2 1 0]\n"
          ]
        },
        {
          "output_type": "stream",
          "name": "stderr",
          "text": [
            "/usr/local/lib/python3.7/dist-packages/sklearn/preprocessing/_label.py:115: DataConversionWarning: A column-vector y was passed when a 1d array was expected. Please change the shape of y to (n_samples, ), for example using ravel().\n",
            "  y = column_or_1d(y, warn=True)\n"
          ]
        }
      ]
    },
    {
      "cell_type": "code",
      "source": [
        "featured = zip(act_1_encoded, act_2_encoded, act_3_encoded)\n",
        "hasil_list = list(featured)\n",
        "print(hasil_list)"
      ],
      "metadata": {
        "colab": {
          "base_uri": "https://localhost:8080/"
        },
        "id": "OlboN5-0-cBZ",
        "outputId": "b9c07962-4d65-48e6-de44-aeaf82779d4d"
      },
      "execution_count": 22,
      "outputs": [
        {
          "output_type": "stream",
          "name": "stdout",
          "text": [
            "[(1, 1, 0), (1, 0, 1), (0, 1, 2), (1, 2, 1), (2, 1, 0), (1, 0, 2), (0, 2, 1), (2, 1, 0), (0, 0, 0), (0, 0, 1), (2, 1, 1), (2, 0, 2)]\n"
          ]
        }
      ]
    },
    {
      "cell_type": "markdown",
      "source": [
        "# Predict User Next Move With Gaussian Naive Bayes"
      ],
      "metadata": {
        "id": "ngYVTWkrOEA9"
      }
    },
    {
      "cell_type": "code",
      "source": [
        "from sklearn.naive_bayes import GaussianNB\n",
        "\n",
        "modelkita = GaussianNB()\n",
        "modelkita.fit(hasil_list,kelas)"
      ],
      "metadata": {
        "colab": {
          "base_uri": "https://localhost:8080/"
        },
        "id": "XBSRngei-kZc",
        "outputId": "9b5d6b6b-9380-49e6-ddad-b72223a547ff"
      },
      "execution_count": 23,
      "outputs": [
        {
          "output_type": "execute_result",
          "data": {
            "text/plain": [
              "GaussianNB()"
            ]
          },
          "metadata": {},
          "execution_count": 23
        }
      ]
    },
    {
      "cell_type": "code",
      "source": [
        "# Disini, masukin user input terus diencode buat bikin prediksinya ntar\n",
        "acts_encoded = le.fit_transform(masukan_saya)\n",
        "teslist = list(acts_encoded)\n",
        "print('Dikasih Prediksi: ', teslist)"
      ],
      "metadata": {
        "colab": {
          "base_uri": "https://localhost:8080/"
        },
        "id": "o5EHUiarhtr2",
        "outputId": "82136cbc-75bd-4eb3-8d92-a281d00c20f8"
      },
      "execution_count": 24,
      "outputs": [
        {
          "output_type": "stream",
          "name": "stdout",
          "text": [
            "Dikasih Prediksi:  [1, 0, 0]\n"
          ]
        }
      ]
    },
    {
      "cell_type": "code",
      "source": [
        "# Disini, data yang udah diencode tadi, saya rubah jadi array 1D biar bisa diproses di tahap terakhir\n",
        "cobaprediksi = np.array(teslist, dtype=object)\n",
        "cobaprediksi = cobaprediksi.reshape(1,-1)\n",
        "cobaprediksi"
      ],
      "metadata": {
        "id": "HJos7ppo_2Hw",
        "colab": {
          "base_uri": "https://localhost:8080/"
        },
        "outputId": "c20842fb-27b2-4a72-962f-690ef3b90f12"
      },
      "execution_count": 25,
      "outputs": [
        {
          "output_type": "execute_result",
          "data": {
            "text/plain": [
              "array([[1, 0, 0]], dtype=object)"
            ]
          },
          "metadata": {},
          "execution_count": 25
        }
      ]
    },
    {
      "cell_type": "code",
      "source": [
        "prediksi = modelkita.predict(cobaprediksi)\n",
        "print('Next Move Will Be: ', prediksi)"
      ],
      "metadata": {
        "colab": {
          "base_uri": "https://localhost:8080/"
        },
        "id": "1OD3OxOS-r_d",
        "outputId": "e9f79679-e659-43b0-81b7-6c3ed24161ba"
      },
      "execution_count": 26,
      "outputs": [
        {
          "output_type": "stream",
          "name": "stdout",
          "text": [
            "Next Move Will Be:  [2]\n"
          ]
        }
      ]
    }
  ]
}