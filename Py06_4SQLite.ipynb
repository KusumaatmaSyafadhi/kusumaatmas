{
  "nbformat": 4,
  "nbformat_minor": 0,
  "metadata": {
    "colab": {
      "name": "Py06_4SQLite.ipynb",
      "provenance": [],
      "include_colab_link": true
    },
    "kernelspec": {
      "display_name": "Python 3",
      "language": "python",
      "name": "python3"
    },
    "language_info": {
      "codemirror_mode": {
        "name": "ipython",
        "version": 3
      },
      "file_extension": ".py",
      "mimetype": "text/x-python",
      "name": "python",
      "nbconvert_exporter": "python",
      "pygments_lexer": "ipython3",
      "version": "3.7.6"
    }
  },
  "cells": [
    {
      "cell_type": "markdown",
      "metadata": {
        "id": "view-in-github",
        "colab_type": "text"
      },
      "source": [
        "<a href=\"https://colab.research.google.com/github/KusumaatmaSyafadhi/kusumaatmas/blob/main/Py06_4SQLite.ipynb\" target=\"_parent\"><img src=\"https://colab.research.google.com/assets/colab-badge.svg\" alt=\"Open In Colab\"/></a>"
      ]
    },
    {
      "cell_type": "markdown",
      "metadata": {
        "id": "lGr-I3gy0eIj"
      },
      "source": [
        "# (4)-SQLite Input/Output\n"
      ]
    },
    {
      "cell_type": "code",
      "metadata": {
        "id": "FyuF_lfi9kjk"
      },
      "source": [
        "import sqlite3\n",
        "con = sqlite3.connect('score.db')"
      ],
      "execution_count": 8,
      "outputs": []
    },
    {
      "cell_type": "code",
      "metadata": {
        "colab": {
          "base_uri": "https://localhost:8080/",
          "height": 282
        },
        "id": "NgFgbNrB9kjm",
        "outputId": "67fa8200-5e0c-4cba-f0a3-38a585cc3662"
      },
      "source": [
        "cur = con.cursor()\n",
        "# Create table\n",
        "cur.execute('''CREATE TABLE score\n",
        "               (math integer, biology integer, average real)''')"
      ],
      "execution_count": 9,
      "outputs": [
        {
          "output_type": "stream",
          "text": [
            "ERROR:root:An unexpected error occurred while tokenizing input\n",
            "The following traceback may be corrupted or invalid\n",
            "The error message is: ('EOF in multi-line string', (1, 60))\n",
            "\n"
          ],
          "name": "stderr"
        },
        {
          "output_type": "error",
          "ename": "OperationalError",
          "evalue": "ignored",
          "traceback": [
            "\u001b[0;31m---------------------------------------------------------------------------\u001b[0m",
            "\u001b[0;31mOperationalError\u001b[0m                          Traceback (most recent call last)",
            "\u001b[0;32m<ipython-input-9-c679d7f35742>\u001b[0m in \u001b[0;36m<module>\u001b[0;34m()\u001b[0m\n\u001b[1;32m      2\u001b[0m \u001b[0;31m# Create table\u001b[0m\u001b[0;34m\u001b[0m\u001b[0;34m\u001b[0m\u001b[0;34m\u001b[0m\u001b[0m\n\u001b[1;32m      3\u001b[0m cur.execute('''CREATE TABLE score\n\u001b[0;32m----> 4\u001b[0;31m                (math integer, biology integer, average real)''')\n\u001b[0m",
            "\u001b[0;31mOperationalError\u001b[0m: table score already exists"
          ]
        }
      ]
    },
    {
      "cell_type": "code",
      "metadata": {
        "id": "6s-tWgRE9kjp"
      },
      "source": [
        "#Read data from score.csv and Calculate the average score\n",
        "import csv\n",
        "with open('score.csv', newline='') as fin:\n",
        "    csvreader = csv.reader(fin)\n",
        "    for row in csvreader:\n",
        "        math, biology = map(int,row)\n",
        "        average = (math+biology)/2\n",
        "        print(f\"{math:>2} {biology:>2} {average:>4.1f}\")"
      ],
      "execution_count": null,
      "outputs": []
    },
    {
      "cell_type": "code",
      "metadata": {
        "id": "18DYGHG70bxd"
      },
      "source": [
        "#Read data from score.csv and Calculate the average score\n",
        "import csv\n",
        "with open('score.csv', newline='') as fin:\n",
        "    csvreader = csv.reader(fin)\n",
        "    for row in csvreader:\n",
        "        math, biology = map(int,row)\n",
        "        average = (math+biology)/2\n",
        "        #print(f\"{math:>2} {biology:>2} {average:>4.1f}\")\n",
        "        \n",
        "        # Insert a row of data\n",
        "        cur.execute(f\"INSERT INTO score VALUES ({math},{biology}, {average})\")\n",
        "\n",
        "# Save (commit) the changes\n",
        "con.commit()\n",
        "\n",
        "# We can also close the connection if we are done with it.\n",
        "# Just be sure any changes have been committed or they will be lost.\n",
        "con.close()"
      ],
      "execution_count": null,
      "outputs": []
    },
    {
      "cell_type": "code",
      "metadata": {
        "id": "lZ8GO3FK01kw"
      },
      "source": [
        "#Read data from score.db and print the first \n",
        "import sqlite3\n",
        "con = sqlite3.connect('score.db')\n",
        "cur = con.cursor()\n",
        "cur.execute('SELECT * FROM score')\n",
        "print(cur.fetchone())\n",
        "con.close()"
      ],
      "execution_count": null,
      "outputs": []
    },
    {
      "cell_type": "code",
      "metadata": {
        "id": "-pqPHNwx9kjs"
      },
      "source": [
        "#Read data from score.db and print all scores \n",
        "import sqlite3\n",
        "con = sqlite3.connect('score.db')\n",
        "cur = con.cursor()\n",
        "cur.execute('SELECT * FROM score')\n",
        "print(cur.fetchall())\n",
        "con.close()"
      ],
      "execution_count": null,
      "outputs": []
    },
    {
      "cell_type": "code",
      "metadata": {
        "id": "zjLj34CK9kjt"
      },
      "source": [
        "#Read data from score.db and print the passed \n",
        "import sqlite3\n",
        "con = sqlite3.connect('score.db')\n",
        "cur = con.cursor()\n",
        "cur.execute('SELECT * FROM score WHERE average >=60')\n",
        "print(cur.fetchall())\n",
        "con.close()"
      ],
      "execution_count": null,
      "outputs": []
    },
    {
      "cell_type": "code",
      "metadata": {
        "id": "ZCpuDkZ69kjv"
      },
      "source": [
        "#Read data from score.db and list the scores\n",
        "import sqlite3\n",
        "con = sqlite3.connect('score.db')\n",
        "cur = con.cursor()\n",
        "for row in cur.execute('SELECT * FROM score'):\n",
        "    print(row)"
      ],
      "execution_count": null,
      "outputs": []
    },
    {
      "cell_type": "code",
      "metadata": {
        "id": "tk9E597G9kjw"
      },
      "source": [
        "#Read data from score.db and list the scores\n",
        "import sqlite3\n",
        "con = sqlite3.connect('score.db')\n",
        "cur = con.cursor()\n",
        "for math, biology, average in cur.execute('SELECT * FROM score'):\n",
        "    print(f\"{math:>2} {biology:>2} {average:>4.1f}\")"
      ],
      "execution_count": 7,
      "outputs": []
    },
    {
      "cell_type": "markdown",
      "metadata": {
        "id": "sstlio5z9kjx"
      },
      "source": [
        "## Exercise: Read data from score.db and print math >=60 & biology <60"
      ]
    },
    {
      "cell_type": "code",
      "metadata": {
        "id": "C_0OInXq031l"
      },
      "source": [
        "import sqlite3\n",
        "con = sqlite3.connect('score.db')\n",
        "cur = con.cursor()\n",
        "for row in cur.execute('SELECT * FROM score'):\n",
        "  print(f\"{math>=60} {biology<60}\")"
      ],
      "execution_count": 14,
      "outputs": []
    },
    {
      "cell_type": "markdown",
      "metadata": {
        "id": "BZdsNNXc9kjy"
      },
      "source": [
        "## Exercise: list the scores from score.db ordered by ascending math score"
      ]
    },
    {
      "cell_type": "code",
      "metadata": {
        "id": "OlUd7V3V9kj0"
      },
      "source": [
        "import sqlite3\n",
        "con = sqlite3.connect('score.db')\n",
        "cur = con.cursor()\n",
        "for row in cur.execute('SELECT * FROM score ORDER BY math ASC'):\n",
        "  print(f\"math\")"
      ],
      "execution_count": 11,
      "outputs": []
    }
  ]
}