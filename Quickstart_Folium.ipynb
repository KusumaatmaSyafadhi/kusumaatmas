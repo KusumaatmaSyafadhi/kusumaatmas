{
  "nbformat": 4,
  "nbformat_minor": 0,
  "metadata": {
    "colab": {
      "name": "Quickstart-Folium.ipynb",
      "provenance": [],
      "collapsed_sections": [],
      "authorship_tag": "ABX9TyOCahWKf2FLRbNTZFThdQ5L",
      "include_colab_link": true
    },
    "kernelspec": {
      "name": "python3",
      "display_name": "Python 3"
    },
    "language_info": {
      "name": "python"
    }
  },
  "cells": [
    {
      "cell_type": "markdown",
      "metadata": {
        "id": "view-in-github",
        "colab_type": "text"
      },
      "source": [
        "<a href=\"https://colab.research.google.com/github/KusumaatmaSyafadhi/kusumaatmas/blob/main/Quickstart_Folium.ipynb\" target=\"_parent\"><img src=\"https://colab.research.google.com/assets/colab-badge.svg\" alt=\"Open In Colab\"/></a>"
      ]
    },
    {
      "cell_type": "code",
      "metadata": {
        "id": "o_k0Dp_Y7VwW"
      },
      "source": [
        "import folium\n",
        " \n",
        " \n",
        "m = folium.Map(location=[-7.4804655, 110.2128552], zoom_start = 10)\n",
        " \n",
        "tooltip = \"This is the town where I live\"\n",
        " \n",
        "folium.Marker(\n",
        "    [-7.4804655, 110.2128552],\n",
        "    popup=\"Magelang</i>\", \n",
        "    icon=folium.Icon(color=\"red\", icon=\"home\"),\n",
        "    tooltip=tooltip\n",
        ").add_to(m)\n",
        " \n",
        "m"
      ],
      "execution_count": null,
      "outputs": []
    },
    {
      "cell_type": "code",
      "metadata": {
        "id": "PNqrkHg478hQ"
      },
      "source": [
        "m.save(\"index.html\")"
      ],
      "execution_count": null,
      "outputs": []
    },
    {
      "cell_type": "code",
      "metadata": {
        "id": "eZK_a9sHfFf0"
      },
      "source": [
        "m = folium.Map(location=[-7.52191, 110.22712], zoom_start = 20)\n",
        " \n",
        "tooltip = \"My Campus\"\n",
        " \n",
        "folium.Marker(\n",
        "    [-7.52191, 110.22712],\n",
        "    popup=\"Universitas Muhammadiyah Magelang (Muhammadiyah University Of Magelang)</i>\", \n",
        "    icon=folium.Icon(color=\"green\", icon=\"home\"),\n",
        "    tooltip=tooltip\n",
        ").add_to(m)\n",
        " \n",
        "m"
      ],
      "execution_count": null,
      "outputs": []
    }
  ]
}