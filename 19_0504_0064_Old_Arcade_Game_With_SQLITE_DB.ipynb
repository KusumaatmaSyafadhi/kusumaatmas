{
  "nbformat": 4,
  "nbformat_minor": 0,
  "metadata": {
    "colab": {
      "name": "19.0504.0064_Old Arcade Game With SQLITE DB.ipynb",
      "provenance": [],
      "authorship_tag": "ABX9TyMSk7C18lR/JNlE5ebe7KvN",
      "include_colab_link": true
    },
    "kernelspec": {
      "name": "python3",
      "display_name": "Python 3"
    },
    "language_info": {
      "name": "python"
    }
  },
  "cells": [
    {
      "cell_type": "markdown",
      "metadata": {
        "id": "view-in-github",
        "colab_type": "text"
      },
      "source": [
        "<a href=\"https://colab.research.google.com/github/KusumaatmaSyafadhi/kusumaatmas/blob/main/19_0504_0064_Old_Arcade_Game_With_SQLITE_DB.ipynb\" target=\"_parent\"><img src=\"https://colab.research.google.com/assets/colab-badge.svg\" alt=\"Open In Colab\"/></a>"
      ]
    },
    {
      "cell_type": "markdown",
      "source": [
        "# Calling the dependencies"
      ],
      "metadata": {
        "id": "5xOBmwaT39hW"
      }
    },
    {
      "cell_type": "code",
      "execution_count": 37,
      "metadata": {
        "id": "Bq5Cd8NMdGfm"
      },
      "outputs": [],
      "source": [
        "import sqlite3\n",
        "from sklearn import preprocessing\n",
        "import os.path\n",
        "import sys\n",
        "from sqlalchemy import create_engine\n",
        "import numpy as np\n",
        "import pandas as pd\n"
      ]
    },
    {
      "cell_type": "markdown",
      "source": [
        "# DB Connection and Cursor"
      ],
      "metadata": {
        "id": "kDu_Dqju4A8w"
      }
    },
    {
      "cell_type": "code",
      "source": [
        "#Connection\n",
        "ichconn= create_engine('sqlite:////content/old_arcade.db')\n",
        "con = ichconn.raw_connection()"
      ],
      "metadata": {
        "id": "t1JhFVgrvUf7"
      },
      "execution_count": 20,
      "outputs": []
    },
    {
      "cell_type": "code",
      "source": [
        "cur = con.cursor()"
      ],
      "metadata": {
        "id": "_g5mmGDfwdhK"
      },
      "execution_count": 21,
      "outputs": []
    },
    {
      "cell_type": "code",
      "source": [
        "con.commit() # Menjalin komitmen yang serius :V"
      ],
      "metadata": {
        "id": "yxmKDCmAjafw"
      },
      "execution_count": null,
      "outputs": []
    },
    {
      "cell_type": "code",
      "source": [
        "milih = cur.execute(\"Select*from actions\")\n",
        "\n"
      ],
      "metadata": {
        "id": "FzOUupZ7kY8q"
      },
      "execution_count": 25,
      "outputs": []
    },
    {
      "cell_type": "code",
      "source": [
        "act1234 = milih.fetchall()\n"
      ],
      "metadata": {
        "id": "Itud8SCLj-iE"
      },
      "execution_count": 26,
      "outputs": []
    },
    {
      "cell_type": "code",
      "source": [
        "act1234"
      ],
      "metadata": {
        "colab": {
          "base_uri": "https://localhost:8080/"
        },
        "id": "P_ATZw49se_a",
        "outputId": "e6745535-5508-45aa-e709-bd522a68b785"
      },
      "execution_count": 27,
      "outputs": [
        {
          "output_type": "execute_result",
          "data": {
            "text/plain": [
              "[('Punch', 'Punch', 'Kick', 'Punch'),\n",
              " ('Punch', 'Kick', 'Punch', 'Special'),\n",
              " ('Kick', 'Punch', 'Special', 'Punch'),\n",
              " ('Punch', 'Special', 'Punch', 'Kick'),\n",
              " ('Special', 'Punch', 'Kick', 'Special'),\n",
              " ('Punch', 'Kick', 'Special', 'Punch'),\n",
              " ('Kick', 'Special', 'Punch', 'Kick'),\n",
              " ('Special', 'Punch', 'Kick', 'Kick'),\n",
              " ('Kick', 'Kick', 'Kick', 'Punch'),\n",
              " ('Kick', 'Kick', 'Punch', 'Special'),\n",
              " ('Special', 'Punch', 'Punch', 'Punch'),\n",
              " ('Special', 'Kick', 'Special', 'Kick')]"
            ]
          },
          "metadata": {},
          "execution_count": 27
        }
      ]
    },
    {
      "cell_type": "markdown",
      "source": [
        "# Insert all data to dataframe"
      ],
      "metadata": {
        "id": "9bAXunNYHCvo"
      }
    },
    {
      "cell_type": "code",
      "source": [
        "actionDF = pd.DataFrame(act1234, columns =[x[0] for x in milih.description])"
      ],
      "metadata": {
        "id": "JXUzvE9zHCDr"
      },
      "execution_count": 38,
      "outputs": []
    },
    {
      "cell_type": "code",
      "source": [
        "actionDF"
      ],
      "metadata": {
        "colab": {
          "base_uri": "https://localhost:8080/",
          "height": 426
        },
        "id": "8_97_5FFH2oD",
        "outputId": "d00e7e43-728f-4dbc-94e5-0679fba9f038"
      },
      "execution_count": 39,
      "outputs": [
        {
          "output_type": "execute_result",
          "data": {
            "text/plain": [
              "      act_1    act_2    act_3    act_4\n",
              "0     Punch    Punch     Kick    Punch\n",
              "1     Punch     Kick    Punch  Special\n",
              "2      Kick    Punch  Special    Punch\n",
              "3     Punch  Special    Punch     Kick\n",
              "4   Special    Punch     Kick  Special\n",
              "5     Punch     Kick  Special    Punch\n",
              "6      Kick  Special    Punch     Kick\n",
              "7   Special    Punch     Kick     Kick\n",
              "8      Kick     Kick     Kick    Punch\n",
              "9      Kick     Kick    Punch  Special\n",
              "10  Special    Punch    Punch    Punch\n",
              "11  Special     Kick  Special     Kick"
            ],
            "text/html": [
              "\n",
              "  <div id=\"df-1ef2cb72-b74a-4562-ab0e-6fd1a9943189\">\n",
              "    <div class=\"colab-df-container\">\n",
              "      <div>\n",
              "<style scoped>\n",
              "    .dataframe tbody tr th:only-of-type {\n",
              "        vertical-align: middle;\n",
              "    }\n",
              "\n",
              "    .dataframe tbody tr th {\n",
              "        vertical-align: top;\n",
              "    }\n",
              "\n",
              "    .dataframe thead th {\n",
              "        text-align: right;\n",
              "    }\n",
              "</style>\n",
              "<table border=\"1\" class=\"dataframe\">\n",
              "  <thead>\n",
              "    <tr style=\"text-align: right;\">\n",
              "      <th></th>\n",
              "      <th>act_1</th>\n",
              "      <th>act_2</th>\n",
              "      <th>act_3</th>\n",
              "      <th>act_4</th>\n",
              "    </tr>\n",
              "  </thead>\n",
              "  <tbody>\n",
              "    <tr>\n",
              "      <th>0</th>\n",
              "      <td>Punch</td>\n",
              "      <td>Punch</td>\n",
              "      <td>Kick</td>\n",
              "      <td>Punch</td>\n",
              "    </tr>\n",
              "    <tr>\n",
              "      <th>1</th>\n",
              "      <td>Punch</td>\n",
              "      <td>Kick</td>\n",
              "      <td>Punch</td>\n",
              "      <td>Special</td>\n",
              "    </tr>\n",
              "    <tr>\n",
              "      <th>2</th>\n",
              "      <td>Kick</td>\n",
              "      <td>Punch</td>\n",
              "      <td>Special</td>\n",
              "      <td>Punch</td>\n",
              "    </tr>\n",
              "    <tr>\n",
              "      <th>3</th>\n",
              "      <td>Punch</td>\n",
              "      <td>Special</td>\n",
              "      <td>Punch</td>\n",
              "      <td>Kick</td>\n",
              "    </tr>\n",
              "    <tr>\n",
              "      <th>4</th>\n",
              "      <td>Special</td>\n",
              "      <td>Punch</td>\n",
              "      <td>Kick</td>\n",
              "      <td>Special</td>\n",
              "    </tr>\n",
              "    <tr>\n",
              "      <th>5</th>\n",
              "      <td>Punch</td>\n",
              "      <td>Kick</td>\n",
              "      <td>Special</td>\n",
              "      <td>Punch</td>\n",
              "    </tr>\n",
              "    <tr>\n",
              "      <th>6</th>\n",
              "      <td>Kick</td>\n",
              "      <td>Special</td>\n",
              "      <td>Punch</td>\n",
              "      <td>Kick</td>\n",
              "    </tr>\n",
              "    <tr>\n",
              "      <th>7</th>\n",
              "      <td>Special</td>\n",
              "      <td>Punch</td>\n",
              "      <td>Kick</td>\n",
              "      <td>Kick</td>\n",
              "    </tr>\n",
              "    <tr>\n",
              "      <th>8</th>\n",
              "      <td>Kick</td>\n",
              "      <td>Kick</td>\n",
              "      <td>Kick</td>\n",
              "      <td>Punch</td>\n",
              "    </tr>\n",
              "    <tr>\n",
              "      <th>9</th>\n",
              "      <td>Kick</td>\n",
              "      <td>Kick</td>\n",
              "      <td>Punch</td>\n",
              "      <td>Special</td>\n",
              "    </tr>\n",
              "    <tr>\n",
              "      <th>10</th>\n",
              "      <td>Special</td>\n",
              "      <td>Punch</td>\n",
              "      <td>Punch</td>\n",
              "      <td>Punch</td>\n",
              "    </tr>\n",
              "    <tr>\n",
              "      <th>11</th>\n",
              "      <td>Special</td>\n",
              "      <td>Kick</td>\n",
              "      <td>Special</td>\n",
              "      <td>Kick</td>\n",
              "    </tr>\n",
              "  </tbody>\n",
              "</table>\n",
              "</div>\n",
              "      <button class=\"colab-df-convert\" onclick=\"convertToInteractive('df-1ef2cb72-b74a-4562-ab0e-6fd1a9943189')\"\n",
              "              title=\"Convert this dataframe to an interactive table.\"\n",
              "              style=\"display:none;\">\n",
              "        \n",
              "  <svg xmlns=\"http://www.w3.org/2000/svg\" height=\"24px\"viewBox=\"0 0 24 24\"\n",
              "       width=\"24px\">\n",
              "    <path d=\"M0 0h24v24H0V0z\" fill=\"none\"/>\n",
              "    <path d=\"M18.56 5.44l.94 2.06.94-2.06 2.06-.94-2.06-.94-.94-2.06-.94 2.06-2.06.94zm-11 1L8.5 8.5l.94-2.06 2.06-.94-2.06-.94L8.5 2.5l-.94 2.06-2.06.94zm10 10l.94 2.06.94-2.06 2.06-.94-2.06-.94-.94-2.06-.94 2.06-2.06.94z\"/><path d=\"M17.41 7.96l-1.37-1.37c-.4-.4-.92-.59-1.43-.59-.52 0-1.04.2-1.43.59L10.3 9.45l-7.72 7.72c-.78.78-.78 2.05 0 2.83L4 21.41c.39.39.9.59 1.41.59.51 0 1.02-.2 1.41-.59l7.78-7.78 2.81-2.81c.8-.78.8-2.07 0-2.86zM5.41 20L4 18.59l7.72-7.72 1.47 1.35L5.41 20z\"/>\n",
              "  </svg>\n",
              "      </button>\n",
              "      \n",
              "  <style>\n",
              "    .colab-df-container {\n",
              "      display:flex;\n",
              "      flex-wrap:wrap;\n",
              "      gap: 12px;\n",
              "    }\n",
              "\n",
              "    .colab-df-convert {\n",
              "      background-color: #E8F0FE;\n",
              "      border: none;\n",
              "      border-radius: 50%;\n",
              "      cursor: pointer;\n",
              "      display: none;\n",
              "      fill: #1967D2;\n",
              "      height: 32px;\n",
              "      padding: 0 0 0 0;\n",
              "      width: 32px;\n",
              "    }\n",
              "\n",
              "    .colab-df-convert:hover {\n",
              "      background-color: #E2EBFA;\n",
              "      box-shadow: 0px 1px 2px rgba(60, 64, 67, 0.3), 0px 1px 3px 1px rgba(60, 64, 67, 0.15);\n",
              "      fill: #174EA6;\n",
              "    }\n",
              "\n",
              "    [theme=dark] .colab-df-convert {\n",
              "      background-color: #3B4455;\n",
              "      fill: #D2E3FC;\n",
              "    }\n",
              "\n",
              "    [theme=dark] .colab-df-convert:hover {\n",
              "      background-color: #434B5C;\n",
              "      box-shadow: 0px 1px 3px 1px rgba(0, 0, 0, 0.15);\n",
              "      filter: drop-shadow(0px 1px 2px rgba(0, 0, 0, 0.3));\n",
              "      fill: #FFFFFF;\n",
              "    }\n",
              "  </style>\n",
              "\n",
              "      <script>\n",
              "        const buttonEl =\n",
              "          document.querySelector('#df-1ef2cb72-b74a-4562-ab0e-6fd1a9943189 button.colab-df-convert');\n",
              "        buttonEl.style.display =\n",
              "          google.colab.kernel.accessAllowed ? 'block' : 'none';\n",
              "\n",
              "        async function convertToInteractive(key) {\n",
              "          const element = document.querySelector('#df-1ef2cb72-b74a-4562-ab0e-6fd1a9943189');\n",
              "          const dataTable =\n",
              "            await google.colab.kernel.invokeFunction('convertToInteractive',\n",
              "                                                     [key], {});\n",
              "          if (!dataTable) return;\n",
              "\n",
              "          const docLinkHtml = 'Like what you see? Visit the ' +\n",
              "            '<a target=\"_blank\" href=https://colab.research.google.com/notebooks/data_table.ipynb>data table notebook</a>'\n",
              "            + ' to learn more about interactive tables.';\n",
              "          element.innerHTML = '';\n",
              "          dataTable['output_type'] = 'display_data';\n",
              "          await google.colab.output.renderOutput(dataTable, element);\n",
              "          const docLink = document.createElement('div');\n",
              "          docLink.innerHTML = docLinkHtml;\n",
              "          element.appendChild(docLink);\n",
              "        }\n",
              "      </script>\n",
              "    </div>\n",
              "  </div>\n",
              "  "
            ]
          },
          "metadata": {},
          "execution_count": 39
        }
      ]
    },
    {
      "cell_type": "code",
      "source": [
        "aksi1 = actionDF['act_1']\n",
        "aksi2 = actionDF['act_2']\n",
        "aksi3 = actionDF['act_3']\n",
        "aksi4 = actionDF['act_4']"
      ],
      "metadata": {
        "id": "hlO6otiJKG3I"
      },
      "execution_count": 42,
      "outputs": []
    },
    {
      "cell_type": "markdown",
      "source": [
        "# Convert the series into ndarray"
      ],
      "metadata": {
        "id": "lXq87-UNLOCY"
      }
    },
    {
      "cell_type": "markdown",
      "source": [
        "This section is all about converting the pandas series so that it could be encoded on the next section"
      ],
      "metadata": {
        "id": "ln6SnofILVnf"
      }
    },
    {
      "cell_type": "code",
      "source": [
        "aksi1array = np.array(aksi1)"
      ],
      "metadata": {
        "id": "rxSKmAGkKzgN"
      },
      "execution_count": 46,
      "outputs": []
    },
    {
      "cell_type": "code",
      "source": [
        "aksi1array"
      ],
      "metadata": {
        "colab": {
          "base_uri": "https://localhost:8080/"
        },
        "id": "y8J9J11vK7wE",
        "outputId": "f0a9044a-087d-44c2-fa06-e212e7bd06fe"
      },
      "execution_count": 47,
      "outputs": [
        {
          "output_type": "execute_result",
          "data": {
            "text/plain": [
              "array(['Punch', 'Punch', 'Kick', 'Punch', 'Special', 'Punch', 'Kick',\n",
              "       'Special', 'Kick', 'Kick', 'Special', 'Special'], dtype=object)"
            ]
          },
          "metadata": {},
          "execution_count": 47
        }
      ]
    },
    {
      "cell_type": "code",
      "source": [
        "aksi2array = np.array(aksi2)"
      ],
      "metadata": {
        "id": "q9buuQgzLgiW"
      },
      "execution_count": 49,
      "outputs": []
    },
    {
      "cell_type": "code",
      "source": [
        "aksi2array"
      ],
      "metadata": {
        "colab": {
          "base_uri": "https://localhost:8080/"
        },
        "id": "8ndlKi7gLmvl",
        "outputId": "4d67410e-4f4d-4a68-b760-d24f4993672e"
      },
      "execution_count": 50,
      "outputs": [
        {
          "output_type": "execute_result",
          "data": {
            "text/plain": [
              "array(['Punch', 'Kick', 'Punch', 'Special', 'Punch', 'Kick', 'Special',\n",
              "       'Punch', 'Kick', 'Kick', 'Punch', 'Kick'], dtype=object)"
            ]
          },
          "metadata": {},
          "execution_count": 50
        }
      ]
    },
    {
      "cell_type": "code",
      "source": [
        "aksi3array = np.array(aksi3)"
      ],
      "metadata": {
        "id": "49psSW27Lu8Y"
      },
      "execution_count": 51,
      "outputs": []
    },
    {
      "cell_type": "code",
      "source": [
        "aksi3array"
      ],
      "metadata": {
        "colab": {
          "base_uri": "https://localhost:8080/"
        },
        "id": "cMDpp79AL1YW",
        "outputId": "105a07c3-f307-4e86-ec31-82fd2ad3a0d3"
      },
      "execution_count": 52,
      "outputs": [
        {
          "output_type": "execute_result",
          "data": {
            "text/plain": [
              "array(['Kick', 'Punch', 'Special', 'Punch', 'Kick', 'Special', 'Punch',\n",
              "       'Kick', 'Kick', 'Punch', 'Punch', 'Special'], dtype=object)"
            ]
          },
          "metadata": {},
          "execution_count": 52
        }
      ]
    },
    {
      "cell_type": "code",
      "source": [
        "aksi4array = np.array(aksi4)"
      ],
      "metadata": {
        "id": "puGa6SqrL43o"
      },
      "execution_count": 53,
      "outputs": []
    },
    {
      "cell_type": "code",
      "source": [
        "aksi4array"
      ],
      "metadata": {
        "colab": {
          "base_uri": "https://localhost:8080/"
        },
        "id": "t1Zg-g7LMAph",
        "outputId": "7af9a2ec-dbd2-4272-accd-4cf55abee1e8"
      },
      "execution_count": 54,
      "outputs": [
        {
          "output_type": "execute_result",
          "data": {
            "text/plain": [
              "array(['Punch', 'Special', 'Punch', 'Kick', 'Special', 'Punch', 'Kick',\n",
              "       'Kick', 'Punch', 'Special', 'Punch', 'Kick'], dtype=object)"
            ]
          },
          "metadata": {},
          "execution_count": 54
        }
      ]
    },
    {
      "cell_type": "markdown",
      "source": [
        "# Working With Inputs"
      ],
      "metadata": {
        "id": "yWbh-uIfKjBI"
      }
    },
    {
      "cell_type": "markdown",
      "source": [
        "## INPUT TEST"
      ],
      "metadata": {
        "id": "JIqHnNvSEA3q"
      }
    },
    {
      "cell_type": "code",
      "source": [
        "# Test\n",
        "\n",
        "print('\\n\\t\\t WELCOME TO MY SIMPLE APP')\n",
        "print('\\n\\t\\t By Kusumaatma Syafadhi 1905040064')\n",
        "print('\\n\\t\\t Please Input here (i.e. Punch, Special, or Kick):\\n')\n",
        "\n",
        "action1 = input('\\t\\tAction 1: ')\n",
        "action2 = input('\\t\\tAction 2: ')\n",
        "action3 = input('\\t\\tAction 3: ')"
      ],
      "metadata": {
        "colab": {
          "base_uri": "https://localhost:8080/"
        },
        "id": "jRiQ8VmsKeWV",
        "outputId": "20c7db8b-74e0-4046-d14b-f17c8c524963"
      },
      "execution_count": 81,
      "outputs": [
        {
          "name": "stdout",
          "output_type": "stream",
          "text": [
            "\n",
            "\t\t WELCOME TO MY SIMPLE APP\n",
            "\n",
            "\t\t By Kusumaatma Syafadhi 1905040064\n",
            "\n",
            "\t\t Please Input here (i.e. Punch, Special, or Kick):\n",
            "\n",
            "\t\tAction 1: Special\n",
            "\t\tAction 2: Kick\n",
            "\t\tAction 3: Kick\n"
          ]
        }
      ]
    },
    {
      "cell_type": "code",
      "source": [
        "masukan_saya = []\n",
        "masukan_saya.append(action1)\n",
        "masukan_saya.append(action2)\n",
        "masukan_saya.append(action3)\n",
        "#tampilkan_act = list(masukan_saya)\n",
        "print('List Aksi : ',masukan_saya)\n"
      ],
      "metadata": {
        "id": "azL9id1FM0hc",
        "colab": {
          "base_uri": "https://localhost:8080/"
        },
        "outputId": "1d4a403e-2586-4f3d-cf3a-307e4daa8b8a"
      },
      "execution_count": 82,
      "outputs": [
        {
          "output_type": "stream",
          "name": "stdout",
          "text": [
            "List Aksi :  ['Special', 'Kick', 'Kick']\n"
          ]
        }
      ]
    },
    {
      "cell_type": "markdown",
      "source": [
        "# Encode User Inputs"
      ],
      "metadata": {
        "id": "gLZXBCr3l7qD"
      }
    },
    {
      "cell_type": "code",
      "source": [
        "le = preprocessing.LabelEncoder()\n",
        "act_1_encoded = le.fit_transform(aksi1array)\n",
        "\n",
        "print(act_1_encoded)"
      ],
      "metadata": {
        "colab": {
          "base_uri": "https://localhost:8080/"
        },
        "id": "p51uWkRp-FCI",
        "outputId": "219c11c3-e550-4c15-edd7-439f727b7abf"
      },
      "execution_count": 57,
      "outputs": [
        {
          "output_type": "stream",
          "name": "stdout",
          "text": [
            "[1 1 0 1 2 1 0 2 0 0 2 2]\n"
          ]
        }
      ]
    },
    {
      "cell_type": "code",
      "source": [
        "act_2_encoded = le.fit_transform(aksi2array)\n",
        "act_3_encoded = le.fit_transform(aksi3array)\n",
        "\n",
        "print('Action 2: ', act_2_encoded)\n",
        "print('Action 3: ', act_3_encoded)"
      ],
      "metadata": {
        "colab": {
          "base_uri": "https://localhost:8080/"
        },
        "id": "VxCle4Sr9828",
        "outputId": "0e4ff60b-b79b-4d17-ea11-823371421441"
      },
      "execution_count": 58,
      "outputs": [
        {
          "output_type": "stream",
          "name": "stdout",
          "text": [
            "Action 2:  [1 0 1 2 1 0 2 1 0 0 1 0]\n",
            "Action 3:  [0 1 2 1 0 2 1 0 0 1 1 2]\n"
          ]
        }
      ]
    },
    {
      "cell_type": "code",
      "source": [
        "kelas = le.fit_transform(aksi4array)\n",
        "print('Action 4: ', kelas)"
      ],
      "metadata": {
        "colab": {
          "base_uri": "https://localhost:8080/"
        },
        "id": "jTKQj0A9-W8I",
        "outputId": "0ed02817-5d4f-4e4c-ee31-a5b30f0e6572"
      },
      "execution_count": 59,
      "outputs": [
        {
          "output_type": "stream",
          "name": "stdout",
          "text": [
            "Action 4:  [1 2 1 0 2 1 0 0 1 2 1 0]\n"
          ]
        }
      ]
    },
    {
      "cell_type": "code",
      "source": [
        "featured = zip(act_1_encoded, act_2_encoded, act_3_encoded)\n",
        "hasil_list = list(featured)\n",
        "print(hasil_list)"
      ],
      "metadata": {
        "colab": {
          "base_uri": "https://localhost:8080/"
        },
        "id": "OlboN5-0-cBZ",
        "outputId": "dd62296c-a3cb-458d-8c2d-5f14e0027274"
      },
      "execution_count": 60,
      "outputs": [
        {
          "output_type": "stream",
          "name": "stdout",
          "text": [
            "[(1, 1, 0), (1, 0, 1), (0, 1, 2), (1, 2, 1), (2, 1, 0), (1, 0, 2), (0, 2, 1), (2, 1, 0), (0, 0, 0), (0, 0, 1), (2, 1, 1), (2, 0, 2)]\n"
          ]
        }
      ]
    },
    {
      "cell_type": "code",
      "source": [
        "from sklearn.naive_bayes import GaussianNB\n",
        "\n",
        "modelkita = GaussianNB()\n",
        "modelkita.fit(hasil_list,kelas)"
      ],
      "metadata": {
        "colab": {
          "base_uri": "https://localhost:8080/"
        },
        "id": "XBSRngei-kZc",
        "outputId": "098c0621-99ce-49e6-b0a8-49085479cc5c"
      },
      "execution_count": 61,
      "outputs": [
        {
          "output_type": "execute_result",
          "data": {
            "text/plain": [
              "GaussianNB()"
            ]
          },
          "metadata": {},
          "execution_count": 61
        }
      ]
    },
    {
      "cell_type": "markdown",
      "source": [
        "# Predict User Next Move"
      ],
      "metadata": {
        "id": "ngYVTWkrOEA9"
      }
    },
    {
      "cell_type": "code",
      "source": [
        "\n",
        "acts_encoded = le.fit_transform(masukan_saya)\n",
        "teslist = list(acts_encoded)\n",
        "print('Dikasih Prediksi: ', teslist)"
      ],
      "metadata": {
        "colab": {
          "base_uri": "https://localhost:8080/"
        },
        "id": "o5EHUiarhtr2",
        "outputId": "f1966be6-f9c8-421f-d49b-5eba35bb966d"
      },
      "execution_count": 83,
      "outputs": [
        {
          "output_type": "stream",
          "name": "stdout",
          "text": [
            "Dikasih Prediksi:  [1, 0, 0]\n"
          ]
        }
      ]
    },
    {
      "cell_type": "code",
      "source": [
        "cobaprediksi = np.array(teslist, dtype=object)"
      ],
      "metadata": {
        "id": "HJos7ppo_2Hw"
      },
      "execution_count": 84,
      "outputs": []
    },
    {
      "cell_type": "code",
      "source": [
        "cobaprediksi = cobaprediksi.reshape(1,-1)"
      ],
      "metadata": {
        "id": "5agbOZa0AEPu"
      },
      "execution_count": 85,
      "outputs": []
    },
    {
      "cell_type": "code",
      "source": [
        "cobaprediksi"
      ],
      "metadata": {
        "colab": {
          "base_uri": "https://localhost:8080/"
        },
        "id": "504lR9XuANmD",
        "outputId": "77b47ebd-9c7d-4243-942f-004ee106ce36"
      },
      "execution_count": 86,
      "outputs": [
        {
          "output_type": "execute_result",
          "data": {
            "text/plain": [
              "array([[1, 0, 0]], dtype=object)"
            ]
          },
          "metadata": {},
          "execution_count": 86
        }
      ]
    },
    {
      "cell_type": "code",
      "source": [
        "prediksi = modelkita.predict(cobaprediksi)\n",
        "print('Next Move Will Be: ', prediksi)"
      ],
      "metadata": {
        "colab": {
          "base_uri": "https://localhost:8080/"
        },
        "id": "1OD3OxOS-r_d",
        "outputId": "6ba6bf47-c123-43b0-fd2e-ffd3b07c7bdc"
      },
      "execution_count": 87,
      "outputs": [
        {
          "output_type": "stream",
          "name": "stdout",
          "text": [
            "Next Move Will Be:  [2]\n"
          ]
        }
      ]
    }
  ]
}