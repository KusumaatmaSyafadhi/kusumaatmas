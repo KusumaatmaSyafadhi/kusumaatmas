{
  "nbformat": 4,
  "nbformat_minor": 0,
  "metadata": {
    "colab": {
      "name": "used car sales US",
      "provenance": [],
      "collapsed_sections": [],
      "authorship_tag": "ABX9TyNFJRnzxZxu0qCiqo7x6OGb",
      "include_colab_link": true
    },
    "kernelspec": {
      "name": "python3",
      "display_name": "Python 3"
    },
    "language_info": {
      "name": "python"
    }
  },
  "cells": [
    {
      "cell_type": "markdown",
      "metadata": {
        "id": "view-in-github",
        "colab_type": "text"
      },
      "source": [
        "<a href=\"https://colab.research.google.com/github/KusumaatmaSyafadhi/kusumaatmas/blob/main/used_car_sales_US.ipynb\" target=\"_parent\"><img src=\"https://colab.research.google.com/assets/colab-badge.svg\" alt=\"Open In Colab\"/></a>"
      ]
    },
    {
      "cell_type": "code",
      "metadata": {
        "id": "QlubR2ztGduP"
      },
      "source": [
        "import pandas as pd\n",
        "import numpy as np\n",
        "import folium\n",
        "import matplotlib.pyplot as plt\n",
        "import seaborn as sns"
      ],
      "execution_count": 45,
      "outputs": []
    },
    {
      "cell_type": "code",
      "metadata": {
        "id": "y80YcsoxHDtT"
      },
      "source": [
        "carsales=pd.read_csv(\"https://raw.githubusercontent.com/KusumaatmaSyafadhi/kusumaatmas/main/used_car_sales.csv\")\n",
        "zip_codes=pd.read_csv('https://raw.githubusercontent.com/KusumaatmaSyafadhi/kusumaatmas/main/ZIP-COUNTY-FIPS_2017-06.csv')"
      ],
      "execution_count": 46,
      "outputs": []
    },
    {
      "cell_type": "code",
      "metadata": {
        "id": "87zB2BX-OH9V",
        "colab": {
          "base_uri": "https://localhost:8080/"
        },
        "outputId": "8cbaceb0-bcc4-4987-e0ce-bd3d5fdbdf44"
      },
      "source": [
        "carsales.shape"
      ],
      "execution_count": 47,
      "outputs": [
        {
          "output_type": "execute_result",
          "data": {
            "text/plain": [
              "(122144, 13)"
            ]
          },
          "metadata": {
            "tags": []
          },
          "execution_count": 47
        }
      ]
    },
    {
      "cell_type": "code",
      "metadata": {
        "colab": {
          "base_uri": "https://localhost:8080/"
        },
        "id": "HP13w9imwz7b",
        "outputId": "ec857781-e22f-420a-93fa-3de4553a5759"
      },
      "source": [
        "zip_codes.shape"
      ],
      "execution_count": 48,
      "outputs": [
        {
          "output_type": "execute_result",
          "data": {
            "text/plain": [
              "(52889, 5)"
            ]
          },
          "metadata": {
            "tags": []
          },
          "execution_count": 48
        }
      ]
    },
    {
      "cell_type": "code",
      "metadata": {
        "colab": {
          "base_uri": "https://localhost:8080/",
          "height": 781
        },
        "id": "JN53bvmRKYt4",
        "outputId": "cc9cc207-aab0-4ae8-e78b-d9c1359f576b"
      },
      "source": [
        "carsales.head(20)"
      ],
      "execution_count": 49,
      "outputs": [
        {
          "output_type": "execute_result",
          "data": {
            "text/html": [
              "<div>\n",
              "<style scoped>\n",
              "    .dataframe tbody tr th:only-of-type {\n",
              "        vertical-align: middle;\n",
              "    }\n",
              "\n",
              "    .dataframe tbody tr th {\n",
              "        vertical-align: top;\n",
              "    }\n",
              "\n",
              "    .dataframe thead th {\n",
              "        text-align: right;\n",
              "    }\n",
              "</style>\n",
              "<table border=\"1\" class=\"dataframe\">\n",
              "  <thead>\n",
              "    <tr style=\"text-align: right;\">\n",
              "      <th></th>\n",
              "      <th>ID</th>\n",
              "      <th>pricesold</th>\n",
              "      <th>yearsold</th>\n",
              "      <th>zipcode</th>\n",
              "      <th>Mileage</th>\n",
              "      <th>Make</th>\n",
              "      <th>Model</th>\n",
              "      <th>Year</th>\n",
              "      <th>Trim</th>\n",
              "      <th>Engine</th>\n",
              "      <th>BodyType</th>\n",
              "      <th>NumCylinders</th>\n",
              "      <th>DriveType</th>\n",
              "    </tr>\n",
              "  </thead>\n",
              "  <tbody>\n",
              "    <tr>\n",
              "      <th>0</th>\n",
              "      <td>137178</td>\n",
              "      <td>7500</td>\n",
              "      <td>2020</td>\n",
              "      <td>786**</td>\n",
              "      <td>84430</td>\n",
              "      <td>Ford</td>\n",
              "      <td>Mustang</td>\n",
              "      <td>1988</td>\n",
              "      <td>LX</td>\n",
              "      <td>5.0L Gas V8</td>\n",
              "      <td>Sedan</td>\n",
              "      <td>0</td>\n",
              "      <td>RWD</td>\n",
              "    </tr>\n",
              "    <tr>\n",
              "      <th>1</th>\n",
              "      <td>96705</td>\n",
              "      <td>15000</td>\n",
              "      <td>2019</td>\n",
              "      <td>81006</td>\n",
              "      <td>0</td>\n",
              "      <td>Replica/Kit Makes</td>\n",
              "      <td>Jaguar Beck Lister</td>\n",
              "      <td>1958</td>\n",
              "      <td>NaN</td>\n",
              "      <td>383 Fuel injected</td>\n",
              "      <td>Convertible</td>\n",
              "      <td>8</td>\n",
              "      <td>RWD</td>\n",
              "    </tr>\n",
              "    <tr>\n",
              "      <th>2</th>\n",
              "      <td>119660</td>\n",
              "      <td>8750</td>\n",
              "      <td>2020</td>\n",
              "      <td>33449</td>\n",
              "      <td>55000</td>\n",
              "      <td>Jaguar</td>\n",
              "      <td>XJS</td>\n",
              "      <td>1995</td>\n",
              "      <td>2+2 Cabriolet</td>\n",
              "      <td>4.0L In-Line 6 Cylinder</td>\n",
              "      <td>Convertible</td>\n",
              "      <td>6</td>\n",
              "      <td>RWD</td>\n",
              "    </tr>\n",
              "    <tr>\n",
              "      <th>3</th>\n",
              "      <td>80773</td>\n",
              "      <td>11600</td>\n",
              "      <td>2019</td>\n",
              "      <td>07852</td>\n",
              "      <td>97200</td>\n",
              "      <td>Ford</td>\n",
              "      <td>Mustang</td>\n",
              "      <td>1968</td>\n",
              "      <td>Stock</td>\n",
              "      <td>289 cu. in. V8</td>\n",
              "      <td>Coupe</td>\n",
              "      <td>8</td>\n",
              "      <td>RWD</td>\n",
              "    </tr>\n",
              "    <tr>\n",
              "      <th>4</th>\n",
              "      <td>64287</td>\n",
              "      <td>44000</td>\n",
              "      <td>2019</td>\n",
              "      <td>07728</td>\n",
              "      <td>40703</td>\n",
              "      <td>Porsche</td>\n",
              "      <td>911</td>\n",
              "      <td>2002</td>\n",
              "      <td>Turbo X-50</td>\n",
              "      <td>3.6L</td>\n",
              "      <td>Coupe</td>\n",
              "      <td>6</td>\n",
              "      <td>AWD</td>\n",
              "    </tr>\n",
              "    <tr>\n",
              "      <th>5</th>\n",
              "      <td>132695</td>\n",
              "      <td>950</td>\n",
              "      <td>2020</td>\n",
              "      <td>462**</td>\n",
              "      <td>71300</td>\n",
              "      <td>Mercury</td>\n",
              "      <td>Montclair</td>\n",
              "      <td>1965</td>\n",
              "      <td>NaN</td>\n",
              "      <td>NO ENGINE</td>\n",
              "      <td>Sedan</td>\n",
              "      <td>0</td>\n",
              "      <td>RWD</td>\n",
              "    </tr>\n",
              "    <tr>\n",
              "      <th>6</th>\n",
              "      <td>132829</td>\n",
              "      <td>950</td>\n",
              "      <td>2020</td>\n",
              "      <td>105**</td>\n",
              "      <td>71300</td>\n",
              "      <td>Mercury</td>\n",
              "      <td>Montclair</td>\n",
              "      <td>1965</td>\n",
              "      <td>NaN</td>\n",
              "      <td>NaN</td>\n",
              "      <td>Sedan</td>\n",
              "      <td>0</td>\n",
              "      <td>NaN</td>\n",
              "    </tr>\n",
              "    <tr>\n",
              "      <th>7</th>\n",
              "      <td>5250</td>\n",
              "      <td>70000</td>\n",
              "      <td>2019</td>\n",
              "      <td>07627</td>\n",
              "      <td>6500</td>\n",
              "      <td>Land Rover</td>\n",
              "      <td>Defender</td>\n",
              "      <td>1997</td>\n",
              "      <td>NaN</td>\n",
              "      <td>4.0 Liter Fuel Injected V8</td>\n",
              "      <td>NaN</td>\n",
              "      <td>0</td>\n",
              "      <td>4WD</td>\n",
              "    </tr>\n",
              "    <tr>\n",
              "      <th>8</th>\n",
              "      <td>29023</td>\n",
              "      <td>1330</td>\n",
              "      <td>2019</td>\n",
              "      <td>07043</td>\n",
              "      <td>167000</td>\n",
              "      <td>Honda</td>\n",
              "      <td>Civic</td>\n",
              "      <td>2001</td>\n",
              "      <td>EX</td>\n",
              "      <td>NaN</td>\n",
              "      <td>Coupe</td>\n",
              "      <td>4</td>\n",
              "      <td>FWD</td>\n",
              "    </tr>\n",
              "    <tr>\n",
              "      <th>9</th>\n",
              "      <td>80293</td>\n",
              "      <td>25200</td>\n",
              "      <td>2019</td>\n",
              "      <td>33759</td>\n",
              "      <td>15000</td>\n",
              "      <td>Pontiac</td>\n",
              "      <td>GTO</td>\n",
              "      <td>1970</td>\n",
              "      <td>NaN</td>\n",
              "      <td>NaN</td>\n",
              "      <td>NaN</td>\n",
              "      <td>0</td>\n",
              "      <td>NaN</td>\n",
              "    </tr>\n",
              "    <tr>\n",
              "      <th>10</th>\n",
              "      <td>158271</td>\n",
              "      <td>20000</td>\n",
              "      <td>2020</td>\n",
              "      <td>333**</td>\n",
              "      <td>51674</td>\n",
              "      <td>Jeep</td>\n",
              "      <td>Wrangler</td>\n",
              "      <td>2015</td>\n",
              "      <td>SPORT</td>\n",
              "      <td>3.6L Flexible V6</td>\n",
              "      <td>SUV</td>\n",
              "      <td>6</td>\n",
              "      <td>4WD</td>\n",
              "    </tr>\n",
              "    <tr>\n",
              "      <th>11</th>\n",
              "      <td>72418</td>\n",
              "      <td>14100</td>\n",
              "      <td>2019</td>\n",
              "      <td>07014</td>\n",
              "      <td>109500</td>\n",
              "      <td>Jeep</td>\n",
              "      <td>Wrangler</td>\n",
              "      <td>2012</td>\n",
              "      <td>Unlimited</td>\n",
              "      <td>3.6L</td>\n",
              "      <td>SUV</td>\n",
              "      <td>6</td>\n",
              "      <td>4WD</td>\n",
              "    </tr>\n",
              "    <tr>\n",
              "      <th>12</th>\n",
              "      <td>91661</td>\n",
              "      <td>5700</td>\n",
              "      <td>2020</td>\n",
              "      <td>76051</td>\n",
              "      <td>1000000</td>\n",
              "      <td>Ford</td>\n",
              "      <td>F-100</td>\n",
              "      <td>1949</td>\n",
              "      <td>NaN</td>\n",
              "      <td>NaN</td>\n",
              "      <td>Standard Cab Pickup</td>\n",
              "      <td>8</td>\n",
              "      <td>RWD</td>\n",
              "    </tr>\n",
              "    <tr>\n",
              "      <th>13</th>\n",
              "      <td>119358</td>\n",
              "      <td>6000</td>\n",
              "      <td>2020</td>\n",
              "      <td>384**</td>\n",
              "      <td>101501</td>\n",
              "      <td>Toyota</td>\n",
              "      <td>Prius</td>\n",
              "      <td>2009</td>\n",
              "      <td>NaN</td>\n",
              "      <td>1.5L Electric and Gas Hybrid I4</td>\n",
              "      <td>4 door/hatchback</td>\n",
              "      <td>4</td>\n",
              "      <td>FWD</td>\n",
              "    </tr>\n",
              "    <tr>\n",
              "      <th>14</th>\n",
              "      <td>131969</td>\n",
              "      <td>4000</td>\n",
              "      <td>2020</td>\n",
              "      <td>027**</td>\n",
              "      <td>118513</td>\n",
              "      <td>Toyota</td>\n",
              "      <td>Celica</td>\n",
              "      <td>1985</td>\n",
              "      <td>NaN</td>\n",
              "      <td>2.8L Gas I6</td>\n",
              "      <td>Hatchback</td>\n",
              "      <td>0</td>\n",
              "      <td>RWD</td>\n",
              "    </tr>\n",
              "    <tr>\n",
              "      <th>15</th>\n",
              "      <td>84062</td>\n",
              "      <td>3820</td>\n",
              "      <td>2019</td>\n",
              "      <td>V1W 5L6</td>\n",
              "      <td>377000</td>\n",
              "      <td>Jeep</td>\n",
              "      <td>Wrangler</td>\n",
              "      <td>1997</td>\n",
              "      <td>NaN</td>\n",
              "      <td>4.0</td>\n",
              "      <td>NaN</td>\n",
              "      <td>6</td>\n",
              "      <td>AWD</td>\n",
              "    </tr>\n",
              "    <tr>\n",
              "      <th>16</th>\n",
              "      <td>144540</td>\n",
              "      <td>3330</td>\n",
              "      <td>2020</td>\n",
              "      <td>856**</td>\n",
              "      <td>47692</td>\n",
              "      <td>Buick</td>\n",
              "      <td>LeSabre</td>\n",
              "      <td>2004</td>\n",
              "      <td>CUSTOM</td>\n",
              "      <td>3.8L Gas V6</td>\n",
              "      <td>Sedan</td>\n",
              "      <td>6</td>\n",
              "      <td>FWD</td>\n",
              "    </tr>\n",
              "    <tr>\n",
              "      <th>17</th>\n",
              "      <td>142951</td>\n",
              "      <td>650</td>\n",
              "      <td>2020</td>\n",
              "      <td>628**</td>\n",
              "      <td>99999</td>\n",
              "      <td>Austin</td>\n",
              "      <td>NaN</td>\n",
              "      <td>1970</td>\n",
              "      <td>NaN</td>\n",
              "      <td>NaN</td>\n",
              "      <td>NaN</td>\n",
              "      <td>0</td>\n",
              "      <td>NaN</td>\n",
              "    </tr>\n",
              "    <tr>\n",
              "      <th>18</th>\n",
              "      <td>142336</td>\n",
              "      <td>1480</td>\n",
              "      <td>2020</td>\n",
              "      <td>601**</td>\n",
              "      <td>166000</td>\n",
              "      <td>Nissan</td>\n",
              "      <td>Altima</td>\n",
              "      <td>2006</td>\n",
              "      <td>NaN</td>\n",
              "      <td>NaN</td>\n",
              "      <td>Sedan</td>\n",
              "      <td>6</td>\n",
              "      <td>NaN</td>\n",
              "    </tr>\n",
              "    <tr>\n",
              "      <th>19</th>\n",
              "      <td>59728</td>\n",
              "      <td>18550</td>\n",
              "      <td>2019</td>\n",
              "      <td>60448</td>\n",
              "      <td>6714</td>\n",
              "      <td>Chevrolet</td>\n",
              "      <td>Camaro</td>\n",
              "      <td>2002</td>\n",
              "      <td>Z28,SS,SLP</td>\n",
              "      <td>5.7 liter v8</td>\n",
              "      <td>Coupe</td>\n",
              "      <td>8</td>\n",
              "      <td>RWD</td>\n",
              "    </tr>\n",
              "  </tbody>\n",
              "</table>\n",
              "</div>"
            ],
            "text/plain": [
              "        ID  pricesold  yearsold  ...             BodyType  NumCylinders DriveType\n",
              "0   137178       7500      2020  ...                Sedan             0       RWD\n",
              "1    96705      15000      2019  ...          Convertible             8       RWD\n",
              "2   119660       8750      2020  ...          Convertible             6       RWD\n",
              "3    80773      11600      2019  ...                Coupe             8       RWD\n",
              "4    64287      44000      2019  ...                Coupe             6       AWD\n",
              "5   132695        950      2020  ...                Sedan             0       RWD\n",
              "6   132829        950      2020  ...                Sedan             0       NaN\n",
              "7     5250      70000      2019  ...                  NaN             0       4WD\n",
              "8    29023       1330      2019  ...                Coupe             4       FWD\n",
              "9    80293      25200      2019  ...                  NaN             0       NaN\n",
              "10  158271      20000      2020  ...                  SUV             6       4WD\n",
              "11   72418      14100      2019  ...                  SUV             6       4WD\n",
              "12   91661       5700      2020  ...  Standard Cab Pickup             8       RWD\n",
              "13  119358       6000      2020  ...     4 door/hatchback             4       FWD\n",
              "14  131969       4000      2020  ...            Hatchback             0       RWD\n",
              "15   84062       3820      2019  ...                  NaN             6       AWD\n",
              "16  144540       3330      2020  ...                Sedan             6       FWD\n",
              "17  142951        650      2020  ...                  NaN             0       NaN\n",
              "18  142336       1480      2020  ...                Sedan             6       NaN\n",
              "19   59728      18550      2019  ...                Coupe             8       RWD\n",
              "\n",
              "[20 rows x 13 columns]"
            ]
          },
          "metadata": {
            "tags": []
          },
          "execution_count": 49
        }
      ]
    },
    {
      "cell_type": "code",
      "metadata": {
        "colab": {
          "base_uri": "https://localhost:8080/"
        },
        "id": "azUltk1t1d2B",
        "outputId": "f9412322-059a-46aa-80cc-096697a397cb"
      },
      "source": [
        "carsales.info()"
      ],
      "execution_count": 50,
      "outputs": [
        {
          "output_type": "stream",
          "text": [
            "<class 'pandas.core.frame.DataFrame'>\n",
            "RangeIndex: 122144 entries, 0 to 122143\n",
            "Data columns (total 13 columns):\n",
            " #   Column        Non-Null Count   Dtype \n",
            "---  ------        --------------   ----- \n",
            " 0   ID            122144 non-null  int64 \n",
            " 1   pricesold     122144 non-null  int64 \n",
            " 2   yearsold      122144 non-null  int64 \n",
            " 3   zipcode       121235 non-null  object\n",
            " 4   Mileage       122144 non-null  int64 \n",
            " 5   Make          122144 non-null  object\n",
            " 6   Model         121571 non-null  object\n",
            " 7   Year          122144 non-null  int64 \n",
            " 8   Trim          73220 non-null   object\n",
            " 9   Engine        95046 non-null   object\n",
            " 10  BodyType      101358 non-null  object\n",
            " 11  NumCylinders  122144 non-null  int64 \n",
            " 12  DriveType     97293 non-null   object\n",
            "dtypes: int64(6), object(7)\n",
            "memory usage: 12.1+ MB\n"
          ],
          "name": "stdout"
        }
      ]
    },
    {
      "cell_type": "code",
      "metadata": {
        "colab": {
          "base_uri": "https://localhost:8080/",
          "height": 206
        },
        "id": "RvR_8XYJw5Gj",
        "outputId": "f3d60428-7bb5-4985-f73d-9ab1a40c54e5"
      },
      "source": [
        "zip_codes.head()"
      ],
      "execution_count": 51,
      "outputs": [
        {
          "output_type": "execute_result",
          "data": {
            "text/html": [
              "<div>\n",
              "<style scoped>\n",
              "    .dataframe tbody tr th:only-of-type {\n",
              "        vertical-align: middle;\n",
              "    }\n",
              "\n",
              "    .dataframe tbody tr th {\n",
              "        vertical-align: top;\n",
              "    }\n",
              "\n",
              "    .dataframe thead th {\n",
              "        text-align: right;\n",
              "    }\n",
              "</style>\n",
              "<table border=\"1\" class=\"dataframe\">\n",
              "  <thead>\n",
              "    <tr style=\"text-align: right;\">\n",
              "      <th></th>\n",
              "      <th>ZIP</th>\n",
              "      <th>COUNTYNAME</th>\n",
              "      <th>STATE</th>\n",
              "      <th>STCOUNTYFP</th>\n",
              "      <th>CLASSFP</th>\n",
              "    </tr>\n",
              "  </thead>\n",
              "  <tbody>\n",
              "    <tr>\n",
              "      <th>0</th>\n",
              "      <td>36003</td>\n",
              "      <td>Autauga County</td>\n",
              "      <td>AL</td>\n",
              "      <td>1001</td>\n",
              "      <td>H1</td>\n",
              "    </tr>\n",
              "    <tr>\n",
              "      <th>1</th>\n",
              "      <td>36006</td>\n",
              "      <td>Autauga County</td>\n",
              "      <td>AL</td>\n",
              "      <td>1001</td>\n",
              "      <td>H1</td>\n",
              "    </tr>\n",
              "    <tr>\n",
              "      <th>2</th>\n",
              "      <td>36067</td>\n",
              "      <td>Autauga County</td>\n",
              "      <td>AL</td>\n",
              "      <td>1001</td>\n",
              "      <td>H1</td>\n",
              "    </tr>\n",
              "    <tr>\n",
              "      <th>3</th>\n",
              "      <td>36066</td>\n",
              "      <td>Autauga County</td>\n",
              "      <td>AL</td>\n",
              "      <td>1001</td>\n",
              "      <td>H1</td>\n",
              "    </tr>\n",
              "    <tr>\n",
              "      <th>4</th>\n",
              "      <td>36703</td>\n",
              "      <td>Autauga County</td>\n",
              "      <td>AL</td>\n",
              "      <td>1001</td>\n",
              "      <td>H1</td>\n",
              "    </tr>\n",
              "  </tbody>\n",
              "</table>\n",
              "</div>"
            ],
            "text/plain": [
              "     ZIP      COUNTYNAME STATE  STCOUNTYFP CLASSFP\n",
              "0  36003  Autauga County    AL        1001      H1\n",
              "1  36006  Autauga County    AL        1001      H1\n",
              "2  36067  Autauga County    AL        1001      H1\n",
              "3  36066  Autauga County    AL        1001      H1\n",
              "4  36703  Autauga County    AL        1001      H1"
            ]
          },
          "metadata": {
            "tags": []
          },
          "execution_count": 51
        }
      ]
    },
    {
      "cell_type": "markdown",
      "metadata": {
        "id": "cJQnP8YZwPy1"
      },
      "source": [
        "Below is making a zip codes data frame which only contains zip and states."
      ]
    },
    {
      "cell_type": "code",
      "metadata": {
        "id": "Vy_Eju6XwgWX"
      },
      "source": [
        "zip_codes_clean = zip_codes.groupby(by=['ZIP','STATE'], as_index=False).first()[['ZIP','STATE']]\n"
      ],
      "execution_count": 52,
      "outputs": []
    },
    {
      "cell_type": "markdown",
      "metadata": {
        "id": "dy-SL9iYtk1d"
      },
      "source": [
        "Change the Zipcodes Data Type to Integer"
      ]
    },
    {
      "cell_type": "code",
      "metadata": {
        "id": "CCoh9uOltjtC"
      },
      "source": [
        "carsales = carsales[carsales['zipcode'].str.isdigit() == True]\n",
        "carsales['zipcode'] = carsales['zipcode'].astype(int)\n"
      ],
      "execution_count": 53,
      "outputs": []
    },
    {
      "cell_type": "code",
      "metadata": {
        "colab": {
          "base_uri": "https://localhost:8080/"
        },
        "id": "gWTFJfMPdj1g",
        "outputId": "7b02df90-73e9-4e72-cc6b-543142e93e4b"
      },
      "source": [
        "carsales.info()"
      ],
      "execution_count": 54,
      "outputs": [
        {
          "output_type": "stream",
          "text": [
            "<class 'pandas.core.frame.DataFrame'>\n",
            "Int64Index: 82495 entries, 1 to 122143\n",
            "Data columns (total 13 columns):\n",
            " #   Column        Non-Null Count  Dtype \n",
            "---  ------        --------------  ----- \n",
            " 0   ID            82495 non-null  int64 \n",
            " 1   pricesold     82495 non-null  int64 \n",
            " 2   yearsold      82495 non-null  int64 \n",
            " 3   zipcode       82495 non-null  int64 \n",
            " 4   Mileage       82495 non-null  int64 \n",
            " 5   Make          82495 non-null  object\n",
            " 6   Model         82128 non-null  object\n",
            " 7   Year          82495 non-null  int64 \n",
            " 8   Trim          51078 non-null  object\n",
            " 9   Engine        66002 non-null  object\n",
            " 10  BodyType      67562 non-null  object\n",
            " 11  NumCylinders  82495 non-null  int64 \n",
            " 12  DriveType     66143 non-null  object\n",
            "dtypes: int64(7), object(6)\n",
            "memory usage: 8.8+ MB\n"
          ],
          "name": "stdout"
        }
      ]
    },
    {
      "cell_type": "code",
      "metadata": {
        "id": "MkSs0MUhuO8L"
      },
      "source": [
        "carsales = pd.merge(carsales, zip_codes_clean, left_on='zipcode', right_on='ZIP', how='left')\n",
        "carsales.drop('ZIP',axis=1,inplace=True)"
      ],
      "execution_count": 55,
      "outputs": []
    },
    {
      "cell_type": "code",
      "metadata": {
        "colab": {
          "base_uri": "https://localhost:8080/",
          "height": 258
        },
        "id": "4hg4AS8kt0iy",
        "outputId": "6aba136c-af91-43bb-a862-33cefb68fb2a"
      },
      "source": [
        "carsales.head()"
      ],
      "execution_count": 56,
      "outputs": [
        {
          "output_type": "execute_result",
          "data": {
            "text/html": [
              "<div>\n",
              "<style scoped>\n",
              "    .dataframe tbody tr th:only-of-type {\n",
              "        vertical-align: middle;\n",
              "    }\n",
              "\n",
              "    .dataframe tbody tr th {\n",
              "        vertical-align: top;\n",
              "    }\n",
              "\n",
              "    .dataframe thead th {\n",
              "        text-align: right;\n",
              "    }\n",
              "</style>\n",
              "<table border=\"1\" class=\"dataframe\">\n",
              "  <thead>\n",
              "    <tr style=\"text-align: right;\">\n",
              "      <th></th>\n",
              "      <th>ID</th>\n",
              "      <th>pricesold</th>\n",
              "      <th>yearsold</th>\n",
              "      <th>zipcode</th>\n",
              "      <th>Mileage</th>\n",
              "      <th>Make</th>\n",
              "      <th>Model</th>\n",
              "      <th>Year</th>\n",
              "      <th>Trim</th>\n",
              "      <th>Engine</th>\n",
              "      <th>BodyType</th>\n",
              "      <th>NumCylinders</th>\n",
              "      <th>DriveType</th>\n",
              "      <th>STATE</th>\n",
              "    </tr>\n",
              "  </thead>\n",
              "  <tbody>\n",
              "    <tr>\n",
              "      <th>0</th>\n",
              "      <td>96705</td>\n",
              "      <td>15000</td>\n",
              "      <td>2019</td>\n",
              "      <td>81006</td>\n",
              "      <td>0</td>\n",
              "      <td>Replica/Kit Makes</td>\n",
              "      <td>Jaguar Beck Lister</td>\n",
              "      <td>1958</td>\n",
              "      <td>NaN</td>\n",
              "      <td>383 Fuel injected</td>\n",
              "      <td>Convertible</td>\n",
              "      <td>8</td>\n",
              "      <td>RWD</td>\n",
              "      <td>CO</td>\n",
              "    </tr>\n",
              "    <tr>\n",
              "      <th>1</th>\n",
              "      <td>119660</td>\n",
              "      <td>8750</td>\n",
              "      <td>2020</td>\n",
              "      <td>33449</td>\n",
              "      <td>55000</td>\n",
              "      <td>Jaguar</td>\n",
              "      <td>XJS</td>\n",
              "      <td>1995</td>\n",
              "      <td>2+2 Cabriolet</td>\n",
              "      <td>4.0L In-Line 6 Cylinder</td>\n",
              "      <td>Convertible</td>\n",
              "      <td>6</td>\n",
              "      <td>RWD</td>\n",
              "      <td>FL</td>\n",
              "    </tr>\n",
              "    <tr>\n",
              "      <th>2</th>\n",
              "      <td>80773</td>\n",
              "      <td>11600</td>\n",
              "      <td>2019</td>\n",
              "      <td>7852</td>\n",
              "      <td>97200</td>\n",
              "      <td>Ford</td>\n",
              "      <td>Mustang</td>\n",
              "      <td>1968</td>\n",
              "      <td>Stock</td>\n",
              "      <td>289 cu. in. V8</td>\n",
              "      <td>Coupe</td>\n",
              "      <td>8</td>\n",
              "      <td>RWD</td>\n",
              "      <td>NJ</td>\n",
              "    </tr>\n",
              "    <tr>\n",
              "      <th>3</th>\n",
              "      <td>64287</td>\n",
              "      <td>44000</td>\n",
              "      <td>2019</td>\n",
              "      <td>7728</td>\n",
              "      <td>40703</td>\n",
              "      <td>Porsche</td>\n",
              "      <td>911</td>\n",
              "      <td>2002</td>\n",
              "      <td>Turbo X-50</td>\n",
              "      <td>3.6L</td>\n",
              "      <td>Coupe</td>\n",
              "      <td>6</td>\n",
              "      <td>AWD</td>\n",
              "      <td>NJ</td>\n",
              "    </tr>\n",
              "    <tr>\n",
              "      <th>4</th>\n",
              "      <td>5250</td>\n",
              "      <td>70000</td>\n",
              "      <td>2019</td>\n",
              "      <td>7627</td>\n",
              "      <td>6500</td>\n",
              "      <td>Land Rover</td>\n",
              "      <td>Defender</td>\n",
              "      <td>1997</td>\n",
              "      <td>NaN</td>\n",
              "      <td>4.0 Liter Fuel Injected V8</td>\n",
              "      <td>NaN</td>\n",
              "      <td>0</td>\n",
              "      <td>4WD</td>\n",
              "      <td>NJ</td>\n",
              "    </tr>\n",
              "  </tbody>\n",
              "</table>\n",
              "</div>"
            ],
            "text/plain": [
              "       ID  pricesold  yearsold  ...  NumCylinders  DriveType STATE\n",
              "0   96705      15000      2019  ...             8        RWD    CO\n",
              "1  119660       8750      2020  ...             6        RWD    FL\n",
              "2   80773      11600      2019  ...             8        RWD    NJ\n",
              "3   64287      44000      2019  ...             6        AWD    NJ\n",
              "4    5250      70000      2019  ...             0        4WD    NJ\n",
              "\n",
              "[5 rows x 14 columns]"
            ]
          },
          "metadata": {
            "tags": []
          },
          "execution_count": 56
        }
      ]
    },
    {
      "cell_type": "markdown",
      "metadata": {
        "id": "2KS1KyFLOXnX"
      },
      "source": [
        "**Data Preprocessing**"
      ]
    },
    {
      "cell_type": "code",
      "metadata": {
        "id": "hl3m-uQQNutJ"
      },
      "source": [
        "carsales=carsales.drop_duplicates()"
      ],
      "execution_count": 57,
      "outputs": []
    },
    {
      "cell_type": "code",
      "metadata": {
        "colab": {
          "base_uri": "https://localhost:8080/"
        },
        "id": "N3rHXX0CNV3c",
        "outputId": "ec5098b4-b060-4283-dbf3-bf1fd6919b4c"
      },
      "source": [
        "carsales.shape"
      ],
      "execution_count": 58,
      "outputs": [
        {
          "output_type": "execute_result",
          "data": {
            "text/plain": [
              "(82495, 14)"
            ]
          },
          "metadata": {
            "tags": []
          },
          "execution_count": 58
        }
      ]
    },
    {
      "cell_type": "code",
      "metadata": {
        "colab": {
          "base_uri": "https://localhost:8080/"
        },
        "id": "wBlmnV_xLNnZ",
        "outputId": "41aa36c7-bc0c-4584-bda5-5d43333f0e19"
      },
      "source": [
        "carsales.dtypes"
      ],
      "execution_count": 59,
      "outputs": [
        {
          "output_type": "execute_result",
          "data": {
            "text/plain": [
              "ID               int64\n",
              "pricesold        int64\n",
              "yearsold         int64\n",
              "zipcode          int64\n",
              "Mileage          int64\n",
              "Make            object\n",
              "Model           object\n",
              "Year             int64\n",
              "Trim            object\n",
              "Engine          object\n",
              "BodyType        object\n",
              "NumCylinders     int64\n",
              "DriveType       object\n",
              "STATE           object\n",
              "dtype: object"
            ]
          },
          "metadata": {
            "tags": []
          },
          "execution_count": 59
        }
      ]
    },
    {
      "cell_type": "code",
      "metadata": {
        "colab": {
          "base_uri": "https://localhost:8080/"
        },
        "id": "ztAQE0nnQBVY",
        "outputId": "9a11644b-5031-43ae-9fb6-dd201a7937dc"
      },
      "source": [
        "carsales.info()"
      ],
      "execution_count": 60,
      "outputs": [
        {
          "output_type": "stream",
          "text": [
            "<class 'pandas.core.frame.DataFrame'>\n",
            "Int64Index: 82495 entries, 0 to 82494\n",
            "Data columns (total 14 columns):\n",
            " #   Column        Non-Null Count  Dtype \n",
            "---  ------        --------------  ----- \n",
            " 0   ID            82495 non-null  int64 \n",
            " 1   pricesold     82495 non-null  int64 \n",
            " 2   yearsold      82495 non-null  int64 \n",
            " 3   zipcode       82495 non-null  int64 \n",
            " 4   Mileage       82495 non-null  int64 \n",
            " 5   Make          82495 non-null  object\n",
            " 6   Model         82128 non-null  object\n",
            " 7   Year          82495 non-null  int64 \n",
            " 8   Trim          51078 non-null  object\n",
            " 9   Engine        66002 non-null  object\n",
            " 10  BodyType      67562 non-null  object\n",
            " 11  NumCylinders  82495 non-null  int64 \n",
            " 12  DriveType     66143 non-null  object\n",
            " 13  STATE         82388 non-null  object\n",
            "dtypes: int64(7), object(7)\n",
            "memory usage: 9.4+ MB\n"
          ],
          "name": "stdout"
        }
      ]
    },
    {
      "cell_type": "code",
      "metadata": {
        "colab": {
          "base_uri": "https://localhost:8080/"
        },
        "id": "K-AtBXScboMl",
        "outputId": "ce8aa922-9073-492a-c07a-415cec5ac1cc"
      },
      "source": [
        "carsales.isnull().sum()"
      ],
      "execution_count": 61,
      "outputs": [
        {
          "output_type": "execute_result",
          "data": {
            "text/plain": [
              "ID                  0\n",
              "pricesold           0\n",
              "yearsold            0\n",
              "zipcode             0\n",
              "Mileage             0\n",
              "Make                0\n",
              "Model             367\n",
              "Year                0\n",
              "Trim            31417\n",
              "Engine          16493\n",
              "BodyType        14933\n",
              "NumCylinders        0\n",
              "DriveType       16352\n",
              "STATE             107\n",
              "dtype: int64"
            ]
          },
          "metadata": {
            "tags": []
          },
          "execution_count": 61
        }
      ]
    },
    {
      "cell_type": "markdown",
      "metadata": {
        "id": "DDj7d5OLsRP2"
      },
      "source": [
        "See the Cars Selling Price By Mileage"
      ]
    },
    {
      "cell_type": "code",
      "metadata": {
        "id": "il1W7uGgd7T9",
        "colab": {
          "base_uri": "https://localhost:8080/",
          "height": 336
        },
        "outputId": "5fed5f50-507d-438c-aa58-bdbce7c9e26a"
      },
      "source": [
        "g = sns.scatterplot(carsales['Mileage'],carsales['pricesold'])\n",
        "g.set(xlabel='Mileage', ylabel='Selling Price')\n",
        "plt.show()"
      ],
      "execution_count": 62,
      "outputs": [
        {
          "output_type": "stream",
          "text": [
            "/usr/local/lib/python3.7/dist-packages/seaborn/_decorators.py:43: FutureWarning: Pass the following variables as keyword args: x, y. From version 0.12, the only valid positional argument will be `data`, and passing other arguments without an explicit keyword will result in an error or misinterpretation.\n",
            "  FutureWarning\n"
          ],
          "name": "stderr"
        },
        {
          "output_type": "display_data",
          "data": {
            "image/png": "[encoded data removed]",
            "text/plain": [
              "<Figure size 432x288 with 1 Axes>"
            ]
          },
          "metadata": {
            "tags": [],
            "needs_background": "light"
          }
        }
      ]
    },
    {
      "cell_type": "markdown",
      "metadata": {
        "id": "uZX4qIcQ5VmG"
      },
      "source": [
        "I will only show the cars with more than 400k mileage and none of them in zero mileage"
      ]
    },
    {
      "cell_type": "code",
      "metadata": {
        "id": "NMwJrG3D5PqZ"
      },
      "source": [
        "carsales = carsales[(carsales['Mileage']<400000) & (carsales['Mileage']>0)]"
      ],
      "execution_count": 64,
      "outputs": []
    },
    {
      "cell_type": "code",
      "metadata": {
        "colab": {
          "base_uri": "https://localhost:8080/",
          "height": 336
        },
        "id": "oSuji3_R5mlA",
        "outputId": "4f127fff-13af-4327-8447-e552febe1eea"
      },
      "source": [
        "g = sns.scatterplot(carsales['Mileage'],carsales['pricesold'])\n",
        "g.set(xlabel='Mileage', ylabel='Selling Price')\n",
        "plt.show()"
      ],
      "execution_count": 66,
      "outputs": [
        {
          "output_type": "stream",
          "text": [
            "/usr/local/lib/python3.7/dist-packages/seaborn/_decorators.py:43: FutureWarning: Pass the following variables as keyword args: x, y. From version 0.12, the only valid positional argument will be `data`, and passing other arguments without an explicit keyword will result in an error or misinterpretation.\n",
            "  FutureWarning\n"
          ],
          "name": "stderr"
        },
        {
          "output_type": "display_data",
          "data": {
            "image/png": "[encoded data removed]",
            "text/plain": [
              "<Figure size 432x288 with 1 Axes>"
            ]
          },
          "metadata": {
            "tags": [],
            "needs_background": "light"
          }
        }
      ]
    },
    {
      "cell_type": "markdown",
      "metadata": {
        "id": "mHWYf1ajeWjd"
      },
      "source": [
        "**Map Analysis**"
      ]
    },
    {
      "cell_type": "code",
      "metadata": {
        "colab": {
          "base_uri": "https://localhost:8080/",
          "height": 760
        },
        "id": "pUaBUhhx8I_M",
        "outputId": "a12841b0-3d3f-4384-f43f-16470c6a2b99"
      },
      "source": [
        "state_geo = ('https://gist.githubusercontent.com/mshafrir/2646763/raw/8b0dbb93521f5d6889502305335104218454c2bf/states_hash.json')\n",
        "state_data = carsales\n",
        "\n",
        "\n",
        "m = folium.Map(location=[48, -102], zoom_start=3)\n",
        "\n",
        "folium.Choropleth(\n",
        "    geo_data=state_geo,\n",
        "    name=\"choropleth\",\n",
        "    data=state_data,\n",
        "    columns=[\"STATE\", \"pricesold\"],\n",
        "    key_on=\"feature.id\",\n",
        "    fill_color=\"YlGn\",\n",
        "    fill_opacity=0.7,\n",
        "    line_opacity=0.2,\n",
        "    legend_name=\"Unemployment Rate (%)\",\n",
        ").add_to(m)\n",
        "\n",
        "folium.LayerControl().add_to(m)\n",
        "m"
      ],
      "execution_count": 70,
      "outputs": [
        {
          "output_type": "execute_result",
          "data": {
            "text/html": [
              "<div style=\"width:100%;\"><div style=\"position:relative;width:100%;height:0;padding-bottom:60%;\"><span style=\"color:#565656\">Make this Notebook Trusted to load map: File -> Trust Notebook</span><iframe src=\"about:blank\" style=\"position:absolute;width:100%;height:100%;left:0;top:0;border:none !important;\" data-html=%3C%21DOCTYPE%20html%3E%0A%3Chead%3E%20%20%20%20%0A%20%20%20%20%3Cmeta%20http-equiv%3D%22content-type%22%20content%3D%22text/html%3B%20charset%3DUTF-8%22%20/%3E%0A%20%20%20%20%3Cscript%3EL_PREFER_CANVAS%3Dfalse%3B%20L_NO_TOUCH%3Dfalse%3B%20L_DISABLE_3D%3Dfalse%3B%3C/script%3E%0A%20%20%20%20%3Cscript%20src%3D%22https%3A//cdn.jsdelivr.net/npm/leaflet%401.4.0/dist/leaflet.js%22%3E%3C/script%3E%0A%20%20%20%20%3Cscript%20src%3D%22https%3A//code.jquery.com/jquery-1.12.4.min.js%22%3E%3C/script%3E%0A%20%20%20%20%3Cscript%20src%3D%22https%3A//maxcdn.bootstrapcdn.com/bootstrap/3.2.0/js/bootstrap.min.js%22%3E%3C/script%3E%0A%20%20%20%20%3Cscript%20src%3D%22https%3A//cdnjs.cloudflare.com/ajax/libs/Leaflet.awesome-markers/2.0.2/leaflet.awesome-markers.js%22%3E%3C/script%3E%0A%20%20%20%20%3Clink%20rel%3D%22stylesheet%22%20href%3D%22https%3A//cdn.jsdelivr.net/npm/leaflet%401.4.0/dist/leaflet.css%22/%3E%0A%20%20%20%20%3Clink%20rel%3D%22stylesheet%22%20href%3D%22https%3A//maxcdn.bootstrapcdn.com/bootstrap/3.2.0/css/bootstrap.min.css%22/%3E%0A%20%20%20%20%3Clink%20rel%3D%22stylesheet%22%20href%3D%22https%3A//maxcdn.bootstrapcdn.com/bootstrap/3.2.0/css/bootstrap-theme.min.css%22/%3E%0A%20%20%20%20%3Clink%20rel%3D%22stylesheet%22%20href%3D%22https%3A//maxcdn.bootstrapcdn.com/font-awesome/4.6.3/css/font-awesome.min.css%22/%3E%0A%20%20%20%20%3Clink%20rel%3D%22stylesheet%22%20href%3D%22https%3A//cdnjs.cloudflare.com/ajax/libs/Leaflet.awesome-markers/2.0.2/leaflet.awesome-markers.css%22/%3E%0A%20%20%20%20%3Clink%20rel%3D%22stylesheet%22%20href%3D%22https%3A//rawcdn.githack.com/python-visualization/folium/master/folium/templates/leaflet.awesome.rotate.css%22/%3E%0A%20%20%20%20%3Cstyle%3Ehtml%2C%20body%20%7Bwidth%3A%20100%25%3Bheight%3A%20100%25%3Bmargin%3A%200%3Bpadding%3A%200%3B%7D%3C/style%3E%0A%20%20%20%20%3Cstyle%3E%23map%20%7Bposition%3Aabsolute%3Btop%3A0%3Bbottom%3A0%3Bright%3A0%3Bleft%3A0%3B%7D%3C/style%3E%0A%20%20%20%20%0A%20%20%20%20%3Cmeta%20name%3D%22viewport%22%20content%3D%22width%3Ddevice-width%2C%0A%20%20%20%20%20%20%20%20initial-scale%3D1.0%2C%20maximum-scale%3D1.0%2C%20user-scalable%3Dno%22%20/%3E%0A%20%20%20%20%3Cstyle%3E%23map_b24ff204212442eb8ea13175f197cad2%20%7B%0A%20%20%20%20%20%20%20%20position%3A%20relative%3B%0A%20%20%20%20%20%20%20%20width%3A%20100.0%25%3B%0A%20%20%20%20%20%20%20%20height%3A%20100.0%25%3B%0A%20%20%20%20%20%20%20%20left%3A%200.0%25%3B%0A%20%20%20%20%20%20%20%20top%3A%200.0%25%3B%0A%20%20%20%20%20%20%20%20%7D%0A%20%20%20%20%3C/style%3E%0A%20%20%20%20%3Cscript%20src%3D%22https%3A//cdnjs.cloudflare.com/ajax/libs/d3/3.5.5/d3.min.js%22%3E%3C/script%3E%0A%3C/head%3E%0A%3Cbody%3E%20%20%20%20%0A%20%20%20%20%0A%20%20%20%20%3Cdiv%20class%3D%22folium-map%22%20id%3D%22map_b24ff204212442eb8ea13175f197cad2%22%20%3E%3C/div%3E%0A%3C/body%3E%0A%3Cscript%3E%20%20%20%20%0A%20%20%20%20%0A%20%20%20%20%0A%20%20%20%20%20%20%20%20var%20bounds%20%3D%20null%3B%0A%20%20%20%20%0A%0A%20%20%20%20var%20map_b24ff204212442eb8ea13175f197cad2%20%3D%20L.map%28%0A%20%20%20%20%20%20%20%20%27map_b24ff204212442eb8ea13175f197cad2%27%2C%20%7B%0A%20%20%20%20%20%20%20%20center%3A%20%5B48%2C%20-102%5D%2C%0A%20%20%20%20%20%20%20%20zoom%3A%203%2C%0A%20%20%20%20%20%20%20%20maxBounds%3A%20bounds%2C%0A%20%20%20%20%20%20%20%20layers%3A%20%5B%5D%2C%0A%20%20%20%20%20%20%20%20worldCopyJump%3A%20false%2C%0A%20%20%20%20%20%20%20%20crs%3A%20L.CRS.EPSG3857%2C%0A%20%20%20%20%20%20%20%20zoomControl%3A%20true%2C%0A%20%20%20%20%20%20%20%20%7D%29%3B%0A%0A%0A%20%20%20%20%0A%20%20%20%20var%20tile_layer_47432e5efc17409aa5abb094ae811c15%20%3D%20L.tileLayer%28%0A%20%20%20%20%20%20%20%20%27https%3A//%7Bs%7D.tile.openstreetmap.org/%7Bz%7D/%7Bx%7D/%7By%7D.png%27%2C%0A%20%20%20%20%20%20%20%20%7B%0A%20%20%20%20%20%20%20%20%22attribution%22%3A%20null%2C%0A%20%20%20%20%20%20%20%20%22detectRetina%22%3A%20false%2C%0A%20%20%20%20%20%20%20%20%22maxNativeZoom%22%3A%2018%2C%0A%20%20%20%20%20%20%20%20%22maxZoom%22%3A%2018%2C%0A%20%20%20%20%20%20%20%20%22minZoom%22%3A%200%2C%0A%20%20%20%20%20%20%20%20%22noWrap%22%3A%20false%2C%0A%20%20%20%20%20%20%20%20%22opacity%22%3A%201%2C%0A%20%20%20%20%20%20%20%20%22subdomains%22%3A%20%22abc%22%2C%0A%20%20%20%20%20%20%20%20%22tms%22%3A%20false%0A%7D%29.addTo%28map_b24ff204212442eb8ea13175f197cad2%29%3B%0A%20%20%20%20%0A%20%20%20%20%20%20%20%20%20%20%20%20var%20choropleth_d4e01b75797849bb9b10959f75d11729%20%3D%20L.featureGroup%28%0A%20%20%20%20%20%20%20%20%20%20%20%20%20%20%20%20%29.addTo%28map_b24ff204212442eb8ea13175f197cad2%29%3B%0A%20%20%20%20%20%20%20%20%0A%20%20%20%20%0A%20%20%20%20%20%20%20%20var%20geo_json_3ed66a117f0a4465a7e4e23a3f422332%20%3D%20L.geoJson%28%0A%20%20%20%20%20%20%20%20%20%20%20%20%7B%22features%22%3A%20%5B%7B%22geometry%22%3A%20%7B%22AK%22%3A%20%22Alaska%22%2C%20%22AL%22%3A%20%22Alabama%22%2C%20%22AR%22%3A%20%22Arkansas%22%2C%20%22AS%22%3A%20%22American%20Samoa%22%2C%20%22AZ%22%3A%20%22Arizona%22%2C%20%22CA%22%3A%20%22California%22%2C%20%22CO%22%3A%20%22Colorado%22%2C%20%22CT%22%3A%20%22Connecticut%22%2C%20%22DC%22%3A%20%22District%20Of%20Columbia%22%2C%20%22DE%22%3A%20%22Delaware%22%2C%20%22FL%22%3A%20%22Florida%22%2C%20%22FM%22%3A%20%22Federated%20States%20Of%20Micronesia%22%2C%20%22GA%22%3A%20%22Georgia%22%2C%20%22GU%22%3A%20%22Guam%22%2C%20%22HI%22%3A%20%22Hawaii%22%2C%20%22IA%22%3A%20%22Iowa%22%2C%20%22ID%22%3A%20%22Idaho%22%2C%20%22IL%22%3A%20%22Illinois%22%2C%20%22IN%22%3A%20%22Indiana%22%2C%20%22KS%22%3A%20%22Kansas%22%2C%20%22KY%22%3A%20%22Kentucky%22%2C%20%22LA%22%3A%20%22Louisiana%22%2C%20%22MA%22%3A%20%22Massachusetts%22%2C%20%22MD%22%3A%20%22Maryland%22%2C%20%22ME%22%3A%20%22Maine%22%2C%20%22MH%22%3A%20%22Marshall%20Islands%22%2C%20%22MI%22%3A%20%22Michigan%22%2C%20%22MN%22%3A%20%22Minnesota%22%2C%20%22MO%22%3A%20%22Missouri%22%2C%20%22MP%22%3A%20%22Northern%20Mariana%20Islands%22%2C%20%22MS%22%3A%20%22Mississippi%22%2C%20%22MT%22%3A%20%22Montana%22%2C%20%22NC%22%3A%20%22North%20Carolina%22%2C%20%22ND%22%3A%20%22North%20Dakota%22%2C%20%22NE%22%3A%20%22Nebraska%22%2C%20%22NH%22%3A%20%22New%20Hampshire%22%2C%20%22NJ%22%3A%20%22New%20Jersey%22%2C%20%22NM%22%3A%20%22New%20Mexico%22%2C%20%22NV%22%3A%20%22Nevada%22%2C%20%22NY%22%3A%20%22New%20York%22%2C%20%22OH%22%3A%20%22Ohio%22%2C%20%22OK%22%3A%20%22Oklahoma%22%2C%20%22OR%22%3A%20%22Oregon%22%2C%20%22PA%22%3A%20%22Pennsylvania%22%2C%20%22PR%22%3A%20%22Puerto%20Rico%22%2C%20%22PW%22%3A%20%22Palau%22%2C%20%22RI%22%3A%20%22Rhode%20Island%22%2C%20%22SC%22%3A%20%22South%20Carolina%22%2C%20%22SD%22%3A%20%22South%20Dakota%22%2C%20%22TN%22%3A%20%22Tennessee%22%2C%20%22TX%22%3A%20%22Texas%22%2C%20%22UT%22%3A%20%22Utah%22%2C%20%22VA%22%3A%20%22Virginia%22%2C%20%22VI%22%3A%20%22Virgin%20Islands%22%2C%20%22VT%22%3A%20%22Vermont%22%2C%20%22WA%22%3A%20%22Washington%22%2C%20%22WI%22%3A%20%22Wisconsin%22%2C%20%22WV%22%3A%20%22West%20Virginia%22%2C%20%22WY%22%3A%20%22Wyoming%22%7D%2C%20%22properties%22%3A%20%7B%22highlight%22%3A%20%7B%7D%2C%20%22style%22%3A%20%7B%22color%22%3A%20%22black%22%2C%20%22fillColor%22%3A%20%22black%22%2C%20%22fillOpacity%22%3A%200.7%2C%20%22opacity%22%3A%200.2%2C%20%22weight%22%3A%201%7D%7D%2C%20%22type%22%3A%20%22Feature%22%7D%5D%2C%20%22type%22%3A%20%22FeatureCollection%22%7D%2C%0A%20%20%20%20%20%20%20%20%20%20%20%20%7B%0A%20%20%20%20%20%20%20%20%20%20%20%20%7D%0A%20%20%20%20%20%20%20%20%29.addTo%28choropleth_d4e01b75797849bb9b10959f75d11729%20%29%3B%0A%20%20%20%20%20%20%20%20geo_json_3ed66a117f0a4465a7e4e23a3f422332.setStyle%28function%28feature%29%20%7Breturn%20feature.properties.style%3B%7D%29%3B%0A%20%20%20%20%20%20%20%20%0A%20%20%20%20%0A%20%20%20%20var%20color_map_72d352a1428c421db5ae18ddbf8b42a8%20%3D%20%7B%7D%3B%0A%0A%20%20%20%20%0A%20%20%20%20color_map_72d352a1428c421db5ae18ddbf8b42a8.color%20%3D%20d3.scale.threshold%28%29%0A%20%20%20%20%20%20%20%20%20%20%20%20%20%20.domain%28%5B200.0%2C%20375.1503006012024%2C%20550.3006012024048%2C%20725.4509018036072%2C%20900.6012024048097%2C%201075.7515030060122%2C%201250.9018036072143%2C%201426.0521042084167%2C%201601.2024048096193%2C%201776.3527054108217%2C%201951.5030060120241%2C%202126.6533066132265%2C%202301.8036072144287%2C%202476.9539078156313%2C%202652.1042084168334%2C%202827.254509018036%2C%203002.4048096192387%2C%203177.555110220441%2C%203352.7054108216435%2C%203527.8557114228456%2C%203703.0060120240482%2C%203878.1563126252504%2C%204053.306613226453%2C%204228.456913827655%2C%204403.607214428857%2C%204578.75751503006%2C%204753.907815631263%2C%204929.058116232465%2C%205104.208416833667%2C%205279.3587174348695%2C%205454.509018036072%2C%205629.659318637275%2C%205804.809619238477%2C%205979.959919839679%2C%206155.110220440882%2C%206330.260521042084%2C%206505.410821643287%2C%206680.561122244489%2C%206855.711422845691%2C%207030.861723446894%2C%207206.0120240480965%2C%207381.162324649298%2C%207556.312625250501%2C%207731.462925851703%2C%207906.613226452906%2C%208081.763527054109%2C%208256.91382765531%2C%208432.064128256514%2C%208607.214428857715%2C%208782.364729458917%2C%208957.51503006012%2C%209132.665330661323%2C%209307.815631262525%2C%209482.965931863728%2C%209658.11623246493%2C%209833.266533066133%2C%2010008.416833667334%2C%2010183.567134268536%2C%2010358.717434869739%2C%2010533.867735470942%2C%2010709.018036072144%2C%2010884.168336673347%2C%2011059.31863727455%2C%2011234.468937875752%2C%2011409.619238476955%2C%2011584.769539078156%2C%2011759.919839679358%2C%2011935.07014028056%2C%2012110.220440881763%2C%2012285.370741482966%2C%2012460.521042084169%2C%2012635.671342685371%2C%2012810.821643286574%2C%2012985.971943887776%2C%2013161.122244488977%2C%2013336.27254509018%2C%2013511.422845691382%2C%2013686.573146292585%2C%2013861.723446893788%2C%2014036.87374749499%2C%2014212.024048096193%2C%2014387.174348697396%2C%2014562.324649298596%2C%2014737.474949899799%2C%2014912.625250501002%2C%2015087.775551102204%2C%2015262.925851703407%2C%2015438.07615230461%2C%2015613.226452905812%2C%2015788.376753507015%2C%2015963.527054108217%2C%2016138.677354709418%2C%2016313.82765531062%2C%2016488.977955911825%2C%2016664.128256513028%2C%2016839.278557114227%2C%2017014.42885771543%2C%2017189.579158316632%2C%2017364.729458917835%2C%2017539.879759519037%2C%2017715.03006012024%2C%2017890.180360721442%2C%2018065.330661322645%2C%2018240.480961923848%2C%2018415.63126252505%2C%2018590.781563126253%2C%2018765.931863727455%2C%2018941.082164328658%2C%2019116.23246492986%2C%2019291.382765531063%2C%2019466.533066132266%2C%2019641.68336673347%2C%2019816.833667334668%2C%2019991.98396793587%2C%2020167.134268537073%2C%2020342.284569138275%2C%2020517.434869739478%2C%2020692.58517034068%2C%2020867.735470941883%2C%2021042.885771543086%2C%2021218.03607214429%2C%2021393.18637274549%2C%2021568.336673346694%2C%2021743.486973947896%2C%2021918.6372745491%2C%2022093.7875751503%2C%2022268.937875751504%2C%2022444.088176352707%2C%2022619.23847695391%2C%2022794.388777555112%2C%2022969.53907815631%2C%2023144.689378757514%2C%2023319.839679358716%2C%2023494.98997995992%2C%2023670.14028056112%2C%2023845.290581162324%2C%2024020.440881763527%2C%2024195.59118236473%2C%2024370.741482965932%2C%2024545.891783567135%2C%2024721.042084168337%2C%2024896.19238476954%2C%2025071.342685370742%2C%2025246.492985971945%2C%2025421.643286573148%2C%2025596.79358717435%2C%2025771.943887775553%2C%2025947.094188376752%2C%2026122.244488977954%2C%2026297.394789579157%2C%2026472.54509018036%2C%2026647.695390781562%2C%2026822.845691382765%2C%2026997.995991983968%2C%2027173.14629258517%2C%2027348.296593186373%2C%2027523.446893787575%2C%2027698.597194388778%2C%2027873.74749498998%2C%2028048.897795591183%2C%2028224.048096192386%2C%2028399.19839679359%2C%2028574.34869739479%2C%2028749.498997995994%2C%2028924.649298597193%2C%2029099.799599198395%2C%2029274.949899799598%2C%2029450.1002004008%2C%2029625.250501002003%2C%2029800.400801603206%2C%2029975.55110220441%2C%2030150.70140280561%2C%2030325.851703406814%2C%2030501.002004008016%2C%2030676.15230460922%2C%2030851.30260521042%2C%2031026.452905811624%2C%2031201.603206412827%2C%2031376.75350701403%2C%2031551.903807615232%2C%2031727.054108216435%2C%2031902.204408817634%2C%2032077.354709418836%2C%2032252.50501002004%2C%2032427.65531062124%2C%2032602.805611222444%2C%2032777.95591182365%2C%2032953.10621242485%2C%2033128.256513026055%2C%2033303.406813627254%2C%2033478.55711422845%2C%2033653.70741482966%2C%2033828.85771543086%2C%2034004.008016032065%2C%2034179.158316633264%2C%2034354.30861723447%2C%2034529.45891783567%2C%2034704.609218436875%2C%2034879.759519038074%2C%2035054.90981963928%2C%2035230.06012024048%2C%2035405.210420841686%2C%2035580.360721442885%2C%2035755.51102204409%2C%2035930.66132264529%2C%2036105.811623246496%2C%2036280.961923847695%2C%2036456.112224448894%2C%2036631.2625250501%2C%2036806.4128256513%2C%2036981.563126252506%2C%2037156.713426853705%2C%2037331.86372745491%2C%2037507.01402805611%2C%2037682.164328657316%2C%2037857.314629258515%2C%2038032.46492985972%2C%2038207.61523046092%2C%2038382.76553106213%2C%2038557.915831663326%2C%2038733.06613226453%2C%2038908.21643286573%2C%2039083.36673346694%2C%2039258.517034068136%2C%2039433.667334669335%2C%2039608.81763527054%2C%2039783.96793587174%2C%2039959.11823647295%2C%2040134.268537074146%2C%2040309.41883767535%2C%2040484.56913827655%2C%2040659.71943887776%2C%2040834.869739478956%2C%2041010.02004008016%2C%2041185.17034068136%2C%2041360.32064128257%2C%2041535.47094188377%2C%2041710.62124248497%2C%2041885.77154308617%2C%2042060.92184368738%2C%2042236.07214428858%2C%2042411.222444889776%2C%2042586.37274549098%2C%2042761.52304609218%2C%2042936.67334669339%2C%2043111.82364729459%2C%2043286.97394789579%2C%2043462.12424849699%2C%2043637.2745490982%2C%2043812.4248496994%2C%2043987.5751503006%2C%2044162.7254509018%2C%2044337.87575150301%2C%2044513.02605210421%2C%2044688.17635270541%2C%2044863.32665330661%2C%2045038.47695390782%2C%2045213.62725450902%2C%2045388.777555110224%2C%2045563.92785571142%2C%2045739.07815631262%2C%2045914.22845691383%2C%2046089.37875751503%2C%2046264.52905811623%2C%2046439.67935871743%2C%2046614.82965931864%2C%2046789.97995991984%2C%2046965.130260521044%2C%2047140.28056112224%2C%2047315.43086172345%2C%2047490.58116232465%2C%2047665.731462925854%2C%2047840.88176352705%2C%2048016.03206412826%2C%2048191.18236472946%2C%2048366.332665330665%2C%2048541.482965931864%2C%2048716.63326653306%2C%2048891.78356713427%2C%2049066.93386773547%2C%2049242.084168336674%2C%2049417.23446893787%2C%2049592.38476953908%2C%2049767.53507014028%2C%2049942.685370741485%2C%2050117.835671342684%2C%2050292.98597194389%2C%2050468.13627254509%2C%2050643.286573146295%2C%2050818.436873747494%2C%2050993.5871743487%2C%2051168.7374749499%2C%2051343.887775551106%2C%2051519.038076152305%2C%2051694.188376753504%2C%2051869.33867735471%2C%2052044.48897795591%2C%2052219.639278557115%2C%2052394.789579158314%2C%2052569.93987975952%2C%2052745.09018036072%2C%2052920.240480961926%2C%2053095.390781563125%2C%2053270.54108216433%2C%2053445.69138276553%2C%2053620.841683366736%2C%2053795.991983967935%2C%2053971.14228456914%2C%2054146.29258517034%2C%2054321.44288577155%2C%2054496.593186372746%2C%2054671.743486973945%2C%2054846.89378757515%2C%2055022.04408817635%2C%2055197.194388777556%2C%2055372.344689378755%2C%2055547.49498997996%2C%2055722.64529058116%2C%2055897.79559118237%2C%2056072.945891783565%2C%2056248.09619238477%2C%2056423.24649298597%2C%2056598.39679358718%2C%2056773.547094188376%2C%2056948.69739478958%2C%2057123.84769539078%2C%2057298.99799599199%2C%2057474.14829659319%2C%2057649.298597194385%2C%2057824.44889779559%2C%2057999.59919839679%2C%2058174.749498998%2C%2058349.899799599196%2C%2058525.0501002004%2C%2058700.2004008016%2C%2058875.35070140281%2C%2059050.501002004006%2C%2059225.65130260521%2C%2059400.80160320641%2C%2059575.95190380762%2C%2059751.10220440882%2C%2059926.25250501002%2C%2060101.40280561122%2C%2060276.55310621243%2C%2060451.70340681363%2C%2060626.853707414826%2C%2060802.00400801603%2C%2060977.15430861723%2C%2061152.30460921844%2C%2061327.45490981964%2C%2061502.60521042084%2C%2061677.75551102204%2C%2061852.90581162325%2C%2062028.05611222445%2C%2062203.20641282565%2C%2062378.35671342685%2C%2062553.50701402806%2C%2062728.65731462926%2C%2062903.807615230464%2C%2063078.95791583166%2C%2063254.10821643287%2C%2063429.25851703407%2C%2063604.40881763527%2C%2063779.55911823647%2C%2063954.70941883767%2C%2064129.85971943888%2C%2064305.01002004008%2C%2064480.160320641284%2C%2064655.31062124248%2C%2064830.46092184369%2C%2065005.61122244489%2C%2065180.761523046094%2C%2065355.91182364729%2C%2065531.0621242485%2C%2065706.2124248497%2C%2065881.3627254509%2C%2066056.51302605211%2C%2066231.6633266533%2C%2066406.81362725451%2C%2066581.96392785572%2C%2066757.1142284569%2C%2066932.26452905811%2C%2067107.41482965932%2C%2067282.56513026053%2C%2067457.71543086172%2C%2067632.86573146292%2C%2067808.01603206413%2C%2067983.16633266534%2C%2068158.31663326653%2C%2068333.46693386773%2C%2068508.61723446894%2C%2068683.76753507015%2C%2068858.91783567134%2C%2069034.06813627254%2C%2069209.21843687375%2C%2069384.36873747496%2C%2069559.51903807615%2C%2069734.66933867735%2C%2069909.81963927856%2C%2070084.96993987975%2C%2070260.12024048096%2C%2070435.27054108217%2C%2070610.42084168337%2C%2070785.57114228456%2C%2070960.72144288577%2C%2071135.87174348698%2C%2071311.02204408818%2C%2071486.17234468937%2C%2071661.32264529058%2C%2071836.47294589179%2C%2072011.62324649299%2C%2072186.77354709418%2C%2072361.92384769539%2C%2072537.0741482966%2C%2072712.22444889779%2C%2072887.374749499%2C%2073062.5250501002%2C%2073237.67535070141%2C%2073412.8256513026%2C%2073587.9759519038%2C%2073763.12625250501%2C%2073938.27655310622%2C%2074113.42685370741%2C%2074288.57715430862%2C%2074463.72745490982%2C%2074638.87775551103%2C%2074814.02805611222%2C%2074989.17835671343%2C%2075164.32865731463%2C%2075339.47895791584%2C%2075514.62925851703%2C%2075689.77955911824%2C%2075864.92985971944%2C%2076040.08016032063%2C%2076215.23046092184%2C%2076390.38076152305%2C%2076565.53106212425%2C%2076740.68136272545%2C%2076915.83166332665%2C%2077090.98196392786%2C%2077266.13226452906%2C%2077441.28256513026%2C%2077616.43286573146%2C%2077791.58316633267%2C%2077966.73346693387%2C%2078141.88376753507%2C%2078317.03406813627%2C%2078492.18436873748%2C%2078667.33466933867%2C%2078842.48496993988%2C%2079017.63527054108%2C%2079192.78557114229%2C%2079367.93587174348%2C%2079543.08617234469%2C%2079718.2364729459%2C%2079893.3867735471%2C%2080068.53707414829%2C%2080243.6873747495%2C%2080418.8376753507%2C%2080593.98797595191%2C%2080769.1382765531%2C%2080944.28857715431%2C%2081119.43887775551%2C%2081294.58917835672%2C%2081469.73947895791%2C%2081644.88977955912%2C%2081820.04008016032%2C%2081995.19038076152%2C%2082170.34068136272%2C%2082345.49098196393%2C%2082520.64128256514%2C%2082695.79158316633%2C%2082870.94188376753%2C%2083046.09218436874%2C%2083221.24248496995%2C%2083396.39278557114%2C%2083571.54308617234%2C%2083746.69338677355%2C%2083921.84368737476%2C%2084096.99398797595%2C%2084272.14428857715%2C%2084447.29458917836%2C%2084622.44488977955%2C%2084797.59519038076%2C%2084972.74549098196%2C%2085147.89579158317%2C%2085323.04609218436%2C%2085498.19639278557%2C%2085673.34669338677%2C%2085848.49699398798%2C%2086023.64729458917%2C%2086198.79759519038%2C%2086373.94789579159%2C%2086549.09819639279%2C%2086724.24849699398%2C%2086899.39879759519%2C%2087074.5490981964%2C%2087249.6993987976%2C%2087424.8496993988%2C%2087600.0%5D%29%0A%20%20%20%20%20%20%20%20%20%20%20%20%20%20.range%28%5B%27%23ffffccff%27%2C%20%27%23ffffccff%27%2C%20%27%23ffffccff%27%2C%20%27%23ffffccff%27%2C%20%27%23ffffccff%27%2C%20%27%23ffffccff%27%2C%20%27%23ffffccff%27%2C%20%27%23ffffccff%27%2C%20%27%23ffffccff%27%2C%20%27%23ffffccff%27%2C%20%27%23ffffccff%27%2C%20%27%23ffffccff%27%2C%20%27%23ffffccff%27%2C%20%27%23ffffccff%27%2C%20%27%23ffffccff%27%2C%20%27%23ffffccff%27%2C%20%27%23ffffccff%27%2C%20%27%23ffffccff%27%2C%20%27%23ffffccff%27%2C%20%27%23ffffccff%27%2C%20%27%23ffffccff%27%2C%20%27%23ffffccff%27%2C%20%27%23ffffccff%27%2C%20%27%23ffffccff%27%2C%20%27%23ffffccff%27%2C%20%27%23ffffccff%27%2C%20%27%23ffffccff%27%2C%20%27%23ffffccff%27%2C%20%27%23ffffccff%27%2C%20%27%23ffffccff%27%2C%20%27%23ffffccff%27%2C%20%27%23ffffccff%27%2C%20%27%23ffffccff%27%2C%20%27%23ffffccff%27%2C%20%27%23ffffccff%27%2C%20%27%23ffffccff%27%2C%20%27%23ffffccff%27%2C%20%27%23ffffccff%27%2C%20%27%23ffffccff%27%2C%20%27%23ffffccff%27%2C%20%27%23ffffccff%27%2C%20%27%23ffffccff%27%2C%20%27%23ffffccff%27%2C%20%27%23ffffccff%27%2C%20%27%23ffffccff%27%2C%20%27%23ffffccff%27%2C%20%27%23ffffccff%27%2C%20%27%23ffffccff%27%2C%20%27%23ffffccff%27%2C%20%27%23ffffccff%27%2C%20%27%23ffffccff%27%2C%20%27%23ffffccff%27%2C%20%27%23ffffccff%27%2C%20%27%23ffffccff%27%2C%20%27%23ffffccff%27%2C%20%27%23ffffccff%27%2C%20%27%23ffffccff%27%2C%20%27%23ffffccff%27%2C%20%27%23ffffccff%27%2C%20%27%23ffffccff%27%2C%20%27%23ffffccff%27%2C%20%27%23ffffccff%27%2C%20%27%23ffffccff%27%2C%20%27%23ffffccff%27%2C%20%27%23ffffccff%27%2C%20%27%23ffffccff%27%2C%20%27%23ffffccff%27%2C%20%27%23ffffccff%27%2C%20%27%23ffffccff%27%2C%20%27%23ffffccff%27%2C%20%27%23ffffccff%27%2C%20%27%23ffffccff%27%2C%20%27%23ffffccff%27%2C%20%27%23ffffccff%27%2C%20%27%23ffffccff%27%2C%20%27%23ffffccff%27%2C%20%27%23ffffccff%27%2C%20%27%23ffffccff%27%2C%20%27%23ffffccff%27%2C%20%27%23ffffccff%27%2C%20%27%23ffffccff%27%2C%20%27%23ffffccff%27%2C%20%27%23ffffccff%27%2C%20%27%23ffffccff%27%2C%20%27%23d9f0a3ff%27%2C%20%27%23d9f0a3ff%27%2C%20%27%23d9f0a3ff%27%2C%20%27%23d9f0a3ff%27%2C%20%27%23d9f0a3ff%27%2C%20%27%23d9f0a3ff%27%2C%20%27%23d9f0a3ff%27%2C%20%27%23d9f0a3ff%27%2C%20%27%23d9f0a3ff%27%2C%20%27%23d9f0a3ff%27%2C%20%27%23d9f0a3ff%27%2C%20%27%23d9f0a3ff%27%2C%20%27%23d9f0a3ff%27%2C%20%27%23d9f0a3ff%27%2C%20%27%23d9f0a3ff%27%2C%20%27%23d9f0a3ff%27%2C%20%27%23d9f0a3ff%27%2C%20%27%23d9f0a3ff%27%2C%20%27%23d9f0a3ff%27%2C%20%27%23d9f0a3ff%27%2C%20%27%23d9f0a3ff%27%2C%20%27%23d9f0a3ff%27%2C%20%27%23d9f0a3ff%27%2C%20%27%23d9f0a3ff%27%2C%20%27%23d9f0a3ff%27%2C%20%27%23d9f0a3ff%27%2C%20%27%23d9f0a3ff%27%2C%20%27%23d9f0a3ff%27%2C%20%27%23d9f0a3ff%27%2C%20%27%23d9f0a3ff%27%2C%20%27%23d9f0a3ff%27%2C%20%27%23d9f0a3ff%27%2C%20%27%23d9f0a3ff%27%2C%20%27%23d9f0a3ff%27%2C%20%27%23d9f0a3ff%27%2C%20%27%23d9f0a3ff%27%2C%20%27%23d9f0a3ff%27%2C%20%27%23d9f0a3ff%27%2C%20%27%23d9f0a3ff%27%2C%20%27%23d9f0a3ff%27%2C%20%27%23d9f0a3ff%27%2C%20%27%23d9f0a3ff%27%2C%20%27%23d9f0a3ff%27%2C%20%27%23d9f0a3ff%27%2C%20%27%23d9f0a3ff%27%2C%20%27%23d9f0a3ff%27%2C%20%27%23d9f0a3ff%27%2C%20%27%23d9f0a3ff%27%2C%20%27%23d9f0a3ff%27%2C%20%27%23d9f0a3ff%27%2C%20%27%23d9f0a3ff%27%2C%20%27%23d9f0a3ff%27%2C%20%27%23d9f0a3ff%27%2C%20%27%23d9f0a3ff%27%2C%20%27%23d9f0a3ff%27%2C%20%27%23d9f0a3ff%27%2C%20%27%23d9f0a3ff%27%2C%20%27%23d9f0a3ff%27%2C%20%27%23d9f0a3ff%27%2C%20%27%23d9f0a3ff%27%2C%20%27%23d9f0a3ff%27%2C%20%27%23d9f0a3ff%27%2C%20%27%23d9f0a3ff%27%2C%20%27%23d9f0a3ff%27%2C%20%27%23d9f0a3ff%27%2C%20%27%23d9f0a3ff%27%2C%20%27%23d9f0a3ff%27%2C%20%27%23d9f0a3ff%27%2C%20%27%23d9f0a3ff%27%2C%20%27%23d9f0a3ff%27%2C%20%27%23d9f0a3ff%27%2C%20%27%23d9f0a3ff%27%2C%20%27%23d9f0a3ff%27%2C%20%27%23d9f0a3ff%27%2C%20%27%23d9f0a3ff%27%2C%20%27%23d9f0a3ff%27%2C%20%27%23d9f0a3ff%27%2C%20%27%23d9f0a3ff%27%2C%20%27%23d9f0a3ff%27%2C%20%27%23d9f0a3ff%27%2C%20%27%23d9f0a3ff%27%2C%20%27%23d9f0a3ff%27%2C%20%27%23d9f0a3ff%27%2C%20%27%23addd8eff%27%2C%20%27%23addd8eff%27%2C%20%27%23addd8eff%27%2C%20%27%23addd8eff%27%2C%20%27%23addd8eff%27%2C%20%27%23addd8eff%27%2C%20%27%23addd8eff%27%2C%20%27%23addd8eff%27%2C%20%27%23addd8eff%27%2C%20%27%23addd8eff%27%2C%20%27%23addd8eff%27%2C%20%27%23addd8eff%27%2C%20%27%23addd8eff%27%2C%20%27%23addd8eff%27%2C%20%27%23addd8eff%27%2C%20%27%23addd8eff%27%2C%20%27%23addd8eff%27%2C%20%27%23addd8eff%27%2C%20%27%23addd8eff%27%2C%20%27%23addd8eff%27%2C%20%27%23addd8eff%27%2C%20%27%23addd8eff%27%2C%20%27%23addd8eff%27%2C%20%27%23addd8eff%27%2C%20%27%23addd8eff%27%2C%20%27%23addd8eff%27%2C%20%27%23addd8eff%27%2C%20%27%23addd8eff%27%2C%20%27%23addd8eff%27%2C%20%27%23addd8eff%27%2C%20%27%23addd8eff%27%2C%20%27%23addd8eff%27%2C%20%27%23addd8eff%27%2C%20%27%23addd8eff%27%2C%20%27%23addd8eff%27%2C%20%27%23addd8eff%27%2C%20%27%23addd8eff%27%2C%20%27%23addd8eff%27%2C%20%27%23addd8eff%27%2C%20%27%23addd8eff%27%2C%20%27%23addd8eff%27%2C%20%27%23addd8eff%27%2C%20%27%23addd8eff%27%2C%20%27%23addd8eff%27%2C%20%27%23addd8eff%27%2C%20%27%23addd8eff%27%2C%20%27%23addd8eff%27%2C%20%27%23addd8eff%27%2C%20%27%23addd8eff%27%2C%20%27%23addd8eff%27%2C%20%27%23addd8eff%27%2C%20%27%23addd8eff%27%2C%20%27%23addd8eff%27%2C%20%27%23addd8eff%27%2C%20%27%23addd8eff%27%2C%20%27%23addd8eff%27%2C%20%27%23addd8eff%27%2C%20%27%23addd8eff%27%2C%20%27%23addd8eff%27%2C%20%27%23addd8eff%27%2C%20%27%23addd8eff%27%2C%20%27%23addd8eff%27%2C%20%27%23addd8eff%27%2C%20%27%23addd8eff%27%2C%20%27%23addd8eff%27%2C%20%27%23addd8eff%27%2C%20%27%23addd8eff%27%2C%20%27%23addd8eff%27%2C%20%27%23addd8eff%27%2C%20%27%23addd8eff%27%2C%20%27%23addd8eff%27%2C%20%27%23addd8eff%27%2C%20%27%23addd8eff%27%2C%20%27%23addd8eff%27%2C%20%27%23addd8eff%27%2C%20%27%23addd8eff%27%2C%20%27%23addd8eff%27%2C%20%27%23addd8eff%27%2C%20%27%23addd8eff%27%2C%20%27%23addd8eff%27%2C%20%27%23addd8eff%27%2C%20%27%23addd8eff%27%2C%20%27%23addd8eff%27%2C%20%27%2378c679ff%27%2C%20%27%2378c679ff%27%2C%20%27%2378c679ff%27%2C%20%27%2378c679ff%27%2C%20%27%2378c679ff%27%2C%20%27%2378c679ff%27%2C%20%27%2378c679ff%27%2C%20%27%2378c679ff%27%2C%20%27%2378c679ff%27%2C%20%27%2378c679ff%27%2C%20%27%2378c679ff%27%2C%20%27%2378c679ff%27%2C%20%27%2378c679ff%27%2C%20%27%2378c679ff%27%2C%20%27%2378c679ff%27%2C%20%27%2378c679ff%27%2C%20%27%2378c679ff%27%2C%20%27%2378c679ff%27%2C%20%27%2378c679ff%27%2C%20%27%2378c679ff%27%2C%20%27%2378c679ff%27%2C%20%27%2378c679ff%27%2C%20%27%2378c679ff%27%2C%20%27%2378c679ff%27%2C%20%27%2378c679ff%27%2C%20%27%2378c679ff%27%2C%20%27%2378c679ff%27%2C%20%27%2378c679ff%27%2C%20%27%2378c679ff%27%2C%20%27%2378c679ff%27%2C%20%27%2378c679ff%27%2C%20%27%2378c679ff%27%2C%20%27%2378c679ff%27%2C%20%27%2378c679ff%27%2C%20%27%2378c679ff%27%2C%20%27%2378c679ff%27%2C%20%27%2378c679ff%27%2C%20%27%2378c679ff%27%2C%20%27%2378c679ff%27%2C%20%27%2378c679ff%27%2C%20%27%2378c679ff%27%2C%20%27%2378c679ff%27%2C%20%27%2378c679ff%27%2C%20%27%2378c679ff%27%2C%20%27%2378c679ff%27%2C%20%27%2378c679ff%27%2C%20%27%2378c679ff%27%2C%20%27%2378c679ff%27%2C%20%27%2378c679ff%27%2C%20%27%2378c679ff%27%2C%20%27%2378c679ff%27%2C%20%27%2378c679ff%27%2C%20%27%2378c679ff%27%2C%20%27%2378c679ff%27%2C%20%27%2378c679ff%27%2C%20%27%2378c679ff%27%2C%20%27%2378c679ff%27%2C%20%27%2378c679ff%27%2C%20%27%2378c679ff%27%2C%20%27%2378c679ff%27%2C%20%27%2378c679ff%27%2C%20%27%2378c679ff%27%2C%20%27%2378c679ff%27%2C%20%27%2378c679ff%27%2C%20%27%2378c679ff%27%2C%20%27%2378c679ff%27%2C%20%27%2378c679ff%27%2C%20%27%2378c679ff%27%2C%20%27%2378c679ff%27%2C%20%27%2378c679ff%27%2C%20%27%2378c679ff%27%2C%20%27%2378c679ff%27%2C%20%27%2378c679ff%27%2C%20%27%2378c679ff%27%2C%20%27%2378c679ff%27%2C%20%27%2378c679ff%27%2C%20%27%2378c679ff%27%2C%20%27%2378c679ff%27%2C%20%27%2378c679ff%27%2C%20%27%2378c679ff%27%2C%20%27%2378c679ff%27%2C%20%27%2378c679ff%27%2C%20%27%2378c679ff%27%2C%20%27%2331a354ff%27%2C%20%27%2331a354ff%27%2C%20%27%2331a354ff%27%2C%20%27%2331a354ff%27%2C%20%27%2331a354ff%27%2C%20%27%2331a354ff%27%2C%20%27%2331a354ff%27%2C%20%27%2331a354ff%27%2C%20%27%2331a354ff%27%2C%20%27%2331a354ff%27%2C%20%27%2331a354ff%27%2C%20%27%2331a354ff%27%2C%20%27%2331a354ff%27%2C%20%27%2331a354ff%27%2C%20%27%2331a354ff%27%2C%20%27%2331a354ff%27%2C%20%27%2331a354ff%27%2C%20%27%2331a354ff%27%2C%20%27%2331a354ff%27%2C%20%27%2331a354ff%27%2C%20%27%2331a354ff%27%2C%20%27%2331a354ff%27%2C%20%27%2331a354ff%27%2C%20%27%2331a354ff%27%2C%20%27%2331a354ff%27%2C%20%27%2331a354ff%27%2C%20%27%2331a354ff%27%2C%20%27%2331a354ff%27%2C%20%27%2331a354ff%27%2C%20%27%2331a354ff%27%2C%20%27%2331a354ff%27%2C%20%27%2331a354ff%27%2C%20%27%2331a354ff%27%2C%20%27%2331a354ff%27%2C%20%27%2331a354ff%27%2C%20%27%2331a354ff%27%2C%20%27%2331a354ff%27%2C%20%27%2331a354ff%27%2C%20%27%2331a354ff%27%2C%20%27%2331a354ff%27%2C%20%27%2331a354ff%27%2C%20%27%2331a354ff%27%2C%20%27%2331a354ff%27%2C%20%27%2331a354ff%27%2C%20%27%2331a354ff%27%2C%20%27%2331a354ff%27%2C%20%27%2331a354ff%27%2C%20%27%2331a354ff%27%2C%20%27%2331a354ff%27%2C%20%27%2331a354ff%27%2C%20%27%2331a354ff%27%2C%20%27%2331a354ff%27%2C%20%27%2331a354ff%27%2C%20%27%2331a354ff%27%2C%20%27%2331a354ff%27%2C%20%27%2331a354ff%27%2C%20%27%2331a354ff%27%2C%20%27%2331a354ff%27%2C%20%27%2331a354ff%27%2C%20%27%2331a354ff%27%2C%20%27%2331a354ff%27%2C%20%27%2331a354ff%27%2C%20%27%2331a354ff%27%2C%20%27%2331a354ff%27%2C%20%27%2331a354ff%27%2C%20%27%2331a354ff%27%2C%20%27%2331a354ff%27%2C%20%27%2331a354ff%27%2C%20%27%2331a354ff%27%2C%20%27%2331a354ff%27%2C%20%27%2331a354ff%27%2C%20%27%2331a354ff%27%2C%20%27%2331a354ff%27%2C%20%27%2331a354ff%27%2C%20%27%2331a354ff%27%2C%20%27%2331a354ff%27%2C%20%27%2331a354ff%27%2C%20%27%2331a354ff%27%2C%20%27%2331a354ff%27%2C%20%27%2331a354ff%27%2C%20%27%2331a354ff%27%2C%20%27%2331a354ff%27%2C%20%27%2331a354ff%27%2C%20%27%23006837ff%27%2C%20%27%23006837ff%27%2C%20%27%23006837ff%27%2C%20%27%23006837ff%27%2C%20%27%23006837ff%27%2C%20%27%23006837ff%27%2C%20%27%23006837ff%27%2C%20%27%23006837ff%27%2C%20%27%23006837ff%27%2C%20%27%23006837ff%27%2C%20%27%23006837ff%27%2C%20%27%23006837ff%27%2C%20%27%23006837ff%27%2C%20%27%23006837ff%27%2C%20%27%23006837ff%27%2C%20%27%23006837ff%27%2C%20%27%23006837ff%27%2C%20%27%23006837ff%27%2C%20%27%23006837ff%27%2C%20%27%23006837ff%27%2C%20%27%23006837ff%27%2C%20%27%23006837ff%27%2C%20%27%23006837ff%27%2C%20%27%23006837ff%27%2C%20%27%23006837ff%27%2C%20%27%23006837ff%27%2C%20%27%23006837ff%27%2C%20%27%23006837ff%27%2C%20%27%23006837ff%27%2C%20%27%23006837ff%27%2C%20%27%23006837ff%27%2C%20%27%23006837ff%27%2C%20%27%23006837ff%27%2C%20%27%23006837ff%27%2C%20%27%23006837ff%27%2C%20%27%23006837ff%27%2C%20%27%23006837ff%27%2C%20%27%23006837ff%27%2C%20%27%23006837ff%27%2C%20%27%23006837ff%27%2C%20%27%23006837ff%27%2C%20%27%23006837ff%27%2C%20%27%23006837ff%27%2C%20%27%23006837ff%27%2C%20%27%23006837ff%27%2C%20%27%23006837ff%27%2C%20%27%23006837ff%27%2C%20%27%23006837ff%27%2C%20%27%23006837ff%27%2C%20%27%23006837ff%27%2C%20%27%23006837ff%27%2C%20%27%23006837ff%27%2C%20%27%23006837ff%27%2C%20%27%23006837ff%27%2C%20%27%23006837ff%27%2C%20%27%23006837ff%27%2C%20%27%23006837ff%27%2C%20%27%23006837ff%27%2C%20%27%23006837ff%27%2C%20%27%23006837ff%27%2C%20%27%23006837ff%27%2C%20%27%23006837ff%27%2C%20%27%23006837ff%27%2C%20%27%23006837ff%27%2C%20%27%23006837ff%27%2C%20%27%23006837ff%27%2C%20%27%23006837ff%27%2C%20%27%23006837ff%27%2C%20%27%23006837ff%27%2C%20%27%23006837ff%27%2C%20%27%23006837ff%27%2C%20%27%23006837ff%27%2C%20%27%23006837ff%27%2C%20%27%23006837ff%27%2C%20%27%23006837ff%27%2C%20%27%23006837ff%27%2C%20%27%23006837ff%27%2C%20%27%23006837ff%27%2C%20%27%23006837ff%27%2C%20%27%23006837ff%27%2C%20%27%23006837ff%27%2C%20%27%23006837ff%27%2C%20%27%23006837ff%27%2C%20%27%23006837ff%27%5D%29%3B%0A%20%20%20%20%0A%0A%20%20%20%20color_map_72d352a1428c421db5ae18ddbf8b42a8.x%20%3D%20d3.scale.linear%28%29%0A%20%20%20%20%20%20%20%20%20%20%20%20%20%20.domain%28%5B200.0%2C%2087600.0%5D%29%0A%20%20%20%20%20%20%20%20%20%20%20%20%20%20.range%28%5B0%2C%20400%5D%29%3B%0A%0A%20%20%20%20color_map_72d352a1428c421db5ae18ddbf8b42a8.legend%20%3D%20L.control%28%7Bposition%3A%20%27topright%27%7D%29%3B%0A%20%20%20%20color_map_72d352a1428c421db5ae18ddbf8b42a8.legend.onAdd%20%3D%20function%20%28map%29%20%7Bvar%20div%20%3D%20L.DomUtil.create%28%27div%27%2C%20%27legend%27%29%3B%20return%20div%7D%3B%0A%20%20%20%20color_map_72d352a1428c421db5ae18ddbf8b42a8.legend.addTo%28map_b24ff204212442eb8ea13175f197cad2%29%3B%0A%0A%20%20%20%20color_map_72d352a1428c421db5ae18ddbf8b42a8.xAxis%20%3D%20d3.svg.axis%28%29%0A%20%20%20%20%20%20%20%20.scale%28color_map_72d352a1428c421db5ae18ddbf8b42a8.x%29%0A%20%20%20%20%20%20%20%20.orient%28%22top%22%29%0A%20%20%20%20%20%20%20%20.tickSize%281%29%0A%20%20%20%20%20%20%20%20.tickValues%28%5B200.0%2C%2014766.666666666666%2C%2029333.333333333332%2C%2043900.0%2C%2058466.666666666664%2C%2073033.33333333333%2C%2087600.0%5D%29%3B%0A%0A%20%20%20%20color_map_72d352a1428c421db5ae18ddbf8b42a8.svg%20%3D%20d3.select%28%22.legend.leaflet-control%22%29.append%28%22svg%22%29%0A%20%20%20%20%20%20%20%20.attr%28%22id%22%2C%20%27legend%27%29%0A%20%20%20%20%20%20%20%20.attr%28%22width%22%2C%20450%29%0A%20%20%20%20%20%20%20%20.attr%28%22height%22%2C%2040%29%3B%0A%0A%20%20%20%20color_map_72d352a1428c421db5ae18ddbf8b42a8.g%20%3D%20color_map_72d352a1428c421db5ae18ddbf8b42a8.svg.append%28%22g%22%29%0A%20%20%20%20%20%20%20%20.attr%28%22class%22%2C%20%22key%22%29%0A%20%20%20%20%20%20%20%20.attr%28%22transform%22%2C%20%22translate%2825%2C16%29%22%29%3B%0A%0A%20%20%20%20color_map_72d352a1428c421db5ae18ddbf8b42a8.g.selectAll%28%22rect%22%29%0A%20%20%20%20%20%20%20%20.data%28color_map_72d352a1428c421db5ae18ddbf8b42a8.color.range%28%29.map%28function%28d%2C%20i%29%20%7B%0A%20%20%20%20%20%20%20%20%20%20return%20%7B%0A%20%20%20%20%20%20%20%20%20%20%20%20x0%3A%20i%20%3F%20color_map_72d352a1428c421db5ae18ddbf8b42a8.x%28color_map_72d352a1428c421db5ae18ddbf8b42a8.color.domain%28%29%5Bi%20-%201%5D%29%20%3A%20color_map_72d352a1428c421db5ae18ddbf8b42a8.x.range%28%29%5B0%5D%2C%0A%20%20%20%20%20%20%20%20%20%20%20%20x1%3A%20i%20%3C%20color_map_72d352a1428c421db5ae18ddbf8b42a8.color.domain%28%29.length%20%3F%20color_map_72d352a1428c421db5ae18ddbf8b42a8.x%28color_map_72d352a1428c421db5ae18ddbf8b42a8.color.domain%28%29%5Bi%5D%29%20%3A%20color_map_72d352a1428c421db5ae18ddbf8b42a8.x.range%28%29%5B1%5D%2C%0A%20%20%20%20%20%20%20%20%20%20%20%20z%3A%20d%0A%20%20%20%20%20%20%20%20%20%20%7D%3B%0A%20%20%20%20%20%20%20%20%7D%29%29%0A%20%20%20%20%20%20.enter%28%29.append%28%22rect%22%29%0A%20%20%20%20%20%20%20%20.attr%28%22height%22%2C%2010%29%0A%20%20%20%20%20%20%20%20.attr%28%22x%22%2C%20function%28d%29%20%7B%20return%20d.x0%3B%20%7D%29%0A%20%20%20%20%20%20%20%20.attr%28%22width%22%2C%20function%28d%29%20%7B%20return%20d.x1%20-%20d.x0%3B%20%7D%29%0A%20%20%20%20%20%20%20%20.style%28%22fill%22%2C%20function%28d%29%20%7B%20return%20d.z%3B%20%7D%29%3B%0A%0A%20%20%20%20color_map_72d352a1428c421db5ae18ddbf8b42a8.g.call%28color_map_72d352a1428c421db5ae18ddbf8b42a8.xAxis%29.append%28%22text%22%29%0A%20%20%20%20%20%20%20%20.attr%28%22class%22%2C%20%22caption%22%29%0A%20%20%20%20%20%20%20%20.attr%28%22y%22%2C%2021%29%0A%20%20%20%20%20%20%20%20.text%28%27Unemployment%20Rate%20%28%25%29%27%29%3B%0A%20%20%20%20%0A%20%20%20%20%20%20%20%20%20%20%20%20var%20layer_control_8c213193f70844abbf45541fca8944f4%20%3D%20%7B%0A%20%20%20%20%20%20%20%20%20%20%20%20%20%20%20%20base_layers%20%3A%20%7B%20%22openstreetmap%22%20%3A%20tile_layer_47432e5efc17409aa5abb094ae811c15%2C%20%7D%2C%0A%20%20%20%20%20%20%20%20%20%20%20%20%20%20%20%20overlays%20%3A%20%7B%20%22choropleth%22%20%3A%20choropleth_d4e01b75797849bb9b10959f75d11729%2C%20%7D%0A%20%20%20%20%20%20%20%20%20%20%20%20%20%20%20%20%7D%3B%0A%20%20%20%20%20%20%20%20%20%20%20%20L.control.layers%28%0A%20%20%20%20%20%20%20%20%20%20%20%20%20%20%20%20layer_control_8c213193f70844abbf45541fca8944f4.base_layers%2C%0A%20%20%20%20%20%20%20%20%20%20%20%20%20%20%20%20layer_control_8c213193f70844abbf45541fca8944f4.overlays%2C%0A%20%20%20%20%20%20%20%20%20%20%20%20%20%20%20%20%7Bposition%3A%20%27topright%27%2C%0A%20%20%20%20%20%20%20%20%20%20%20%20%20%20%20%20%20collapsed%3A%20true%2C%0A%20%20%20%20%20%20%20%20%20%20%20%20%20%20%20%20%20autoZIndex%3A%20true%0A%20%20%20%20%20%20%20%20%20%20%20%20%20%20%20%20%7D%29.addTo%28map_b24ff204212442eb8ea13175f197cad2%29%3B%0A%20%20%20%20%20%20%20%20%20%20%20%20%0A%20%20%20%20%20%20%20%20%0A%3C/script%3E onload=\"this.contentDocument.open();this.contentDocument.write(    decodeURIComponent(this.getAttribute('data-html')));this.contentDocument.close();\" allowfullscreen webkitallowfullscreen mozallowfullscreen></iframe></div></div>"
            ],
            "text/plain": [
              "<folium.folium.Map at 0x7fa7f7924b90>"
            ]
          },
          "metadata": {
            "tags": []
          },
          "execution_count": 70
        }
      ]
    }
  ]
}