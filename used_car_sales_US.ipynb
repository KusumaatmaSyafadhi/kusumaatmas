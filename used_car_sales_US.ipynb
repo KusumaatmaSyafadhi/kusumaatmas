{
  "nbformat": 4,
  "nbformat_minor": 0,
  "metadata": {
    "colab": {
      "name": "used car sales US",
      "provenance": [],
      "collapsed_sections": [],
      "authorship_tag": "ABX9TyOnjJ93Zw1w6GJMSRhbEh92",
      "include_colab_link": true
    },
    "kernelspec": {
      "name": "python3",
      "display_name": "Python 3"
    },
    "language_info": {
      "name": "python"
    }
  },
  "cells": [
    {
      "cell_type": "markdown",
      "metadata": {
        "id": "view-in-github",
        "colab_type": "text"
      },
      "source": [
        "<a href=\"https://colab.research.google.com/github/KusumaatmaSyafadhi/kusumaatmas/blob/main/used_car_sales_US.ipynb\" target=\"_parent\"><img src=\"https://colab.research.google.com/assets/colab-badge.svg\" alt=\"Open In Colab\"/></a>"
      ]
    },
    {
      "cell_type": "markdown",
      "metadata": {
        "id": "Hub2v9PfMGR0"
      },
      "source": [
        "Data was downloaded from: https://www.kaggle.com/tsaustin/us-used-car-sales-data"
      ]
    },
    {
      "cell_type": "code",
      "metadata": {
        "id": "QlubR2ztGduP"
      },
      "source": [
        "import pandas as pd\n",
        "import numpy as np\n",
        "import folium\n",
        "import matplotlib.pyplot as plt\n",
        "import seaborn as sns"
      ],
      "execution_count": 1,
      "outputs": []
    },
    {
      "cell_type": "code",
      "metadata": {
        "id": "y80YcsoxHDtT"
      },
      "source": [
        "carsales=pd.read_csv(\"https://raw.githubusercontent.com/KusumaatmaSyafadhi/kusumaatmas/main/used_car_sales.csv\")\n",
        "zip_codes=pd.read_csv('https://raw.githubusercontent.com/KusumaatmaSyafadhi/kusumaatmas/main/ZIP-COUNTY-FIPS_2017-06.csv')"
      ],
      "execution_count": 2,
      "outputs": []
    },
    {
      "cell_type": "code",
      "metadata": {
        "id": "87zB2BX-OH9V",
        "colab": {
          "base_uri": "https://localhost:8080/"
        },
        "outputId": "3cf7e887-19ae-4e01-9ec5-a0ad9a178eca"
      },
      "source": [
        "carsales.shape"
      ],
      "execution_count": 3,
      "outputs": [
        {
          "output_type": "execute_result",
          "data": {
            "text/plain": [
              "(122144, 13)"
            ]
          },
          "metadata": {
            "tags": []
          },
          "execution_count": 3
        }
      ]
    },
    {
      "cell_type": "code",
      "metadata": {
        "colab": {
          "base_uri": "https://localhost:8080/"
        },
        "id": "HP13w9imwz7b",
        "outputId": "51dfb961-6c11-4ce9-f901-90d0a6eeb7fe"
      },
      "source": [
        "zip_codes.shape"
      ],
      "execution_count": 4,
      "outputs": [
        {
          "output_type": "execute_result",
          "data": {
            "text/plain": [
              "(52889, 5)"
            ]
          },
          "metadata": {
            "tags": []
          },
          "execution_count": 4
        }
      ]
    },
    {
      "cell_type": "code",
      "metadata": {
        "colab": {
          "base_uri": "https://localhost:8080/",
          "height": 781
        },
        "id": "JN53bvmRKYt4",
        "outputId": "54f69fbc-d7fc-46a3-c880-fd1747db066d"
      },
      "source": [
        "carsales.head(20)"
      ],
      "execution_count": 5,
      "outputs": [
        {
          "output_type": "execute_result",
          "data": {
            "text/html": [
              "<div>\n",
              "<style scoped>\n",
              "    .dataframe tbody tr th:only-of-type {\n",
              "        vertical-align: middle;\n",
              "    }\n",
              "\n",
              "    .dataframe tbody tr th {\n",
              "        vertical-align: top;\n",
              "    }\n",
              "\n",
              "    .dataframe thead th {\n",
              "        text-align: right;\n",
              "    }\n",
              "</style>\n",
              "<table border=\"1\" class=\"dataframe\">\n",
              "  <thead>\n",
              "    <tr style=\"text-align: right;\">\n",
              "      <th></th>\n",
              "      <th>ID</th>\n",
              "      <th>pricesold</th>\n",
              "      <th>yearsold</th>\n",
              "      <th>zipcode</th>\n",
              "      <th>Mileage</th>\n",
              "      <th>Make</th>\n",
              "      <th>Model</th>\n",
              "      <th>Year</th>\n",
              "      <th>Trim</th>\n",
              "      <th>Engine</th>\n",
              "      <th>BodyType</th>\n",
              "      <th>NumCylinders</th>\n",
              "      <th>DriveType</th>\n",
              "    </tr>\n",
              "  </thead>\n",
              "  <tbody>\n",
              "    <tr>\n",
              "      <th>0</th>\n",
              "      <td>137178</td>\n",
              "      <td>7500</td>\n",
              "      <td>2020</td>\n",
              "      <td>786**</td>\n",
              "      <td>84430</td>\n",
              "      <td>Ford</td>\n",
              "      <td>Mustang</td>\n",
              "      <td>1988</td>\n",
              "      <td>LX</td>\n",
              "      <td>5.0L Gas V8</td>\n",
              "      <td>Sedan</td>\n",
              "      <td>0</td>\n",
              "      <td>RWD</td>\n",
              "    </tr>\n",
              "    <tr>\n",
              "      <th>1</th>\n",
              "      <td>96705</td>\n",
              "      <td>15000</td>\n",
              "      <td>2019</td>\n",
              "      <td>81006</td>\n",
              "      <td>0</td>\n",
              "      <td>Replica/Kit Makes</td>\n",
              "      <td>Jaguar Beck Lister</td>\n",
              "      <td>1958</td>\n",
              "      <td>NaN</td>\n",
              "      <td>383 Fuel injected</td>\n",
              "      <td>Convertible</td>\n",
              "      <td>8</td>\n",
              "      <td>RWD</td>\n",
              "    </tr>\n",
              "    <tr>\n",
              "      <th>2</th>\n",
              "      <td>119660</td>\n",
              "      <td>8750</td>\n",
              "      <td>2020</td>\n",
              "      <td>33449</td>\n",
              "      <td>55000</td>\n",
              "      <td>Jaguar</td>\n",
              "      <td>XJS</td>\n",
              "      <td>1995</td>\n",
              "      <td>2+2 Cabriolet</td>\n",
              "      <td>4.0L In-Line 6 Cylinder</td>\n",
              "      <td>Convertible</td>\n",
              "      <td>6</td>\n",
              "      <td>RWD</td>\n",
              "    </tr>\n",
              "    <tr>\n",
              "      <th>3</th>\n",
              "      <td>80773</td>\n",
              "      <td>11600</td>\n",
              "      <td>2019</td>\n",
              "      <td>07852</td>\n",
              "      <td>97200</td>\n",
              "      <td>Ford</td>\n",
              "      <td>Mustang</td>\n",
              "      <td>1968</td>\n",
              "      <td>Stock</td>\n",
              "      <td>289 cu. in. V8</td>\n",
              "      <td>Coupe</td>\n",
              "      <td>8</td>\n",
              "      <td>RWD</td>\n",
              "    </tr>\n",
              "    <tr>\n",
              "      <th>4</th>\n",
              "      <td>64287</td>\n",
              "      <td>44000</td>\n",
              "      <td>2019</td>\n",
              "      <td>07728</td>\n",
              "      <td>40703</td>\n",
              "      <td>Porsche</td>\n",
              "      <td>911</td>\n",
              "      <td>2002</td>\n",
              "      <td>Turbo X-50</td>\n",
              "      <td>3.6L</td>\n",
              "      <td>Coupe</td>\n",
              "      <td>6</td>\n",
              "      <td>AWD</td>\n",
              "    </tr>\n",
              "    <tr>\n",
              "      <th>5</th>\n",
              "      <td>132695</td>\n",
              "      <td>950</td>\n",
              "      <td>2020</td>\n",
              "      <td>462**</td>\n",
              "      <td>71300</td>\n",
              "      <td>Mercury</td>\n",
              "      <td>Montclair</td>\n",
              "      <td>1965</td>\n",
              "      <td>NaN</td>\n",
              "      <td>NO ENGINE</td>\n",
              "      <td>Sedan</td>\n",
              "      <td>0</td>\n",
              "      <td>RWD</td>\n",
              "    </tr>\n",
              "    <tr>\n",
              "      <th>6</th>\n",
              "      <td>132829</td>\n",
              "      <td>950</td>\n",
              "      <td>2020</td>\n",
              "      <td>105**</td>\n",
              "      <td>71300</td>\n",
              "      <td>Mercury</td>\n",
              "      <td>Montclair</td>\n",
              "      <td>1965</td>\n",
              "      <td>NaN</td>\n",
              "      <td>NaN</td>\n",
              "      <td>Sedan</td>\n",
              "      <td>0</td>\n",
              "      <td>NaN</td>\n",
              "    </tr>\n",
              "    <tr>\n",
              "      <th>7</th>\n",
              "      <td>5250</td>\n",
              "      <td>70000</td>\n",
              "      <td>2019</td>\n",
              "      <td>07627</td>\n",
              "      <td>6500</td>\n",
              "      <td>Land Rover</td>\n",
              "      <td>Defender</td>\n",
              "      <td>1997</td>\n",
              "      <td>NaN</td>\n",
              "      <td>4.0 Liter Fuel Injected V8</td>\n",
              "      <td>NaN</td>\n",
              "      <td>0</td>\n",
              "      <td>4WD</td>\n",
              "    </tr>\n",
              "    <tr>\n",
              "      <th>8</th>\n",
              "      <td>29023</td>\n",
              "      <td>1330</td>\n",
              "      <td>2019</td>\n",
              "      <td>07043</td>\n",
              "      <td>167000</td>\n",
              "      <td>Honda</td>\n",
              "      <td>Civic</td>\n",
              "      <td>2001</td>\n",
              "      <td>EX</td>\n",
              "      <td>NaN</td>\n",
              "      <td>Coupe</td>\n",
              "      <td>4</td>\n",
              "      <td>FWD</td>\n",
              "    </tr>\n",
              "    <tr>\n",
              "      <th>9</th>\n",
              "      <td>80293</td>\n",
              "      <td>25200</td>\n",
              "      <td>2019</td>\n",
              "      <td>33759</td>\n",
              "      <td>15000</td>\n",
              "      <td>Pontiac</td>\n",
              "      <td>GTO</td>\n",
              "      <td>1970</td>\n",
              "      <td>NaN</td>\n",
              "      <td>NaN</td>\n",
              "      <td>NaN</td>\n",
              "      <td>0</td>\n",
              "      <td>NaN</td>\n",
              "    </tr>\n",
              "    <tr>\n",
              "      <th>10</th>\n",
              "      <td>158271</td>\n",
              "      <td>20000</td>\n",
              "      <td>2020</td>\n",
              "      <td>333**</td>\n",
              "      <td>51674</td>\n",
              "      <td>Jeep</td>\n",
              "      <td>Wrangler</td>\n",
              "      <td>2015</td>\n",
              "      <td>SPORT</td>\n",
              "      <td>3.6L Flexible V6</td>\n",
              "      <td>SUV</td>\n",
              "      <td>6</td>\n",
              "      <td>4WD</td>\n",
              "    </tr>\n",
              "    <tr>\n",
              "      <th>11</th>\n",
              "      <td>72418</td>\n",
              "      <td>14100</td>\n",
              "      <td>2019</td>\n",
              "      <td>07014</td>\n",
              "      <td>109500</td>\n",
              "      <td>Jeep</td>\n",
              "      <td>Wrangler</td>\n",
              "      <td>2012</td>\n",
              "      <td>Unlimited</td>\n",
              "      <td>3.6L</td>\n",
              "      <td>SUV</td>\n",
              "      <td>6</td>\n",
              "      <td>4WD</td>\n",
              "    </tr>\n",
              "    <tr>\n",
              "      <th>12</th>\n",
              "      <td>91661</td>\n",
              "      <td>5700</td>\n",
              "      <td>2020</td>\n",
              "      <td>76051</td>\n",
              "      <td>1000000</td>\n",
              "      <td>Ford</td>\n",
              "      <td>F-100</td>\n",
              "      <td>1949</td>\n",
              "      <td>NaN</td>\n",
              "      <td>NaN</td>\n",
              "      <td>Standard Cab Pickup</td>\n",
              "      <td>8</td>\n",
              "      <td>RWD</td>\n",
              "    </tr>\n",
              "    <tr>\n",
              "      <th>13</th>\n",
              "      <td>119358</td>\n",
              "      <td>6000</td>\n",
              "      <td>2020</td>\n",
              "      <td>384**</td>\n",
              "      <td>101501</td>\n",
              "      <td>Toyota</td>\n",
              "      <td>Prius</td>\n",
              "      <td>2009</td>\n",
              "      <td>NaN</td>\n",
              "      <td>1.5L Electric and Gas Hybrid I4</td>\n",
              "      <td>4 door/hatchback</td>\n",
              "      <td>4</td>\n",
              "      <td>FWD</td>\n",
              "    </tr>\n",
              "    <tr>\n",
              "      <th>14</th>\n",
              "      <td>131969</td>\n",
              "      <td>4000</td>\n",
              "      <td>2020</td>\n",
              "      <td>027**</td>\n",
              "      <td>118513</td>\n",
              "      <td>Toyota</td>\n",
              "      <td>Celica</td>\n",
              "      <td>1985</td>\n",
              "      <td>NaN</td>\n",
              "      <td>2.8L Gas I6</td>\n",
              "      <td>Hatchback</td>\n",
              "      <td>0</td>\n",
              "      <td>RWD</td>\n",
              "    </tr>\n",
              "    <tr>\n",
              "      <th>15</th>\n",
              "      <td>84062</td>\n",
              "      <td>3820</td>\n",
              "      <td>2019</td>\n",
              "      <td>V1W 5L6</td>\n",
              "      <td>377000</td>\n",
              "      <td>Jeep</td>\n",
              "      <td>Wrangler</td>\n",
              "      <td>1997</td>\n",
              "      <td>NaN</td>\n",
              "      <td>4.0</td>\n",
              "      <td>NaN</td>\n",
              "      <td>6</td>\n",
              "      <td>AWD</td>\n",
              "    </tr>\n",
              "    <tr>\n",
              "      <th>16</th>\n",
              "      <td>144540</td>\n",
              "      <td>3330</td>\n",
              "      <td>2020</td>\n",
              "      <td>856**</td>\n",
              "      <td>47692</td>\n",
              "      <td>Buick</td>\n",
              "      <td>LeSabre</td>\n",
              "      <td>2004</td>\n",
              "      <td>CUSTOM</td>\n",
              "      <td>3.8L Gas V6</td>\n",
              "      <td>Sedan</td>\n",
              "      <td>6</td>\n",
              "      <td>FWD</td>\n",
              "    </tr>\n",
              "    <tr>\n",
              "      <th>17</th>\n",
              "      <td>142951</td>\n",
              "      <td>650</td>\n",
              "      <td>2020</td>\n",
              "      <td>628**</td>\n",
              "      <td>99999</td>\n",
              "      <td>Austin</td>\n",
              "      <td>NaN</td>\n",
              "      <td>1970</td>\n",
              "      <td>NaN</td>\n",
              "      <td>NaN</td>\n",
              "      <td>NaN</td>\n",
              "      <td>0</td>\n",
              "      <td>NaN</td>\n",
              "    </tr>\n",
              "    <tr>\n",
              "      <th>18</th>\n",
              "      <td>142336</td>\n",
              "      <td>1480</td>\n",
              "      <td>2020</td>\n",
              "      <td>601**</td>\n",
              "      <td>166000</td>\n",
              "      <td>Nissan</td>\n",
              "      <td>Altima</td>\n",
              "      <td>2006</td>\n",
              "      <td>NaN</td>\n",
              "      <td>NaN</td>\n",
              "      <td>Sedan</td>\n",
              "      <td>6</td>\n",
              "      <td>NaN</td>\n",
              "    </tr>\n",
              "    <tr>\n",
              "      <th>19</th>\n",
              "      <td>59728</td>\n",
              "      <td>18550</td>\n",
              "      <td>2019</td>\n",
              "      <td>60448</td>\n",
              "      <td>6714</td>\n",
              "      <td>Chevrolet</td>\n",
              "      <td>Camaro</td>\n",
              "      <td>2002</td>\n",
              "      <td>Z28,SS,SLP</td>\n",
              "      <td>5.7 liter v8</td>\n",
              "      <td>Coupe</td>\n",
              "      <td>8</td>\n",
              "      <td>RWD</td>\n",
              "    </tr>\n",
              "  </tbody>\n",
              "</table>\n",
              "</div>"
            ],
            "text/plain": [
              "        ID  pricesold  yearsold  ...             BodyType  NumCylinders DriveType\n",
              "0   137178       7500      2020  ...                Sedan             0       RWD\n",
              "1    96705      15000      2019  ...          Convertible             8       RWD\n",
              "2   119660       8750      2020  ...          Convertible             6       RWD\n",
              "3    80773      11600      2019  ...                Coupe             8       RWD\n",
              "4    64287      44000      2019  ...                Coupe             6       AWD\n",
              "5   132695        950      2020  ...                Sedan             0       RWD\n",
              "6   132829        950      2020  ...                Sedan             0       NaN\n",
              "7     5250      70000      2019  ...                  NaN             0       4WD\n",
              "8    29023       1330      2019  ...                Coupe             4       FWD\n",
              "9    80293      25200      2019  ...                  NaN             0       NaN\n",
              "10  158271      20000      2020  ...                  SUV             6       4WD\n",
              "11   72418      14100      2019  ...                  SUV             6       4WD\n",
              "12   91661       5700      2020  ...  Standard Cab Pickup             8       RWD\n",
              "13  119358       6000      2020  ...     4 door/hatchback             4       FWD\n",
              "14  131969       4000      2020  ...            Hatchback             0       RWD\n",
              "15   84062       3820      2019  ...                  NaN             6       AWD\n",
              "16  144540       3330      2020  ...                Sedan             6       FWD\n",
              "17  142951        650      2020  ...                  NaN             0       NaN\n",
              "18  142336       1480      2020  ...                Sedan             6       NaN\n",
              "19   59728      18550      2019  ...                Coupe             8       RWD\n",
              "\n",
              "[20 rows x 13 columns]"
            ]
          },
          "metadata": {
            "tags": []
          },
          "execution_count": 5
        }
      ]
    },
    {
      "cell_type": "code",
      "metadata": {
        "colab": {
          "base_uri": "https://localhost:8080/"
        },
        "id": "azUltk1t1d2B",
        "outputId": "01d42eaa-055e-4590-91a4-4506e7984d56"
      },
      "source": [
        "carsales.info()"
      ],
      "execution_count": 6,
      "outputs": [
        {
          "output_type": "stream",
          "text": [
            "<class 'pandas.core.frame.DataFrame'>\n",
            "RangeIndex: 122144 entries, 0 to 122143\n",
            "Data columns (total 13 columns):\n",
            " #   Column        Non-Null Count   Dtype \n",
            "---  ------        --------------   ----- \n",
            " 0   ID            122144 non-null  int64 \n",
            " 1   pricesold     122144 non-null  int64 \n",
            " 2   yearsold      122144 non-null  int64 \n",
            " 3   zipcode       121235 non-null  object\n",
            " 4   Mileage       122144 non-null  int64 \n",
            " 5   Make          122144 non-null  object\n",
            " 6   Model         121571 non-null  object\n",
            " 7   Year          122144 non-null  int64 \n",
            " 8   Trim          73220 non-null   object\n",
            " 9   Engine        95046 non-null   object\n",
            " 10  BodyType      101358 non-null  object\n",
            " 11  NumCylinders  122144 non-null  int64 \n",
            " 12  DriveType     97293 non-null   object\n",
            "dtypes: int64(6), object(7)\n",
            "memory usage: 12.1+ MB\n"
          ],
          "name": "stdout"
        }
      ]
    },
    {
      "cell_type": "code",
      "metadata": {
        "colab": {
          "base_uri": "https://localhost:8080/",
          "height": 206
        },
        "id": "RvR_8XYJw5Gj",
        "outputId": "3b58a543-1dc7-487b-9daf-6d4a8fdde5b6"
      },
      "source": [
        "zip_codes.head()"
      ],
      "execution_count": 7,
      "outputs": [
        {
          "output_type": "execute_result",
          "data": {
            "text/html": [
              "<div>\n",
              "<style scoped>\n",
              "    .dataframe tbody tr th:only-of-type {\n",
              "        vertical-align: middle;\n",
              "    }\n",
              "\n",
              "    .dataframe tbody tr th {\n",
              "        vertical-align: top;\n",
              "    }\n",
              "\n",
              "    .dataframe thead th {\n",
              "        text-align: right;\n",
              "    }\n",
              "</style>\n",
              "<table border=\"1\" class=\"dataframe\">\n",
              "  <thead>\n",
              "    <tr style=\"text-align: right;\">\n",
              "      <th></th>\n",
              "      <th>ZIP</th>\n",
              "      <th>COUNTYNAME</th>\n",
              "      <th>STATE</th>\n",
              "      <th>STCOUNTYFP</th>\n",
              "      <th>CLASSFP</th>\n",
              "    </tr>\n",
              "  </thead>\n",
              "  <tbody>\n",
              "    <tr>\n",
              "      <th>0</th>\n",
              "      <td>36003</td>\n",
              "      <td>Autauga County</td>\n",
              "      <td>AL</td>\n",
              "      <td>1001</td>\n",
              "      <td>H1</td>\n",
              "    </tr>\n",
              "    <tr>\n",
              "      <th>1</th>\n",
              "      <td>36006</td>\n",
              "      <td>Autauga County</td>\n",
              "      <td>AL</td>\n",
              "      <td>1001</td>\n",
              "      <td>H1</td>\n",
              "    </tr>\n",
              "    <tr>\n",
              "      <th>2</th>\n",
              "      <td>36067</td>\n",
              "      <td>Autauga County</td>\n",
              "      <td>AL</td>\n",
              "      <td>1001</td>\n",
              "      <td>H1</td>\n",
              "    </tr>\n",
              "    <tr>\n",
              "      <th>3</th>\n",
              "      <td>36066</td>\n",
              "      <td>Autauga County</td>\n",
              "      <td>AL</td>\n",
              "      <td>1001</td>\n",
              "      <td>H1</td>\n",
              "    </tr>\n",
              "    <tr>\n",
              "      <th>4</th>\n",
              "      <td>36703</td>\n",
              "      <td>Autauga County</td>\n",
              "      <td>AL</td>\n",
              "      <td>1001</td>\n",
              "      <td>H1</td>\n",
              "    </tr>\n",
              "  </tbody>\n",
              "</table>\n",
              "</div>"
            ],
            "text/plain": [
              "     ZIP      COUNTYNAME STATE  STCOUNTYFP CLASSFP\n",
              "0  36003  Autauga County    AL        1001      H1\n",
              "1  36006  Autauga County    AL        1001      H1\n",
              "2  36067  Autauga County    AL        1001      H1\n",
              "3  36066  Autauga County    AL        1001      H1\n",
              "4  36703  Autauga County    AL        1001      H1"
            ]
          },
          "metadata": {
            "tags": []
          },
          "execution_count": 7
        }
      ]
    },
    {
      "cell_type": "markdown",
      "metadata": {
        "id": "cJQnP8YZwPy1"
      },
      "source": [
        "Below is making zip codes data frame which only contains zip and states."
      ]
    },
    {
      "cell_type": "code",
      "metadata": {
        "id": "Vy_Eju6XwgWX"
      },
      "source": [
        "zip_codes_clean = zip_codes.groupby(by=['ZIP','STATE'], as_index=False).first()[['ZIP','STATE']]"
      ],
      "execution_count": 8,
      "outputs": []
    },
    {
      "cell_type": "markdown",
      "metadata": {
        "id": "dy-SL9iYtk1d"
      },
      "source": [
        "Change the Zipcodes Data Type to Integer"
      ]
    },
    {
      "cell_type": "code",
      "metadata": {
        "id": "CCoh9uOltjtC"
      },
      "source": [
        "carsales = carsales[carsales['zipcode'].str.isdigit() == True]\n",
        "carsales['zipcode'] = carsales['zipcode'].astype(int)"
      ],
      "execution_count": 9,
      "outputs": []
    },
    {
      "cell_type": "code",
      "metadata": {
        "colab": {
          "base_uri": "https://localhost:8080/"
        },
        "id": "gWTFJfMPdj1g",
        "outputId": "7b39ef85-1935-4452-a43c-52e490ef9788"
      },
      "source": [
        "carsales.info()"
      ],
      "execution_count": 10,
      "outputs": [
        {
          "output_type": "stream",
          "text": [
            "<class 'pandas.core.frame.DataFrame'>\n",
            "Int64Index: 82495 entries, 1 to 122143\n",
            "Data columns (total 13 columns):\n",
            " #   Column        Non-Null Count  Dtype \n",
            "---  ------        --------------  ----- \n",
            " 0   ID            82495 non-null  int64 \n",
            " 1   pricesold     82495 non-null  int64 \n",
            " 2   yearsold      82495 non-null  int64 \n",
            " 3   zipcode       82495 non-null  int64 \n",
            " 4   Mileage       82495 non-null  int64 \n",
            " 5   Make          82495 non-null  object\n",
            " 6   Model         82128 non-null  object\n",
            " 7   Year          82495 non-null  int64 \n",
            " 8   Trim          51078 non-null  object\n",
            " 9   Engine        66002 non-null  object\n",
            " 10  BodyType      67562 non-null  object\n",
            " 11  NumCylinders  82495 non-null  int64 \n",
            " 12  DriveType     66143 non-null  object\n",
            "dtypes: int64(7), object(6)\n",
            "memory usage: 8.8+ MB\n"
          ],
          "name": "stdout"
        }
      ]
    },
    {
      "cell_type": "markdown",
      "metadata": {
        "id": "t66J0ADU11am"
      },
      "source": [
        "Merge Two Dataframe so that I can see the states"
      ]
    },
    {
      "cell_type": "code",
      "metadata": {
        "id": "MkSs0MUhuO8L"
      },
      "source": [
        "carsales_2 = pd.merge(carsales, zip_codes_clean, left_on='zipcode', right_on='ZIP', how='left')\n",
        "carsales_2.drop('ZIP',axis=1,inplace=True)"
      ],
      "execution_count": 11,
      "outputs": []
    },
    {
      "cell_type": "code",
      "metadata": {
        "colab": {
          "base_uri": "https://localhost:8080/",
          "height": 781
        },
        "id": "4hg4AS8kt0iy",
        "outputId": "2bbcfc9e-fe82-457e-f653-a409398c13a1"
      },
      "source": [
        "carsales_2.head(20)"
      ],
      "execution_count": 12,
      "outputs": [
        {
          "output_type": "execute_result",
          "data": {
            "text/html": [
              "<div>\n",
              "<style scoped>\n",
              "    .dataframe tbody tr th:only-of-type {\n",
              "        vertical-align: middle;\n",
              "    }\n",
              "\n",
              "    .dataframe tbody tr th {\n",
              "        vertical-align: top;\n",
              "    }\n",
              "\n",
              "    .dataframe thead th {\n",
              "        text-align: right;\n",
              "    }\n",
              "</style>\n",
              "<table border=\"1\" class=\"dataframe\">\n",
              "  <thead>\n",
              "    <tr style=\"text-align: right;\">\n",
              "      <th></th>\n",
              "      <th>ID</th>\n",
              "      <th>pricesold</th>\n",
              "      <th>yearsold</th>\n",
              "      <th>zipcode</th>\n",
              "      <th>Mileage</th>\n",
              "      <th>Make</th>\n",
              "      <th>Model</th>\n",
              "      <th>Year</th>\n",
              "      <th>Trim</th>\n",
              "      <th>Engine</th>\n",
              "      <th>BodyType</th>\n",
              "      <th>NumCylinders</th>\n",
              "      <th>DriveType</th>\n",
              "      <th>STATE</th>\n",
              "    </tr>\n",
              "  </thead>\n",
              "  <tbody>\n",
              "    <tr>\n",
              "      <th>0</th>\n",
              "      <td>96705</td>\n",
              "      <td>15000</td>\n",
              "      <td>2019</td>\n",
              "      <td>81006</td>\n",
              "      <td>0</td>\n",
              "      <td>Replica/Kit Makes</td>\n",
              "      <td>Jaguar Beck Lister</td>\n",
              "      <td>1958</td>\n",
              "      <td>NaN</td>\n",
              "      <td>383 Fuel injected</td>\n",
              "      <td>Convertible</td>\n",
              "      <td>8</td>\n",
              "      <td>RWD</td>\n",
              "      <td>CO</td>\n",
              "    </tr>\n",
              "    <tr>\n",
              "      <th>1</th>\n",
              "      <td>119660</td>\n",
              "      <td>8750</td>\n",
              "      <td>2020</td>\n",
              "      <td>33449</td>\n",
              "      <td>55000</td>\n",
              "      <td>Jaguar</td>\n",
              "      <td>XJS</td>\n",
              "      <td>1995</td>\n",
              "      <td>2+2 Cabriolet</td>\n",
              "      <td>4.0L In-Line 6 Cylinder</td>\n",
              "      <td>Convertible</td>\n",
              "      <td>6</td>\n",
              "      <td>RWD</td>\n",
              "      <td>FL</td>\n",
              "    </tr>\n",
              "    <tr>\n",
              "      <th>2</th>\n",
              "      <td>80773</td>\n",
              "      <td>11600</td>\n",
              "      <td>2019</td>\n",
              "      <td>7852</td>\n",
              "      <td>97200</td>\n",
              "      <td>Ford</td>\n",
              "      <td>Mustang</td>\n",
              "      <td>1968</td>\n",
              "      <td>Stock</td>\n",
              "      <td>289 cu. in. V8</td>\n",
              "      <td>Coupe</td>\n",
              "      <td>8</td>\n",
              "      <td>RWD</td>\n",
              "      <td>NJ</td>\n",
              "    </tr>\n",
              "    <tr>\n",
              "      <th>3</th>\n",
              "      <td>64287</td>\n",
              "      <td>44000</td>\n",
              "      <td>2019</td>\n",
              "      <td>7728</td>\n",
              "      <td>40703</td>\n",
              "      <td>Porsche</td>\n",
              "      <td>911</td>\n",
              "      <td>2002</td>\n",
              "      <td>Turbo X-50</td>\n",
              "      <td>3.6L</td>\n",
              "      <td>Coupe</td>\n",
              "      <td>6</td>\n",
              "      <td>AWD</td>\n",
              "      <td>NJ</td>\n",
              "    </tr>\n",
              "    <tr>\n",
              "      <th>4</th>\n",
              "      <td>5250</td>\n",
              "      <td>70000</td>\n",
              "      <td>2019</td>\n",
              "      <td>7627</td>\n",
              "      <td>6500</td>\n",
              "      <td>Land Rover</td>\n",
              "      <td>Defender</td>\n",
              "      <td>1997</td>\n",
              "      <td>NaN</td>\n",
              "      <td>4.0 Liter Fuel Injected V8</td>\n",
              "      <td>NaN</td>\n",
              "      <td>0</td>\n",
              "      <td>4WD</td>\n",
              "      <td>NJ</td>\n",
              "    </tr>\n",
              "    <tr>\n",
              "      <th>5</th>\n",
              "      <td>29023</td>\n",
              "      <td>1330</td>\n",
              "      <td>2019</td>\n",
              "      <td>7043</td>\n",
              "      <td>167000</td>\n",
              "      <td>Honda</td>\n",
              "      <td>Civic</td>\n",
              "      <td>2001</td>\n",
              "      <td>EX</td>\n",
              "      <td>NaN</td>\n",
              "      <td>Coupe</td>\n",
              "      <td>4</td>\n",
              "      <td>FWD</td>\n",
              "      <td>NJ</td>\n",
              "    </tr>\n",
              "    <tr>\n",
              "      <th>6</th>\n",
              "      <td>80293</td>\n",
              "      <td>25200</td>\n",
              "      <td>2019</td>\n",
              "      <td>33759</td>\n",
              "      <td>15000</td>\n",
              "      <td>Pontiac</td>\n",
              "      <td>GTO</td>\n",
              "      <td>1970</td>\n",
              "      <td>NaN</td>\n",
              "      <td>NaN</td>\n",
              "      <td>NaN</td>\n",
              "      <td>0</td>\n",
              "      <td>NaN</td>\n",
              "      <td>FL</td>\n",
              "    </tr>\n",
              "    <tr>\n",
              "      <th>7</th>\n",
              "      <td>72418</td>\n",
              "      <td>14100</td>\n",
              "      <td>2019</td>\n",
              "      <td>7014</td>\n",
              "      <td>109500</td>\n",
              "      <td>Jeep</td>\n",
              "      <td>Wrangler</td>\n",
              "      <td>2012</td>\n",
              "      <td>Unlimited</td>\n",
              "      <td>3.6L</td>\n",
              "      <td>SUV</td>\n",
              "      <td>6</td>\n",
              "      <td>4WD</td>\n",
              "      <td>NJ</td>\n",
              "    </tr>\n",
              "    <tr>\n",
              "      <th>8</th>\n",
              "      <td>91661</td>\n",
              "      <td>5700</td>\n",
              "      <td>2020</td>\n",
              "      <td>76051</td>\n",
              "      <td>1000000</td>\n",
              "      <td>Ford</td>\n",
              "      <td>F-100</td>\n",
              "      <td>1949</td>\n",
              "      <td>NaN</td>\n",
              "      <td>NaN</td>\n",
              "      <td>Standard Cab Pickup</td>\n",
              "      <td>8</td>\n",
              "      <td>RWD</td>\n",
              "      <td>TX</td>\n",
              "    </tr>\n",
              "    <tr>\n",
              "      <th>9</th>\n",
              "      <td>59728</td>\n",
              "      <td>18550</td>\n",
              "      <td>2019</td>\n",
              "      <td>60448</td>\n",
              "      <td>6714</td>\n",
              "      <td>Chevrolet</td>\n",
              "      <td>Camaro</td>\n",
              "      <td>2002</td>\n",
              "      <td>Z28,SS,SLP</td>\n",
              "      <td>5.7 liter v8</td>\n",
              "      <td>Coupe</td>\n",
              "      <td>8</td>\n",
              "      <td>RWD</td>\n",
              "      <td>IL</td>\n",
              "    </tr>\n",
              "    <tr>\n",
              "      <th>10</th>\n",
              "      <td>74813</td>\n",
              "      <td>4300</td>\n",
              "      <td>2019</td>\n",
              "      <td>76705</td>\n",
              "      <td>140309</td>\n",
              "      <td>Ford</td>\n",
              "      <td>F-100</td>\n",
              "      <td>1960</td>\n",
              "      <td>NaN</td>\n",
              "      <td>223</td>\n",
              "      <td>Standard Cab Pickup</td>\n",
              "      <td>6</td>\n",
              "      <td>RWD</td>\n",
              "      <td>TX</td>\n",
              "    </tr>\n",
              "    <tr>\n",
              "      <th>11</th>\n",
              "      <td>74812</td>\n",
              "      <td>4750</td>\n",
              "      <td>2019</td>\n",
              "      <td>76705</td>\n",
              "      <td>151361</td>\n",
              "      <td>Ford</td>\n",
              "      <td>F-250</td>\n",
              "      <td>1978</td>\n",
              "      <td>Ranger XLT</td>\n",
              "      <td>460</td>\n",
              "      <td>Standard Cab Pickup</td>\n",
              "      <td>8</td>\n",
              "      <td>RWD</td>\n",
              "      <td>TX</td>\n",
              "    </tr>\n",
              "    <tr>\n",
              "      <th>12</th>\n",
              "      <td>78263</td>\n",
              "      <td>3050</td>\n",
              "      <td>2020</td>\n",
              "      <td>7840</td>\n",
              "      <td>95600</td>\n",
              "      <td>Nissan</td>\n",
              "      <td>Maxima</td>\n",
              "      <td>2004</td>\n",
              "      <td>SE</td>\n",
              "      <td>3.5L</td>\n",
              "      <td>Sedan</td>\n",
              "      <td>6</td>\n",
              "      <td>FWD</td>\n",
              "      <td>NJ</td>\n",
              "    </tr>\n",
              "    <tr>\n",
              "      <th>13</th>\n",
              "      <td>78272</td>\n",
              "      <td>4050</td>\n",
              "      <td>2020</td>\n",
              "      <td>7840</td>\n",
              "      <td>100427</td>\n",
              "      <td>Nissan</td>\n",
              "      <td>Altima</td>\n",
              "      <td>2009</td>\n",
              "      <td>Hybrid</td>\n",
              "      <td>2.5L DOHC</td>\n",
              "      <td>Sedan</td>\n",
              "      <td>4</td>\n",
              "      <td>FWD</td>\n",
              "      <td>NJ</td>\n",
              "    </tr>\n",
              "    <tr>\n",
              "      <th>14</th>\n",
              "      <td>45651</td>\n",
              "      <td>5390</td>\n",
              "      <td>2019</td>\n",
              "      <td>7840</td>\n",
              "      <td>134000</td>\n",
              "      <td>Chrysler</td>\n",
              "      <td>300 Series</td>\n",
              "      <td>2009</td>\n",
              "      <td>NaN</td>\n",
              "      <td>5.7L HEMI</td>\n",
              "      <td>NaN</td>\n",
              "      <td>8</td>\n",
              "      <td>AWD</td>\n",
              "      <td>NJ</td>\n",
              "    </tr>\n",
              "    <tr>\n",
              "      <th>15</th>\n",
              "      <td>77898</td>\n",
              "      <td>3500</td>\n",
              "      <td>2019</td>\n",
              "      <td>7840</td>\n",
              "      <td>144868</td>\n",
              "      <td>Honda</td>\n",
              "      <td>CR-V</td>\n",
              "      <td>2006</td>\n",
              "      <td>LX</td>\n",
              "      <td>2.4L VTECH</td>\n",
              "      <td>SUV</td>\n",
              "      <td>4</td>\n",
              "      <td>FWD</td>\n",
              "      <td>NJ</td>\n",
              "    </tr>\n",
              "    <tr>\n",
              "      <th>16</th>\n",
              "      <td>77900</td>\n",
              "      <td>2550</td>\n",
              "      <td>2019</td>\n",
              "      <td>7840</td>\n",
              "      <td>174102</td>\n",
              "      <td>Toyota</td>\n",
              "      <td>Yaris</td>\n",
              "      <td>2009</td>\n",
              "      <td>NaN</td>\n",
              "      <td>1.5L DOHC 16V</td>\n",
              "      <td>NaN</td>\n",
              "      <td>4</td>\n",
              "      <td>FWD</td>\n",
              "      <td>NJ</td>\n",
              "    </tr>\n",
              "    <tr>\n",
              "      <th>17</th>\n",
              "      <td>78273</td>\n",
              "      <td>1730</td>\n",
              "      <td>2020</td>\n",
              "      <td>7840</td>\n",
              "      <td>93100</td>\n",
              "      <td>Chevrolet</td>\n",
              "      <td>Aveo</td>\n",
              "      <td>2009</td>\n",
              "      <td>NaN</td>\n",
              "      <td>NaN</td>\n",
              "      <td>NaN</td>\n",
              "      <td>4</td>\n",
              "      <td>FWD</td>\n",
              "      <td>NJ</td>\n",
              "    </tr>\n",
              "    <tr>\n",
              "      <th>18</th>\n",
              "      <td>116641</td>\n",
              "      <td>3020</td>\n",
              "      <td>2020</td>\n",
              "      <td>6810</td>\n",
              "      <td>94700</td>\n",
              "      <td>Jeep</td>\n",
              "      <td>Liberty</td>\n",
              "      <td>2011</td>\n",
              "      <td>NaN</td>\n",
              "      <td>NaN</td>\n",
              "      <td>NaN</td>\n",
              "      <td>0</td>\n",
              "      <td>NaN</td>\n",
              "      <td>CT</td>\n",
              "    </tr>\n",
              "    <tr>\n",
              "      <th>19</th>\n",
              "      <td>79126</td>\n",
              "      <td>17980</td>\n",
              "      <td>2019</td>\n",
              "      <td>11727</td>\n",
              "      <td>64020</td>\n",
              "      <td>Oldsmobile</td>\n",
              "      <td>442</td>\n",
              "      <td>1967</td>\n",
              "      <td>NaN</td>\n",
              "      <td>400 turbo engine</td>\n",
              "      <td>2 Door Hard Top</td>\n",
              "      <td>0</td>\n",
              "      <td>NaN</td>\n",
              "      <td>NY</td>\n",
              "    </tr>\n",
              "  </tbody>\n",
              "</table>\n",
              "</div>"
            ],
            "text/plain": [
              "        ID  pricesold  yearsold  ...  NumCylinders  DriveType STATE\n",
              "0    96705      15000      2019  ...             8        RWD    CO\n",
              "1   119660       8750      2020  ...             6        RWD    FL\n",
              "2    80773      11600      2019  ...             8        RWD    NJ\n",
              "3    64287      44000      2019  ...             6        AWD    NJ\n",
              "4     5250      70000      2019  ...             0        4WD    NJ\n",
              "5    29023       1330      2019  ...             4        FWD    NJ\n",
              "6    80293      25200      2019  ...             0        NaN    FL\n",
              "7    72418      14100      2019  ...             6        4WD    NJ\n",
              "8    91661       5700      2020  ...             8        RWD    TX\n",
              "9    59728      18550      2019  ...             8        RWD    IL\n",
              "10   74813       4300      2019  ...             6        RWD    TX\n",
              "11   74812       4750      2019  ...             8        RWD    TX\n",
              "12   78263       3050      2020  ...             6        FWD    NJ\n",
              "13   78272       4050      2020  ...             4        FWD    NJ\n",
              "14   45651       5390      2019  ...             8        AWD    NJ\n",
              "15   77898       3500      2019  ...             4        FWD    NJ\n",
              "16   77900       2550      2019  ...             4        FWD    NJ\n",
              "17   78273       1730      2020  ...             4        FWD    NJ\n",
              "18  116641       3020      2020  ...             0        NaN    CT\n",
              "19   79126      17980      2019  ...             0        NaN    NY\n",
              "\n",
              "[20 rows x 14 columns]"
            ]
          },
          "metadata": {
            "tags": []
          },
          "execution_count": 12
        }
      ]
    },
    {
      "cell_type": "markdown",
      "metadata": {
        "id": "2KS1KyFLOXnX"
      },
      "source": [
        "**Data Preprocessing**"
      ]
    },
    {
      "cell_type": "code",
      "metadata": {
        "id": "hl3m-uQQNutJ"
      },
      "source": [
        "carsales_2=carsales_2.drop_duplicates()"
      ],
      "execution_count": 13,
      "outputs": []
    },
    {
      "cell_type": "code",
      "metadata": {
        "colab": {
          "base_uri": "https://localhost:8080/"
        },
        "id": "N3rHXX0CNV3c",
        "outputId": "ef8f17e1-1c88-43c4-ef23-b9d8173e14ce"
      },
      "source": [
        "carsales_2.shape"
      ],
      "execution_count": 14,
      "outputs": [
        {
          "output_type": "execute_result",
          "data": {
            "text/plain": [
              "(82495, 14)"
            ]
          },
          "metadata": {
            "tags": []
          },
          "execution_count": 14
        }
      ]
    },
    {
      "cell_type": "code",
      "metadata": {
        "colab": {
          "base_uri": "https://localhost:8080/"
        },
        "id": "wBlmnV_xLNnZ",
        "outputId": "350fec76-bd37-4863-c8ae-fbd9cf0d2886"
      },
      "source": [
        "carsales_2.dtypes"
      ],
      "execution_count": 15,
      "outputs": [
        {
          "output_type": "execute_result",
          "data": {
            "text/plain": [
              "ID               int64\n",
              "pricesold        int64\n",
              "yearsold         int64\n",
              "zipcode          int64\n",
              "Mileage          int64\n",
              "Make            object\n",
              "Model           object\n",
              "Year             int64\n",
              "Trim            object\n",
              "Engine          object\n",
              "BodyType        object\n",
              "NumCylinders     int64\n",
              "DriveType       object\n",
              "STATE           object\n",
              "dtype: object"
            ]
          },
          "metadata": {
            "tags": []
          },
          "execution_count": 15
        }
      ]
    },
    {
      "cell_type": "code",
      "metadata": {
        "colab": {
          "base_uri": "https://localhost:8080/"
        },
        "id": "ztAQE0nnQBVY",
        "outputId": "c5e39c05-8c97-4fd8-8ce0-84f0ab3ec7cd"
      },
      "source": [
        "carsales_2.info()"
      ],
      "execution_count": 16,
      "outputs": [
        {
          "output_type": "stream",
          "text": [
            "<class 'pandas.core.frame.DataFrame'>\n",
            "Int64Index: 82495 entries, 0 to 82494\n",
            "Data columns (total 14 columns):\n",
            " #   Column        Non-Null Count  Dtype \n",
            "---  ------        --------------  ----- \n",
            " 0   ID            82495 non-null  int64 \n",
            " 1   pricesold     82495 non-null  int64 \n",
            " 2   yearsold      82495 non-null  int64 \n",
            " 3   zipcode       82495 non-null  int64 \n",
            " 4   Mileage       82495 non-null  int64 \n",
            " 5   Make          82495 non-null  object\n",
            " 6   Model         82128 non-null  object\n",
            " 7   Year          82495 non-null  int64 \n",
            " 8   Trim          51078 non-null  object\n",
            " 9   Engine        66002 non-null  object\n",
            " 10  BodyType      67562 non-null  object\n",
            " 11  NumCylinders  82495 non-null  int64 \n",
            " 12  DriveType     66143 non-null  object\n",
            " 13  STATE         82388 non-null  object\n",
            "dtypes: int64(7), object(7)\n",
            "memory usage: 9.4+ MB\n"
          ],
          "name": "stdout"
        }
      ]
    },
    {
      "cell_type": "code",
      "metadata": {
        "colab": {
          "base_uri": "https://localhost:8080/"
        },
        "id": "K-AtBXScboMl",
        "outputId": "ef329966-5074-478c-bda5-13965e11726a"
      },
      "source": [
        "carsales_2.isnull().sum()"
      ],
      "execution_count": 17,
      "outputs": [
        {
          "output_type": "execute_result",
          "data": {
            "text/plain": [
              "ID                  0\n",
              "pricesold           0\n",
              "yearsold            0\n",
              "zipcode             0\n",
              "Mileage             0\n",
              "Make                0\n",
              "Model             367\n",
              "Year                0\n",
              "Trim            31417\n",
              "Engine          16493\n",
              "BodyType        14933\n",
              "NumCylinders        0\n",
              "DriveType       16352\n",
              "STATE             107\n",
              "dtype: int64"
            ]
          },
          "metadata": {
            "tags": []
          },
          "execution_count": 17
        }
      ]
    },
    {
      "cell_type": "markdown",
      "metadata": {
        "id": "DDj7d5OLsRP2"
      },
      "source": [
        "See the Cars Selling Price By Mileage"
      ]
    },
    {
      "cell_type": "code",
      "metadata": {
        "id": "il1W7uGgd7T9",
        "colab": {
          "base_uri": "https://localhost:8080/",
          "height": 336
        },
        "outputId": "223375a9-eb82-469e-d189-851a86e070b2"
      },
      "source": [
        "g = sns.scatterplot(carsales_2['Mileage'],carsales_2['pricesold'])\n",
        "g.set(xlabel='Mileage', ylabel='Selling Price')\n",
        "plt.show()"
      ],
      "execution_count": 18,
      "outputs": [
        {
          "output_type": "stream",
          "text": [
            "/usr/local/lib/python3.7/dist-packages/seaborn/_decorators.py:43: FutureWarning: Pass the following variables as keyword args: x, y. From version 0.12, the only valid positional argument will be `data`, and passing other arguments without an explicit keyword will result in an error or misinterpretation.\n",
            "  FutureWarning\n"
          ],
          "name": "stderr"
        },
        {
          "output_type": "display_data",
          "data": {
            "image/png": "[encoded data removed]",
            "text/plain": [
              "<Figure size 432x288 with 1 Axes>"
            ]
          },
          "metadata": {
            "tags": [],
            "needs_background": "light"
          }
        }
      ]
    },
    {
      "cell_type": "markdown",
      "metadata": {
        "id": "uZX4qIcQ5VmG"
      },
      "source": [
        "I will only show the cars with mileage from 100k to 400k. Because this is used cars so it will contains so many cars with these mileage"
      ]
    },
    {
      "cell_type": "code",
      "metadata": {
        "id": "NMwJrG3D5PqZ"
      },
      "source": [
        "carsales_2 = carsales_2[(carsales_2['Mileage']<400000) & (carsales_2['Mileage']>100000)]"
      ],
      "execution_count": 19,
      "outputs": []
    },
    {
      "cell_type": "code",
      "metadata": {
        "colab": {
          "base_uri": "https://localhost:8080/",
          "height": 336
        },
        "id": "oSuji3_R5mlA",
        "outputId": "638d2f3c-8720-4e11-c06f-8f7ab666555c"
      },
      "source": [
        "g = sns.scatterplot(carsales_2['Mileage'],carsales_2['pricesold'])\n",
        "g.set(xlabel='Mileage', ylabel='Selling Price')\n",
        "plt.show()"
      ],
      "execution_count": 20,
      "outputs": [
        {
          "output_type": "stream",
          "text": [
            "/usr/local/lib/python3.7/dist-packages/seaborn/_decorators.py:43: FutureWarning: Pass the following variables as keyword args: x, y. From version 0.12, the only valid positional argument will be `data`, and passing other arguments without an explicit keyword will result in an error or misinterpretation.\n",
            "  FutureWarning\n"
          ],
          "name": "stderr"
        },
        {
          "output_type": "display_data",
          "data": {
            "image/png": "[encoded data removed]",
            "text/plain": [
              "<Figure size 432x288 with 1 Axes>"
            ]
          },
          "metadata": {
            "tags": [],
            "needs_background": "light"
          }
        }
      ]
    },
    {
      "cell_type": "markdown",
      "metadata": {
        "id": "mHWYf1ajeWjd"
      },
      "source": [
        "**Map Analysis**"
      ]
    },
    {
      "cell_type": "code",
      "metadata": {
        "colab": {
          "base_uri": "https://localhost:8080/",
          "height": 760
        },
        "id": "pUaBUhhx8I_M",
        "outputId": "aa2b5955-08ae-4ada-8657-80a4ad6c0286"
      },
      "source": [
        "state_geo = ('https://gist.githubusercontent.com/mshafrir/2646763/raw/8b0dbb93521f5d6889502305335104218454c2bf/states_hash.json')\n",
        "state_data = carsales_2\n",
        " \n",
        " \n",
        "m = folium.Map(location=[48, -102], zoom_start=3)\n",
        " \n",
        "folium.Choropleth(\n",
        "    geo_data=state_geo,\n",
        "    name=\"choropleth\",\n",
        "    data=state_data,\n",
        "    columns=[\"STATE\", \"pricesold\"],\n",
        "    key_on='feature.id',\n",
        "    fill_color=\"YlGn\",\n",
        "    fill_opacity=0.7,\n",
        "    line_opacity=0.2,\n",
        "    legend_name=\"Car Sales\"\n",
        ").add_to(m)\n",
        " \n",
        "folium.LayerControl().add_to(m)\n",
        "m"
      ],
      "execution_count": 21,
      "outputs": [
        {
          "output_type": "execute_result",
          "data": {
            "text/html": [
              "<div style=\"width:100%;\"><div style=\"position:relative;width:100%;height:0;padding-bottom:60%;\"><span style=\"color:#565656\">Make this Notebook Trusted to load map: File -> Trust Notebook</span><iframe src=\"about:blank\" style=\"position:absolute;width:100%;height:100%;left:0;top:0;border:none !important;\" data-html=%3C%21DOCTYPE%20html%3E%0A%3Chead%3E%20%20%20%20%0A%20%20%20%20%3Cmeta%20http-equiv%3D%22content-type%22%20content%3D%22text/html%3B%20charset%3DUTF-8%22%20/%3E%0A%20%20%20%20%3Cscript%3EL_PREFER_CANVAS%3Dfalse%3B%20L_NO_TOUCH%3Dfalse%3B%20L_DISABLE_3D%3Dfalse%3B%3C/script%3E%0A%20%20%20%20%3Cscript%20src%3D%22https%3A//cdn.jsdelivr.net/npm/leaflet%401.4.0/dist/leaflet.js%22%3E%3C/script%3E%0A%20%20%20%20%3Cscript%20src%3D%22https%3A//code.jquery.com/jquery-1.12.4.min.js%22%3E%3C/script%3E%0A%20%20%20%20%3Cscript%20src%3D%22https%3A//maxcdn.bootstrapcdn.com/bootstrap/3.2.0/js/bootstrap.min.js%22%3E%3C/script%3E%0A%20%20%20%20%3Cscript%20src%3D%22https%3A//cdnjs.cloudflare.com/ajax/libs/Leaflet.awesome-markers/2.0.2/leaflet.awesome-markers.js%22%3E%3C/script%3E%0A%20%20%20%20%3Clink%20rel%3D%22stylesheet%22%20href%3D%22https%3A//cdn.jsdelivr.net/npm/leaflet%401.4.0/dist/leaflet.css%22/%3E%0A%20%20%20%20%3Clink%20rel%3D%22stylesheet%22%20href%3D%22https%3A//maxcdn.bootstrapcdn.com/bootstrap/3.2.0/css/bootstrap.min.css%22/%3E%0A%20%20%20%20%3Clink%20rel%3D%22stylesheet%22%20href%3D%22https%3A//maxcdn.bootstrapcdn.com/bootstrap/3.2.0/css/bootstrap-theme.min.css%22/%3E%0A%20%20%20%20%3Clink%20rel%3D%22stylesheet%22%20href%3D%22https%3A//maxcdn.bootstrapcdn.com/font-awesome/4.6.3/css/font-awesome.min.css%22/%3E%0A%20%20%20%20%3Clink%20rel%3D%22stylesheet%22%20href%3D%22https%3A//cdnjs.cloudflare.com/ajax/libs/Leaflet.awesome-markers/2.0.2/leaflet.awesome-markers.css%22/%3E%0A%20%20%20%20%3Clink%20rel%3D%22stylesheet%22%20href%3D%22https%3A//rawcdn.githack.com/python-visualization/folium/master/folium/templates/leaflet.awesome.rotate.css%22/%3E%0A%20%20%20%20%3Cstyle%3Ehtml%2C%20body%20%7Bwidth%3A%20100%25%3Bheight%3A%20100%25%3Bmargin%3A%200%3Bpadding%3A%200%3B%7D%3C/style%3E%0A%20%20%20%20%3Cstyle%3E%23map%20%7Bposition%3Aabsolute%3Btop%3A0%3Bbottom%3A0%3Bright%3A0%3Bleft%3A0%3B%7D%3C/style%3E%0A%20%20%20%20%0A%20%20%20%20%3Cmeta%20name%3D%22viewport%22%20content%3D%22width%3Ddevice-width%2C%0A%20%20%20%20%20%20%20%20initial-scale%3D1.0%2C%20maximum-scale%3D1.0%2C%20user-scalable%3Dno%22%20/%3E%0A%20%20%20%20%3Cstyle%3E%23map_75be9e0628b94209a3ba5f8bbb2de5c8%20%7B%0A%20%20%20%20%20%20%20%20position%3A%20relative%3B%0A%20%20%20%20%20%20%20%20width%3A%20100.0%25%3B%0A%20%20%20%20%20%20%20%20height%3A%20100.0%25%3B%0A%20%20%20%20%20%20%20%20left%3A%200.0%25%3B%0A%20%20%20%20%20%20%20%20top%3A%200.0%25%3B%0A%20%20%20%20%20%20%20%20%7D%0A%20%20%20%20%3C/style%3E%0A%20%20%20%20%3Cscript%20src%3D%22https%3A//cdnjs.cloudflare.com/ajax/libs/d3/3.5.5/d3.min.js%22%3E%3C/script%3E%0A%3C/head%3E%0A%3Cbody%3E%20%20%20%20%0A%20%20%20%20%0A%20%20%20%20%3Cdiv%20class%3D%22folium-map%22%20id%3D%22map_75be9e0628b94209a3ba5f8bbb2de5c8%22%20%3E%3C/div%3E%0A%3C/body%3E%0A%3Cscript%3E%20%20%20%20%0A%20%20%20%20%0A%20%20%20%20%0A%20%20%20%20%20%20%20%20var%20bounds%20%3D%20null%3B%0A%20%20%20%20%0A%0A%20%20%20%20var%20map_75be9e0628b94209a3ba5f8bbb2de5c8%20%3D%20L.map%28%0A%20%20%20%20%20%20%20%20%27map_75be9e0628b94209a3ba5f8bbb2de5c8%27%2C%20%7B%0A%20%20%20%20%20%20%20%20center%3A%20%5B48%2C%20-102%5D%2C%0A%20%20%20%20%20%20%20%20zoom%3A%203%2C%0A%20%20%20%20%20%20%20%20maxBounds%3A%20bounds%2C%0A%20%20%20%20%20%20%20%20layers%3A%20%5B%5D%2C%0A%20%20%20%20%20%20%20%20worldCopyJump%3A%20false%2C%0A%20%20%20%20%20%20%20%20crs%3A%20L.CRS.EPSG3857%2C%0A%20%20%20%20%20%20%20%20zoomControl%3A%20true%2C%0A%20%20%20%20%20%20%20%20%7D%29%3B%0A%0A%0A%20%20%20%20%0A%20%20%20%20var%20tile_layer_06170eab25d74ac99f4775ca8d7b0386%20%3D%20L.tileLayer%28%0A%20%20%20%20%20%20%20%20%27https%3A//%7Bs%7D.tile.openstreetmap.org/%7Bz%7D/%7Bx%7D/%7By%7D.png%27%2C%0A%20%20%20%20%20%20%20%20%7B%0A%20%20%20%20%20%20%20%20%22attribution%22%3A%20null%2C%0A%20%20%20%20%20%20%20%20%22detectRetina%22%3A%20false%2C%0A%20%20%20%20%20%20%20%20%22maxNativeZoom%22%3A%2018%2C%0A%20%20%20%20%20%20%20%20%22maxZoom%22%3A%2018%2C%0A%20%20%20%20%20%20%20%20%22minZoom%22%3A%200%2C%0A%20%20%20%20%20%20%20%20%22noWrap%22%3A%20false%2C%0A%20%20%20%20%20%20%20%20%22opacity%22%3A%201%2C%0A%20%20%20%20%20%20%20%20%22subdomains%22%3A%20%22abc%22%2C%0A%20%20%20%20%20%20%20%20%22tms%22%3A%20false%0A%7D%29.addTo%28map_75be9e0628b94209a3ba5f8bbb2de5c8%29%3B%0A%20%20%20%20%0A%20%20%20%20%20%20%20%20%20%20%20%20var%20choropleth_66eb2d8daac34151abe2c7fd40195c29%20%3D%20L.featureGroup%28%0A%20%20%20%20%20%20%20%20%20%20%20%20%20%20%20%20%29.addTo%28map_75be9e0628b94209a3ba5f8bbb2de5c8%29%3B%0A%20%20%20%20%20%20%20%20%0A%20%20%20%20%0A%20%20%20%20%20%20%20%20var%20geo_json_e89b80cc1c8d48559861d0645895a148%20%3D%20L.geoJson%28%0A%20%20%20%20%20%20%20%20%20%20%20%20%7B%22features%22%3A%20%5B%7B%22geometry%22%3A%20%7B%22AK%22%3A%20%22Alaska%22%2C%20%22AL%22%3A%20%22Alabama%22%2C%20%22AR%22%3A%20%22Arkansas%22%2C%20%22AS%22%3A%20%22American%20Samoa%22%2C%20%22AZ%22%3A%20%22Arizona%22%2C%20%22CA%22%3A%20%22California%22%2C%20%22CO%22%3A%20%22Colorado%22%2C%20%22CT%22%3A%20%22Connecticut%22%2C%20%22DC%22%3A%20%22District%20Of%20Columbia%22%2C%20%22DE%22%3A%20%22Delaware%22%2C%20%22FL%22%3A%20%22Florida%22%2C%20%22FM%22%3A%20%22Federated%20States%20Of%20Micronesia%22%2C%20%22GA%22%3A%20%22Georgia%22%2C%20%22GU%22%3A%20%22Guam%22%2C%20%22HI%22%3A%20%22Hawaii%22%2C%20%22IA%22%3A%20%22Iowa%22%2C%20%22ID%22%3A%20%22Idaho%22%2C%20%22IL%22%3A%20%22Illinois%22%2C%20%22IN%22%3A%20%22Indiana%22%2C%20%22KS%22%3A%20%22Kansas%22%2C%20%22KY%22%3A%20%22Kentucky%22%2C%20%22LA%22%3A%20%22Louisiana%22%2C%20%22MA%22%3A%20%22Massachusetts%22%2C%20%22MD%22%3A%20%22Maryland%22%2C%20%22ME%22%3A%20%22Maine%22%2C%20%22MH%22%3A%20%22Marshall%20Islands%22%2C%20%22MI%22%3A%20%22Michigan%22%2C%20%22MN%22%3A%20%22Minnesota%22%2C%20%22MO%22%3A%20%22Missouri%22%2C%20%22MP%22%3A%20%22Northern%20Mariana%20Islands%22%2C%20%22MS%22%3A%20%22Mississippi%22%2C%20%22MT%22%3A%20%22Montana%22%2C%20%22NC%22%3A%20%22North%20Carolina%22%2C%20%22ND%22%3A%20%22North%20Dakota%22%2C%20%22NE%22%3A%20%22Nebraska%22%2C%20%22NH%22%3A%20%22New%20Hampshire%22%2C%20%22NJ%22%3A%20%22New%20Jersey%22%2C%20%22NM%22%3A%20%22New%20Mexico%22%2C%20%22NV%22%3A%20%22Nevada%22%2C%20%22NY%22%3A%20%22New%20York%22%2C%20%22OH%22%3A%20%22Ohio%22%2C%20%22OK%22%3A%20%22Oklahoma%22%2C%20%22OR%22%3A%20%22Oregon%22%2C%20%22PA%22%3A%20%22Pennsylvania%22%2C%20%22PR%22%3A%20%22Puerto%20Rico%22%2C%20%22PW%22%3A%20%22Palau%22%2C%20%22RI%22%3A%20%22Rhode%20Island%22%2C%20%22SC%22%3A%20%22South%20Carolina%22%2C%20%22SD%22%3A%20%22South%20Dakota%22%2C%20%22TN%22%3A%20%22Tennessee%22%2C%20%22TX%22%3A%20%22Texas%22%2C%20%22UT%22%3A%20%22Utah%22%2C%20%22VA%22%3A%20%22Virginia%22%2C%20%22VI%22%3A%20%22Virgin%20Islands%22%2C%20%22VT%22%3A%20%22Vermont%22%2C%20%22WA%22%3A%20%22Washington%22%2C%20%22WI%22%3A%20%22Wisconsin%22%2C%20%22WV%22%3A%20%22West%20Virginia%22%2C%20%22WY%22%3A%20%22Wyoming%22%7D%2C%20%22properties%22%3A%20%7B%22highlight%22%3A%20%7B%7D%2C%20%22style%22%3A%20%7B%22color%22%3A%20%22black%22%2C%20%22fillColor%22%3A%20%22black%22%2C%20%22fillOpacity%22%3A%200.7%2C%20%22opacity%22%3A%200.2%2C%20%22weight%22%3A%201%7D%7D%2C%20%22type%22%3A%20%22Feature%22%7D%5D%2C%20%22type%22%3A%20%22FeatureCollection%22%7D%2C%0A%20%20%20%20%20%20%20%20%20%20%20%20%7B%0A%20%20%20%20%20%20%20%20%20%20%20%20%7D%0A%20%20%20%20%20%20%20%20%29.addTo%28choropleth_66eb2d8daac34151abe2c7fd40195c29%20%29%3B%0A%20%20%20%20%20%20%20%20geo_json_e89b80cc1c8d48559861d0645895a148.setStyle%28function%28feature%29%20%7Breturn%20feature.properties.style%3B%7D%29%3B%0A%20%20%20%20%20%20%20%20%0A%20%20%20%20%0A%20%20%20%20var%20color_map_f564bac755fa4cb0ae9916ee47509442%20%3D%20%7B%7D%3B%0A%0A%20%20%20%20%0A%20%20%20%20color_map_f564bac755fa4cb0ae9916ee47509442.color%20%3D%20d3.scale.threshold%28%29%0A%20%20%20%20%20%20%20%20%20%20%20%20%20%20.domain%28%5B620.0%2C%20672.8657314629259%2C%20725.7314629258517%2C%20778.5971943887776%2C%20831.4629258517034%2C%20884.3286573146293%2C%20937.1943887775551%2C%20990.060120240481%2C%201042.9258517034068%2C%201095.7915831663327%2C%201148.6573146292585%2C%201201.5230460921844%2C%201254.3887775551102%2C%201307.254509018036%2C%201360.120240480962%2C%201412.9859719438878%2C%201465.8517034068136%2C%201518.7174348697395%2C%201571.5831663326653%2C%201624.4488977955912%2C%201677.314629258517%2C%201730.1803607214429%2C%201783.0460921843687%2C%201835.9118236472946%2C%201888.7775551102204%2C%201941.6432865731463%2C%201994.5090180360721%2C%202047.374749498998%2C%202100.240480961924%2C%202153.1062124248497%2C%202205.9719438877755%2C%202258.8376753507014%2C%202311.703406813627%2C%202364.569138276553%2C%202417.434869739479%2C%202470.300601202405%2C%202523.1663326653306%2C%202576.0320641282565%2C%202628.8977955911823%2C%202681.763527054108%2C%202734.629258517034%2C%202787.49498997996%2C%202840.3607214428857%2C%202893.2264529058116%2C%202946.0921843687374%2C%202998.9579158316633%2C%203051.823647294589%2C%203104.689378757515%2C%203157.555110220441%2C%203210.4208416833667%2C%203263.2865731462925%2C%203316.1523046092184%2C%203369.0180360721442%2C%203421.88376753507%2C%203474.749498997996%2C%203527.615230460922%2C%203580.4809619238476%2C%203633.3466933867735%2C%203686.2124248496993%2C%203739.078156312625%2C%203791.943887775551%2C%203844.809619238477%2C%203897.6753507014027%2C%203950.5410821643286%2C%204003.4068136272545%2C%204056.2725450901803%2C%204109.138276553106%2C%204162.0040080160325%2C%204214.869739478958%2C%204267.735470941883%2C%204320.60120240481%2C%204373.466933867736%2C%204426.332665330661%2C%204479.198396793587%2C%204532.064128256513%2C%204584.929859719439%2C%204637.795591182365%2C%204690.66132264529%2C%204743.527054108216%2C%204796.392785571143%2C%204849.258517034068%2C%204902.124248496994%2C%204954.98997995992%2C%205007.855711422846%2C%205060.7214428857715%2C%205113.587174348698%2C%205166.452905811623%2C%205219.3186372745495%2C%205272.184368737475%2C%205325.050100200401%2C%205377.915831663327%2C%205430.781563126253%2C%205483.647294589178%2C%205536.513026052105%2C%205589.37875751503%2C%205642.244488977956%2C%205695.110220440882%2C%205747.975951903808%2C%205800.841683366733%2C%205853.70741482966%2C%205906.573146292585%2C%205959.438877755511%2C%206012.304609218437%2C%206065.170340681363%2C%206118.0360721442885%2C%206170.901803607215%2C%206223.76753507014%2C%206276.6332665330665%2C%206329.498997995992%2C%206382.364729458918%2C%206435.230460921844%2C%206488.09619238477%2C%206540.961923847695%2C%206593.827655310622%2C%206646.693386773547%2C%206699.559118236473%2C%206752.424849699399%2C%206805.290581162325%2C%206858.15631262525%2C%206911.022044088177%2C%206963.887775551102%2C%207016.753507014028%2C%207069.619238476954%2C%207122.48496993988%2C%207175.3507014028055%2C%207228.216432865732%2C%207281.082164328657%2C%207333.9478957915835%2C%207386.813627254509%2C%207439.679358717435%2C%207492.545090180361%2C%207545.410821643287%2C%207598.276553106212%2C%207651.142284569139%2C%207704.008016032064%2C%207756.87374749499%2C%207809.739478957916%2C%207862.605210420842%2C%207915.470941883767%2C%207968.336673346694%2C%208021.202404809619%2C%208074.068136272545%2C%208126.933867735471%2C%208179.799599198397%2C%208232.665330661323%2C%208285.53106212425%2C%208338.396793587173%2C%208391.2625250501%2C%208444.128256513026%2C%208496.993987975951%2C%208549.859719438879%2C%208602.725450901804%2C%208655.59118236473%2C%208708.456913827657%2C%208761.32264529058%2C%208814.188376753507%2C%208867.054108216433%2C%208919.919839679358%2C%208972.785571142285%2C%209025.65130260521%2C%209078.517034068136%2C%209131.382765531062%2C%209184.248496993989%2C%209237.114228456914%2C%209289.97995991984%2C%209342.845691382765%2C%209395.711422845692%2C%209448.577154308618%2C%209501.442885771543%2C%209554.308617234468%2C%209607.174348697396%2C%209660.040080160321%2C%209712.905811623246%2C%209765.771543086172%2C%209818.637274549099%2C%209871.503006012024%2C%209924.36873747495%2C%209977.234468937875%2C%2010030.100200400802%2C%2010082.965931863728%2C%2010135.831663326653%2C%2010188.697394789579%2C%2010241.563126252506%2C%2010294.428857715431%2C%2010347.294589178357%2C%2010400.160320641282%2C%2010453.02605210421%2C%2010505.891783567135%2C%2010558.75751503006%2C%2010611.623246492985%2C%2010664.488977955913%2C%2010717.354709418838%2C%2010770.220440881763%2C%2010823.086172344689%2C%2010875.951903807616%2C%2010928.817635270541%2C%2010981.683366733467%2C%2011034.549098196392%2C%2011087.41482965932%2C%2011140.280561122245%2C%2011193.14629258517%2C%2011246.012024048096%2C%2011298.877755511023%2C%2011351.743486973948%2C%2011404.609218436874%2C%2011457.474949899799%2C%2011510.340681362726%2C%2011563.206412825652%2C%2011616.072144288577%2C%2011668.937875751502%2C%2011721.80360721443%2C%2011774.669338677355%2C%2011827.53507014028%2C%2011880.400801603206%2C%2011933.266533066133%2C%2011986.132264529058%2C%2012038.997995991984%2C%2012091.86372745491%2C%2012144.729458917836%2C%2012197.595190380762%2C%2012250.460921843687%2C%2012303.326653306613%2C%2012356.19238476954%2C%2012409.058116232465%2C%2012461.92384769539%2C%2012514.789579158316%2C%2012567.655310621243%2C%2012620.521042084169%2C%2012673.386773547094%2C%2012726.25250501002%2C%2012779.118236472947%2C%2012831.983967935872%2C%2012884.849699398797%2C%2012937.715430861723%2C%2012990.58116232465%2C%2013043.446893787575%2C%2013096.3126252505%2C%2013149.178356713426%2C%2013202.044088176353%2C%2013254.909819639279%2C%2013307.775551102204%2C%2013360.64128256513%2C%2013413.507014028057%2C%2013466.372745490982%2C%2013519.238476953908%2C%2013572.104208416833%2C%2013624.96993987976%2C%2013677.835671342686%2C%2013730.701402805611%2C%2013783.567134268536%2C%2013836.432865731464%2C%2013889.298597194389%2C%2013942.164328657314%2C%2013995.03006012024%2C%2014047.895791583167%2C%2014100.761523046092%2C%2014153.627254509018%2C%2014206.492985971943%2C%2014259.35871743487%2C%2014312.224448897796%2C%2014365.090180360721%2C%2014417.955911823647%2C%2014470.821643286574%2C%2014523.6873747495%2C%2014576.553106212425%2C%2014629.41883767535%2C%2014682.284569138277%2C%2014735.150300601203%2C%2014788.016032064128%2C%2014840.881763527053%2C%2014893.74749498998%2C%2014946.613226452906%2C%2014999.478957915831%2C%2015052.344689378757%2C%2015105.210420841684%2C%2015158.07615230461%2C%2015210.941883767535%2C%2015263.80761523046%2C%2015316.673346693387%2C%2015369.539078156313%2C%2015422.404809619238%2C%2015475.270541082164%2C%2015528.13627254509%2C%2015581.002004008016%2C%2015633.867735470942%2C%2015686.733466933867%2C%2015739.599198396794%2C%2015792.46492985972%2C%2015845.330661322645%2C%2015898.19639278557%2C%2015951.062124248498%2C%2016003.927855711423%2C%2016056.793587174348%2C%2016109.659318637274%2C%2016162.525050100201%2C%2016215.390781563126%2C%2016268.256513026052%2C%2016321.122244488977%2C%2016373.987975951904%2C%2016426.85370741483%2C%2016479.719438877757%2C%2016532.58517034068%2C%2016585.450901803608%2C%2016638.316633266535%2C%2016691.18236472946%2C%2016744.048096192382%2C%2016796.913827655313%2C%2016849.779559118237%2C%2016902.64529058116%2C%2016955.511022044087%2C%2017008.376753507015%2C%2017061.24248496994%2C%2017114.108216432865%2C%2017166.973947895793%2C%2017219.839679358716%2C%2017272.705410821643%2C%2017325.57114228457%2C%2017378.436873747494%2C%2017431.30260521042%2C%2017484.168336673345%2C%2017537.034068136272%2C%2017589.8997995992%2C%2017642.765531062123%2C%2017695.63126252505%2C%2017748.496993987977%2C%2017801.3627254509%2C%2017854.22845691383%2C%2017907.094188376752%2C%2017959.95991983968%2C%2018012.825651302606%2C%2018065.69138276553%2C%2018118.557114228457%2C%2018171.422845691384%2C%2018224.288577154308%2C%2018277.154308617235%2C%2018330.02004008016%2C%2018382.885771543086%2C%2018435.751503006013%2C%2018488.617234468937%2C%2018541.482965931864%2C%2018594.34869739479%2C%2018647.214428857715%2C%2018700.080160320642%2C%2018752.945891783565%2C%2018805.811623246493%2C%2018858.67735470942%2C%2018911.543086172343%2C%2018964.40881763527%2C%2019017.274549098198%2C%2019070.14028056112%2C%2019123.00601202405%2C%2019175.871743486972%2C%2019228.7374749499%2C%2019281.603206412827%2C%2019334.46893787575%2C%2019387.334669338677%2C%2019440.200400801605%2C%2019493.06613226453%2C%2019545.931863727455%2C%2019598.79759519038%2C%2019651.663326653306%2C%2019704.529058116234%2C%2019757.394789579157%2C%2019810.260521042084%2C%2019863.12625250501%2C%2019915.991983967935%2C%2019968.857715430862%2C%2020021.723446893786%2C%2020074.589178356713%2C%2020127.45490981964%2C%2020180.320641282564%2C%2020233.18637274549%2C%2020286.05210420842%2C%2020338.917835671342%2C%2020391.78356713427%2C%2020444.649298597193%2C%2020497.51503006012%2C%2020550.380761523047%2C%2020603.24649298597%2C%2020656.112224448898%2C%2020708.977955911825%2C%2020761.84368737475%2C%2020814.709418837676%2C%2020867.5751503006%2C%2020920.440881763527%2C%2020973.306613226454%2C%2021026.172344689377%2C%2021079.038076152305%2C%2021131.903807615232%2C%2021184.769539078156%2C%2021237.635270541083%2C%2021290.501002004006%2C%2021343.366733466934%2C%2021396.23246492986%2C%2021449.098196392784%2C%2021501.96392785571%2C%2021554.82965931864%2C%2021607.695390781562%2C%2021660.56112224449%2C%2021713.426853707413%2C%2021766.29258517034%2C%2021819.158316633268%2C%2021872.02404809619%2C%2021924.88977955912%2C%2021977.755511022046%2C%2022030.62124248497%2C%2022083.486973947896%2C%2022136.35270541082%2C%2022189.218436873747%2C%2022242.084168336674%2C%2022294.949899799598%2C%2022347.815631262525%2C%2022400.681362725452%2C%2022453.547094188376%2C%2022506.412825651303%2C%2022559.278557114227%2C%2022612.144288577154%2C%2022665.01002004008%2C%2022717.875751503005%2C%2022770.741482965932%2C%2022823.60721442886%2C%2022876.472945891783%2C%2022929.33867735471%2C%2022982.204408817634%2C%2023035.07014028056%2C%2023087.935871743488%2C%2023140.80160320641%2C%2023193.66733466934%2C%2023246.533066132266%2C%2023299.39879759519%2C%2023352.264529058117%2C%2023405.13026052104%2C%2023457.995991983968%2C%2023510.861723446895%2C%2023563.72745490982%2C%2023616.593186372746%2C%2023669.458917835673%2C%2023722.324649298596%2C%2023775.190380761524%2C%2023828.056112224447%2C%2023880.921843687374%2C%2023933.7875751503%2C%2023986.653306613225%2C%2024039.519038076152%2C%2024092.38476953908%2C%2024145.250501002003%2C%2024198.11623246493%2C%2024250.981963927854%2C%2024303.84769539078%2C%2024356.71342685371%2C%2024409.579158316632%2C%2024462.44488977956%2C%2024515.310621242486%2C%2024568.17635270541%2C%2024621.042084168337%2C%2024673.90781563126%2C%2024726.773547094188%2C%2024779.639278557115%2C%2024832.50501002004%2C%2024885.370741482966%2C%2024938.236472945893%2C%2024991.102204408817%2C%2025043.967935871744%2C%2025096.833667334668%2C%2025149.699398797595%2C%2025202.565130260522%2C%2025255.430861723446%2C%2025308.296593186373%2C%2025361.1623246493%2C%2025414.028056112224%2C%2025466.89378757515%2C%2025519.759519038074%2C%2025572.625250501%2C%2025625.49098196393%2C%2025678.356713426852%2C%2025731.22244488978%2C%2025784.088176352707%2C%2025836.95390781563%2C%2025889.819639278558%2C%2025942.68537074148%2C%2025995.55110220441%2C%2026048.416833667336%2C%2026101.28256513026%2C%2026154.148296593186%2C%2026207.014028056114%2C%2026259.879759519037%2C%2026312.745490981964%2C%2026365.611222444888%2C%2026418.476953907815%2C%2026471.342685370742%2C%2026524.208416833666%2C%2026577.074148296593%2C%2026629.93987975952%2C%2026682.805611222444%2C%2026735.67134268537%2C%2026788.537074148295%2C%2026841.402805611222%2C%2026894.26853707415%2C%2026947.134268537073%2C%2027000.0%5D%29%0A%20%20%20%20%20%20%20%20%20%20%20%20%20%20.range%28%5B%27%23ffffccff%27%2C%20%27%23ffffccff%27%2C%20%27%23ffffccff%27%2C%20%27%23ffffccff%27%2C%20%27%23ffffccff%27%2C%20%27%23ffffccff%27%2C%20%27%23ffffccff%27%2C%20%27%23ffffccff%27%2C%20%27%23ffffccff%27%2C%20%27%23ffffccff%27%2C%20%27%23ffffccff%27%2C%20%27%23ffffccff%27%2C%20%27%23ffffccff%27%2C%20%27%23ffffccff%27%2C%20%27%23ffffccff%27%2C%20%27%23ffffccff%27%2C%20%27%23ffffccff%27%2C%20%27%23ffffccff%27%2C%20%27%23ffffccff%27%2C%20%27%23ffffccff%27%2C%20%27%23ffffccff%27%2C%20%27%23ffffccff%27%2C%20%27%23ffffccff%27%2C%20%27%23ffffccff%27%2C%20%27%23ffffccff%27%2C%20%27%23ffffccff%27%2C%20%27%23ffffccff%27%2C%20%27%23ffffccff%27%2C%20%27%23ffffccff%27%2C%20%27%23ffffccff%27%2C%20%27%23ffffccff%27%2C%20%27%23ffffccff%27%2C%20%27%23ffffccff%27%2C%20%27%23ffffccff%27%2C%20%27%23ffffccff%27%2C%20%27%23ffffccff%27%2C%20%27%23ffffccff%27%2C%20%27%23ffffccff%27%2C%20%27%23ffffccff%27%2C%20%27%23ffffccff%27%2C%20%27%23ffffccff%27%2C%20%27%23ffffccff%27%2C%20%27%23ffffccff%27%2C%20%27%23ffffccff%27%2C%20%27%23ffffccff%27%2C%20%27%23ffffccff%27%2C%20%27%23ffffccff%27%2C%20%27%23ffffccff%27%2C%20%27%23ffffccff%27%2C%20%27%23ffffccff%27%2C%20%27%23ffffccff%27%2C%20%27%23ffffccff%27%2C%20%27%23ffffccff%27%2C%20%27%23ffffccff%27%2C%20%27%23ffffccff%27%2C%20%27%23ffffccff%27%2C%20%27%23ffffccff%27%2C%20%27%23ffffccff%27%2C%20%27%23ffffccff%27%2C%20%27%23ffffccff%27%2C%20%27%23ffffccff%27%2C%20%27%23ffffccff%27%2C%20%27%23ffffccff%27%2C%20%27%23ffffccff%27%2C%20%27%23ffffccff%27%2C%20%27%23ffffccff%27%2C%20%27%23ffffccff%27%2C%20%27%23ffffccff%27%2C%20%27%23ffffccff%27%2C%20%27%23ffffccff%27%2C%20%27%23ffffccff%27%2C%20%27%23ffffccff%27%2C%20%27%23ffffccff%27%2C%20%27%23ffffccff%27%2C%20%27%23ffffccff%27%2C%20%27%23ffffccff%27%2C%20%27%23ffffccff%27%2C%20%27%23ffffccff%27%2C%20%27%23ffffccff%27%2C%20%27%23ffffccff%27%2C%20%27%23ffffccff%27%2C%20%27%23ffffccff%27%2C%20%27%23ffffccff%27%2C%20%27%23ffffccff%27%2C%20%27%23d9f0a3ff%27%2C%20%27%23d9f0a3ff%27%2C%20%27%23d9f0a3ff%27%2C%20%27%23d9f0a3ff%27%2C%20%27%23d9f0a3ff%27%2C%20%27%23d9f0a3ff%27%2C%20%27%23d9f0a3ff%27%2C%20%27%23d9f0a3ff%27%2C%20%27%23d9f0a3ff%27%2C%20%27%23d9f0a3ff%27%2C%20%27%23d9f0a3ff%27%2C%20%27%23d9f0a3ff%27%2C%20%27%23d9f0a3ff%27%2C%20%27%23d9f0a3ff%27%2C%20%27%23d9f0a3ff%27%2C%20%27%23d9f0a3ff%27%2C%20%27%23d9f0a3ff%27%2C%20%27%23d9f0a3ff%27%2C%20%27%23d9f0a3ff%27%2C%20%27%23d9f0a3ff%27%2C%20%27%23d9f0a3ff%27%2C%20%27%23d9f0a3ff%27%2C%20%27%23d9f0a3ff%27%2C%20%27%23d9f0a3ff%27%2C%20%27%23d9f0a3ff%27%2C%20%27%23d9f0a3ff%27%2C%20%27%23d9f0a3ff%27%2C%20%27%23d9f0a3ff%27%2C%20%27%23d9f0a3ff%27%2C%20%27%23d9f0a3ff%27%2C%20%27%23d9f0a3ff%27%2C%20%27%23d9f0a3ff%27%2C%20%27%23d9f0a3ff%27%2C%20%27%23d9f0a3ff%27%2C%20%27%23d9f0a3ff%27%2C%20%27%23d9f0a3ff%27%2C%20%27%23d9f0a3ff%27%2C%20%27%23d9f0a3ff%27%2C%20%27%23d9f0a3ff%27%2C%20%27%23d9f0a3ff%27%2C%20%27%23d9f0a3ff%27%2C%20%27%23d9f0a3ff%27%2C%20%27%23d9f0a3ff%27%2C%20%27%23d9f0a3ff%27%2C%20%27%23d9f0a3ff%27%2C%20%27%23d9f0a3ff%27%2C%20%27%23d9f0a3ff%27%2C%20%27%23d9f0a3ff%27%2C%20%27%23d9f0a3ff%27%2C%20%27%23d9f0a3ff%27%2C%20%27%23d9f0a3ff%27%2C%20%27%23d9f0a3ff%27%2C%20%27%23d9f0a3ff%27%2C%20%27%23d9f0a3ff%27%2C%20%27%23d9f0a3ff%27%2C%20%27%23d9f0a3ff%27%2C%20%27%23d9f0a3ff%27%2C%20%27%23d9f0a3ff%27%2C%20%27%23d9f0a3ff%27%2C%20%27%23d9f0a3ff%27%2C%20%27%23d9f0a3ff%27%2C%20%27%23d9f0a3ff%27%2C%20%27%23d9f0a3ff%27%2C%20%27%23d9f0a3ff%27%2C%20%27%23d9f0a3ff%27%2C%20%27%23d9f0a3ff%27%2C%20%27%23d9f0a3ff%27%2C%20%27%23d9f0a3ff%27%2C%20%27%23d9f0a3ff%27%2C%20%27%23d9f0a3ff%27%2C%20%27%23d9f0a3ff%27%2C%20%27%23d9f0a3ff%27%2C%20%27%23d9f0a3ff%27%2C%20%27%23d9f0a3ff%27%2C%20%27%23d9f0a3ff%27%2C%20%27%23d9f0a3ff%27%2C%20%27%23d9f0a3ff%27%2C%20%27%23d9f0a3ff%27%2C%20%27%23d9f0a3ff%27%2C%20%27%23d9f0a3ff%27%2C%20%27%23d9f0a3ff%27%2C%20%27%23d9f0a3ff%27%2C%20%27%23d9f0a3ff%27%2C%20%27%23addd8eff%27%2C%20%27%23addd8eff%27%2C%20%27%23addd8eff%27%2C%20%27%23addd8eff%27%2C%20%27%23addd8eff%27%2C%20%27%23addd8eff%27%2C%20%27%23addd8eff%27%2C%20%27%23addd8eff%27%2C%20%27%23addd8eff%27%2C%20%27%23addd8eff%27%2C%20%27%23addd8eff%27%2C%20%27%23addd8eff%27%2C%20%27%23addd8eff%27%2C%20%27%23addd8eff%27%2C%20%27%23addd8eff%27%2C%20%27%23addd8eff%27%2C%20%27%23addd8eff%27%2C%20%27%23addd8eff%27%2C%20%27%23addd8eff%27%2C%20%27%23addd8eff%27%2C%20%27%23addd8eff%27%2C%20%27%23addd8eff%27%2C%20%27%23addd8eff%27%2C%20%27%23addd8eff%27%2C%20%27%23addd8eff%27%2C%20%27%23addd8eff%27%2C%20%27%23addd8eff%27%2C%20%27%23addd8eff%27%2C%20%27%23addd8eff%27%2C%20%27%23addd8eff%27%2C%20%27%23addd8eff%27%2C%20%27%23addd8eff%27%2C%20%27%23addd8eff%27%2C%20%27%23addd8eff%27%2C%20%27%23addd8eff%27%2C%20%27%23addd8eff%27%2C%20%27%23addd8eff%27%2C%20%27%23addd8eff%27%2C%20%27%23addd8eff%27%2C%20%27%23addd8eff%27%2C%20%27%23addd8eff%27%2C%20%27%23addd8eff%27%2C%20%27%23addd8eff%27%2C%20%27%23addd8eff%27%2C%20%27%23addd8eff%27%2C%20%27%23addd8eff%27%2C%20%27%23addd8eff%27%2C%20%27%23addd8eff%27%2C%20%27%23addd8eff%27%2C%20%27%23addd8eff%27%2C%20%27%23addd8eff%27%2C%20%27%23addd8eff%27%2C%20%27%23addd8eff%27%2C%20%27%23addd8eff%27%2C%20%27%23addd8eff%27%2C%20%27%23addd8eff%27%2C%20%27%23addd8eff%27%2C%20%27%23addd8eff%27%2C%20%27%23addd8eff%27%2C%20%27%23addd8eff%27%2C%20%27%23addd8eff%27%2C%20%27%23addd8eff%27%2C%20%27%23addd8eff%27%2C%20%27%23addd8eff%27%2C%20%27%23addd8eff%27%2C%20%27%23addd8eff%27%2C%20%27%23addd8eff%27%2C%20%27%23addd8eff%27%2C%20%27%23addd8eff%27%2C%20%27%23addd8eff%27%2C%20%27%23addd8eff%27%2C%20%27%23addd8eff%27%2C%20%27%23addd8eff%27%2C%20%27%23addd8eff%27%2C%20%27%23addd8eff%27%2C%20%27%23addd8eff%27%2C%20%27%23addd8eff%27%2C%20%27%23addd8eff%27%2C%20%27%23addd8eff%27%2C%20%27%23addd8eff%27%2C%20%27%23addd8eff%27%2C%20%27%23addd8eff%27%2C%20%27%23addd8eff%27%2C%20%27%2378c679ff%27%2C%20%27%2378c679ff%27%2C%20%27%2378c679ff%27%2C%20%27%2378c679ff%27%2C%20%27%2378c679ff%27%2C%20%27%2378c679ff%27%2C%20%27%2378c679ff%27%2C%20%27%2378c679ff%27%2C%20%27%2378c679ff%27%2C%20%27%2378c679ff%27%2C%20%27%2378c679ff%27%2C%20%27%2378c679ff%27%2C%20%27%2378c679ff%27%2C%20%27%2378c679ff%27%2C%20%27%2378c679ff%27%2C%20%27%2378c679ff%27%2C%20%27%2378c679ff%27%2C%20%27%2378c679ff%27%2C%20%27%2378c679ff%27%2C%20%27%2378c679ff%27%2C%20%27%2378c679ff%27%2C%20%27%2378c679ff%27%2C%20%27%2378c679ff%27%2C%20%27%2378c679ff%27%2C%20%27%2378c679ff%27%2C%20%27%2378c679ff%27%2C%20%27%2378c679ff%27%2C%20%27%2378c679ff%27%2C%20%27%2378c679ff%27%2C%20%27%2378c679ff%27%2C%20%27%2378c679ff%27%2C%20%27%2378c679ff%27%2C%20%27%2378c679ff%27%2C%20%27%2378c679ff%27%2C%20%27%2378c679ff%27%2C%20%27%2378c679ff%27%2C%20%27%2378c679ff%27%2C%20%27%2378c679ff%27%2C%20%27%2378c679ff%27%2C%20%27%2378c679ff%27%2C%20%27%2378c679ff%27%2C%20%27%2378c679ff%27%2C%20%27%2378c679ff%27%2C%20%27%2378c679ff%27%2C%20%27%2378c679ff%27%2C%20%27%2378c679ff%27%2C%20%27%2378c679ff%27%2C%20%27%2378c679ff%27%2C%20%27%2378c679ff%27%2C%20%27%2378c679ff%27%2C%20%27%2378c679ff%27%2C%20%27%2378c679ff%27%2C%20%27%2378c679ff%27%2C%20%27%2378c679ff%27%2C%20%27%2378c679ff%27%2C%20%27%2378c679ff%27%2C%20%27%2378c679ff%27%2C%20%27%2378c679ff%27%2C%20%27%2378c679ff%27%2C%20%27%2378c679ff%27%2C%20%27%2378c679ff%27%2C%20%27%2378c679ff%27%2C%20%27%2378c679ff%27%2C%20%27%2378c679ff%27%2C%20%27%2378c679ff%27%2C%20%27%2378c679ff%27%2C%20%27%2378c679ff%27%2C%20%27%2378c679ff%27%2C%20%27%2378c679ff%27%2C%20%27%2378c679ff%27%2C%20%27%2378c679ff%27%2C%20%27%2378c679ff%27%2C%20%27%2378c679ff%27%2C%20%27%2378c679ff%27%2C%20%27%2378c679ff%27%2C%20%27%2378c679ff%27%2C%20%27%2378c679ff%27%2C%20%27%2378c679ff%27%2C%20%27%2378c679ff%27%2C%20%27%2378c679ff%27%2C%20%27%2378c679ff%27%2C%20%27%2378c679ff%27%2C%20%27%2378c679ff%27%2C%20%27%2331a354ff%27%2C%20%27%2331a354ff%27%2C%20%27%2331a354ff%27%2C%20%27%2331a354ff%27%2C%20%27%2331a354ff%27%2C%20%27%2331a354ff%27%2C%20%27%2331a354ff%27%2C%20%27%2331a354ff%27%2C%20%27%2331a354ff%27%2C%20%27%2331a354ff%27%2C%20%27%2331a354ff%27%2C%20%27%2331a354ff%27%2C%20%27%2331a354ff%27%2C%20%27%2331a354ff%27%2C%20%27%2331a354ff%27%2C%20%27%2331a354ff%27%2C%20%27%2331a354ff%27%2C%20%27%2331a354ff%27%2C%20%27%2331a354ff%27%2C%20%27%2331a354ff%27%2C%20%27%2331a354ff%27%2C%20%27%2331a354ff%27%2C%20%27%2331a354ff%27%2C%20%27%2331a354ff%27%2C%20%27%2331a354ff%27%2C%20%27%2331a354ff%27%2C%20%27%2331a354ff%27%2C%20%27%2331a354ff%27%2C%20%27%2331a354ff%27%2C%20%27%2331a354ff%27%2C%20%27%2331a354ff%27%2C%20%27%2331a354ff%27%2C%20%27%2331a354ff%27%2C%20%27%2331a354ff%27%2C%20%27%2331a354ff%27%2C%20%27%2331a354ff%27%2C%20%27%2331a354ff%27%2C%20%27%2331a354ff%27%2C%20%27%2331a354ff%27%2C%20%27%2331a354ff%27%2C%20%27%2331a354ff%27%2C%20%27%2331a354ff%27%2C%20%27%2331a354ff%27%2C%20%27%2331a354ff%27%2C%20%27%2331a354ff%27%2C%20%27%2331a354ff%27%2C%20%27%2331a354ff%27%2C%20%27%2331a354ff%27%2C%20%27%2331a354ff%27%2C%20%27%2331a354ff%27%2C%20%27%2331a354ff%27%2C%20%27%2331a354ff%27%2C%20%27%2331a354ff%27%2C%20%27%2331a354ff%27%2C%20%27%2331a354ff%27%2C%20%27%2331a354ff%27%2C%20%27%2331a354ff%27%2C%20%27%2331a354ff%27%2C%20%27%2331a354ff%27%2C%20%27%2331a354ff%27%2C%20%27%2331a354ff%27%2C%20%27%2331a354ff%27%2C%20%27%2331a354ff%27%2C%20%27%2331a354ff%27%2C%20%27%2331a354ff%27%2C%20%27%2331a354ff%27%2C%20%27%2331a354ff%27%2C%20%27%2331a354ff%27%2C%20%27%2331a354ff%27%2C%20%27%2331a354ff%27%2C%20%27%2331a354ff%27%2C%20%27%2331a354ff%27%2C%20%27%2331a354ff%27%2C%20%27%2331a354ff%27%2C%20%27%2331a354ff%27%2C%20%27%2331a354ff%27%2C%20%27%2331a354ff%27%2C%20%27%2331a354ff%27%2C%20%27%2331a354ff%27%2C%20%27%2331a354ff%27%2C%20%27%2331a354ff%27%2C%20%27%2331a354ff%27%2C%20%27%2331a354ff%27%2C%20%27%23006837ff%27%2C%20%27%23006837ff%27%2C%20%27%23006837ff%27%2C%20%27%23006837ff%27%2C%20%27%23006837ff%27%2C%20%27%23006837ff%27%2C%20%27%23006837ff%27%2C%20%27%23006837ff%27%2C%20%27%23006837ff%27%2C%20%27%23006837ff%27%2C%20%27%23006837ff%27%2C%20%27%23006837ff%27%2C%20%27%23006837ff%27%2C%20%27%23006837ff%27%2C%20%27%23006837ff%27%2C%20%27%23006837ff%27%2C%20%27%23006837ff%27%2C%20%27%23006837ff%27%2C%20%27%23006837ff%27%2C%20%27%23006837ff%27%2C%20%27%23006837ff%27%2C%20%27%23006837ff%27%2C%20%27%23006837ff%27%2C%20%27%23006837ff%27%2C%20%27%23006837ff%27%2C%20%27%23006837ff%27%2C%20%27%23006837ff%27%2C%20%27%23006837ff%27%2C%20%27%23006837ff%27%2C%20%27%23006837ff%27%2C%20%27%23006837ff%27%2C%20%27%23006837ff%27%2C%20%27%23006837ff%27%2C%20%27%23006837ff%27%2C%20%27%23006837ff%27%2C%20%27%23006837ff%27%2C%20%27%23006837ff%27%2C%20%27%23006837ff%27%2C%20%27%23006837ff%27%2C%20%27%23006837ff%27%2C%20%27%23006837ff%27%2C%20%27%23006837ff%27%2C%20%27%23006837ff%27%2C%20%27%23006837ff%27%2C%20%27%23006837ff%27%2C%20%27%23006837ff%27%2C%20%27%23006837ff%27%2C%20%27%23006837ff%27%2C%20%27%23006837ff%27%2C%20%27%23006837ff%27%2C%20%27%23006837ff%27%2C%20%27%23006837ff%27%2C%20%27%23006837ff%27%2C%20%27%23006837ff%27%2C%20%27%23006837ff%27%2C%20%27%23006837ff%27%2C%20%27%23006837ff%27%2C%20%27%23006837ff%27%2C%20%27%23006837ff%27%2C%20%27%23006837ff%27%2C%20%27%23006837ff%27%2C%20%27%23006837ff%27%2C%20%27%23006837ff%27%2C%20%27%23006837ff%27%2C%20%27%23006837ff%27%2C%20%27%23006837ff%27%2C%20%27%23006837ff%27%2C%20%27%23006837ff%27%2C%20%27%23006837ff%27%2C%20%27%23006837ff%27%2C%20%27%23006837ff%27%2C%20%27%23006837ff%27%2C%20%27%23006837ff%27%2C%20%27%23006837ff%27%2C%20%27%23006837ff%27%2C%20%27%23006837ff%27%2C%20%27%23006837ff%27%2C%20%27%23006837ff%27%2C%20%27%23006837ff%27%2C%20%27%23006837ff%27%2C%20%27%23006837ff%27%2C%20%27%23006837ff%27%2C%20%27%23006837ff%27%2C%20%27%23006837ff%27%5D%29%3B%0A%20%20%20%20%0A%0A%20%20%20%20color_map_f564bac755fa4cb0ae9916ee47509442.x%20%3D%20d3.scale.linear%28%29%0A%20%20%20%20%20%20%20%20%20%20%20%20%20%20.domain%28%5B620.0%2C%2027000.0%5D%29%0A%20%20%20%20%20%20%20%20%20%20%20%20%20%20.range%28%5B0%2C%20400%5D%29%3B%0A%0A%20%20%20%20color_map_f564bac755fa4cb0ae9916ee47509442.legend%20%3D%20L.control%28%7Bposition%3A%20%27topright%27%7D%29%3B%0A%20%20%20%20color_map_f564bac755fa4cb0ae9916ee47509442.legend.onAdd%20%3D%20function%20%28map%29%20%7Bvar%20div%20%3D%20L.DomUtil.create%28%27div%27%2C%20%27legend%27%29%3B%20return%20div%7D%3B%0A%20%20%20%20color_map_f564bac755fa4cb0ae9916ee47509442.legend.addTo%28map_75be9e0628b94209a3ba5f8bbb2de5c8%29%3B%0A%0A%20%20%20%20color_map_f564bac755fa4cb0ae9916ee47509442.xAxis%20%3D%20d3.svg.axis%28%29%0A%20%20%20%20%20%20%20%20.scale%28color_map_f564bac755fa4cb0ae9916ee47509442.x%29%0A%20%20%20%20%20%20%20%20.orient%28%22top%22%29%0A%20%20%20%20%20%20%20%20.tickSize%281%29%0A%20%20%20%20%20%20%20%20.tickValues%28%5B620.0%2C%205016.666666666667%2C%209413.333333333334%2C%2013810.0%2C%2018206.666666666668%2C%2022603.333333333336%2C%2027000.0%5D%29%3B%0A%0A%20%20%20%20color_map_f564bac755fa4cb0ae9916ee47509442.svg%20%3D%20d3.select%28%22.legend.leaflet-control%22%29.append%28%22svg%22%29%0A%20%20%20%20%20%20%20%20.attr%28%22id%22%2C%20%27legend%27%29%0A%20%20%20%20%20%20%20%20.attr%28%22width%22%2C%20450%29%0A%20%20%20%20%20%20%20%20.attr%28%22height%22%2C%2040%29%3B%0A%0A%20%20%20%20color_map_f564bac755fa4cb0ae9916ee47509442.g%20%3D%20color_map_f564bac755fa4cb0ae9916ee47509442.svg.append%28%22g%22%29%0A%20%20%20%20%20%20%20%20.attr%28%22class%22%2C%20%22key%22%29%0A%20%20%20%20%20%20%20%20.attr%28%22transform%22%2C%20%22translate%2825%2C16%29%22%29%3B%0A%0A%20%20%20%20color_map_f564bac755fa4cb0ae9916ee47509442.g.selectAll%28%22rect%22%29%0A%20%20%20%20%20%20%20%20.data%28color_map_f564bac755fa4cb0ae9916ee47509442.color.range%28%29.map%28function%28d%2C%20i%29%20%7B%0A%20%20%20%20%20%20%20%20%20%20return%20%7B%0A%20%20%20%20%20%20%20%20%20%20%20%20x0%3A%20i%20%3F%20color_map_f564bac755fa4cb0ae9916ee47509442.x%28color_map_f564bac755fa4cb0ae9916ee47509442.color.domain%28%29%5Bi%20-%201%5D%29%20%3A%20color_map_f564bac755fa4cb0ae9916ee47509442.x.range%28%29%5B0%5D%2C%0A%20%20%20%20%20%20%20%20%20%20%20%20x1%3A%20i%20%3C%20color_map_f564bac755fa4cb0ae9916ee47509442.color.domain%28%29.length%20%3F%20color_map_f564bac755fa4cb0ae9916ee47509442.x%28color_map_f564bac755fa4cb0ae9916ee47509442.color.domain%28%29%5Bi%5D%29%20%3A%20color_map_f564bac755fa4cb0ae9916ee47509442.x.range%28%29%5B1%5D%2C%0A%20%20%20%20%20%20%20%20%20%20%20%20z%3A%20d%0A%20%20%20%20%20%20%20%20%20%20%7D%3B%0A%20%20%20%20%20%20%20%20%7D%29%29%0A%20%20%20%20%20%20.enter%28%29.append%28%22rect%22%29%0A%20%20%20%20%20%20%20%20.attr%28%22height%22%2C%2010%29%0A%20%20%20%20%20%20%20%20.attr%28%22x%22%2C%20function%28d%29%20%7B%20return%20d.x0%3B%20%7D%29%0A%20%20%20%20%20%20%20%20.attr%28%22width%22%2C%20function%28d%29%20%7B%20return%20d.x1%20-%20d.x0%3B%20%7D%29%0A%20%20%20%20%20%20%20%20.style%28%22fill%22%2C%20function%28d%29%20%7B%20return%20d.z%3B%20%7D%29%3B%0A%0A%20%20%20%20color_map_f564bac755fa4cb0ae9916ee47509442.g.call%28color_map_f564bac755fa4cb0ae9916ee47509442.xAxis%29.append%28%22text%22%29%0A%20%20%20%20%20%20%20%20.attr%28%22class%22%2C%20%22caption%22%29%0A%20%20%20%20%20%20%20%20.attr%28%22y%22%2C%2021%29%0A%20%20%20%20%20%20%20%20.text%28%27Car%20Sales%27%29%3B%0A%20%20%20%20%0A%20%20%20%20%20%20%20%20%20%20%20%20var%20layer_control_b2d30f1cbdc740458b4bfd9804a26731%20%3D%20%7B%0A%20%20%20%20%20%20%20%20%20%20%20%20%20%20%20%20base_layers%20%3A%20%7B%20%22openstreetmap%22%20%3A%20tile_layer_06170eab25d74ac99f4775ca8d7b0386%2C%20%7D%2C%0A%20%20%20%20%20%20%20%20%20%20%20%20%20%20%20%20overlays%20%3A%20%7B%20%22choropleth%22%20%3A%20choropleth_66eb2d8daac34151abe2c7fd40195c29%2C%20%7D%0A%20%20%20%20%20%20%20%20%20%20%20%20%20%20%20%20%7D%3B%0A%20%20%20%20%20%20%20%20%20%20%20%20L.control.layers%28%0A%20%20%20%20%20%20%20%20%20%20%20%20%20%20%20%20layer_control_b2d30f1cbdc740458b4bfd9804a26731.base_layers%2C%0A%20%20%20%20%20%20%20%20%20%20%20%20%20%20%20%20layer_control_b2d30f1cbdc740458b4bfd9804a26731.overlays%2C%0A%20%20%20%20%20%20%20%20%20%20%20%20%20%20%20%20%7Bposition%3A%20%27topright%27%2C%0A%20%20%20%20%20%20%20%20%20%20%20%20%20%20%20%20%20collapsed%3A%20true%2C%0A%20%20%20%20%20%20%20%20%20%20%20%20%20%20%20%20%20autoZIndex%3A%20true%0A%20%20%20%20%20%20%20%20%20%20%20%20%20%20%20%20%7D%29.addTo%28map_75be9e0628b94209a3ba5f8bbb2de5c8%29%3B%0A%20%20%20%20%20%20%20%20%20%20%20%20%0A%20%20%20%20%20%20%20%20%0A%3C/script%3E onload=\"this.contentDocument.open();this.contentDocument.write(    decodeURIComponent(this.getAttribute('data-html')));this.contentDocument.close();\" allowfullscreen webkitallowfullscreen mozallowfullscreen></iframe></div></div>"
            ],
            "text/plain": [
              "<folium.folium.Map at 0x7fe3e25171d0>"
            ]
          },
          "metadata": {
            "tags": []
          },
          "execution_count": 21
        }
      ]
    }
  ]
}